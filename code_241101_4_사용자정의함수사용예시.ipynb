{
 "cells": [
  {
   "cell_type": "markdown",
   "id": "3853e037-5688-407c-83a0-eddd9a5c493b",
   "metadata": {},
   "source": [
    "# 필요 라이브러리"
   ]
  },
  {
   "cell_type": "code",
   "execution_count": 15,
   "id": "47cfafcb-3f5d-4350-b177-094e85636529",
   "metadata": {},
   "outputs": [],
   "source": [
    "import pandas as pd\n",
    "from pandas import DataFrame\n",
    "import numpy as np\n",
    "import seaborn as sns\n",
    "import matplotlib.pyplot as plt\n",
    "import statsmodels.api as sm\n",
    "#from sklearn.model_selection import train_test_split\n",
    "import warnings\n",
    "warnings.filterwarnings(\"ignore\")\n",
    "import random\n",
    "\n",
    "#from ggplot import *\n",
    "#from scipy.stats import logistic\n",
    "#from sklearn.metrics import roc_curve\n",
    "#from sklearn.metrics import roc_auc_score\n",
    "#from sklearn.linear_model import LogisticRegression\n",
    "#from sklearn.metrics import confusion_matrix, mean_squared_error\n",
    "#from sklearn.model_selection import train_test_split\n",
    "#from sklearn import preprocessing\n",
    "#from sklearn.neighbors import KNeighborsClassifier\n",
    "#from sklearn.naive_bayes import *\n",
    "#from sklearn.tree import DecisionTreeClassifier, DecisionTreeRegressor, export_graphviz\n",
    "#import graphviz\n",
    "#from sklearn.ensemble import RandomForestRegressor, RandomForestClassifier\n",
    "#from sklearn.svm import SVC, SVR\n",
    "\n",
    "# 한글 폰트 실행\n",
    "from matplotlib import rcParams\n",
    "from matplotlib import font_manager,rc\n",
    "rcParams['axes.unicode_minus']=False\n",
    "plt.rcParams['font.family']='NanumGothic'\n",
    "font_name=font_manager.FontProperties(fname='c:/Windows/Fonts/malgun.ttf').get_name()\n",
    "rc('font',family=font_name)\n"
   ]
  },
  {
   "cell_type": "markdown",
   "id": "f2e0c032-7473-43dc-975d-cf85ad007198",
   "metadata": {},
   "source": [
    "# 데이터 불러오기"
   ]
  },
  {
   "cell_type": "code",
   "execution_count": 16,
   "id": "ecc3bd0f-ad19-43b7-ae07-541221cf2f99",
   "metadata": {},
   "outputs": [],
   "source": [
    "import pandas as pd\n",
    "DATA_PATH = './dataset/CARD/'\n",
    "DATA_PATH_2 = './dataset/CUSTOMER/'\n",
    "DATA_PATH_3 = './dataset/CC/'\n",
    "cc_22_40_raw = pd.read_csv(DATA_PATH_3 + 'cc_22_40(raw).csv', encoding=\"utf-8-sig\")\n",
    "cc_22_50_raw = pd.read_csv(DATA_PATH_3 + 'cc_22_50(raw).csv', encoding=\"utf-8-sig\")\n",
    "cc_22_60_raw = pd.read_csv(DATA_PATH_3 + 'cc_22_60(raw).csv', encoding=\"utf-8-sig\")\n",
    "cc_22_40 = pd.read_csv(DATA_PATH_3 + 'cc_22_40.csv', encoding=\"utf-8-sig\")\n",
    "cc_22_50 = pd.read_csv(DATA_PATH_3 + 'cc_22_50.csv', encoding=\"utf-8-sig\")\n",
    "cc_22_60 = pd.read_csv(DATA_PATH_3 + 'cc_22_60.csv', encoding=\"utf-8-sig\")"
   ]
  },
  {
   "cell_type": "markdown",
   "id": "005b3571-7047-4b69-8ac2-fe0132d16758",
   "metadata": {},
   "source": [
    "# 사용자 정의함수"
   ]
  },
  {
   "cell_type": "markdown",
   "id": "96a4f5b9-ed8d-486c-b4af-d16f60f81e65",
   "metadata": {},
   "source": [
    "## 시간체크함수"
   ]
  },
  {
   "cell_type": "code",
   "execution_count": 17,
   "id": "375f5956-711f-49a6-ae0d-879dad2d9ccb",
   "metadata": {},
   "outputs": [],
   "source": [
    "import time\n",
    "\n",
    "def execution_time(func):\n",
    "    def wrapper(*args, **kwargs):\n",
    "        start_time = time.time()\n",
    "        result = func(*args, **kwargs)\n",
    "        end_time = time.time()\n",
    "        elapsed_time = end_time - start_time\n",
    "        hours, rem = divmod(elapsed_time, 3600)\n",
    "        minutes, seconds = divmod(rem, 60)\n",
    "        print(f\"Execution time for {func.__name__}: {int(hours)}h {int(minutes)}m {seconds:.2f}s\")\n",
    "        return result\n",
    "    return wrapper"
   ]
  },
  {
   "cell_type": "markdown",
   "id": "e703e971-84c6-44a6-88b8-78d00662a396",
   "metadata": {},
   "source": [
    "## 용량 줄이는 함수"
   ]
  },
  {
   "cell_type": "markdown",
   "id": "752c5204-e84b-4c5b-8ee1-415def134d22",
   "metadata": {},
   "source": [
    "### 문자열(str, object)로 바꾸는 함수"
   ]
  },
  {
   "cell_type": "code",
   "execution_count": 18,
   "id": "693ae2d9-49e7-4cb0-9d0d-717b3591f0ff",
   "metadata": {},
   "outputs": [],
   "source": [
    "@execution_time\n",
    "def clean_df(data):\n",
    "    data['고객ID'] = data['고객ID'].astype(str)\n",
    "    data = reduce_mem_usage(data)\n",
    "    print(data.info())\n",
    "    return data"
   ]
  },
  {
   "cell_type": "markdown",
   "id": "4365ea75-fbcb-44ca-b2f0-6e3ab58ed14c",
   "metadata": {},
   "source": [
    "### int64 -> int32 , float64 -> float32"
   ]
  },
  {
   "cell_type": "code",
   "execution_count": 19,
   "id": "673e0a55-17e9-452b-a854-72aa92c88ab6",
   "metadata": {},
   "outputs": [],
   "source": [
    "import pandas as pd \n",
    "import numpy as np\n",
    "\n",
    "def reduce_mem_usage(df, float16_as32=True):\n",
    "    # memory_usage()는 데이터프레임의 각 열의 메모리 사용량을 계산하고, sum은 그 값을 합산합니다. B -> KB -> MB로 변환합니다.\n",
    "    start_mem = df.memory_usage().sum() / 1024**2\n",
    "    print('데이터프레임의 초기 메모리 사용량은 {:.2f} MB입니다.'.format(start_mem))\n",
    "\n",
    "    for col in df.columns:  # 각 열의 이름을 반복합니다.\n",
    "        col_type = df[col].dtype  # 열의 데이터 타입을 가져옵니다.\n",
    "        if col_type != object and str(col_type) != 'category':  # 객체 타입이 아닌 수치형 변수만 처리합니다.\n",
    "            c_min, c_max = df[col].min(), df[col].max()  # 해당 열의 최소값과 최대값을 계산합니다.\n",
    "            if str(col_type)[:3] == 'int':  # 정수형 변수일 경우 (int8, int16, int32, int64 모두 포함)\n",
    "                # 이 열의 값 범위가 int8의 범위에 있을 경우 타입을 int8로 변환합니다. (-128부터 127까지)\n",
    "                if c_min > np.iinfo(np.int8).min and c_max < np.iinfo(np.int8).max:\n",
    "                    df[col] = df[col].astype(np.int8)\n",
    "                # 이 열의 값 범위가 int16의 범위에 있을 경우 타입을 int16으로 변환합니다. (-32,768부터 32,767까지)\n",
    "                elif c_min > np.iinfo(np.int16).min and c_max < np.iinfo(np.int16).max:\n",
    "                    df[col] = df[col].astype(np.int16)\n",
    "                # 이 열의 값 범위가 int32의 범위에 있을 경우 타입을 int32로 변환합니다. (-2,147,483,648부터 2,147,483,647까지)\n",
    "                elif c_min > np.iinfo(np.int32).min and c_max < np.iinfo(np.int32).max:\n",
    "                    df[col] = df[col].astype(np.int32)\n",
    "                # 이 열의 값 범위가 int64의 범위에 있을 경우 타입을 int64로 변환합니다. (-9,223,372,036,854,775,808부터 9,223,372,036,854,775,807까지)\n",
    "                elif c_min > np.iinfo(np.int64).min and c_max < np.iinfo(np.int64).max:\n",
    "                    df[col] = df[col].astype(np.int64)\n",
    "            else:  # 실수형일 경우\n",
    "                # 값이 float16의 범위에 있을 경우 타입을 변환합니다. 더 높은 정밀도가 필요하면 float32를 고려합니다.\n",
    "                if c_min > np.finfo(np.float16).min and c_max < np.finfo(np.float16).max:\n",
    "                    if float16_as32:  # 더 높은 정밀도가 필요하면 float32를 선택할 수 있습니다.\n",
    "                        df[col] = df[col].astype(np.float32)\n",
    "                    else:\n",
    "                        df[col] = df[col].astype(np.float16)\n",
    "                # 값이 float32의 범위에 있을 경우 타입을 float32로 변환합니다.\n",
    "                elif c_min > np.finfo(np.float32).min and c_max < np.finfo(np.float32).max:\n",
    "                    df[col] = df[col].astype(np.float32)\n",
    "                # 값이 float64의 범위에 있을 경우 타입을 float64로 변환합니다.\n",
    "                else:\n",
    "                    df[col] = df[col].astype(np.float64)\n",
    "    # 최종 메모리 사용량을 계산합니다.\n",
    "    end_mem = df.memory_usage().sum() / 1024**2\n",
    "    print('최적화 후 데이터프레임의 메모리 사용량은: {:.2f} MB입니다.'.format(end_mem))\n",
    "    # 초기 메모리 사용량과 비교하여 몇 퍼센트 감소했는지 계산합니다.\n",
    "    print('메모리 사용량이 {:.1f}% 감소했습니다.'.format(100 * (start_mem - end_mem) / start_mem))\n",
    "\n",
    "    return df"
   ]
  },
  {
   "cell_type": "markdown",
   "id": "2edd5604-390e-4f32-997d-240ce8e858fc",
   "metadata": {},
   "source": [
    "## 1차 프로젝트 사용 함수"
   ]
  },
  {
   "cell_type": "markdown",
   "id": "53766e01-8c12-4435-a922-0b29bc6a2bae",
   "metadata": {},
   "source": [
    "#### 카테고리 재분류"
   ]
  },
  {
   "cell_type": "code",
   "execution_count": 20,
   "id": "657242d2-cea3-41f9-89f2-a5fde09d1278",
   "metadata": {},
   "outputs": [],
   "source": [
    "@execution_time\n",
    "def rename_category(df):\n",
    "    mapping = {\n",
    "        '교육/학원': ['보습학원', '예·체능계학원', '외국어학원', '기타 교육기관', '기능학원', '학원', '학습지교육', '초중고교육기관'],\n",
    "        '미용': ['미용원', '피부미용실'],\n",
    "        '스포츠/레저': ['기타레져업소', '스포츠·레져용품', '스포츠의류', '스크린골프', '헬스클럽', '골프경기장', '종합레져타운', '골프용품 전문점', '골프연습장', '안마/스포츠마사지', '레져업소', '수 영 장'],\n",
    "        '여행/교통': ['기타숙박업', '철도', '특급호텔', '1급 호텔', '렌터카', '항공사', '콘도', '2급 호텔', '관광여행', '여객선', '고속버스', '택시'],\n",
    "        '외식': ['일반한식', '주점', '서양음식', '중국식', '일식·회집', '한정식', '칵테일바', '갈비전문점'],\n",
    "        '대형마트': ['슈퍼마켓', '농협하나로클럽', '농,축협직영매장', '대형할인점'],\n",
    "        '백화점': ['면 세 점', '자사카드발행백화점'],\n",
    "        '편의점': ['편 의 점'],\n",
    "        '음식료품': ['정육점', '스넥', '농·축·수산품', '농축수산가공품', '주류판매점', '홍삼제품', '인삼제품', '기타건강식품'],\n",
    "        '카페/베이커리': ['기타음료식품', '제과점'],\n",
    "        '의료/보험': ['약 국', '의 원', '한 의 원', '치과의원', '기타의료기관 및 기타의료기기', '한약방', '한방병원', '생명보험', '건강진단', '기타보험', '병 원(응급실운영)', '치과병원', '동물병원', '종합병원', '손해보험'],\n",
    "        '주유': ['SK주유소', '쌍용S-OIL', 'GS주유소', '주유소', 'SK가스충전소', '현대정유(오일뱅크)', 'GS가스충전소', '쌍용S-OIL가스충전소', '현대정유가스충전소', 'E1가스충전소', '전기차충전소', 'LPG취급점'],\n",
    "        '문화생활': ['문화취미기타', '영화관', '티켓'],\n",
    "        '이동통신요금': ['이동통신요금'],\n",
    "        '반려동물': ['애완동물'],\n",
    "        '간편결제': ['인터넷P/G'],\n",
    "        '온라인쇼핑': ['인터넷Mall', '인터넷종합Mall'],\n",
    "        '홈쇼핑': ['CATV홈쇼핑'],\n",
    "        '기타': ['주방용구', '연 쇄 점', '액세서리', '전문서적', '주차장', '민예·공예품', '건축용 요업제품', '단란주점', '옷감·직물', '자동차시트·타이어', '독서실', '농기계', '조명기구', '세차장', '사무서비스', '컴퓨터', '가 방', '보일러·펌프·샷시', '카페트,커튼,천막,지물', '자동차부품', '자동차정비', '기타유통업', '이륜차판매', '카인테리어', '화물운송', '내의판매', '목재·석재·철물', '기타 사무용품', '기타가구', '신 발', '비영리/비대상', '기타대인서비스', '기타전기제품', 'DP&E', '주방용식기', '가타자동차서비스', '기타농업관련', '구내매점(국가기관등)', '아동의류', '이용원', '조세서비스', '기념품점', '유흥주점', '통신기기', '화원', '화장품', '기타잡화', '유아원', '페인트', '출판 및 인쇄물', '귀금속', '문구용품', '위탁급식업', '비료,사료,종자', '침구·수예점', '당구장', '가전제품', '가정용품수리', '사무·통신기기수리', '안경', '세탁소', '사우나', '일반서적', '노 래 방', '기계공구',  '완구점', '기타의류', '미곡상', '기타용역서비스', '기타수리서비스', '기타건축자재', '일반가구', '사무용 OA기기', '인테리어전문', '가례서비스업', '시계', '비영리/대상', '윤활유전문판매', '정수기', '공공요금대행서비스/소득공제비대상', '화방·표구점', '볼링장', '기타 전문점', '통신판매업1', '종합용역', '전자상거래상품권', '보관및 창고업', '유류판매', '업종미등록', '통신서비스/소득공제비대상', '기타서적문구', '수족관', '공공요금대행서비스/소득공제대상', '상품권전문판매', '혼례서비스업', '냉열기기', '비씨카드 정산용(할인)', '일반(통신판매)', '기타4', '기타1', '부동산중개·임대', '소프트웨어', '의료용품', '정장', '맞춤복점', '단체복', '상 품 권', 'PG상품권', '비씨카드 정산용가맹점',  '미용재료'', ‘전자상거래상품권전문판매', '위성방송', '택시회사', 'CATV', '캐주얼의류', '택시회사', '음반영상물', '제 화']\n",
    "    \n",
    "    }    \n",
    "\n",
    "    for category, values in mapping.items():\n",
    "        df['가맹점업종명'] = df['가맹점업종명'].replace(values, category)\n",
    "    print(df['가맹점업종명'].unique())\n",
    "    return df"
   ]
  },
  {
   "cell_type": "markdown",
   "id": "1977f550-8efe-43b1-b3bd-8a845f8e4012",
   "metadata": {},
   "source": [
    "### 고객연령대별 추출"
   ]
  },
  {
   "cell_type": "code",
   "execution_count": 21,
   "id": "e2b56fd9-320f-4f91-ba44-ebfac0e90243",
   "metadata": {},
   "outputs": [],
   "source": [
    "def customer_generation(df, feature): # feature에 뽑고 싶은 연령대를 입력한다. \"연령대\"\n",
    "    df = df[df['연령대'].isin([f'{feature}'])]\n",
    "    print(f'{feature}만 추출한 데이터프레임입니다.')\n",
    "    print(df.head())\n",
    "    return df"
   ]
  },
  {
   "cell_type": "markdown",
   "id": "344bd0a1-e348-4a28-8543-99bfb1112691",
   "metadata": {},
   "source": [
    "### 고객연령대 나눈 후, ID 중복없이 추출"
   ]
  },
  {
   "cell_type": "code",
   "execution_count": 22,
   "id": "10d64019-72c1-43bd-9146-4f27bce2c41f",
   "metadata": {},
   "outputs": [],
   "source": [
    "def customer_generation_id(df):\n",
    "    selected_df = df.loc[:, ['고객ID', '연령대']]\n",
    "    df_edit = pd.DataFrame(selected_df['고객ID'].unique(), columns=['고객ID'])\n",
    "    print(df_edit.head())\n",
    "    return df_edit"
   ]
  },
  {
   "cell_type": "markdown",
   "id": "04e67ac8-f80d-4ddd-be56-609c9d155183",
   "metadata": {},
   "source": [
    "### 고객 연령대 나누고, 바로 id를 DataFrame으로 추출\n",
    "- feature에 연령대 명을 정확히 입력하면, 해댱하는 id를 바로 추출할 수 있다"
   ]
  },
  {
   "cell_type": "code",
   "execution_count": 23,
   "id": "5127fe63-15cc-48a9-97a3-26b26d155955",
   "metadata": {},
   "outputs": [],
   "source": [
    "def customer_gen_id(df, feature=None): # feature에 뽑고 싶은 연령대를 입력한다. 예: \"60대이상\", \"40대\"\n",
    "    df_filtered = df[df['연령대'].isin([f'{feature}'])]\n",
    "    selected_df = df_filtered.loc[:, ['고객ID', '연령대']]\n",
    "    df_edit = pd.DataFrame(selected_df['고객ID'].unique(), columns=['고객ID'])\n",
    "    print(df_edit.head())\n",
    "    return df_edit"
   ]
  },
  {
   "cell_type": "markdown",
   "id": "7c9e0b37-2eb6-4e84-9239-047be3a92010",
   "metadata": {},
   "source": [
    "### 가맹업종명 재분류"
   ]
  },
  {
   "cell_type": "code",
   "execution_count": 24,
   "id": "b5849359-21ef-44b6-b847-fd0a3893d66c",
   "metadata": {},
   "outputs": [],
   "source": [
    "@execution_time\n",
    "def rename_category_store(df):\n",
    "    mapping = {\n",
    "        '교육/학원': ['보습학원', '예·체능계학원', '외국어학원', '기타 교육기관', '기능학원', '학원', '학습지교육', '초중고교육기관'],\n",
    "        '미용': ['미용원', '피부미용실'],\n",
    "        '스포츠/레저': ['기타레져업소', '스포츠·레져용품', '스포츠의류', '스크린골프', '헬스클럽', '골프경기장', '종합레져타운', '골프용품 전문점', '골프연습장', '안마/스포츠마사지', '레져업소', '수 영 장'],\n",
    "        '여행/교통': ['기타숙박업', '철도', '특급호텔', '1급 호텔', '렌터카', '항공사', '콘도', '2급 호텔', '관광여행', '여객선', '고속버스', '택시'],\n",
    "        '외식': ['일반한식', '주점', '서양음식', '중국식', '일식·회집', '한정식', '칵테일바', '갈비전문점'],\n",
    "        '대형마트': ['슈퍼마켓', '농협하나로클럽', '농,축협직영매장', '대형할인점'],\n",
    "        '백화점': ['면 세 점', '자사카드발행백화점'],\n",
    "        '편의점': ['편 의 점'],\n",
    "        '음식료품': ['정육점', '스넥', '농·축·수산품', '농축수산가공품', '주류판매점', '홍삼제품', '인삼제품', '기타건강식품'],\n",
    "        '카페/베이커리': ['기타음료식품', '제과점'],\n",
    "        '의료/보험': ['약 국', '의 원', '한 의 원', '치과의원', '기타의료기관 및 기타의료기기', '한약방', '한방병원', '생명보험', '건강진단', '기타보험', '병 원(응급실운영)', '치과병원', '동물병원', '종합병원', '손해보험'],\n",
    "        '주유': ['SK주유소', '쌍용S-OIL', 'GS주유소', '주유소', 'SK가스충전소', '현대정유(오일뱅크)', 'GS가스충전소', '쌍용S-OIL가스충전소', '현대정유가스충전소', 'E1가스충전소', '전기차충전소'],\n",
    "        '문화생활': ['문화취미기타', '영화관', '티켓'],\n",
    "        '이동통신요금': ['이동통신요금'],\n",
    "        '반려동물': ['애완동물'],\n",
    "        '간편결제': ['인터넷P/G'],\n",
    "        '기타': ['전자상거래상품권전문판매', '캐주얼의류', 'CATV', '택시회사', '위성방송', '음반영상물', '제 화','주방용구', '연 쇄 점', '액세서리', '전문서적', '주차장', '민예·공예품', '건축용 요업제품', '단란주점', '옷감·직물', '자동차시트·타이어', '독서실', '농기계', '조명기구', '세차장', '사무서비스', '컴퓨터', '가 방', '보일러·펌프·샷시', '카페트,커튼,천막,지물', '자동차부품', '자동차정비', '기타유통업', '이륜차판매', '카인테리어', '화물운송', '내의판매', '목재·석재·철물', '기타 사무용품', '기타가구', '신 발', '비영리/비대상', '기타대인서비스', '기타전기제품', 'DP&E', '주방용식기', '가타자동차서비스', '기타농업관련', '구내매점(국가기관등)', '아동의류', '이용원', '조세서비스', '기념품점', '유흥주점', '통신기기', '화원', '화장품', '기타잡화', '유아원', 'LPG취급점', '페인트', '출판 및 인쇄물', '귀금속', '문구용품', '위탁급식업', '비료,사료,종자', '침구·수예점', '당구장', '가전제품', '인터넷Mall', '가정용품수리', '사무·통신기기수리', '안경', '세탁소', '사우나', '일반서적', '노 래 방', '기계공구',  '완구점', '기타의류', '미곡상', '기타용역서비스', '기타수리서비스', '기타건축자재', '일반가구', '사무용 OA기기', '인테리어전문', '가례서비스업', '시 계', '비영리/대상', '윤활유전문판매', '정수기', '공공요금대행서비스/소득공제비대상', '화방·표구점', '볼 링 장', '인터넷종합Mall', '기타 전문점', '통신판매업1', '종합용역', '전자상거래상품권', '보관및 창고업', '유류판매', '업종미등록', '통신서비스/소득공제비대상', '기타서적문구', '수족관', '공공요금대행서비스/소득공제대상', '상품권전문판매', '혼례서비스업', '냉열기기', '비씨카드 정산용(할인)', '일반(통신판매)', '기타4', '기타1', '부동산중개·임대', 'CATV홈쇼핑', '소프트웨어', '의료용품', '정장', '맞춤복점', '단체복', '상 품 권', 'PG상품권', '비씨카드 정산용가맹점',  '미용재료']\n",
    "    }\n",
    "    for category, values in mapping.items():\n",
    "        df['가맹점업종명'] = df['가맹점업종명'].replace(values, category)\n",
    "    print(df['가맹점업종명'].unique())\n",
    "    return df"
   ]
  },
  {
   "cell_type": "markdown",
   "id": "7d0e0cac-54b0-47a0-bb6b-8787d83ea3bd",
   "metadata": {},
   "source": [
    "### 지역 재분류"
   ]
  },
  {
   "cell_type": "code",
   "execution_count": 25,
   "id": "80a2df13-e27b-4327-b777-08ac631177f1",
   "metadata": {},
   "outputs": [],
   "source": [
    "def rename_category_region(df):\n",
    "    region_groups = {\n",
    "        '서울특별시': '수도권', '경기도': '수도권', '인천광역시': '수도권',\n",
    "        '부산광역시': '영남권', '울산광역시': '영남권', '경상남도': '영남권',\n",
    "        '충청북도': '충청권', '충청남도': '충청권', '대전광역시': '충청권', '세종특별자치시': '충청권',\n",
    "        '전북특별자치도': '호남권', '전라남도': '호남권', '광주광역시': '호남권',\n",
    "        '강원특별자치도': '강원·제주권', '제주특별자치도': '강원·제주권'\n",
    "    }\n",
    "\n",
    "    df['가맹점_광역시도'] = df['가맹점_광역시도'].replace(region_groups)\n",
    "    # 원본 데이터 변경할 거면 card_2021['가맹점_광역시도'].replace(region_groups, inplace=True)\n",
    "    df['가맹점_광역시도'].value_counts()\n",
    "    return df"
   ]
  },
  {
   "cell_type": "markdown",
   "id": "be6b94b0-4177-44e6-a651-64d9bb188763",
   "metadata": {},
   "source": [
    "### join (merge)"
   ]
  },
  {
   "cell_type": "code",
   "execution_count": 26,
   "id": "c2b681f7-bd73-482f-ae05-6f71c020e265",
   "metadata": {},
   "outputs": [],
   "source": [
    "def join(df1, df2, key, way): # merge할 두 데이터를 df1, df2에 쓴다. key에 join 할 컬럼 이름 쓴다. way에는 조인 방식 쓴다.\n",
    "    df_joined= pd.merge(df1, df2, on=f'{key}', how=f'{way}')\n",
    "    print(type(df_joined))\n",
    "    print(df_joined.head(3))\n",
    "    #card_customer_22_40_id.to_csv('cc_22_40.csv', index=False, encoding='utf-8-sig')\n",
    "    return df_joined"
   ]
  },
  {
   "cell_type": "code",
   "execution_count": null,
   "id": "3a3667d3-dbb4-4c30-8a42-b797043bde60",
   "metadata": {},
   "outputs": [],
   "source": []
  },
  {
   "cell_type": "markdown",
   "id": "a7ebaa5d-f44d-4ea9-9d5f-39848e8cb00e",
   "metadata": {},
   "source": [
    "### 원하는 연령대, 컬럼들만 뽑아 dataframe으로 만드는 함수 (아직 하는 중)"
   ]
  },
  {
   "cell_type": "code",
   "execution_count": 27,
   "id": "30cbc9db-21c0-47a7-8372-1bcbee659752",
   "metadata": {},
   "outputs": [],
   "source": [
    "def slicing(df,generation=None,feature=None): # feature에 뽑고 싶은 연령대를 입력한다. 예: \"60대이상\", \"40대\"\n",
    "    df_filtered = df[df['연령대'].isin([f'{generation}'])]\n",
    "    selected_df = df_filtered.loc[:, [f'[{feature}', '연령대']]\n",
    "    df_edit = pd.DataFrame(selected_df['고객ID'].unique(), columns=['고객ID'])\n",
    "    print(type(df_edit))\n",
    "    print(df_edit.head())\n",
    "    return df_edit"
   ]
  },
  {
   "cell_type": "code",
   "execution_count": 29,
   "id": "994261c0-4b97-4fda-bab9-cc1c040aaaf6",
   "metadata": {},
   "outputs": [],
   "source": [
    "def slicing_v_2(df, generation=None, feature=None):  \n",
    "    # generation과 feature가 단일 값일 경우 리스트로 변환\n",
    "    if isinstance(generation, str):  \n",
    "        generation = [generation]\n",
    "    if isinstance(feature, str):  \n",
    "        feature = [feature]\n",
    "    \n",
    "    # generation 필터링 (여러 값을 받을 수 있도록 isin 사용)\n",
    "    df_filtered = df[df['연령대'].isin(generation)]\n",
    "    \n",
    "    # feature가 여러 개일 수 있으므로 isin을 사용하여 필터링\n",
    "    selected_df = df_filtered.loc[:, feature + ['연령대']]  # feature 리스트와 '연령대' 추가\n",
    "\n",
    "    # 고객ID의 고유값만 선택하여 DataFrame 생성\n",
    "    df_edit = pd.DataFrame(selected_df['고객ID'].unique(), columns=['고객ID'])\n",
    "    \n",
    "    print(type(df_edit))\n",
    "    print(df_edit.head())\n",
    "    return df_edit\n",
    "\n",
    "# 함수 호출 예시\n",
    "#df_result = slicing(customer_22, generation=[\"40대\", \"50대\"], feature=[\"성별\", \"고객등급\"])\n",
    "#print(df_result.head())\n"
   ]
  },
  {
   "cell_type": "markdown",
   "id": "97356633-9e92-41a6-9ece-30d92ec9c8d9",
   "metadata": {},
   "source": [
    "### 세대 - 가맹업종별 승인금액 bar plot"
   ]
  },
  {
   "cell_type": "code",
   "execution_count": 30,
   "id": "550ee13a-aca3-4932-9d9f-3f440b8a0782",
   "metadata": {},
   "outputs": [],
   "source": [
    "def amount_generation(df, year ,generation):\n",
    "    fig, ax = plt.subplots(figsize=(10, 6))\n",
    "    total_amounts = df.groupby('가맹점업종명')['승인금액'].sum().reset_index()\n",
    "    total_amounts_sort = total_amounts.sort_values(by='승인금액', ascending=False)\n",
    "    ax = sns.barplot(x='가맹점업종명', y='승인금액', data=total_amounts_sort, palette=\"viridis\")\n",
    "    ax.set_title(f\"{year}년도 {generation}대 업종별 승인금액 합계\")\n",
    "    ax.set_xlabel(\"업종\")\n",
    "    ax.set_ylabel(\"승인금액 합계\")\n",
    "    ax.set_xticklabels(ax.get_xticklabels(),rotation=45)\n",
    "    for p in ax.patches:\n",
    "        ax.text(\n",
    "            p.get_x() + p.get_width() / 2,  # x 위치 (막대 중앙)\n",
    "            p.get_height() + 0.5,           # y 위치 (막대 위)\n",
    "            f'{p.get_height() / 1e7:.2f}억',  # 조 단위로 변환 후 소수점 2자리까지 표시\n",
    "            ha='center',                    # 텍스트 가운데 정렬\n",
    "            fontsize=8\n",
    "        )\n",
    "    ax.text(1, 1.02, \"(단위: 억 원)\", ha='right', va='center', transform=ax.transAxes, fontsize=10, color=\"black\")\n",
    "plt.show()"
   ]
  },
  {
   "cell_type": "code",
   "execution_count": null,
   "id": "8a0b884b-58ae-4498-a4e6-5ad8f5e76747",
   "metadata": {},
   "outputs": [],
   "source": []
  },
  {
   "cell_type": "markdown",
   "id": "75c8fef9-7bd3-4c80-8d03-dd9f12f38171",
   "metadata": {},
   "source": [
    "### count barplot"
   ]
  },
  {
   "cell_type": "code",
   "execution_count": 31,
   "id": "bd710c3c-bf37-4a1c-8af4-d53df020d233",
   "metadata": {},
   "outputs": [],
   "source": [
    "def barplot_counts(df, feature, year, generation):  # 카드 거래량 barplot\n",
    "    fig, ax = plt.subplots(figsize=(10, 6))\n",
    "    card_counts = df[feature].value_counts()\n",
    "    ax = sns.barplot(x=card_counts.index, y=card_counts.values / 1e6, palette=\"viridis\")\n",
    "    ax.set_title(f\"{year}년도 {generation} 카드거래량\")\n",
    "    ax.set_xlabel(f\"{feature}\")\n",
    "    ax.set_ylabel(\"거래량 (백만건)\")\n",
    "    ax.set_xticklabels(ax.get_xticklabels(), rotation=45)\n",
    "    ax.text(1, 1.02, \"(단위: 백만건)\", ha='right', va='center', transform=plt.gca().transAxes, fontsize=10, color=\"black\")\n",
    "    \n",
    "    for p in ax.patches:\n",
    "        ax.text(\n",
    "            p.get_x() + p.get_width() / 2,    # x 위치 (막대 중앙)\n",
    "            p.get_height() + 0.1,             # y 위치를 더 높게 조정 (막대 위 약간 위로)\n",
    "            f'{p.get_height():.2f}백만건',    # 백만 단위로 변환된 값 표시\n",
    "            ha='center',                      # 텍스트 가로 정렬 (중앙 정렬)\n",
    "            fontsize=8                       # 폰트 크기를 10으로 조정\n",
    "        )\n",
    "\n",
    "    ax.get_yaxis().get_major_formatter().set_scientific(False)\n",
    "    plt.show()"
   ]
  },
  {
   "cell_type": "code",
   "execution_count": null,
   "id": "b1e76bb5-7526-4e75-b1ac-880407ac8b87",
   "metadata": {},
   "outputs": [],
   "source": []
  },
  {
   "cell_type": "markdown",
   "id": "b5730356-e287-410a-9ead-efab60ff968b",
   "metadata": {},
   "source": [
    "### 합계 barplot"
   ]
  },
  {
   "cell_type": "code",
   "execution_count": 32,
   "id": "28ad4449-7138-467c-a609-f456f42878a2",
   "metadata": {},
   "outputs": [],
   "source": [
    "def barplot_sum(df, feature1, feature2, year ,generation):\n",
    "    fig, ax = plt.subplots(figsize=(10, 6))\n",
    "    total_amounts = df.groupby([feature1])[feature2].sum().reset_index()\n",
    "    total_amounts_sort = total_amounts.sort_values(by=feature2, ascending=False)\n",
    "    ax = sns.barplot(x=f'{feature1}', y=f'{feature2}', data=total_amounts_sort, palette=\"viridis\")\n",
    "    ax.set_title(f\"{year}년도 {generation}대 {feature1}별 {feature2} 합계\")\n",
    "    ax.set_xlabel(f\"{feature1}\")\n",
    "    ax.set_ylabel(f\"{feature2} 합계\")\n",
    "    ax.set_xticklabels(ax.get_xticklabels(),rotation=45)\n",
    "    for p in ax.patches:\n",
    "        ax.text(\n",
    "            p.get_x() + p.get_width() / 2,  # x 위치 (막대 중앙)\n",
    "            p.get_height() + 0.5,           # y 위치 (막대 위)\n",
    "            f'{p.get_height() / 1e12:.2f}조',  # 조 단위로 변환 후 소수점 2자리까지 표시\n",
    "            ha='center',                    # 텍스트 가운데 정렬\n",
    "            fontsize=8\n",
    "        )\n",
    "    ax.text(1, 1.02, \"(단위: 조 원)\", ha='right', va='center', transform=ax.transAxes, fontsize=10, color=\"black\")\n",
    "plt.show()"
   ]
  },
  {
   "cell_type": "code",
   "execution_count": null,
   "id": "79f31ff0-11d8-439c-9c33-8d902fcc1d05",
   "metadata": {},
   "outputs": [],
   "source": []
  },
  {
   "cell_type": "markdown",
   "id": "ae213487-6886-43f2-8622-ead426cfa771",
   "metadata": {},
   "source": [
    "### 평균 승인 금액표 함수"
   ]
  },
  {
   "cell_type": "code",
   "execution_count": 33,
   "id": "e5eeb45c-57bc-48b8-9136-5781a317ae75",
   "metadata": {},
   "outputs": [],
   "source": [
    "def table_avg(df, feature1, feature2):\n",
    "    amounts = df.groupby([feature1])[feature2].sum().reset_index()\n",
    "    counts = df[feature1].value_counts()\n",
    "    amounts['카드거래량'] = amounts[feature1].map(counts).astype(float)  # 숫자형으로 변환\n",
    "    amounts['평균 승인금액'] = amounts[feature2] / amounts['카드거래량']  # 평균 승인금액 계산\n",
    "    \n",
    "    #print(amounts[[feature1, feature2, '카드거래량', '평균 승인금액']])\n",
    "    return amounts"
   ]
  },
  {
   "cell_type": "markdown",
   "id": "7023e1bd-48d1-4723-a872-18478de3a2cc",
   "metadata": {},
   "source": [
    "### 평균 승인금액 그래프 함수"
   ]
  },
  {
   "cell_type": "code",
   "execution_count": 34,
   "id": "6016c1a1-ae24-455a-b85b-f95d42587b42",
   "metadata": {},
   "outputs": [],
   "source": [
    "def barplot_avg(df, feature1, feature2, year, generation):\n",
    "    amounts = df.groupby([feature1])[feature2].sum().reset_index()\n",
    "    counts = df[feature1].value_counts()\n",
    "    amounts['카드거래량'] = amounts[feature1].map(counts).astype(float)  # 숫자형으로 변환\n",
    "    amounts['평균 승인금액'] = amounts[feature2] / amounts['카드거래량']  # 평균 승인금액 계산\n",
    "    amounts_sort = amounts.sort_values(by='평균 승인금액', ascending=False)\n",
    "    amounts_sort['평균 승인금액_만단위'] = amounts_sort['평균 승인금액']\n",
    "\n",
    "    fig, ax = plt.subplots(figsize=(10, 6))\n",
    "    ax = sns.barplot(x=f'{feature1}', y='평균 승인금액', data=amounts_sort, palette=\"viridis\")\n",
    "    ax.set_title(f\"{year}년도 {generation} {feature1}별 평균{feature2}\")\n",
    "    ax.set_xlabel(f\"{feature1}\")\n",
    "    ax.set_ylabel(\"평균 승인금액 (단위: 만 원)\")\n",
    "    ax.set_xticklabels(ax.get_xticklabels(),rotation=45)\n",
    "    ticks = ax.get_yticks()  # 현재 Y축 눈금 가져오기\n",
    "    ax.set_yticklabels([int(tick / 10000) for tick in ticks])  # 만 단위로 변환하여 설정\n",
    "    \n",
    "    for p in ax.patches:\n",
    "        ax.text(\n",
    "            p.get_x() + p.get_width() / 2,  # x 위치 (막대 중앙)\n",
    "            p.get_height() + 0.5,           # y 위치 (막대 위)\n",
    "            f'{p.get_height() / 10000:.2f}만원',  # 만 단위로 표시\n",
    "            ha='center',                    # 텍스트 가운데 정렬\n",
    "            fontsize=6\n",
    "        )\n",
    "\n",
    "    ax.text(1, 1.02, \"(단위: 만 원)\", ha='right', va='center', transform=ax.transAxes, fontsize=10, color=\"black\")\n",
    "    \n",
    "    plt.show()"
   ]
  },
  {
   "cell_type": "code",
   "execution_count": null,
   "id": "9db69769-80b6-4c50-8714-2817ec5c3a56",
   "metadata": {},
   "outputs": [],
   "source": []
  },
  {
   "cell_type": "code",
   "execution_count": null,
   "id": "b907d2d7-4008-4afd-87e9-6551c9c7db07",
   "metadata": {},
   "outputs": [],
   "source": []
  },
  {
   "cell_type": "code",
   "execution_count": null,
   "id": "e6addf27-a0ff-4c11-86d0-c4ef77ff1c91",
   "metadata": {},
   "outputs": [],
   "source": []
  },
  {
   "cell_type": "code",
   "execution_count": null,
   "id": "80541bb9-e1c5-4111-a0ed-cee43e9c5394",
   "metadata": {},
   "outputs": [],
   "source": []
  },
  {
   "cell_type": "code",
   "execution_count": null,
   "id": "ad75621e-fd7d-4ffd-90e4-0d28b6883bde",
   "metadata": {},
   "outputs": [],
   "source": []
  },
  {
   "cell_type": "code",
   "execution_count": null,
   "id": "6186ddb1-05ca-46ff-ba4e-588cae85ff23",
   "metadata": {},
   "outputs": [],
   "source": []
  },
  {
   "cell_type": "code",
   "execution_count": null,
   "id": "cb79e607-d7de-4542-89ba-5e51972a610f",
   "metadata": {},
   "outputs": [],
   "source": []
  },
  {
   "cell_type": "code",
   "execution_count": null,
   "id": "74c0ab23-47e9-4190-acc4-c6f98dcce69a",
   "metadata": {},
   "outputs": [],
   "source": []
  },
  {
   "cell_type": "code",
   "execution_count": null,
   "id": "35fc42fa-8c9a-42ff-b76f-709de766cb90",
   "metadata": {},
   "outputs": [],
   "source": []
  }
 ],
 "metadata": {
  "kernelspec": {
   "display_name": "Python 3 (ipykernel)",
   "language": "python",
   "name": "python3"
  },
  "language_info": {
   "codemirror_mode": {
    "name": "ipython",
    "version": 3
   },
   "file_extension": ".py",
   "mimetype": "text/x-python",
   "name": "python",
   "nbconvert_exporter": "python",
   "pygments_lexer": "ipython3",
   "version": "3.12.6"
  }
 },
 "nbformat": 4,
 "nbformat_minor": 5
}
