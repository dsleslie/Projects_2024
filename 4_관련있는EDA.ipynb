{
 "cells": [
  {
   "cell_type": "markdown",
   "id": "bb50cb4e-88ae-4358-94bd-893cec41c7c3",
   "metadata": {},
   "source": [
    "# 라이브러리"
   ]
  },
  {
   "cell_type": "code",
   "execution_count": 1,
   "id": "442580ee-500f-4149-b83a-9a2f9c56e892",
   "metadata": {},
   "outputs": [],
   "source": [
    "import pandas as pd\n",
    "from pandas import DataFrame\n",
    "import numpy as np\n",
    "import seaborn as sns\n",
    "import matplotlib.pyplot as plt\n",
    "import statsmodels.api as sm\n",
    "import warnings\n",
    "warnings.filterwarnings(\"ignore\")\n",
    "import random\n",
    "import pingouin as pg\n",
    "\n",
    "from sklearn.model_selection import train_test_split\n",
    "from matplotlib.ticker import FuncFormatter\n",
    "import scipy.stats as stats\n",
    "from statsmodels.formula.api import ols\n",
    "import statsmodels.api as sm\n",
    "\n",
    "\n",
    "# 한글 폰트 실행\n",
    "from matplotlib import rcParams\n",
    "from matplotlib import font_manager,rc\n",
    "rcParams['axes.unicode_minus']=False\n",
    "plt.rcParams['font.family']='NanumGothic'\n",
    "font_name=font_manager.FontProperties(fname='c:/Windows/Fonts/malgun.ttf').get_name()\n",
    "rc('font',family=font_name)\n"
   ]
  },
  {
   "cell_type": "markdown",
   "id": "4215b110-44bc-48ab-b1bf-29c748eca2aa",
   "metadata": {},
   "source": [
    "# 데이터 불러오기"
   ]
  },
  {
   "cell_type": "code",
   "execution_count": 2,
   "id": "69899123-4557-4fef-a830-62f78ec3fa8f",
   "metadata": {},
   "outputs": [],
   "source": [
    "import pandas as pd\n",
    "DATA_PATH = './dataset/CARD/'\n",
    "DATA_PATH_2 = './dataset/CUSTOMER/'\n",
    "DATA_PATH_3 = './dataset/CC/'"
   ]
  },
  {
   "cell_type": "code",
   "execution_count": 6,
   "id": "5cc47d67-1dbf-4cf8-9640-2859dd8363b3",
   "metadata": {},
   "outputs": [],
   "source": [
    "cc_23_40 = pd.read_csv(DATA_PATH_3 + 'cc_23_40.csv', encoding=\"utf-8-sig\")\n",
    "cc_23_50 = pd.read_csv(DATA_PATH_3 + 'cc_23_50.csv', encoding=\"utf-8-sig\")\n",
    "cc_23_60 = pd.read_csv(DATA_PATH_3 + 'cc_23_60.csv', encoding=\"utf-8-sig\")"
   ]
  },
  {
   "cell_type": "markdown",
   "id": "fc0b6bb9-5ce0-428e-8d74-8401d06466cc",
   "metadata": {
    "jp-MarkdownHeadingCollapsed": true
   },
   "source": [
    "# 데이터 확인"
   ]
  },
  {
   "cell_type": "code",
   "execution_count": 7,
   "id": "adb4492a-67e4-4db4-8462-c435d323a492",
   "metadata": {},
   "outputs": [
    {
     "data": {
      "text/html": [
       "<div>\n",
       "<style scoped>\n",
       "    .dataframe tbody tr th:only-of-type {\n",
       "        vertical-align: middle;\n",
       "    }\n",
       "\n",
       "    .dataframe tbody tr th {\n",
       "        vertical-align: top;\n",
       "    }\n",
       "\n",
       "    .dataframe thead th {\n",
       "        text-align: right;\n",
       "    }\n",
       "</style>\n",
       "<table border=\"1\" class=\"dataframe\">\n",
       "  <thead>\n",
       "    <tr style=\"text-align: right;\">\n",
       "      <th></th>\n",
       "      <th>고객ID</th>\n",
       "      <th>거래년월</th>\n",
       "      <th>가맹점업종명</th>\n",
       "      <th>가맹점_광역시도</th>\n",
       "      <th>가맹점_시군구</th>\n",
       "      <th>승인건수</th>\n",
       "      <th>승인금액</th>\n",
       "    </tr>\n",
       "  </thead>\n",
       "  <tbody>\n",
       "    <tr>\n",
       "      <th>0</th>\n",
       "      <td>9997288918</td>\n",
       "      <td>202312</td>\n",
       "      <td>기타</td>\n",
       "      <td>서울특별시</td>\n",
       "      <td>중구</td>\n",
       "      <td>5번이하</td>\n",
       "      <td>10000</td>\n",
       "    </tr>\n",
       "    <tr>\n",
       "      <th>1</th>\n",
       "      <td>9997288918</td>\n",
       "      <td>202312</td>\n",
       "      <td>대형마트</td>\n",
       "      <td>경상북도</td>\n",
       "      <td>경산시</td>\n",
       "      <td>5번이하</td>\n",
       "      <td>30000</td>\n",
       "    </tr>\n",
       "    <tr>\n",
       "      <th>2</th>\n",
       "      <td>9997288918</td>\n",
       "      <td>202312</td>\n",
       "      <td>음식료품</td>\n",
       "      <td>경상남도</td>\n",
       "      <td>김해시</td>\n",
       "      <td>5번이하</td>\n",
       "      <td>30000</td>\n",
       "    </tr>\n",
       "    <tr>\n",
       "      <th>3</th>\n",
       "      <td>9997288918</td>\n",
       "      <td>202312</td>\n",
       "      <td>편의점</td>\n",
       "      <td>경상북도</td>\n",
       "      <td>김천시</td>\n",
       "      <td>5번이하</td>\n",
       "      <td>30000</td>\n",
       "    </tr>\n",
       "    <tr>\n",
       "      <th>4</th>\n",
       "      <td>9997288918</td>\n",
       "      <td>202312</td>\n",
       "      <td>외식</td>\n",
       "      <td>경상북도</td>\n",
       "      <td>김천시</td>\n",
       "      <td>5번이하</td>\n",
       "      <td>20000</td>\n",
       "    </tr>\n",
       "  </tbody>\n",
       "</table>\n",
       "</div>"
      ],
      "text/plain": [
       "         고객ID    거래년월 가맹점업종명 가맹점_광역시도 가맹점_시군구  승인건수   승인금액\n",
       "0  9997288918  202312     기타    서울특별시      중구  5번이하  10000\n",
       "1  9997288918  202312   대형마트     경상북도     경산시  5번이하  30000\n",
       "2  9997288918  202312   음식료품     경상남도     김해시  5번이하  30000\n",
       "3  9997288918  202312    편의점     경상북도     김천시  5번이하  30000\n",
       "4  9997288918  202312     외식     경상북도     김천시  5번이하  20000"
      ]
     },
     "execution_count": 7,
     "metadata": {},
     "output_type": "execute_result"
    }
   ],
   "source": [
    "cc_23_40.head()"
   ]
  },
  {
   "cell_type": "code",
   "execution_count": 8,
   "id": "d3cccd9b-d7ef-405f-b17d-8118de8bcc61",
   "metadata": {},
   "outputs": [
    {
     "data": {
      "text/html": [
       "<div>\n",
       "<style scoped>\n",
       "    .dataframe tbody tr th:only-of-type {\n",
       "        vertical-align: middle;\n",
       "    }\n",
       "\n",
       "    .dataframe tbody tr th {\n",
       "        vertical-align: top;\n",
       "    }\n",
       "\n",
       "    .dataframe thead th {\n",
       "        text-align: right;\n",
       "    }\n",
       "</style>\n",
       "<table border=\"1\" class=\"dataframe\">\n",
       "  <thead>\n",
       "    <tr style=\"text-align: right;\">\n",
       "      <th></th>\n",
       "      <th>고객ID</th>\n",
       "      <th>거래년월</th>\n",
       "      <th>가맹점업종명</th>\n",
       "      <th>가맹점_광역시도</th>\n",
       "      <th>가맹점_시군구</th>\n",
       "      <th>승인건수</th>\n",
       "      <th>승인금액</th>\n",
       "    </tr>\n",
       "  </thead>\n",
       "  <tbody>\n",
       "    <tr>\n",
       "      <th>0</th>\n",
       "      <td>9998361242</td>\n",
       "      <td>202312</td>\n",
       "      <td>외식</td>\n",
       "      <td>경상북도</td>\n",
       "      <td>칠곡군</td>\n",
       "      <td>5번이하</td>\n",
       "      <td>30000</td>\n",
       "    </tr>\n",
       "    <tr>\n",
       "      <th>1</th>\n",
       "      <td>9998361242</td>\n",
       "      <td>202312</td>\n",
       "      <td>외식</td>\n",
       "      <td>경상북도</td>\n",
       "      <td>구미시</td>\n",
       "      <td>5번이하</td>\n",
       "      <td>110000</td>\n",
       "    </tr>\n",
       "    <tr>\n",
       "      <th>2</th>\n",
       "      <td>9998361242</td>\n",
       "      <td>202311</td>\n",
       "      <td>외식</td>\n",
       "      <td>경상북도</td>\n",
       "      <td>구미시</td>\n",
       "      <td>5번이하</td>\n",
       "      <td>40000</td>\n",
       "    </tr>\n",
       "    <tr>\n",
       "      <th>3</th>\n",
       "      <td>9998361242</td>\n",
       "      <td>202311</td>\n",
       "      <td>대형마트</td>\n",
       "      <td>경상북도</td>\n",
       "      <td>구미시</td>\n",
       "      <td>5번이하</td>\n",
       "      <td>10000</td>\n",
       "    </tr>\n",
       "    <tr>\n",
       "      <th>4</th>\n",
       "      <td>9998361242</td>\n",
       "      <td>202311</td>\n",
       "      <td>의료/보험</td>\n",
       "      <td>경상북도</td>\n",
       "      <td>구미시</td>\n",
       "      <td>5번이하</td>\n",
       "      <td>20000</td>\n",
       "    </tr>\n",
       "  </tbody>\n",
       "</table>\n",
       "</div>"
      ],
      "text/plain": [
       "         고객ID    거래년월 가맹점업종명 가맹점_광역시도 가맹점_시군구  승인건수    승인금액\n",
       "0  9998361242  202312     외식     경상북도     칠곡군  5번이하   30000\n",
       "1  9998361242  202312     외식     경상북도     구미시  5번이하  110000\n",
       "2  9998361242  202311     외식     경상북도     구미시  5번이하   40000\n",
       "3  9998361242  202311   대형마트     경상북도     구미시  5번이하   10000\n",
       "4  9998361242  202311  의료/보험     경상북도     구미시  5번이하   20000"
      ]
     },
     "execution_count": 8,
     "metadata": {},
     "output_type": "execute_result"
    }
   ],
   "source": [
    "cc_23_50.head()"
   ]
  },
  {
   "cell_type": "code",
   "execution_count": 9,
   "id": "a7fe3827-cc5b-4a82-a11a-f19b694a8793",
   "metadata": {},
   "outputs": [
    {
     "data": {
      "text/html": [
       "<div>\n",
       "<style scoped>\n",
       "    .dataframe tbody tr th:only-of-type {\n",
       "        vertical-align: middle;\n",
       "    }\n",
       "\n",
       "    .dataframe tbody tr th {\n",
       "        vertical-align: top;\n",
       "    }\n",
       "\n",
       "    .dataframe thead th {\n",
       "        text-align: right;\n",
       "    }\n",
       "</style>\n",
       "<table border=\"1\" class=\"dataframe\">\n",
       "  <thead>\n",
       "    <tr style=\"text-align: right;\">\n",
       "      <th></th>\n",
       "      <th>고객ID</th>\n",
       "      <th>거래년월</th>\n",
       "      <th>가맹점업종명</th>\n",
       "      <th>가맹점_광역시도</th>\n",
       "      <th>가맹점_시군구</th>\n",
       "      <th>승인건수</th>\n",
       "      <th>승인금액</th>\n",
       "    </tr>\n",
       "  </thead>\n",
       "  <tbody>\n",
       "    <tr>\n",
       "      <th>0</th>\n",
       "      <td>9999998161</td>\n",
       "      <td>202311</td>\n",
       "      <td>대형마트</td>\n",
       "      <td>대구광역시</td>\n",
       "      <td>중구</td>\n",
       "      <td>5번이하</td>\n",
       "      <td>20000</td>\n",
       "    </tr>\n",
       "    <tr>\n",
       "      <th>1</th>\n",
       "      <td>9999998161</td>\n",
       "      <td>202311</td>\n",
       "      <td>외식</td>\n",
       "      <td>대구광역시</td>\n",
       "      <td>중구</td>\n",
       "      <td>5번이하</td>\n",
       "      <td>60000</td>\n",
       "    </tr>\n",
       "    <tr>\n",
       "      <th>2</th>\n",
       "      <td>9999998161</td>\n",
       "      <td>202303</td>\n",
       "      <td>대형마트</td>\n",
       "      <td>대구광역시</td>\n",
       "      <td>중구</td>\n",
       "      <td>5번이하</td>\n",
       "      <td>20000</td>\n",
       "    </tr>\n",
       "    <tr>\n",
       "      <th>3</th>\n",
       "      <td>9999918728</td>\n",
       "      <td>202310</td>\n",
       "      <td>대형마트</td>\n",
       "      <td>대구광역시</td>\n",
       "      <td>북구</td>\n",
       "      <td>5번이하</td>\n",
       "      <td>40000</td>\n",
       "    </tr>\n",
       "    <tr>\n",
       "      <th>4</th>\n",
       "      <td>9999918728</td>\n",
       "      <td>202308</td>\n",
       "      <td>대형마트</td>\n",
       "      <td>대구광역시</td>\n",
       "      <td>북구</td>\n",
       "      <td>5번이하</td>\n",
       "      <td>40000</td>\n",
       "    </tr>\n",
       "  </tbody>\n",
       "</table>\n",
       "</div>"
      ],
      "text/plain": [
       "         고객ID    거래년월 가맹점업종명 가맹점_광역시도 가맹점_시군구  승인건수   승인금액\n",
       "0  9999998161  202311   대형마트    대구광역시      중구  5번이하  20000\n",
       "1  9999998161  202311     외식    대구광역시      중구  5번이하  60000\n",
       "2  9999998161  202303   대형마트    대구광역시      중구  5번이하  20000\n",
       "3  9999918728  202310   대형마트    대구광역시      북구  5번이하  40000\n",
       "4  9999918728  202308   대형마트    대구광역시      북구  5번이하  40000"
      ]
     },
     "execution_count": 9,
     "metadata": {},
     "output_type": "execute_result"
    }
   ],
   "source": [
    "cc_23_60.head()"
   ]
  },
  {
   "cell_type": "markdown",
   "id": "4b483521-8bcb-4701-b5b4-41d8d5374549",
   "metadata": {},
   "source": [
    "# EDA"
   ]
  },
  {
   "cell_type": "code",
   "execution_count": null,
   "id": "47258b58-de45-461d-98b6-d78fd592732d",
   "metadata": {},
   "outputs": [],
   "source": []
  },
  {
   "cell_type": "code",
   "execution_count": null,
   "id": "6b8badb7-07ed-4e97-aeda-bef8eabb257d",
   "metadata": {},
   "outputs": [],
   "source": []
  },
  {
   "cell_type": "code",
   "execution_count": null,
   "id": "7220574f-dcf2-4cd9-8d26-308c85ddfd39",
   "metadata": {},
   "outputs": [],
   "source": []
  },
  {
   "cell_type": "code",
   "execution_count": null,
   "id": "be1119e1-2002-4cf0-aab0-457385163d4b",
   "metadata": {},
   "outputs": [],
   "source": []
  },
  {
   "cell_type": "code",
   "execution_count": null,
   "id": "b168ccc5-7eb6-440b-bd23-734af2f21ab3",
   "metadata": {},
   "outputs": [],
   "source": []
  },
  {
   "cell_type": "code",
   "execution_count": null,
   "id": "edc36174-74b8-4d6f-bd98-5da7ebf1536e",
   "metadata": {},
   "outputs": [],
   "source": []
  },
  {
   "cell_type": "code",
   "execution_count": null,
   "id": "c5418e70-c647-4e55-b8a6-37cc31b5b3bc",
   "metadata": {},
   "outputs": [],
   "source": []
  },
  {
   "cell_type": "code",
   "execution_count": null,
   "id": "a9f4fbdb-080b-4eea-9ffe-e408171357bb",
   "metadata": {},
   "outputs": [],
   "source": []
  },
  {
   "cell_type": "code",
   "execution_count": null,
   "id": "0c6fb143-34d8-419b-a068-149d0376c02e",
   "metadata": {},
   "outputs": [],
   "source": []
  }
 ],
 "metadata": {
  "kernelspec": {
   "display_name": "Python 3 (ipykernel)",
   "language": "python",
   "name": "python3"
  },
  "language_info": {
   "codemirror_mode": {
    "name": "ipython",
    "version": 3
   },
   "file_extension": ".py",
   "mimetype": "text/x-python",
   "name": "python",
   "nbconvert_exporter": "python",
   "pygments_lexer": "ipython3",
   "version": "3.12.6"
  }
 },
 "nbformat": 4,
 "nbformat_minor": 5
}
