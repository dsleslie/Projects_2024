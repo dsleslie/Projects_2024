{
 "cells": [
  {
   "cell_type": "markdown",
   "id": "bb50cb4e-88ae-4358-94bd-893cec41c7c3",
   "metadata": {},
   "source": [
    "# 라이브러리"
   ]
  },
  {
   "cell_type": "code",
   "execution_count": 2,
   "id": "442580ee-500f-4149-b83a-9a2f9c56e892",
   "metadata": {},
   "outputs": [],
   "source": [
    "import pandas as pd\n",
    "from pandas import DataFrame\n",
    "import numpy as np\n",
    "import seaborn as sns\n",
    "import matplotlib.pyplot as plt\n",
    "import statsmodels.api as sm\n",
    "#from sklearn.model_selection import train_test_split\n",
    "import warnings\n",
    "warnings.filterwarnings(\"ignore\")\n",
    "import random\n",
    "import pingouin as pg\n",
    "\n",
    "#from ggplot import *\n",
    "#from scipy.stats import logistic\n",
    "#from sklearn.metrics import roc_curve\n",
    "#from sklearn.metrics import roc_auc_score\n",
    "#from sklearn.linear_model import LogisticRegression\n",
    "#from sklearn.metrics import confusion_matrix, mean_squared_error\n",
    "from sklearn.model_selection import train_test_split\n",
    "#from sklearn import preprocessing\n",
    "#from sklearn.neighbors import KNeighborsClassifier\n",
    "#from sklearn.naive_bayes import *\n",
    "#from sklearn.tree import DecisionTreeClassifier, DecisionTreeRegressor, export_graphviz\n",
    "#import graphviz\n",
    "#from sklearn.ensemble import RandomForestRegressor, RandomForestClassifier\n",
    "#from sklearn.svm import SVC, SVR\n",
    "from matplotlib.ticker import FuncFormatter\n",
    "import scipy.stats as stats\n",
    "from statsmodels.formula.api import ols\n",
    "import statsmodels.api as sm\n",
    "\n",
    "\n",
    "# 한글 폰트 실행\n",
    "from matplotlib import rcParams\n",
    "from matplotlib import font_manager,rc\n",
    "rcParams['axes.unicode_minus']=False\n",
    "plt.rcParams['font.family']='NanumGothic'\n",
    "font_name=font_manager.FontProperties(fname='c:/Windows/Fonts/NanumGothic.ttf').get_name()\n",
    "rc('font',family=font_name)\n"
   ]
  },
  {
   "cell_type": "markdown",
   "id": "3a764e14-1d76-4509-a639-2d6c30209ec3",
   "metadata": {},
   "source": [
    "# 사용자정의함수"
   ]
  },
  {
   "cell_type": "markdown",
   "id": "268e511f-b272-41b1-974b-8dbe6ba69b01",
   "metadata": {
    "jp-MarkdownHeadingCollapsed": true
   },
   "source": [
    "## 데이터 용량 조정 함수"
   ]
  },
  {
   "cell_type": "code",
   "execution_count": 3,
   "id": "a75025bc-4b2e-4819-9b3d-4cd4e4d06d1a",
   "metadata": {},
   "outputs": [],
   "source": [
    "import pandas as pd \n",
    "import numpy as np\n",
    "\n",
    "def reduce_mem_usage(df, float16_as32=True):\n",
    "    # memory_usage()는 데이터프레임의 각 열의 메모리 사용량을 계산하고, sum은 그 값을 합산합니다. B -> KB -> MB로 변환합니다.\n",
    "    start_mem = df.memory_usage().sum() / 1024**2\n",
    "    print('데이터프레임의 초기 메모리 사용량은 {:.2f} MB입니다.'.format(start_mem))\n",
    "\n",
    "    for col in df.columns:  # 각 열의 이름을 반복합니다.\n",
    "        col_type = df[col].dtype  # 열의 데이터 타입을 가져옵니다.\n",
    "        if col_type != object and str(col_type) != 'category':  # 객체 타입이 아닌 수치형 변수만 처리합니다.\n",
    "            c_min, c_max = df[col].min(), df[col].max()  # 해당 열의 최소값과 최대값을 계산합니다.\n",
    "            if str(col_type)[:3] == 'int':  # 정수형 변수일 경우 (int8, int16, int32, int64 모두 포함)\n",
    "                # 이 열의 값 범위가 int8의 범위에 있을 경우 타입을 int8로 변환합니다. (-128부터 127까지)\n",
    "                if c_min > np.iinfo(np.int8).min and c_max < np.iinfo(np.int8).max:\n",
    "                    df[col] = df[col].astype(np.int8)\n",
    "                # 이 열의 값 범위가 int16의 범위에 있을 경우 타입을 int16으로 변환합니다. (-32,768부터 32,767까지)\n",
    "                elif c_min > np.iinfo(np.int16).min and c_max < np.iinfo(np.int16).max:\n",
    "                    df[col] = df[col].astype(np.int16)\n",
    "                # 이 열의 값 범위가 int32의 범위에 있을 경우 타입을 int32로 변환합니다. (-2,147,483,648부터 2,147,483,647까지)\n",
    "                elif c_min > np.iinfo(np.int32).min and c_max < np.iinfo(np.int32).max:\n",
    "                    df[col] = df[col].astype(np.int32)\n",
    "                # 이 열의 값 범위가 int64의 범위에 있을 경우 타입을 int64로 변환합니다. (-9,223,372,036,854,775,808부터 9,223,372,036,854,775,807까지)\n",
    "                elif c_min > np.iinfo(np.int64).min and c_max < np.iinfo(np.int64).max:\n",
    "                    df[col] = df[col].astype(np.int64)\n",
    "            else:  # 실수형일 경우\n",
    "                # 값이 float16의 범위에 있을 경우 타입을 변환합니다. 더 높은 정밀도가 필요하면 float32를 고려합니다.\n",
    "                if c_min > np.finfo(np.float16).min and c_max < np.finfo(np.float16).max:\n",
    "                    if float16_as32:  # 더 높은 정밀도가 필요하면 float32를 선택할 수 있습니다.\n",
    "                        df[col] = df[col].astype(np.float32)\n",
    "                    else:\n",
    "                        df[col] = df[col].astype(np.float16)\n",
    "                # 값이 float32의 범위에 있을 경우 타입을 float32로 변환합니다.\n",
    "                elif c_min > np.finfo(np.float32).min and c_max < np.finfo(np.float32).max:\n",
    "                    df[col] = df[col].astype(np.float32)\n",
    "                # 값이 float64의 범위에 있을 경우 타입을 float64로 변환합니다.\n",
    "                else:\n",
    "                    df[col] = df[col].astype(np.float64)\n",
    "    # 최종 메모리 사용량을 계산합니다.\n",
    "    end_mem = df.memory_usage().sum() / 1024**2\n",
    "    print('최적화 후 데이터프레임의 메모리 사용량은: {:.2f} MB입니다.'.format(end_mem))\n",
    "    # 초기 메모리 사용량과 비교하여 몇 퍼센트 감소했는지 계산합니다.\n",
    "    print('메모리 사용량이 {:.1f}% 감소했습니다.'.format(100 * (start_mem - end_mem) / start_mem))\n",
    "\n",
    "    return df\n",
    "\n",
    "\n",
    "\n",
    "import time\n",
    "\n",
    "def execution_time(func):\n",
    "    def wrapper(*args, **kwargs):\n",
    "        start_time = time.time()\n",
    "        result = func(*args, **kwargs)\n",
    "        end_time = time.time()\n",
    "        elapsed_time = end_time - start_time\n",
    "        hours, rem = divmod(elapsed_time, 3600)\n",
    "        minutes, seconds = divmod(rem, 60)\n",
    "        print(f\"Execution time for {func.__name__}: {int(hours)}h {int(minutes)}m {seconds:.2f}s\")\n",
    "        return result\n",
    "    return wrapper\n",
    "\n",
    "\n",
    "\n",
    "@execution_time\n",
    "def clean_df(data):\n",
    "    data['고객ID'] = data['고객ID'].astype(str)\n",
    "    data = reduce_mem_usage(data)\n",
    "    return data\n"
   ]
  },
  {
   "cell_type": "markdown",
   "id": "3e2da40d-34c9-4445-b327-29ea71b62a41",
   "metadata": {},
   "source": [
    "## 분석 도움 함수"
   ]
  },
  {
   "cell_type": "code",
   "execution_count": 4,
   "id": "4f5d65f0-338a-437a-8dec-05987b666293",
   "metadata": {},
   "outputs": [],
   "source": [
    "# 재분류\n",
    "def rename_category_store(df):\n",
    "    \"\"\"\n",
    "    가맹점 업종명을 지정된 카테고리로 재분류하는 함수입니다.\n",
    "\n",
    "    이 함수는 입력된 데이터프레임의 '가맹점업종명' 열에 대해 특정 값들을 지정된 카테고리 이름으로\n",
    "    대체하여 재분류합니다. 이를 통해 다양한 업종명이 지정된 범주의 카테고리로 통합됩니다.\n",
    "\n",
    "    Parameters:\n",
    "    df (pd.DataFrame): '가맹점업종명' 열을 포함한 데이터프레임.\n",
    "\n",
    "    Returns:\n",
    "    pd.DataFrame: '가맹점업종명' 열이 재분류된 데이터프레임.\n",
    "\n",
    "    Example:\n",
    "    >>> data = pd.DataFrame({\n",
    "    ...     '가맹점업종명': ['보습학원', '피부미용실', '골프경기장', '주점', '약 국'],\n",
    "    ...     '승인금액': [10000, 20000, 30000, 40000, 50000]\n",
    "    ... })\n",
    "    >>> rename_category_store(data)\n",
    "    가맹점업종명 열을 다음과 같은 카테고리로 재분류합니다: ['교육/학원', '미용', '스포츠/레저', '외식', '의료/보험']\n",
    "    \n",
    "    \"\"\"\n",
    "    mapping = {\n",
    "        '교육/학원': ['보습학원', '예·체능계학원', '외국어학원', '기타 교육기관', '기능학원', '학원', '학습지교육', '초중고교육기관'],\n",
    "        '미용': ['미용원', '피부미용실'],\n",
    "        '스포츠/레저': ['기타레져업소', '스포츠·레져용품', '스포츠의류', '스크린골프', '헬스클럽', '골프경기장', '종합레져타운', '골프용품 전문점', '골프연습장', '안마/스포츠마사지', '레져업소', '수 영 장'],\n",
    "        '여행/교통': ['기타숙박업', '철도', '특급호텔', '1급 호텔', '렌터카', '항공사', '콘도', '2급 호텔', '관광여행', '여객선', '고속버스', '택시'],\n",
    "        '외식': ['일반한식', '주점', '서양음식', '중국식', '일식·회집', '한정식', '칵테일바', '갈비전문점'],\n",
    "        '대형마트': ['슈퍼마켓', '농협하나로클럽', '농,축협직영매장', '대형할인점'],\n",
    "        '백화점': ['면 세 점', '자사카드발행백화점'],\n",
    "        '편의점': ['편 의 점'],\n",
    "        '음식료품': ['정육점', '스넥', '농·축·수산품', '농축수산가공품', '주류판매점', '홍삼제품', '인삼제품', '기타건강식품'],\n",
    "        '카페/베이커리': ['기타음료식품', '제과점'],\n",
    "        '의료/보험': ['약 국', '의 원', '한 의 원', '치과의원', '기타의료기관 및 기타의료기기', '한약방', '한방병원', '생명보험', '건강진단', '기타보험', '병 원(응급실운영)', '치과병원', '동물병원', '종합병원', '손해보험'],\n",
    "        '주유': ['SK주유소', '쌍용S-OIL', 'GS주유소', '주유소', 'SK가스충전소', '현대정유(오일뱅크)', 'GS가스충전소', '쌍용S-OIL가스충전소', '현대정유가스충전소', 'E1가스충전소', '전기차충전소'],\n",
    "        '문화생활': ['문화취미기타', '영화관', '티켓'],\n",
    "        '이동통신요금': ['이동통신요금'],\n",
    "        '반려동물': ['애완동물'],\n",
    "        '간편결제': ['인터넷P/G'],\n",
    "        '기타': ['전자상거래상품권전문판매', '캐주얼의류', 'CATV', '택시회사', '위성방송', '음반영상물', '제 화','주방용구', '연 쇄 점', '액세서리', '전문서적', '주차장', '민예·공예품', '건축용 요업제품', '단란주점', '옷감·직물', '자동차시트·타이어', '독서실', '농기계', '조명기구', '세차장', '사무서비스', '컴퓨터', '가 방', '보일러·펌프·샷시', '카페트,커튼,천막,지물', '자동차부품', '자동차정비', '기타유통업', '이륜차판매', '카인테리어', '화물운송', '내의판매', '목재·석재·철물', '기타 사무용품', '기타가구', '신 발', '비영리/비대상', '기타대인서비스', '기타전기제품', 'DP&E', '주방용식기', '가타자동차서비스', '기타농업관련', '구내매점(국가기관등)', '아동의류', '이용원', '조세서비스', '기념품점', '유흥주점', '통신기기', '화원', '화장품', '기타잡화', '유아원', 'LPG취급점', '페인트', '출판 및 인쇄물', '귀금속', '문구용품', '위탁급식업', '비료,사료,종자', '침구·수예점', '당구장', '가전제품', '인터넷Mall', '가정용품수리', '사무·통신기기수리', '안경', '세탁소', '사우나', '일반서적', '노 래 방', '기계공구',  '완구점', '기타의류', '미곡상', '기타용역서비스', '기타수리서비스', '기타건축자재', '일반가구', '사무용 OA기기', '인테리어전문', '가례서비스업', '시 계', '비영리/대상', '윤활유전문판매', '정수기', '공공요금대행서비스/소득공제비대상', '화방·표구점', '볼 링 장', '인터넷종합Mall', '기타 전문점', '통신판매업1', '종합용역', '전자상거래상품권', '보관및 창고업', '유류판매', '업종미등록', '통신서비스/소득공제비대상', '기타서적문구', '수족관', '공공요금대행서비스/소득공제대상', '상품권전문판매', '혼례서비스업', '냉열기기', '비씨카드 정산용(할인)', '일반(통신판매)', '기타4', '기타1', '부동산중개·임대', 'CATV홈쇼핑', '소프트웨어', '의료용품', '정장', '맞춤복점', '단체복', '상 품 권', 'PG상품권', '비씨카드 정산용가맹점',  '미용재료']\n",
    "    }\n",
    "    for category, values in mapping.items():\n",
    "        df['가맹점업종명'] = df['가맹점업종명'].replace(values, category)\n",
    "    print(df['가맹점업종명'].unique())\n",
    "    return df\n",
    "\n",
    "def rename_category_store_5(df):\n",
    "    \"\"\"\n",
    "    가맹점 업종명을 미리 정의된 카테고리로 분류하여 새로운 '분류' 컬럼에 추가하는 함수입니다.\n",
    "\n",
    "    이 함수는 입력된 데이터프레임의 '가맹점업종명' 열의 값들을 사전 정의된 카테고리로 매핑하여,\n",
    "    각 가맹점이 해당하는 카테고리 정보를 새로운 '분류' 컬럼에 추가합니다. 이를 통해 다양한 업종을\n",
    "    지정된 범주의 카테고리로 분류하여 분석할 수 있습니다.\n",
    "\n",
    "    Parameters:\n",
    "    df (pd.DataFrame): '가맹점업종명' 열을 포함한 데이터프레임.\n",
    "\n",
    "    Returns:\n",
    "    pd.DataFrame: '분류' 열이 추가된 데이터프레임.\n",
    "\n",
    "    Example:\n",
    "    >>> data = pd.DataFrame({\n",
    "    ...     '가맹점업종명': ['백화점', '피부미용실', '골프경기장', '주점', '약국'],\n",
    "    ...     '승인금액': [10000, 20000, 30000, 40000, 50000]\n",
    "    ... })\n",
    "    >>> rename_category_store_5(data)\n",
    "    가맹점업종명 열을 다음과 같은 카테고리로 재분류합니다: ['쇼핑', '기타', '여가', '기타', '식음료']\n",
    "    \n",
    "    Categories:\n",
    "      - 생활비: ['이동통신요금', '의료/보험', '교육/학원', '반려동물', '주유', '미용']\n",
    "      - 식음료: ['외식', '카페/베이커리', '음식료품']\n",
    "      - 쇼핑: ['백화점', '홈쇼핑', '온라인쇼핑', '간편결제', '편의점', '대형마트']\n",
    "      - 여가: ['스포츠/레저', '여행/교통', '문화생활']\n",
    "      - 기타: ['기타']\n",
    "    \n",
    "    \"\"\"\n",
    "    \n",
    "    mapping = {\n",
    "       '생활비' : ['이동통신요금', '의료/보험' , '교육/학원', '반려동물', '주유', '미용'],\n",
    "        '식음료' : ['외식', '카페/베이커리', '음식료품'],\n",
    "        '쇼핑' : ['백화점', '홈쇼핑', '온라인쇼핑', '간편결제', '편의점', '대형마트'],\n",
    "        '여가' : ['스포츠/레저', '여행/교통', '문화생활'],\n",
    "        '기타' : ['기타']\n",
    "    }\n",
    " \n",
    "    df['분류'] = df['가맹점업종명']\n",
    "    for category, values in mapping.items():\n",
    "        df.loc[df['가맹점업종명'].isin(values), '분류'] = category\n",
    "\n",
    "    print(df['분류'].unique())\n",
    "    return df\n",
    "\n",
    "\n",
    "def rename_category_region(df):\n",
    "    \"\"\"\n",
    "    가맹점 위치의 광역시도를 지정된 지역권으로 재분류하는 함수입니다.\n",
    "\n",
    "    이 함수는 데이터프레임의 '가맹점_광역시도' 열에 대해 지역별 분류를 수행하여,\n",
    "    수도권, 영남권, 충청권, 호남권, 강원·제주권으로 대체합니다.\n",
    "\n",
    "    Parameters:\n",
    "    df (pd.DataFrame): '가맹점_광역시도' 열을 포함한 데이터프레임.\n",
    "\n",
    "    Returns:\n",
    "    pd.DataFrame: '가맹점_광역시도' 열이 지역권으로 재분류된 데이터프레임.\n",
    "\n",
    "    Example:\n",
    "    >>> data = pd.DataFrame({\n",
    "    ...     '가맹점_광역시도': ['서울특별시', '부산광역시', '제주특별자치도', '경기도', '대전광역시'],\n",
    "    ...     '승인금액': [10000, 20000, 15000, 5000, 3000]\n",
    "    ... })\n",
    "    >>> rename_category_region(data)\n",
    "    '가맹점_광역시도' 열을 다음과 같이 재분류합니다: 수도권, 영남권, 강원·제주권, 충청권 등.\n",
    "    \"\"\"\n",
    "    region_groups = {\n",
    "        '서울특별시': '수도권', '경기도': '수도권', '인천광역시': '수도권',\n",
    "        '부산광역시': '영남권', '울산광역시': '영남권', '경상남도': '영남권',\n",
    "        '충청북도': '충청권', '충청남도': '충청권', '대전광역시': '충청권', '세종특별자치시': '충청권',\n",
    "        '전북특별자치도': '호남권', '전라남도': '호남권', '광주광역시': '호남권',\n",
    "        '강원특별자치도': '강원·제주권', '제주특별자치도': '강원·제주권'\n",
    "    }\n",
    "\n",
    "    df['가맹점_광역시도'] = df['가맹점_광역시도'].replace(region_groups)\n",
    "    df['가맹점_광역시도'].value_counts()\n",
    "    return df\n",
    "\n",
    "def join(df1, df2, key, way):\n",
    "    \"\"\"\n",
    "    두 데이터프레임을 지정된 키와 조인 방식에 따라 병합하는 함수입니다.\n",
    "\n",
    "    이 함수는 `pd.merge`를 사용하여 두 데이터프레임을 특정 열(`key`)을 기준으로 \n",
    "    주어진 조인 방식(`way`)에 따라 병합합니다. 병합 결과는 데이터프레임 형식으로 반환됩니다.\n",
    "\n",
    "    Parameters:\n",
    "    df1 (pd.DataFrame): 첫 번째 데이터프레임.\n",
    "    df2 (pd.DataFrame): 두 번째 데이터프레임.\n",
    "    key (str): 조인할 때 사용할 공통 열의 이름.\n",
    "    way (str): 조인 방식 (예: 'inner', 'left', 'right', 'outer').\n",
    "\n",
    "    Returns:\n",
    "    pd.DataFrame: 지정된 키와 방식으로 병합된 데이터프레임.\n",
    "\n",
    "    Example:\n",
    "    >>> df1 = pd.DataFrame({'ID': [1, 2, 3], 'Value1': ['A', 'B', 'C']})\n",
    "    >>> df2 = pd.DataFrame({'ID': [2, 3, 4], 'Value2': ['X', 'Y', 'Z']})\n",
    "    >>> join(df1, df2, key='ID', way='inner')\n",
    "    <class 'pandas.core.frame.DataFrame'>\n",
    "       ID Value1 Value2\n",
    "    0   2      B      X\n",
    "    1   3      C      Y\n",
    "    \"\"\"\n",
    "    df_joined = pd.merge(df1, df2, on=f'{key}', how=f'{way}')\n",
    "    print(type(df_joined))\n",
    "    print(df_joined.head(3))\n",
    "    return df_joined\n"
   ]
  },
  {
   "cell_type": "markdown",
   "id": "1d555b8e-1853-4b0d-8223-1bd4cf1dc79e",
   "metadata": {},
   "source": [
    "## 시각화 관련 함수 ( 다 필요한 건 아님 )"
   ]
  },
  {
   "cell_type": "code",
   "execution_count": 5,
   "id": "45c0ec87-a905-4f3b-93e1-79397d384ba1",
   "metadata": {},
   "outputs": [],
   "source": [
    "def countplot_test(df, feature):\n",
    "    fig, ax = plt.subplots(nrows = 1, ncols = 1, figsize=(8, 6))\n",
    "    ax = sns.countplot(data=df, x=feature, palette=\"viridis\")\n",
    "    ax.set_title(f\" {feature}\")\n",
    "    ax.set_xticklabels(ax.get_xticklabels(),rotation=45)\n",
    "    for p in ax.patches:\n",
    "        ax.text(\n",
    "            p.get_x() + p.get_width() / 2,  \n",
    "            p.get_height() + 0.5,           \n",
    "            int(p.get_height()),            \n",
    "            ha='center',      \n",
    "            fontsize=8    \n",
    "        )\n",
    "plt.show()"
   ]
  },
  {
   "cell_type": "code",
   "execution_count": 6,
   "id": "ed46e859-7689-4f10-bb4d-9a724825736a",
   "metadata": {},
   "outputs": [],
   "source": [
    "def simple_boxplots(df, columns):\n",
    "    fig, axes = plt.subplots(1, len(columns), figsize=(12, 6)) \n",
    "    if len(columns) == 1:\n",
    "        axes = [axes]\n",
    "    \n",
    "    for i, col in enumerate(columns):\n",
    "        sns.boxplot(y=df[col], palette='viridis', ax=axes[i])  \n",
    "        axes[i].set_title(f'Box Plot of {col}')  \n",
    "    plt.tight_layout() \n",
    "    plt.show()"
   ]
  },
  {
   "cell_type": "code",
   "execution_count": 7,
   "id": "09af19fa-9348-4160-8fb2-b1a2bc73aea9",
   "metadata": {},
   "outputs": [],
   "source": [
    "def age_balance_boxplot(df, age_column, balance_column):\n",
    "    fig, axes = plt.subplots(figsize=(8, 6))\n",
    "    ax = sns.boxplot(data=df, x=age_column, y=balance_column, palette=\"Set2\")\n",
    "    ax.set_title(f\"{age_column} 별 {balance_column}\")\n",
    "    ax.set_xlabel(f\"{age_column}\")\n",
    "    ax.set_ylabel(f\"{balance_column}\")\n",
    "    plt.show()"
   ]
  },
  {
   "cell_type": "markdown",
   "id": "7c1cbde3-d1bb-4ba0-b6e9-c25073a2a055",
   "metadata": {},
   "source": [
    "## 이상치 관련 함수"
   ]
  },
  {
   "cell_type": "code",
   "execution_count": 8,
   "id": "a7be41db-180b-48b0-8ec8-13102b6a0f7d",
   "metadata": {},
   "outputs": [],
   "source": [
    "# 사분위수 활용해서 이상치 개수 구하기\n",
    "def count_outliers(df, column):\n",
    "    Q1 = df[column].quantile(0.25)\n",
    "    Q3 = df[column].quantile(0.75)\n",
    "    IQR = Q3 - Q1\n",
    "\n",
    "    lower_outliers = df[df[column] < (Q1 - 1.5 * IQR)]\n",
    "    upper_outliers = df[df[column] > (Q3 + 1.5 * IQR)]\n",
    "    outlier_count = lower_outliers.shape[0] + upper_outliers.shape[0]\n",
    "    print(f\"이상치 개수: {outlier_count}\")\n",
    "    return outlier_count"
   ]
  },
  {
   "cell_type": "markdown",
   "id": "4215b110-44bc-48ab-b1bf-29c748eca2aa",
   "metadata": {},
   "source": [
    "# 데이터불러오기"
   ]
  },
  {
   "cell_type": "code",
   "execution_count": 9,
   "id": "69899123-4557-4fef-a830-62f78ec3fa8f",
   "metadata": {},
   "outputs": [],
   "source": [
    "import pandas as pd\n",
    "DATA_PATH = './dataset/CARD/'\n",
    "DATA_PATH_2 = './dataset/CUSTOMER/'\n",
    "DATA_PATH_3 = './dataset/CC/'\n",
    "DATA_PATH_4 = './dataset/CC/이전'\n",
    "#cc_21_40_raw = pd.read_csv(DATA_PATH_3 + 'cc_21_40(raw).csv', encoding=\"utf-8-sig\")\n",
    "#cc_21_50_raw = pd.read_csv(DATA_PATH_3 + 'cc_21_50(raw).csv', encoding=\"utf-8-sig\")\n",
    "#cc_21_60_raw = pd.read_csv(DATA_PATH_3 + 'cc_21_60(raw).csv', encoding=\"utf-8-sig\")\n",
    "#cc_22_40_raw = pd.read_csv(DATA_PATH_3 + 'cc_22_40(raw).csv', encoding=\"utf-8-sig\")\n",
    "#cc_22_50_raw = pd.read_csv(DATA_PATH_3 + 'cc_22_50(raw).csv', encoding=\"utf-8-sig\")\n",
    "#cc_22_60_raw = pd.read_csv(DATA_PATH_3 + 'cc_22_60(raw).csv', encoding=\"utf-8-sig\")\n",
    "#cc_23_40_raw = pd.read_csv(DATA_PATH_3 + 'cc_23_40(raw).csv', encoding=\"utf-8-sig\")\n",
    "#cc_23_50_raw = pd.read_csv(DATA_PATH_3 + 'cc_23_50(raw).csv', encoding=\"utf-8-sig\")\n",
    "#cc_23_60_raw = pd.read_csv(DATA_PATH_3 + 'cc_23_60(raw).csv', encoding=\"utf-8-sig\")\n",
    "#cc_22_40 = pd.read_csv(DATA_PATH_3 + 'cc_22_40.csv', encoding=\"utf-8-sig\")\n",
    "#cc_22_50 = pd.read_csv(DATA_PATH_3 + 'cc_22_50.csv', encoding=\"utf-8-sig\")\n",
    "#cc_22_60 = pd.read_csv(DATA_PATH_3 + 'cc_22_60.csv', encoding=\"utf-8-sig\")\n",
    "\n",
    "#cc_21_40_n = pd.read_csv(DATA_PATH_3 + 'cc_21_40_n.csv', encoding=\"utf-8-sig\")\n",
    "#cc_21_50_n = pd.read_csv(DATA_PATH_3 + 'cc_21_50_n.csv', encoding=\"utf-8-sig\")\n",
    "#cc_21_60_n = pd.read_csv(DATA_PATH_3 + 'cc_21_60_n.csv', encoding=\"utf-8-sig\")\n",
    "\n",
    "# 이전\n",
    "#cc_22_40_n = pd.read_csv(DATA_PATH_4 + 'cc_22_40_n.csv', encoding=\"utf-8-sig\")\n",
    "#cc_22_50_n = pd.read_csv(DATA_PATH_4 + 'cc_22_50_n.csv', encoding=\"utf-8-sig\")\n",
    "#cc_22_60_n = pd.read_csv(DATA_PATH_4 + 'cc_22_60_n.csv', encoding=\"utf-8-sig\")\n",
    "\n",
    "#cc_22_n = pd.read_csv(DATA_PATH_4 + 'cc_22_n.csv', encoding=\"utf-8-sig\")\n",
    "\n",
    "\n",
    "#cc_22_40 = pd.read_csv(DATA_PATH_3 + 'cc_22_40.csv', encoding=\"utf-8-sig\")\n",
    "#cc_22_50 = pd.read_csv(DATA_PATH_3 + 'cc_22_50.csv', encoding=\"utf-8-sig\")\n",
    "#cc_22_60 = pd.read_csv(DATA_PATH_3 + 'cc_22_60.csv', encoding=\"utf-8-sig\")\n",
    "\n",
    "#cc_22_40_r = pd.read_csv(DATA_PATH_3 + 'cc_22_40_r.csv', encoding=\"utf-8-sig\")\n",
    "#cc_22_50_r = pd.read_csv(DATA_PATH_3 + 'cc_22_50_r.csv', encoding=\"utf-8-sig\")\n",
    "#cc_22_60_r = pd.read_csv(DATA_PATH_3 + 'cc_22_60_r.csv', encoding=\"utf-8-sig\")"
   ]
  },
  {
   "cell_type": "code",
   "execution_count": null,
   "id": "222e34cc-83cf-4b4a-8dca-fa23e08398c8",
   "metadata": {},
   "outputs": [],
   "source": [
    "customer_22 = pd.read_csv(DATA_PATH_2 + 'customer_22.csv', encoding=\"euc-kr\")"
   ]
  },
  {
   "cell_type": "code",
   "execution_count": null,
   "id": "88ce2c90-775c-41f5-b498-d7c29e0ef64b",
   "metadata": {},
   "outputs": [],
   "source": [
    "card_22 = pd.read_csv(DATA_PATH + 'card_22.csv', encoding=\"utf-8\")\n",
    "# 왠지 euc-kr 인코딩 방식으론 에러가 나서.."
   ]
  },
  {
   "cell_type": "code",
   "execution_count": null,
   "id": "ee1b19c2-33a7-4b7e-a2fc-eab31bb3b2fe",
   "metadata": {},
   "outputs": [],
   "source": []
  },
  {
   "cell_type": "markdown",
   "id": "653e6aa7-ac73-454c-8bde-887675b26e1f",
   "metadata": {},
   "source": [
    "# 데이터 확인"
   ]
  },
  {
   "cell_type": "code",
   "execution_count": null,
   "id": "1140d7d3-200e-4a55-be3a-1b350ee9c30a",
   "metadata": {},
   "outputs": [],
   "source": [
    "card_22.head()"
   ]
  },
  {
   "cell_type": "code",
   "execution_count": null,
   "id": "52103426-86ea-4fa2-a140-685f8ab9b010",
   "metadata": {},
   "outputs": [],
   "source": [
    "customer_22.head(2)"
   ]
  },
  {
   "cell_type": "markdown",
   "id": "dd0db73d-8015-4e02-983b-79d823afa064",
   "metadata": {
    "jp-MarkdownHeadingCollapsed": true
   },
   "source": [
    "# 데이터 용량 줄이기 \n",
    "- raw data (customer_연도, card_연도) 는 데이터가 너무 커서, 데이터 용량 줄이는 과정을 거치는 것이 메모리 사용에 좋다."
   ]
  },
  {
   "cell_type": "code",
   "execution_count": null,
   "id": "116d48ea-92db-4a5b-a20f-bf2cf52c20d3",
   "metadata": {},
   "outputs": [],
   "source": [
    "customer_22.info()"
   ]
  },
  {
   "cell_type": "code",
   "execution_count": null,
   "id": "a6e4025e-8904-453e-85c2-a33aa2ab3d02",
   "metadata": {},
   "outputs": [],
   "source": [
    "customer_22=clean_df(customer_22)\n",
    "customer_22.info() # 용량 줄었는지(=데이터타입 바뀌었는지) 확인해본다"
   ]
  },
  {
   "cell_type": "code",
   "execution_count": null,
   "id": "e978209f-9cfb-4b52-954e-c0546204be85",
   "metadata": {},
   "outputs": [],
   "source": [
    "card_22=clean_df(card_22)\n",
    "card_22.info() # 용량 줄었는지(=데이터타입 바뀌었는지) 확인해본다"
   ]
  },
  {
   "cell_type": "markdown",
   "id": "8591b00b-4b91-4220-9732-53be5ac7ad94",
   "metadata": {},
   "source": [
    "# 주제 선정 근거 - raw data 시각화\n",
    "- 나중에 팀 코드로 합칠 때는 각자 해본 여러 시각화들도 추가하면 좋을 것 같아요"
   ]
  },
  {
   "cell_type": "markdown",
   "id": "299cb1ab-2bee-49e7-ab48-e6150b2f2a00",
   "metadata": {},
   "source": [
    "## 자택시도 분포"
   ]
  },
  {
   "cell_type": "code",
   "execution_count": null,
   "id": "1722d270-64df-41ad-823c-bffc79d93a03",
   "metadata": {},
   "outputs": [],
   "source": [
    "countplot_test(customer_22, '자택_시도')"
   ]
  },
  {
   "cell_type": "markdown",
   "id": "becbdf72-0e7f-4979-954d-a24c96281f7b",
   "metadata": {},
   "source": [
    "## 고객 등급 분포"
   ]
  },
  {
   "cell_type": "code",
   "execution_count": null,
   "id": "eff51d13-9a4a-4b80-80a1-43b6de49d467",
   "metadata": {},
   "outputs": [],
   "source": [
    "countplot_test(customer_22, '고객등급')"
   ]
  },
  {
   "cell_type": "markdown",
   "id": "c7f2eb98-600e-4505-ad2c-6ef08a04b70f",
   "metadata": {},
   "source": [
    "## 성별 분포"
   ]
  },
  {
   "cell_type": "code",
   "execution_count": null,
   "id": "6ded6db5-6d18-4631-baa8-4935ce99ff30",
   "metadata": {},
   "outputs": [],
   "source": [
    "countplot_test(customer_22, '성별')"
   ]
  },
  {
   "cell_type": "markdown",
   "id": "b486a6e3-d27f-4f77-af4e-f7f03ac214d4",
   "metadata": {},
   "source": [
    "## 연령대 분포 <- 주제 선정 배경\n",
    "- 다른 컬럼들과 달리, 연령대는 범주별 차이가 있음을 발견했다.\n",
    "- 특히 10대 미만에 비해, 40, 50, 60대 이상의 고객이 많다."
   ]
  },
  {
   "cell_type": "code",
   "execution_count": null,
   "id": "15607c66-2e16-42d3-bf62-91ddde316676",
   "metadata": {},
   "outputs": [],
   "source": [
    "# 메모리 에러가 나네요\n",
    "#countplot_test(customer_22, '연령대')"
   ]
  },
  {
   "cell_type": "markdown",
   "id": "a1d4f2e9-2049-479f-8f6f-1fc7067e4be8",
   "metadata": {},
   "source": [
    "## boxplots 한번 그려보기"
   ]
  },
  {
   "cell_type": "code",
   "execution_count": null,
   "id": "e3ce47c3-f986-4965-98a9-c2bd73b680f6",
   "metadata": {},
   "outputs": [],
   "source": [
    "# # 메모리 에러가 나네요\n",
    "#simple_boxplots(customer_22, ['수신_요구불예금'\t,'수신_거치식예금',\t'수신_적립식예금'\t,'수신_펀드'\t,'수신_외화예금',\t'대출금액'])"
   ]
  },
  {
   "cell_type": "code",
   "execution_count": null,
   "id": "2ff931aa-d048-4ab6-8988-c61c19f53542",
   "metadata": {},
   "outputs": [],
   "source": [
    "age_balance_boxplot(customer_22, '연령대', '수신_요구불예금')"
   ]
  },
  {
   "cell_type": "code",
   "execution_count": null,
   "id": "28dbe7c5-8977-489b-98da-1dbaf1bf2466",
   "metadata": {},
   "outputs": [],
   "source": [
    "# 메모리 에러\n",
    "# age_balance_boxplot(customer_22, '고객등급', '수신_요구불예금')"
   ]
  },
  {
   "cell_type": "markdown",
   "id": "8d19fd97-0e86-49af-8fa5-4b994484e411",
   "metadata": {},
   "source": [
    "## 이상치 개수 , 비율 구해보기"
   ]
  },
  {
   "cell_type": "code",
   "execution_count": null,
   "id": "a5a8467f-a765-4401-97c8-4ec5254a0aee",
   "metadata": {},
   "outputs": [],
   "source": [
    "def count_outliers(df, column):\n",
    "    Q1 = df[column].quantile(0.25)\n",
    "    Q3 = df[column].quantile(0.75)\n",
    "    IQR = Q3 - Q1\n",
    "\n",
    "    lower_outliers = df[df[column] < (Q1 - 1.5 * IQR)]\n",
    "    upper_outliers = df[df[column] > (Q3 + 1.5 * IQR)]\n",
    "    outlier_count = lower_outliers.shape[0] + upper_outliers.shape[0]\n",
    "    print(f\"이상치 개수: {outlier_count}\")\n",
    "    return outlier_count"
   ]
  },
  {
   "cell_type": "markdown",
   "id": "2640cb05-3152-41e8-84fb-7e2e223d8026",
   "metadata": {},
   "source": [
    "### `수신_요구불예금`에서 이상치 개수, 비율 구하기\n",
    "- 비율이 매우 높다\n",
    "- 0 값이 많기 때문일 것으로 추측"
   ]
  },
  {
   "cell_type": "code",
   "execution_count": null,
   "id": "3a4af0c9-10f9-431d-b143-50379f4d8bc1",
   "metadata": {},
   "outputs": [],
   "source": [
    "outlier_count = count_outliers(customer_22, '수신_요구불예금')"
   ]
  },
  {
   "cell_type": "code",
   "execution_count": null,
   "id": "2d701c04-fa1e-49f8-b62f-05935a5d7683",
   "metadata": {},
   "outputs": [],
   "source": [
    "total = 20835992\n",
    "a=20835992 - 2654951\n",
    "outlier_ratio = a/total\n",
    "print(f\"이상치 비율: {outlier_ratio}\")"
   ]
  },
  {
   "cell_type": "code",
   "execution_count": null,
   "id": "7247ff7b-4dd3-49d6-b97c-c2436e490343",
   "metadata": {},
   "outputs": [],
   "source": [
    "# 메모리 에러\n",
    "# age_balance_boxplot(customer_22, '고객등급', '수신_요구불예금')"
   ]
  },
  {
   "cell_type": "markdown",
   "id": "e15b1c68-a570-48da-b2b9-9c15e1f01054",
   "metadata": {},
   "source": [
    "# 데이터 전처리"
   ]
  },
  {
   "cell_type": "markdown",
   "id": "709ec4fa-dc19-430b-b6b1-a9edb01ce176",
   "metadata": {},
   "source": [
    "## 이렇게 하면 안됨 -> 다대다 관계 문제 발생"
   ]
  },
  {
   "cell_type": "markdown",
   "id": "442df2b8-ae21-43d2-a5f6-a7aabe35a123",
   "metadata": {},
   "source": [
    "### 고객ID 추출"
   ]
  },
  {
   "cell_type": "code",
   "execution_count": null,
   "id": "23f0d2cf-f42f-4f7e-b96a-d011033d4386",
   "metadata": {},
   "outputs": [],
   "source": [
    "customer_22_id = customer_22.loc[:, ['고객ID', '연령대']]\n",
    "customer_22_id"
   ]
  },
  {
   "cell_type": "markdown",
   "id": "171a3e14-3e9c-4ba0-a561-3ce690407efe",
   "metadata": {},
   "source": [
    "### 카드 데이터 처리 - 지역, 업종 재분류"
   ]
  },
  {
   "cell_type": "code",
   "execution_count": null,
   "id": "b65d293b-1dbd-4958-9933-6929fc15520d",
   "metadata": {},
   "outputs": [],
   "source": [
    "# 지역재분류\n",
    "temp_card = rename_category_region(card_22)\n",
    "# 가맹업종명 ㅈ"
   ]
  },
  {
   "cell_type": "code",
   "execution_count": null,
   "id": "fa5c9e2f-84d2-4a8b-a46d-4106dc6256aa",
   "metadata": {},
   "outputs": [],
   "source": []
  }
 ],
 "metadata": {
  "kernelspec": {
   "display_name": "Python 3 (ipykernel)",
   "language": "python",
   "name": "python3"
  },
  "language_info": {
   "codemirror_mode": {
    "name": "ipython",
    "version": 3
   },
   "file_extension": ".py",
   "mimetype": "text/x-python",
   "name": "python",
   "nbconvert_exporter": "python",
   "pygments_lexer": "ipython3",
   "version": "3.12.6"
  }
 },
 "nbformat": 4,
 "nbformat_minor": 5
}
