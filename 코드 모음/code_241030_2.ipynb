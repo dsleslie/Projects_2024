{
 "cells": [
  {
   "cell_type": "markdown",
   "id": "17cdd786-5fd6-40f2-9824-4685da6041fb",
   "metadata": {},
   "source": [
    "# 라이브러리 불러오기\n",
    "- 필요한 라이브러리 가져오기"
   ]
  },
  {
   "cell_type": "code",
   "execution_count": 1,
   "id": "7751f3f2-c1c3-4fa4-bb63-21dbd4498b86",
   "metadata": {},
   "outputs": [],
   "source": [
    "import pandas as pd\n",
    "from pandas import DataFrame\n",
    "import numpy as np\n",
    "import seaborn as sns\n",
    "import matplotlib.pyplot as plt\n",
    "import statsmodels.api as sm\n",
    "from sklearn.model_selection import train_test_split\n",
    "import warnings\n",
    "warnings.filterwarnings(\"ignore\")\n",
    "import random\n",
    "\n",
    "#from ggplot import *\n",
    "#from scipy.stats import logistic\n",
    "#from sklearn.metrics import roc_curve\n",
    "#from sklearn.metrics import roc_auc_score\n",
    "#from sklearn.linear_model import LogisticRegression\n",
    "#from sklearn.metrics import confusion_matrix, mean_squared_error\n",
    "#from sklearn.model_selection import train_test_split\n",
    "#from sklearn import preprocessing\n",
    "#from sklearn.neighbors import KNeighborsClassifier\n",
    "#from sklearn.naive_bayes import *\n",
    "#from sklearn.tree import DecisionTreeClassifier, DecisionTreeRegressor, export_graphviz\n",
    "#import graphviz\n",
    "#from sklearn.ensemble import RandomForestRegressor, RandomForestClassifier\n",
    "#from sklearn.svm import SVC, SVR\n",
    "\n",
    "# 한글 폰트 실행\n",
    "from matplotlib import rcParams\n",
    "from matplotlib import font_manager,rc\n",
    "rcParams['axes.unicode_minus']=False\n",
    "plt.rcParams['font.family']='Malgun Gothic'\n",
    "font_name=font_manager.FontProperties(fname='c:/Windows/Fonts/malgun.ttf').get_name()\n",
    "rc('font',family=font_name)"
   ]
  },
  {
   "cell_type": "markdown",
   "id": "79e8f4e6-d2de-41d2-bcc1-519565694a05",
   "metadata": {},
   "source": [
    "# 분석에 도움주는 주요 기본 함수 정의"
   ]
  },
  {
   "cell_type": "markdown",
   "id": "916741e4-c27e-4fe5-8d64-8e27383a7af3",
   "metadata": {},
   "source": [
    "## 메모리 줄여주는 함수"
   ]
  },
  {
   "cell_type": "code",
   "execution_count": 2,
   "id": "a1389c55-fd23-48b0-89b1-48d6f24c338d",
   "metadata": {},
   "outputs": [],
   "source": [
    "import pandas as pd \n",
    "import numpy as np\n",
    "\n",
    "def reduce_mem_usage(df, float16_as32=True):\n",
    "    # memory_usage()는 데이터프레임의 각 열의 메모리 사용량을 계산하고, sum은 그 값을 합산합니다. B -> KB -> MB로 변환합니다.\n",
    "    start_mem = df.memory_usage().sum() / 1024**2\n",
    "    print('데이터프레임의 초기 메모리 사용량은 {:.2f} MB입니다.'.format(start_mem))\n",
    "\n",
    "    for col in df.columns:  # 각 열의 이름을 반복합니다.\n",
    "        col_type = df[col].dtype  # 열의 데이터 타입을 가져옵니다.\n",
    "        if col_type != object and str(col_type) != 'category':  # 객체 타입이 아닌 수치형 변수만 처리합니다.\n",
    "            c_min, c_max = df[col].min(), df[col].max()  # 해당 열의 최소값과 최대값을 계산합니다.\n",
    "            if str(col_type)[:3] == 'int':  # 정수형 변수일 경우 (int8, int16, int32, int64 모두 포함)\n",
    "                # 이 열의 값 범위가 int8의 범위에 있을 경우 타입을 int8로 변환합니다. (-128부터 127까지)\n",
    "                if c_min > np.iinfo(np.int8).min and c_max < np.iinfo(np.int8).max:\n",
    "                    df[col] = df[col].astype(np.int8)\n",
    "                # 이 열의 값 범위가 int16의 범위에 있을 경우 타입을 int16으로 변환합니다. (-32,768부터 32,767까지)\n",
    "                elif c_min > np.iinfo(np.int16).min and c_max < np.iinfo(np.int16).max:\n",
    "                    df[col] = df[col].astype(np.int16)\n",
    "                # 이 열의 값 범위가 int32의 범위에 있을 경우 타입을 int32로 변환합니다. (-2,147,483,648부터 2,147,483,647까지)\n",
    "                elif c_min > np.iinfo(np.int32).min and c_max < np.iinfo(np.int32).max:\n",
    "                    df[col] = df[col].astype(np.int32)\n",
    "                # 이 열의 값 범위가 int64의 범위에 있을 경우 타입을 int64로 변환합니다. (-9,223,372,036,854,775,808부터 9,223,372,036,854,775,807까지)\n",
    "                elif c_min > np.iinfo(np.int64).min and c_max < np.iinfo(np.int64).max:\n",
    "                    df[col] = df[col].astype(np.int64)\n",
    "            else:  # 실수형일 경우\n",
    "                # 값이 float16의 범위에 있을 경우 타입을 변환합니다. 더 높은 정밀도가 필요하면 float32를 고려합니다.\n",
    "                if c_min > np.finfo(np.float16).min and c_max < np.finfo(np.float16).max:\n",
    "                    if float16_as32:  # 더 높은 정밀도가 필요하면 float32를 선택할 수 있습니다.\n",
    "                        df[col] = df[col].astype(np.float32)\n",
    "                    else:\n",
    "                        df[col] = df[col].astype(np.float16)\n",
    "                # 값이 float32의 범위에 있을 경우 타입을 float32로 변환합니다.\n",
    "                elif c_min > np.finfo(np.float32).min and c_max < np.finfo(np.float32).max:\n",
    "                    df[col] = df[col].astype(np.float32)\n",
    "                # 값이 float64의 범위에 있을 경우 타입을 float64로 변환합니다.\n",
    "                else:\n",
    "                    df[col] = df[col].astype(np.float64)\n",
    "    # 최종 메모리 사용량을 계산합니다.\n",
    "    end_mem = df.memory_usage().sum() / 1024**2\n",
    "    print('최적화 후 데이터프레임의 메모리 사용량은: {:.2f} MB입니다.'.format(end_mem))\n",
    "    # 초기 메모리 사용량과 비교하여 몇 퍼센트 감소했는지 계산합니다.\n",
    "    print('메모리 사용량이 {:.1f}% 감소했습니다.'.format(100 * (start_mem - end_mem) / start_mem))\n",
    "\n",
    "    return df"
   ]
  },
  {
   "cell_type": "markdown",
   "id": "8eeb1355-308e-421a-bbfd-1bec2a36d4ea",
   "metadata": {},
   "source": [
    "## 시간 체크 함수"
   ]
  },
  {
   "cell_type": "code",
   "execution_count": 4,
   "id": "f9288e5d-bbe4-4e31-aa74-e3b22ebacadb",
   "metadata": {},
   "outputs": [],
   "source": [
    "import time\n",
    "\n",
    "def execution_time(func):\n",
    "    def wrapper(*args, **kwargs):\n",
    "        start_time = time.time()\n",
    "        result = func(*args, **kwargs)\n",
    "        end_time = time.time()\n",
    "        elapsed_time = end_time - start_time\n",
    "        hours, rem = divmod(elapsed_time, 3600)\n",
    "        minutes, seconds = divmod(rem, 60)\n",
    "        print(f\"Execution time for {func.__name__}: {int(hours)}h {int(minutes)}m {seconds:.2f}s\")\n",
    "        return result\n",
    "    return wrapper"
   ]
  },
  {
   "cell_type": "markdown",
   "id": "3c92cd22-6985-4b7e-9031-f34859b38269",
   "metadata": {},
   "source": [
    "## 데이터 가공 함수"
   ]
  },
  {
   "cell_type": "code",
   "execution_count": 16,
   "id": "8b9ce7c0-3462-4f51-b205-c12df9dfd53f",
   "metadata": {},
   "outputs": [],
   "source": [
    "@execution_time\n",
    "def clean_df(data):\n",
    "    data['고객ID'] = data['고객ID'].astype(str)\n",
    "    data = reduce_mem_usage(data)\n",
    "    return data"
   ]
  },
  {
   "cell_type": "code",
   "execution_count": 3,
   "id": "0c9f4f82-6974-4fe8-a8e4-44b4c7f0a956",
   "metadata": {},
   "outputs": [],
   "source": [
    "DATA_PATH = './dataset/CARD/'\n",
    "DATA_PATH_2 = './dataset/CUSTOMER/'\n",
    "card_21 = pd.read_csv(DATA_PATH + 'card_21.csv', encoding=\"euc-kr\")\n",
    "#card_22 = pd.read_csv(DATA_PATH + 'card_22.csv', encoding=\"euc-kr\")\n",
    "#card_23 = pd.read_csv(DATA_PATH + 'card_23.csv', encoding=\"euc-kr\")\n",
    "customer_21 = pd.read_csv(DATA_PATH_2 + 'customer_21.csv', encoding=\"euc-kr\")\n",
    "#customer_22 = pd.read_csv(DATA_PATH_2 + 'customer_22.csv', encoding=\"euc-kr\")\n",
    "#customer_23 = pd.read_csv(DATA_PATH_2 + 'customer_23.csv', encoding=\"euc-kr\")"
   ]
  },
  {
   "cell_type": "code",
   "execution_count": 13,
   "id": "3409af15-43a5-4fb4-bb02-bed15e623373",
   "metadata": {},
   "outputs": [
    {
     "data": {
      "text/html": [
       "<div>\n",
       "<style scoped>\n",
       "    .dataframe tbody tr th:only-of-type {\n",
       "        vertical-align: middle;\n",
       "    }\n",
       "\n",
       "    .dataframe tbody tr th {\n",
       "        vertical-align: top;\n",
       "    }\n",
       "\n",
       "    .dataframe thead th {\n",
       "        text-align: right;\n",
       "    }\n",
       "</style>\n",
       "<table border=\"1\" class=\"dataframe\">\n",
       "  <thead>\n",
       "    <tr style=\"text-align: right;\">\n",
       "      <th></th>\n",
       "      <th>거래년월</th>\n",
       "      <th>고객ID</th>\n",
       "      <th>가맹점업종명</th>\n",
       "      <th>가맹점_광역시도</th>\n",
       "      <th>가맹점_시군구</th>\n",
       "      <th>승인건수</th>\n",
       "      <th>승인금액</th>\n",
       "    </tr>\n",
       "  </thead>\n",
       "  <tbody>\n",
       "    <tr>\n",
       "      <th>0</th>\n",
       "      <td>202110</td>\n",
       "      <td>8851293045</td>\n",
       "      <td>서양음식</td>\n",
       "      <td>대구광역시</td>\n",
       "      <td>중구</td>\n",
       "      <td>5번이하</td>\n",
       "      <td>10000</td>\n",
       "    </tr>\n",
       "    <tr>\n",
       "      <th>1</th>\n",
       "      <td>202104</td>\n",
       "      <td>9044834464</td>\n",
       "      <td>인터넷P/G</td>\n",
       "      <td>서울특별시</td>\n",
       "      <td>중구</td>\n",
       "      <td>5번이하</td>\n",
       "      <td>20000</td>\n",
       "    </tr>\n",
       "    <tr>\n",
       "      <th>2</th>\n",
       "      <td>202107</td>\n",
       "      <td>7184189897</td>\n",
       "      <td>기타음료식품</td>\n",
       "      <td>대구광역시</td>\n",
       "      <td>동구</td>\n",
       "      <td>5번이하</td>\n",
       "      <td>10000</td>\n",
       "    </tr>\n",
       "    <tr>\n",
       "      <th>3</th>\n",
       "      <td>202111</td>\n",
       "      <td>6269770133</td>\n",
       "      <td>제과점</td>\n",
       "      <td>경상북도</td>\n",
       "      <td>경산시</td>\n",
       "      <td>5번이하</td>\n",
       "      <td>10000</td>\n",
       "    </tr>\n",
       "    <tr>\n",
       "      <th>4</th>\n",
       "      <td>202110</td>\n",
       "      <td>4322838100</td>\n",
       "      <td>스넥</td>\n",
       "      <td>대구광역시</td>\n",
       "      <td>수성구</td>\n",
       "      <td>5번이하</td>\n",
       "      <td>10000</td>\n",
       "    </tr>\n",
       "  </tbody>\n",
       "</table>\n",
       "</div>"
      ],
      "text/plain": [
       "     거래년월        고객ID  가맹점업종명 가맹점_광역시도 가맹점_시군구  승인건수   승인금액\n",
       "0  202110  8851293045    서양음식    대구광역시      중구  5번이하  10000\n",
       "1  202104  9044834464  인터넷P/G    서울특별시      중구  5번이하  20000\n",
       "2  202107  7184189897  기타음료식품    대구광역시      동구  5번이하  10000\n",
       "3  202111  6269770133     제과점     경상북도     경산시  5번이하  10000\n",
       "4  202110  4322838100      스넥    대구광역시     수성구  5번이하  10000"
      ]
     },
     "execution_count": 13,
     "metadata": {},
     "output_type": "execute_result"
    }
   ],
   "source": [
    "temp = card_21.sample(n = 100).reset_index(drop=True)\n",
    "temp.head()"
   ]
  },
  {
   "cell_type": "code",
   "execution_count": 17,
   "id": "53fee39e-10be-4a61-b7c1-f71aa6493e7b",
   "metadata": {},
   "outputs": [
    {
     "name": "stdout",
     "output_type": "stream",
     "text": [
      "데이터프레임의 초기 메모리 사용량은 2777.37 MB입니다.\n",
      "최적화 후 데이터프레임의 메모리 사용량은: 2777.37 MB입니다.\n",
      "메모리 사용량이 0.0% 감소했습니다.\n",
      "Execution time for clean_df: 0h 0m 2.97s\n",
      "<class 'pandas.core.frame.DataFrame'>\n",
      "RangeIndex: 60672642 entries, 0 to 60672641\n",
      "Data columns (total 7 columns):\n",
      " #   Column    Dtype \n",
      "---  ------    ----- \n",
      " 0   거래년월      int32 \n",
      " 1   고객ID      object\n",
      " 2   가맹점업종명    object\n",
      " 3   가맹점_광역시도  object\n",
      " 4   가맹점_시군구   object\n",
      " 5   승인건수      object\n",
      " 6   승인금액      int32 \n",
      "dtypes: int32(2), object(5)\n",
      "memory usage: 2.7+ GB\n"
     ]
    }
   ],
   "source": [
    "temp2 = clean_df(card_21)\n",
    "temp2.info()"
   ]
  },
  {
   "cell_type": "code",
   "execution_count": 20,
   "id": "29c931f2-1c63-4f2e-a52e-9bc96132d8b3",
   "metadata": {},
   "outputs": [
    {
     "name": "stdout",
     "output_type": "stream",
     "text": [
      "데이터프레임의 초기 메모리 사용량은 2066.56 MB입니다.\n",
      "최적화 후 데이터프레임의 메모리 사용량은: 1510.18 MB입니다.\n",
      "메모리 사용량이 26.9% 감소했습니다.\n",
      "Execution time for clean_df: 0h 0m 7.98s\n"
     ]
    },
    {
     "data": {
      "text/html": [
       "<div>\n",
       "<style scoped>\n",
       "    .dataframe tbody tr th:only-of-type {\n",
       "        vertical-align: middle;\n",
       "    }\n",
       "\n",
       "    .dataframe tbody tr th {\n",
       "        vertical-align: top;\n",
       "    }\n",
       "\n",
       "    .dataframe thead th {\n",
       "        text-align: right;\n",
       "    }\n",
       "</style>\n",
       "<table border=\"1\" class=\"dataframe\">\n",
       "  <thead>\n",
       "    <tr style=\"text-align: right;\">\n",
       "      <th></th>\n",
       "      <th>기준년월</th>\n",
       "      <th>고객ID</th>\n",
       "      <th>연령대</th>\n",
       "      <th>성별</th>\n",
       "      <th>고객등급</th>\n",
       "      <th>자택_시도</th>\n",
       "      <th>자택_시군구</th>\n",
       "      <th>수신_요구불예금</th>\n",
       "      <th>수신_거치식예금</th>\n",
       "      <th>수신_적립식예금</th>\n",
       "      <th>수신_펀드</th>\n",
       "      <th>수신_외화예금</th>\n",
       "      <th>대출금액</th>\n",
       "    </tr>\n",
       "  </thead>\n",
       "  <tbody>\n",
       "    <tr>\n",
       "      <th>0</th>\n",
       "      <td>202112</td>\n",
       "      <td>9999998161</td>\n",
       "      <td>60대이상</td>\n",
       "      <td>여</td>\n",
       "      <td>일반등급</td>\n",
       "      <td>대구광역시</td>\n",
       "      <td>달서구</td>\n",
       "      <td>1400000</td>\n",
       "      <td>0</td>\n",
       "      <td>0</td>\n",
       "      <td>0</td>\n",
       "      <td>0</td>\n",
       "      <td>0</td>\n",
       "    </tr>\n",
       "  </tbody>\n",
       "</table>\n",
       "</div>"
      ],
      "text/plain": [
       "     기준년월        고객ID    연령대 성별  고객등급  자택_시도 자택_시군구  수신_요구불예금  수신_거치식예금  \\\n",
       "0  202112  9999998161  60대이상  여  일반등급  대구광역시    달서구   1400000         0   \n",
       "\n",
       "   수신_적립식예금  수신_펀드  수신_외화예금  대출금액  \n",
       "0         0      0        0     0  "
      ]
     },
     "execution_count": 20,
     "metadata": {},
     "output_type": "execute_result"
    }
   ],
   "source": [
    "temp3 = clean_df(customer_21)\n",
    "temp3.head(1)"
   ]
  },
  {
   "cell_type": "code",
   "execution_count": 21,
   "id": "27c306ec-375b-4e63-a49b-093d6c972087",
   "metadata": {},
   "outputs": [
    {
     "data": {
      "text/html": [
       "<div>\n",
       "<style scoped>\n",
       "    .dataframe tbody tr th:only-of-type {\n",
       "        vertical-align: middle;\n",
       "    }\n",
       "\n",
       "    .dataframe tbody tr th {\n",
       "        vertical-align: top;\n",
       "    }\n",
       "\n",
       "    .dataframe thead th {\n",
       "        text-align: right;\n",
       "    }\n",
       "</style>\n",
       "<table border=\"1\" class=\"dataframe\">\n",
       "  <thead>\n",
       "    <tr style=\"text-align: right;\">\n",
       "      <th></th>\n",
       "      <th>기준년월</th>\n",
       "      <th>고객ID</th>\n",
       "      <th>연령대</th>\n",
       "      <th>성별</th>\n",
       "      <th>고객등급</th>\n",
       "      <th>자택_시도</th>\n",
       "      <th>자택_시군구</th>\n",
       "      <th>수신_요구불예금</th>\n",
       "      <th>수신_거치식예금</th>\n",
       "      <th>수신_적립식예금</th>\n",
       "      <th>수신_펀드</th>\n",
       "      <th>수신_외화예금</th>\n",
       "      <th>대출금액</th>\n",
       "    </tr>\n",
       "  </thead>\n",
       "  <tbody>\n",
       "    <tr>\n",
       "      <th>0</th>\n",
       "      <td>202112</td>\n",
       "      <td>9999998161</td>\n",
       "      <td>60대이상</td>\n",
       "      <td>여</td>\n",
       "      <td>일반등급</td>\n",
       "      <td>대구광역시</td>\n",
       "      <td>달서구</td>\n",
       "      <td>1400000</td>\n",
       "      <td>0</td>\n",
       "      <td>0</td>\n",
       "      <td>0</td>\n",
       "      <td>0</td>\n",
       "      <td>0</td>\n",
       "    </tr>\n",
       "  </tbody>\n",
       "</table>\n",
       "</div>"
      ],
      "text/plain": [
       "     기준년월        고객ID    연령대 성별  고객등급  자택_시도 자택_시군구  수신_요구불예금  수신_거치식예금  \\\n",
       "0  202112  9999998161  60대이상  여  일반등급  대구광역시    달서구   1400000         0   \n",
       "\n",
       "   수신_적립식예금  수신_펀드  수신_외화예금  대출금액  \n",
       "0         0      0        0     0  "
      ]
     },
     "execution_count": 21,
     "metadata": {},
     "output_type": "execute_result"
    }
   ],
   "source": [
    "customer_21.head(1)"
   ]
  },
  {
   "cell_type": "code",
   "execution_count": 22,
   "id": "d244bfa8-a479-4881-beed-7015fa1e83e2",
   "metadata": {},
   "outputs": [
    {
     "name": "stdout",
     "output_type": "stream",
     "text": [
      "<class 'pandas.core.frame.DataFrame'>\n",
      "RangeIndex: 20835992 entries, 0 to 20835991\n",
      "Data columns (total 13 columns):\n",
      " #   Column    Dtype \n",
      "---  ------    ----- \n",
      " 0   기준년월      int32 \n",
      " 1   고객ID      object\n",
      " 2   연령대       object\n",
      " 3   성별        object\n",
      " 4   고객등급      object\n",
      " 5   자택_시도     object\n",
      " 6   자택_시군구    object\n",
      " 7   수신_요구불예금  int32 \n",
      " 8   수신_거치식예금  int32 \n",
      " 9   수신_적립식예금  int32 \n",
      " 10  수신_펀드     int32 \n",
      " 11  수신_외화예금   int32 \n",
      " 12  대출금액      int32 \n",
      "dtypes: int32(7), object(6)\n",
      "memory usage: 1.5+ GB\n"
     ]
    }
   ],
   "source": [
    "customer_21.info()"
   ]
  },
  {
   "cell_type": "code",
   "execution_count": 23,
   "id": "4cc6669a-7ca5-4dd5-a4a4-121aca86ce6b",
   "metadata": {},
   "outputs": [
    {
     "name": "stdout",
     "output_type": "stream",
     "text": [
      "<class 'pandas.core.frame.DataFrame'>\n",
      "RangeIndex: 60672642 entries, 0 to 60672641\n",
      "Data columns (total 7 columns):\n",
      " #   Column    Dtype \n",
      "---  ------    ----- \n",
      " 0   거래년월      int32 \n",
      " 1   고객ID      object\n",
      " 2   가맹점업종명    object\n",
      " 3   가맹점_광역시도  object\n",
      " 4   가맹점_시군구   object\n",
      " 5   승인건수      object\n",
      " 6   승인금액      int32 \n",
      "dtypes: int32(2), object(5)\n",
      "memory usage: 2.7+ GB\n"
     ]
    }
   ],
   "source": [
    "card_21.info()"
   ]
  },
  {
   "cell_type": "code",
   "execution_count": 24,
   "id": "9d9a7f05-c6a8-4dbf-a0c0-f880639f12ae",
   "metadata": {},
   "outputs": [
    {
     "name": "stdout",
     "output_type": "stream",
     "text": [
      "데이터프레임의 초기 메모리 사용량은 3361.67 MB입니다.\n",
      "최적화 후 데이터프레임의 메모리 사용량은: 2881.43 MB입니다.\n",
      "메모리 사용량이 14.3% 감소했습니다.\n",
      "Execution time for clean_df: 0h 0m 17.45s\n",
      "<class 'pandas.core.frame.DataFrame'>\n",
      "RangeIndex: 62945850 entries, 0 to 62945849\n",
      "Data columns (total 7 columns):\n",
      " #   Column    Dtype \n",
      "---  ------    ----- \n",
      " 0   거래년월      int32 \n",
      " 1   고객ID      object\n",
      " 2   가맹점업종명    object\n",
      " 3   가맹점_광역시도  object\n",
      " 4   가맹점_시군구   object\n",
      " 5   승인건수      object\n",
      " 6   승인금액      int32 \n",
      "dtypes: int32(2), object(5)\n",
      "memory usage: 2.8+ GB\n"
     ]
    }
   ],
   "source": [
    "card_22 = pd.read_csv(DATA_PATH + 'card_22.csv', encoding=\"euc-kr\")\n",
    "temp4 = clean_df(card_22)\n",
    "temp4.info()"
   ]
  },
  {
   "cell_type": "code",
   "execution_count": 25,
   "id": "4f6930fa-ed60-4fcd-bb49-07d583236022",
   "metadata": {},
   "outputs": [
    {
     "name": "stdout",
     "output_type": "stream",
     "text": [
      "<class 'pandas.core.frame.DataFrame'>\n",
      "RangeIndex: 20835992 entries, 0 to 20835991\n",
      "Data columns (total 13 columns):\n",
      " #   Column    Dtype \n",
      "---  ------    ----- \n",
      " 0   기준년월      int32 \n",
      " 1   고객ID      object\n",
      " 2   연령대       object\n",
      " 3   성별        object\n",
      " 4   고객등급      object\n",
      " 5   자택_시도     object\n",
      " 6   자택_시군구    object\n",
      " 7   수신_요구불예금  int32 \n",
      " 8   수신_거치식예금  int32 \n",
      " 9   수신_적립식예금  int32 \n",
      " 10  수신_펀드     int32 \n",
      " 11  수신_외화예금   int32 \n",
      " 12  대출금액      int32 \n",
      "dtypes: int32(7), object(6)\n",
      "memory usage: 1.5+ GB\n"
     ]
    }
   ],
   "source": [
    "# 고객 - 고객id, 연령대만 남기고 삭제\n",
    "customer_21_test2 = customer_21.loc[:, ['고객ID', '연령대']]\n",
    "customer_21.info()"
   ]
  },
  {
   "cell_type": "code",
   "execution_count": null,
   "id": "01e32f60-78cb-4e88-a0c4-d9ad57c7d2e2",
   "metadata": {},
   "outputs": [],
   "source": [
    "# 고객 데이터 - 60대\n",
    "customer_21_test2_60 = customer_21.loc[:, ['고객ID', '연령대']]\n",
    "customer_21_test2_60.head(3)\n",
    "\n",
    "customer_test_21_60 = customer_test_21[customer_test_21['연령대'].isin(['60대이상'])]"
   ]
  },
  {
   "cell_type": "code",
   "execution_count": null,
   "id": "bb41a05a-d621-4898-b0f6-39b65e1638a9",
   "metadata": {},
   "outputs": [],
   "source": [
    "# 고객 데이터 - 50대\n",
    "customer_21_test2_50 = customer_21.loc[:, ['고객ID', '연령대']]\n",
    "customer_21_test2_60.head(3)"
   ]
  },
  {
   "cell_type": "markdown",
   "id": "73bf025d-47a2-40a4-8123-76faeb3a2bce",
   "metadata": {},
   "source": [
    "customer_test_21 = customer_21.drop(columns=['기준년월', '성별','고객등급', '자택_시도', '자택_시군구', '수신_요구불예금','수신_거치식예금','수신_적립식예금','수신_펀드', '수신_외화예금','대출금액'])\n",
    "\n",
    "customer_test_21_60 = customer_test_21[customer_test_21['연령대'].isin(['60대이상'])]\n",
    "\n",
    "card_test_21_id = card_21.drop(columns=['가맹점_시군구', '거래년월', '가맹점_광역시도','승인건수','가맹점업종명','승인금액'])\n",
    "\n",
    "card_customer_21_60_id= pd.merge(customer_test_21_60, card_test_21_id, on='고객ID', how='inner')\n",
    "card_customer_21_60_id.head(3)"
   ]
  },
  {
   "cell_type": "markdown",
   "id": "8ad66f90-28a3-4542-8b5a-13c23720fb46",
   "metadata": {},
   "source": [
    "card_21_test2 = card_21.loc[:, ['고객ID', '가맹점업종명','승인금액']]\n",
    "card_21_test2.head(3)"
   ]
  },
  {
   "cell_type": "code",
   "execution_count": 26,
   "id": "22de50e9-a8c9-4cec-ba0d-73f6f1e05d0f",
   "metadata": {},
   "outputs": [
    {
     "data": {
      "text/html": [
       "<div>\n",
       "<style scoped>\n",
       "    .dataframe tbody tr th:only-of-type {\n",
       "        vertical-align: middle;\n",
       "    }\n",
       "\n",
       "    .dataframe tbody tr th {\n",
       "        vertical-align: top;\n",
       "    }\n",
       "\n",
       "    .dataframe thead th {\n",
       "        text-align: right;\n",
       "    }\n",
       "</style>\n",
       "<table border=\"1\" class=\"dataframe\">\n",
       "  <thead>\n",
       "    <tr style=\"text-align: right;\">\n",
       "      <th></th>\n",
       "      <th>거래년월</th>\n",
       "      <th>고객ID</th>\n",
       "      <th>가맹점업종명</th>\n",
       "      <th>가맹점_광역시도</th>\n",
       "      <th>가맹점_시군구</th>\n",
       "      <th>승인건수</th>\n",
       "      <th>승인금액</th>\n",
       "    </tr>\n",
       "  </thead>\n",
       "  <tbody>\n",
       "    <tr>\n",
       "      <th>0</th>\n",
       "      <td>202112</td>\n",
       "      <td>4080934272</td>\n",
       "      <td>일반한식</td>\n",
       "      <td>경상북도</td>\n",
       "      <td>경주시</td>\n",
       "      <td>5번이하</td>\n",
       "      <td>20000</td>\n",
       "    </tr>\n",
       "    <tr>\n",
       "      <th>1</th>\n",
       "      <td>202112</td>\n",
       "      <td>4116127380</td>\n",
       "      <td>일반한식</td>\n",
       "      <td>경상북도</td>\n",
       "      <td>경주시</td>\n",
       "      <td>5번이하</td>\n",
       "      <td>20000</td>\n",
       "    </tr>\n",
       "    <tr>\n",
       "      <th>2</th>\n",
       "      <td>202112</td>\n",
       "      <td>2914424833</td>\n",
       "      <td>일반한식</td>\n",
       "      <td>경상북도</td>\n",
       "      <td>경주시</td>\n",
       "      <td>5번이하</td>\n",
       "      <td>20000</td>\n",
       "    </tr>\n",
       "    <tr>\n",
       "      <th>3</th>\n",
       "      <td>202112</td>\n",
       "      <td>2950007638</td>\n",
       "      <td>일반한식</td>\n",
       "      <td>경상북도</td>\n",
       "      <td>경주시</td>\n",
       "      <td>5번이하</td>\n",
       "      <td>60000</td>\n",
       "    </tr>\n",
       "    <tr>\n",
       "      <th>4</th>\n",
       "      <td>202112</td>\n",
       "      <td>2931907302</td>\n",
       "      <td>일반한식</td>\n",
       "      <td>경상북도</td>\n",
       "      <td>경주시</td>\n",
       "      <td>5번이하</td>\n",
       "      <td>10000</td>\n",
       "    </tr>\n",
       "  </tbody>\n",
       "</table>\n",
       "</div>"
      ],
      "text/plain": [
       "     거래년월        고객ID 가맹점업종명 가맹점_광역시도 가맹점_시군구  승인건수   승인금액\n",
       "0  202112  4080934272   일반한식     경상북도     경주시  5번이하  20000\n",
       "1  202112  4116127380   일반한식     경상북도     경주시  5번이하  20000\n",
       "2  202112  2914424833   일반한식     경상북도     경주시  5번이하  20000\n",
       "3  202112  2950007638   일반한식     경상북도     경주시  5번이하  60000\n",
       "4  202112  2931907302   일반한식     경상북도     경주시  5번이하  10000"
      ]
     },
     "execution_count": 26,
     "metadata": {},
     "output_type": "execute_result"
    }
   ],
   "source": [
    "card_21.head()"
   ]
  },
  {
   "cell_type": "markdown",
   "id": "22241a31-4993-47fd-becd-4cd1c143af0b",
   "metadata": {},
   "source": [
    "### 승인건수 정체 알아보기"
   ]
  },
  {
   "cell_type": "code",
   "execution_count": 27,
   "id": "821e3725-9b2a-4998-9571-ce67fb7ddd93",
   "metadata": {},
   "outputs": [
    {
     "data": {
      "text/html": [
       "<div>\n",
       "<style scoped>\n",
       "    .dataframe tbody tr th:only-of-type {\n",
       "        vertical-align: middle;\n",
       "    }\n",
       "\n",
       "    .dataframe tbody tr th {\n",
       "        vertical-align: top;\n",
       "    }\n",
       "\n",
       "    .dataframe thead th {\n",
       "        text-align: right;\n",
       "    }\n",
       "</style>\n",
       "<table border=\"1\" class=\"dataframe\">\n",
       "  <thead>\n",
       "    <tr style=\"text-align: right;\">\n",
       "      <th></th>\n",
       "      <th>고객ID</th>\n",
       "      <th>가맹점업종명</th>\n",
       "      <th>가맹점_광역시도</th>\n",
       "      <th>가맹점_시군구</th>\n",
       "      <th>승인건수</th>\n",
       "    </tr>\n",
       "  </thead>\n",
       "  <tbody>\n",
       "    <tr>\n",
       "      <th>0</th>\n",
       "      <td>4080934272</td>\n",
       "      <td>일반한식</td>\n",
       "      <td>경상북도</td>\n",
       "      <td>경주시</td>\n",
       "      <td>5번이하</td>\n",
       "    </tr>\n",
       "    <tr>\n",
       "      <th>1</th>\n",
       "      <td>4116127380</td>\n",
       "      <td>일반한식</td>\n",
       "      <td>경상북도</td>\n",
       "      <td>경주시</td>\n",
       "      <td>5번이하</td>\n",
       "    </tr>\n",
       "  </tbody>\n",
       "</table>\n",
       "</div>"
      ],
      "text/plain": [
       "         고객ID 가맹점업종명 가맹점_광역시도 가맹점_시군구  승인건수\n",
       "0  4080934272   일반한식     경상북도     경주시  5번이하\n",
       "1  4116127380   일반한식     경상북도     경주시  5번이하"
      ]
     },
     "execution_count": 27,
     "metadata": {},
     "output_type": "execute_result"
    }
   ],
   "source": [
    "temp_card_21 = card_21.loc[:, ['고객ID', '가맹점업종명','가맹점_광역시도','가맹점_시군구','승인건수']]\n",
    "temp_card_21.head(2)"
   ]
  },
  {
   "cell_type": "code",
   "execution_count": 29,
   "id": "6ca3004e-7b9b-4cc9-8e98-09f84f3b6e2c",
   "metadata": {},
   "outputs": [
    {
     "name": "stdout",
     "output_type": "stream",
     "text": [
      "<class 'pandas.core.frame.DataFrame'>\n",
      "RangeIndex: 60672642 entries, 0 to 60672641\n",
      "Data columns (total 5 columns):\n",
      " #   Column    Dtype \n",
      "---  ------    ----- \n",
      " 0   고객ID      object\n",
      " 1   가맹점업종명    object\n",
      " 2   가맹점_광역시도  object\n",
      " 3   가맹점_시군구   object\n",
      " 4   승인건수      object\n",
      "dtypes: object(5)\n",
      "memory usage: 2.3+ GB\n"
     ]
    }
   ],
   "source": [
    "temp_card_21.info()"
   ]
  },
  {
   "cell_type": "code",
   "execution_count": 28,
   "id": "336208ae-d52c-43ff-9af2-6b43add905ef",
   "metadata": {},
   "outputs": [
    {
     "data": {
      "text/html": [
       "<div>\n",
       "<style scoped>\n",
       "    .dataframe tbody tr th:only-of-type {\n",
       "        vertical-align: middle;\n",
       "    }\n",
       "\n",
       "    .dataframe tbody tr th {\n",
       "        vertical-align: top;\n",
       "    }\n",
       "\n",
       "    .dataframe thead th {\n",
       "        text-align: right;\n",
       "    }\n",
       "</style>\n",
       "<table border=\"1\" class=\"dataframe\">\n",
       "  <thead>\n",
       "    <tr style=\"text-align: right;\">\n",
       "      <th></th>\n",
       "      <th>고객ID</th>\n",
       "      <th>가맹점업종명</th>\n",
       "      <th>가맹점_광역시도</th>\n",
       "      <th>가맹점_시군구</th>\n",
       "      <th>승인건수</th>\n",
       "    </tr>\n",
       "  </thead>\n",
       "  <tbody>\n",
       "    <tr>\n",
       "      <th>1688392</th>\n",
       "      <td>2800789394</td>\n",
       "      <td>서양음식</td>\n",
       "      <td>부산광역시</td>\n",
       "      <td>부산진구</td>\n",
       "      <td>5번이하</td>\n",
       "    </tr>\n",
       "    <tr>\n",
       "      <th>2933054</th>\n",
       "      <td>2800789394</td>\n",
       "      <td>일반한식</td>\n",
       "      <td>부산광역시</td>\n",
       "      <td>부산진구</td>\n",
       "      <td>5번이하</td>\n",
       "    </tr>\n",
       "    <tr>\n",
       "      <th>4121409</th>\n",
       "      <td>2801555204</td>\n",
       "      <td>제과점</td>\n",
       "      <td>부산광역시</td>\n",
       "      <td>해운대구</td>\n",
       "      <td>5번이하</td>\n",
       "    </tr>\n",
       "    <tr>\n",
       "      <th>4125788</th>\n",
       "      <td>2801555204</td>\n",
       "      <td>일반서적</td>\n",
       "      <td>대구광역시</td>\n",
       "      <td>수성구</td>\n",
       "      <td>5번이하</td>\n",
       "    </tr>\n",
       "    <tr>\n",
       "      <th>5178279</th>\n",
       "      <td>2801835265</td>\n",
       "      <td>슈퍼마켓</td>\n",
       "      <td>경상북도</td>\n",
       "      <td>영천시</td>\n",
       "      <td>5번이하</td>\n",
       "    </tr>\n",
       "    <tr>\n",
       "      <th>566821</th>\n",
       "      <td>2801881648</td>\n",
       "      <td>일반가구</td>\n",
       "      <td>경상북도</td>\n",
       "      <td>포항시 북구</td>\n",
       "      <td>5번이하</td>\n",
       "    </tr>\n",
       "    <tr>\n",
       "      <th>2234778</th>\n",
       "      <td>2801881648</td>\n",
       "      <td>슈퍼마켓</td>\n",
       "      <td>경상북도</td>\n",
       "      <td>포항시 북구</td>\n",
       "      <td>5번이하</td>\n",
       "    </tr>\n",
       "    <tr>\n",
       "      <th>116954</th>\n",
       "      <td>2802511760</td>\n",
       "      <td>가례서비스업</td>\n",
       "      <td>경상북도</td>\n",
       "      <td>구미시</td>\n",
       "      <td>5번이하</td>\n",
       "    </tr>\n",
       "    <tr>\n",
       "      <th>2372730</th>\n",
       "      <td>2802511760</td>\n",
       "      <td>종합병원</td>\n",
       "      <td>대구광역시</td>\n",
       "      <td>동구</td>\n",
       "      <td>5번이하</td>\n",
       "    </tr>\n",
       "    <tr>\n",
       "      <th>3598003</th>\n",
       "      <td>2802511760</td>\n",
       "      <td>인터넷P/G</td>\n",
       "      <td>서울특별시</td>\n",
       "      <td>구로구</td>\n",
       "      <td>5번이하</td>\n",
       "    </tr>\n",
       "  </tbody>\n",
       "</table>\n",
       "</div>"
      ],
      "text/plain": [
       "               고객ID  가맹점업종명 가맹점_광역시도 가맹점_시군구  승인건수\n",
       "1688392  2800789394    서양음식    부산광역시    부산진구  5번이하\n",
       "2933054  2800789394    일반한식    부산광역시    부산진구  5번이하\n",
       "4121409  2801555204     제과점    부산광역시    해운대구  5번이하\n",
       "4125788  2801555204    일반서적    대구광역시     수성구  5번이하\n",
       "5178279  2801835265    슈퍼마켓     경상북도     영천시  5번이하\n",
       "566821   2801881648    일반가구     경상북도  포항시 북구  5번이하\n",
       "2234778  2801881648    슈퍼마켓     경상북도  포항시 북구  5번이하\n",
       "116954   2802511760  가례서비스업     경상북도     구미시  5번이하\n",
       "2372730  2802511760    종합병원    대구광역시      동구  5번이하\n",
       "3598003  2802511760  인터넷P/G    서울특별시     구로구  5번이하"
      ]
     },
     "execution_count": 28,
     "metadata": {},
     "output_type": "execute_result"
    }
   ],
   "source": [
    "temp_card_21_sort = temp_card_21.sort_values(by=['고객ID'], ascending=[True])\n",
    "temp_card_21_sort.head(10)"
   ]
  },
  {
   "cell_type": "code",
   "execution_count": 35,
   "id": "8c07d2d2-99de-4633-9cf7-16e159cffa68",
   "metadata": {},
   "outputs": [
    {
     "data": {
      "text/html": [
       "<div>\n",
       "<style scoped>\n",
       "    .dataframe tbody tr th:only-of-type {\n",
       "        vertical-align: middle;\n",
       "    }\n",
       "\n",
       "    .dataframe tbody tr th {\n",
       "        vertical-align: top;\n",
       "    }\n",
       "\n",
       "    .dataframe thead th {\n",
       "        text-align: right;\n",
       "    }\n",
       "</style>\n",
       "<table border=\"1\" class=\"dataframe\">\n",
       "  <thead>\n",
       "    <tr style=\"text-align: right;\">\n",
       "      <th></th>\n",
       "      <th>고객ID</th>\n",
       "      <th>가맹점업종명</th>\n",
       "      <th>가맹점_광역시도</th>\n",
       "      <th>가맹점_시군구</th>\n",
       "      <th>승인건수</th>\n",
       "    </tr>\n",
       "  </thead>\n",
       "  <tbody>\n",
       "    <tr>\n",
       "      <th>6429999</th>\n",
       "      <td>9999998161</td>\n",
       "      <td>택시</td>\n",
       "      <td>대구광역시</td>\n",
       "      <td>수성구</td>\n",
       "      <td>5번초과 10번이하</td>\n",
       "    </tr>\n",
       "    <tr>\n",
       "      <th>31594109</th>\n",
       "      <td>9999998161</td>\n",
       "      <td>일반한식</td>\n",
       "      <td>대구광역시</td>\n",
       "      <td>서구</td>\n",
       "      <td>5번이하</td>\n",
       "    </tr>\n",
       "    <tr>\n",
       "      <th>6314344</th>\n",
       "      <td>9999998161</td>\n",
       "      <td>슈퍼마켓</td>\n",
       "      <td>대구광역시</td>\n",
       "      <td>달서구</td>\n",
       "      <td>5번이하</td>\n",
       "    </tr>\n",
       "    <tr>\n",
       "      <th>54841525</th>\n",
       "      <td>9999998161</td>\n",
       "      <td>제과점</td>\n",
       "      <td>대구광역시</td>\n",
       "      <td>서구</td>\n",
       "      <td>5번이하</td>\n",
       "    </tr>\n",
       "    <tr>\n",
       "      <th>11651656</th>\n",
       "      <td>9999998161</td>\n",
       "      <td>택시</td>\n",
       "      <td>대구광역시</td>\n",
       "      <td>수성구</td>\n",
       "      <td>10번초과 15번이하</td>\n",
       "    </tr>\n",
       "    <tr>\n",
       "      <th>30040187</th>\n",
       "      <td>9999998161</td>\n",
       "      <td>택시</td>\n",
       "      <td>대구광역시</td>\n",
       "      <td>수성구</td>\n",
       "      <td>5번이하</td>\n",
       "    </tr>\n",
       "    <tr>\n",
       "      <th>57268598</th>\n",
       "      <td>9999998161</td>\n",
       "      <td>농·축·수산품</td>\n",
       "      <td>대구광역시</td>\n",
       "      <td>서구</td>\n",
       "      <td>5번이하</td>\n",
       "    </tr>\n",
       "    <tr>\n",
       "      <th>60484885</th>\n",
       "      <td>9999998161</td>\n",
       "      <td>기타음료식품</td>\n",
       "      <td>대구광역시</td>\n",
       "      <td>서구</td>\n",
       "      <td>5번이하</td>\n",
       "    </tr>\n",
       "    <tr>\n",
       "      <th>28294344</th>\n",
       "      <td>9999998161</td>\n",
       "      <td>슈퍼마켓</td>\n",
       "      <td>대구광역시</td>\n",
       "      <td>서구</td>\n",
       "      <td>5번이하</td>\n",
       "    </tr>\n",
       "    <tr>\n",
       "      <th>59537590</th>\n",
       "      <td>9999998161</td>\n",
       "      <td>치과의원</td>\n",
       "      <td>대구광역시</td>\n",
       "      <td>서구</td>\n",
       "      <td>5번이하</td>\n",
       "    </tr>\n",
       "  </tbody>\n",
       "</table>\n",
       "</div>"
      ],
      "text/plain": [
       "                고객ID   가맹점업종명 가맹점_광역시도 가맹점_시군구         승인건수\n",
       "6429999   9999998161       택시    대구광역시     수성구   5번초과 10번이하\n",
       "31594109  9999998161     일반한식    대구광역시      서구         5번이하\n",
       "6314344   9999998161     슈퍼마켓    대구광역시     달서구         5번이하\n",
       "54841525  9999998161      제과점    대구광역시      서구         5번이하\n",
       "11651656  9999998161       택시    대구광역시     수성구  10번초과 15번이하\n",
       "30040187  9999998161       택시    대구광역시     수성구         5번이하\n",
       "57268598  9999998161  농·축·수산품    대구광역시      서구         5번이하\n",
       "60484885  9999998161   기타음료식품    대구광역시      서구         5번이하\n",
       "28294344  9999998161     슈퍼마켓    대구광역시      서구         5번이하\n",
       "59537590  9999998161     치과의원    대구광역시      서구         5번이하"
      ]
     },
     "execution_count": 35,
     "metadata": {},
     "output_type": "execute_result"
    }
   ],
   "source": [
    "temp_card_21_sort = temp_card_21.sort_values(by=['고객ID'], ascending=[False])\n",
    "temp_card_21_sort.head(10)"
   ]
  },
  {
   "cell_type": "code",
   "execution_count": 31,
   "id": "fc5b57d1-a534-4a07-81f0-9cd5fdfbc22f",
   "metadata": {},
   "outputs": [
    {
     "name": "stdout",
     "output_type": "stream",
     "text": [
      "<class 'pandas.core.frame.DataFrame'>\n",
      "RangeIndex: 20835992 entries, 0 to 20835991\n",
      "Data columns (total 13 columns):\n",
      " #   Column    Dtype \n",
      "---  ------    ----- \n",
      " 0   기준년월      int32 \n",
      " 1   고객ID      object\n",
      " 2   연령대       object\n",
      " 3   성별        object\n",
      " 4   고객등급      object\n",
      " 5   자택_시도     object\n",
      " 6   자택_시군구    object\n",
      " 7   수신_요구불예금  int32 \n",
      " 8   수신_거치식예금  int32 \n",
      " 9   수신_적립식예금  int32 \n",
      " 10  수신_펀드     int32 \n",
      " 11  수신_외화예금   int32 \n",
      " 12  대출금액      int32 \n",
      "dtypes: int32(7), object(6)\n",
      "memory usage: 1.5+ GB\n"
     ]
    }
   ],
   "source": [
    "customer_21.info()"
   ]
  },
  {
   "cell_type": "code",
   "execution_count": 32,
   "id": "1352d30a-13a5-4003-a822-1af85495a9b3",
   "metadata": {},
   "outputs": [
    {
     "data": {
      "text/plain": [
       "수신_거치식예금\n",
       "0           19355039\n",
       "10000000      148046\n",
       "20000000       91533\n",
       "50000000       83356\n",
       "30000000       71794\n",
       "              ...   \n",
       "7900000          911\n",
       "97000000         908\n",
       "9800000          901\n",
       "9900000          898\n",
       "99000000         698\n",
       "Name: count, Length: 190, dtype: int64"
      ]
     },
     "execution_count": 32,
     "metadata": {},
     "output_type": "execute_result"
    }
   ],
   "source": [
    "customer_21['수신_거치식예금'].value_counts()"
   ]
  },
  {
   "cell_type": "code",
   "execution_count": 34,
   "id": "1ea2bf6a-8987-4fdb-b190-ede289d81cb1",
   "metadata": {},
   "outputs": [],
   "source": [
    "# 시각화 -> 의미있게 하려면 0을 지우고 보자"
   ]
  },
  {
   "cell_type": "code",
   "execution_count": 33,
   "id": "36b852a2-408b-481e-946a-dc29fea85559",
   "metadata": {},
   "outputs": [
    {
     "data": {
      "text/plain": [
       "0                  0\n",
       "1           10000000\n",
       "2           30000000\n",
       "3                  0\n",
       "4                  0\n",
       "              ...   \n",
       "20835987           0\n",
       "20835988           0\n",
       "20835989           0\n",
       "20835990           0\n",
       "20835991           0\n",
       "Name: 수신_거치식예금, Length: 20835992, dtype: int32"
      ]
     },
     "execution_count": 33,
     "metadata": {},
     "output_type": "execute_result"
    }
   ],
   "source": [
    "# 0을 지우자....\n",
    "customer_21['수신_거치식예금']"
   ]
  },
  {
   "cell_type": "code",
   "execution_count": null,
   "id": "de22ddc0-7329-4af3-8e00-9c25eb532d4a",
   "metadata": {},
   "outputs": [],
   "source": []
  },
  {
   "cell_type": "code",
   "execution_count": null,
   "id": "9eaffaa5-ab7b-4f0b-997c-38542fa5bb14",
   "metadata": {},
   "outputs": [],
   "source": []
  },
  {
   "cell_type": "code",
   "execution_count": null,
   "id": "1bdf01de-d0e5-424d-8be7-b42b0c58803e",
   "metadata": {},
   "outputs": [],
   "source": []
  },
  {
   "cell_type": "code",
   "execution_count": null,
   "id": "47bdffa4-bed7-4b43-852a-6f484d73f29b",
   "metadata": {},
   "outputs": [],
   "source": []
  },
  {
   "cell_type": "code",
   "execution_count": null,
   "id": "cba2dd84-19ec-4ab1-bd4a-75143b96fc87",
   "metadata": {},
   "outputs": [],
   "source": []
  },
  {
   "cell_type": "code",
   "execution_count": null,
   "id": "e758c06f-8a25-4188-a5b4-caf700275027",
   "metadata": {},
   "outputs": [],
   "source": []
  }
 ],
 "metadata": {
  "kernelspec": {
   "display_name": "Python 3 (ipykernel)",
   "language": "python",
   "name": "python3"
  },
  "language_info": {
   "codemirror_mode": {
    "name": "ipython",
    "version": 3
   },
   "file_extension": ".py",
   "mimetype": "text/x-python",
   "name": "python",
   "nbconvert_exporter": "python",
   "pygments_lexer": "ipython3",
   "version": "3.12.6"
  }
 },
 "nbformat": 4,
 "nbformat_minor": 5
}
