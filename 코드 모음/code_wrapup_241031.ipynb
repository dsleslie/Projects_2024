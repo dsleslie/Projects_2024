{
 "cells": [
  {
   "cell_type": "markdown",
   "id": "49643cf7-63fb-4d70-8ad8-6fa01a287c4e",
   "metadata": {},
   "source": [
    "# 데이터 불러오기"
   ]
  },
  {
   "cell_type": "code",
   "execution_count": 12,
   "id": "446cd38a-9926-412d-aa68-682c71c5521e",
   "metadata": {},
   "outputs": [],
   "source": [
    "import pandas as pd\n",
    "DATA_PATH = './dataset/CARD/'\n",
    "DATA_PATH_2 = './dataset/CUSTOMER/'\n",
    "#customer_21 = pd.read_csv(DATA_PATH_2 + 'customer_21.csv', encoding=\"euc-kr\")\n",
    "customer_22 = pd.read_csv(DATA_PATH_2 + 'customer_22.csv', encoding=\"euc-kr\")\n",
    "#customer_23 = pd.read_csv(DATA_PATH_2 + 'customer_23.csv', encoding=\"euc-kr\")"
   ]
  },
  {
   "cell_type": "markdown",
   "id": "b934e804-2325-4117-a80f-01c965c7ec23",
   "metadata": {},
   "source": [
    "# 필요 라이브러리"
   ]
  },
  {
   "cell_type": "code",
   "execution_count": 1,
   "id": "c065c6a9-b260-4c93-a5a9-18ff2f0adb78",
   "metadata": {},
   "outputs": [],
   "source": [
    "import pandas as pd\n",
    "from pandas import DataFrame\n",
    "import numpy as np\n",
    "import seaborn as sns\n",
    "import matplotlib.pyplot as plt\n",
    "import statsmodels.api as sm\n",
    "#from sklearn.model_selection import train_test_split\n",
    "import warnings\n",
    "warnings.filterwarnings(\"ignore\")\n",
    "import random\n",
    "\n",
    "#from ggplot import *\n",
    "#from scipy.stats import logistic\n",
    "#from sklearn.metrics import roc_curve\n",
    "#from sklearn.metrics import roc_auc_score\n",
    "#from sklearn.linear_model import LogisticRegression\n",
    "#from sklearn.metrics import confusion_matrix, mean_squared_error\n",
    "#from sklearn.model_selection import train_test_split\n",
    "#from sklearn import preprocessing\n",
    "#from sklearn.neighbors import KNeighborsClassifier\n",
    "#from sklearn.naive_bayes import *\n",
    "#from sklearn.tree import DecisionTreeClassifier, DecisionTreeRegressor, export_graphviz\n",
    "#import graphviz\n",
    "#from sklearn.ensemble import RandomForestRegressor, RandomForestClassifier\n",
    "#from sklearn.svm import SVC, SVR\n",
    "\n",
    "# 한글 폰트 실행\n",
    "from matplotlib import rcParams\n",
    "from matplotlib import font_manager,rc\n",
    "rcParams['axes.unicode_minus']=False\n",
    "plt.rcParams['font.family']='NanumGothic'\n",
    "font_name=font_manager.FontProperties(fname='c:/Windows/Fonts/malgun.ttf').get_name()\n",
    "rc('font',family=font_name)\n"
   ]
  },
  {
   "cell_type": "markdown",
   "id": "7c889d07-1016-4de9-85a9-0b3dbb3244d2",
   "metadata": {},
   "source": [
    "# 분석에 도움주는 주요 기본 함수 정의\n",
    "## 메모리 줄여주는 함수 (일반)"
   ]
  },
  {
   "cell_type": "markdown",
   "id": "526fd600-1b89-45ad-85a1-fc6c47f4cab3",
   "metadata": {},
   "source": [
    "## 시간체크함수"
   ]
  },
  {
   "cell_type": "code",
   "execution_count": 3,
   "id": "9db34316-5023-490d-b13d-ae6e605986f5",
   "metadata": {},
   "outputs": [],
   "source": [
    "import time\n",
    "\n",
    "def execution_time(func):\n",
    "    def wrapper(*args, **kwargs):\n",
    "        start_time = time.time()\n",
    "        result = func(*args, **kwargs)\n",
    "        end_time = time.time()\n",
    "        elapsed_time = end_time - start_time\n",
    "        hours, rem = divmod(elapsed_time, 3600)\n",
    "        minutes, seconds = divmod(rem, 60)\n",
    "        print(f\"Execution time for {func.__name__}: {int(hours)}h {int(minutes)}m {seconds:.2f}s\")\n",
    "        return result\n",
    "    return wrapper"
   ]
  },
  {
   "cell_type": "code",
   "execution_count": 2,
   "id": "05737935-f5bd-46a3-9908-3ef4fb6dfda6",
   "metadata": {},
   "outputs": [],
   "source": [
    "import pandas as pd \n",
    "import numpy as np\n",
    "\n",
    "def reduce_mem_usage(df, float16_as32=True):\n",
    "    # memory_usage()는 데이터프레임의 각 열의 메모리 사용량을 계산하고, sum은 그 값을 합산합니다. B -> KB -> MB로 변환합니다.\n",
    "    start_mem = df.memory_usage().sum() / 1024**2\n",
    "    print('데이터프레임의 초기 메모리 사용량은 {:.2f} MB입니다.'.format(start_mem))\n",
    "\n",
    "    for col in df.columns:  # 각 열의 이름을 반복합니다.\n",
    "        col_type = df[col].dtype  # 열의 데이터 타입을 가져옵니다.\n",
    "        if col_type != object and str(col_type) != 'category':  # 객체 타입이 아닌 수치형 변수만 처리합니다.\n",
    "            c_min, c_max = df[col].min(), df[col].max()  # 해당 열의 최소값과 최대값을 계산합니다.\n",
    "            if str(col_type)[:3] == 'int':  # 정수형 변수일 경우 (int8, int16, int32, int64 모두 포함)\n",
    "                # 이 열의 값 범위가 int8의 범위에 있을 경우 타입을 int8로 변환합니다. (-128부터 127까지)\n",
    "                if c_min > np.iinfo(np.int8).min and c_max < np.iinfo(np.int8).max:\n",
    "                    df[col] = df[col].astype(np.int8)\n",
    "                # 이 열의 값 범위가 int16의 범위에 있을 경우 타입을 int16으로 변환합니다. (-32,768부터 32,767까지)\n",
    "                elif c_min > np.iinfo(np.int16).min and c_max < np.iinfo(np.int16).max:\n",
    "                    df[col] = df[col].astype(np.int16)\n",
    "                # 이 열의 값 범위가 int32의 범위에 있을 경우 타입을 int32로 변환합니다. (-2,147,483,648부터 2,147,483,647까지)\n",
    "                elif c_min > np.iinfo(np.int32).min and c_max < np.iinfo(np.int32).max:\n",
    "                    df[col] = df[col].astype(np.int32)\n",
    "                # 이 열의 값 범위가 int64의 범위에 있을 경우 타입을 int64로 변환합니다. (-9,223,372,036,854,775,808부터 9,223,372,036,854,775,807까지)\n",
    "                elif c_min > np.iinfo(np.int64).min and c_max < np.iinfo(np.int64).max:\n",
    "                    df[col] = df[col].astype(np.int64)\n",
    "            else:  # 실수형일 경우\n",
    "                # 값이 float16의 범위에 있을 경우 타입을 변환합니다. 더 높은 정밀도가 필요하면 float32를 고려합니다.\n",
    "                if c_min > np.finfo(np.float16).min and c_max < np.finfo(np.float16).max:\n",
    "                    if float16_as32:  # 더 높은 정밀도가 필요하면 float32를 선택할 수 있습니다.\n",
    "                        df[col] = df[col].astype(np.float32)\n",
    "                    else:\n",
    "                        df[col] = df[col].astype(np.float16)\n",
    "                # 값이 float32의 범위에 있을 경우 타입을 float32로 변환합니다.\n",
    "                elif c_min > np.finfo(np.float32).min and c_max < np.finfo(np.float32).max:\n",
    "                    df[col] = df[col].astype(np.float32)\n",
    "                # 값이 float64의 범위에 있을 경우 타입을 float64로 변환합니다.\n",
    "                else:\n",
    "                    df[col] = df[col].astype(np.float64)\n",
    "    # 최종 메모리 사용량을 계산합니다.\n",
    "    end_mem = df.memory_usage().sum() / 1024**2\n",
    "    print('최적화 후 데이터프레임의 메모리 사용량은: {:.2f} MB입니다.'.format(end_mem))\n",
    "    # 초기 메모리 사용량과 비교하여 몇 퍼센트 감소했는지 계산합니다.\n",
    "    print('메모리 사용량이 {:.1f}% 감소했습니다.'.format(100 * (start_mem - end_mem) / start_mem))\n",
    "\n",
    "    return df"
   ]
  },
  {
   "cell_type": "markdown",
   "id": "625fd90b-acb7-45ca-9644-3d7b51357133",
   "metadata": {},
   "source": [
    "## 데이터 타입 문자열로 바꿔주는 함수"
   ]
  },
  {
   "cell_type": "code",
   "execution_count": 38,
   "id": "8ab0b5d2-d57f-4711-933b-c33eb28efed2",
   "metadata": {},
   "outputs": [],
   "source": [
    "@execution_time\n",
    "def clean_df(data):\n",
    "    data['고객ID'] = data['고객ID'].astype(str)\n",
    "    data = reduce_mem_usage(data)\n",
    "    print(data.info())\n",
    "    return data"
   ]
  },
  {
   "cell_type": "code",
   "execution_count": 39,
   "id": "b9f08162-43a3-47df-9f36-0adc7b6a61d9",
   "metadata": {},
   "outputs": [
    {
     "name": "stdout",
     "output_type": "stream",
     "text": [
      "데이터프레임의 초기 메모리 사용량은 2140.22 MB입니다.\n",
      "최적화 후 데이터프레임의 메모리 사용량은: 1564.01 MB입니다.\n",
      "메모리 사용량이 26.9% 감소했습니다.\n",
      "<class 'pandas.core.frame.DataFrame'>\n",
      "RangeIndex: 21578686 entries, 0 to 21578685\n",
      "Data columns (total 13 columns):\n",
      " #   Column    Dtype \n",
      "---  ------    ----- \n",
      " 0   기준년월      int32 \n",
      " 1   고객ID      object\n",
      " 2   연령대       object\n",
      " 3   성별        object\n",
      " 4   고객등급      object\n",
      " 5   자택_시도     object\n",
      " 6   자택_시군구    object\n",
      " 7   수신_요구불예금  int32 \n",
      " 8   수신_거치식예금  int32 \n",
      " 9   수신_적립식예금  int32 \n",
      " 10  수신_펀드     int32 \n",
      " 11  수신_외화예금   int32 \n",
      " 12  대출금액      int32 \n",
      "dtypes: int32(7), object(6)\n",
      "memory usage: 1.5+ GB\n",
      "None\n",
      "Execution time for clean_df: 0h 0m 8.28s\n"
     ]
    }
   ],
   "source": [
    "customer_22=clean_df(customer_22)"
   ]
  },
  {
   "cell_type": "markdown",
   "id": "c64bdd9a-f038-429d-9091-c07e80294c28",
   "metadata": {},
   "source": [
    "## 고객연령대 나누는 함수"
   ]
  },
  {
   "cell_type": "code",
   "execution_count": 47,
   "id": "81d4bbc4-d479-4168-8a2a-d99e756e1985",
   "metadata": {},
   "outputs": [],
   "source": [
    "def customer_generation(df, feature): # feature에 뽑고 싶은 연령대를 입력한다. \"연령대\"\n",
    "    df = df[df['연령대'].isin([f'{feature}'])]\n",
    "    print(f'{feature}만 추출한 데이터프레임입니다.')\n",
    "    print(df.head())\n",
    "    return df"
   ]
  },
  {
   "cell_type": "code",
   "execution_count": 48,
   "id": "26237817-8f11-4614-90b3-37dbc910e993",
   "metadata": {},
   "outputs": [
    {
     "name": "stdout",
     "output_type": "stream",
     "text": [
      "40대만 추출한 데이터프레임입니다.\n",
      "       기준년월        고객ID  연령대 성별  고객등급  자택_시도 자택_시군구  수신_요구불예금  수신_거치식예금  \\\n",
      "712  202212  9997377777  40대  남  일반등급  서울특별시    강북구         0         0   \n",
      "713  202212  9997372016  40대  남  일반등급  대구광역시     동구   7600000         0   \n",
      "714  202212  9997367955  40대  여  일반등급   경상북도    영주시    200000         0   \n",
      "715  202212  9997366851  40대  여  일반등급  대구광역시    수성구    300000         0   \n",
      "716  202212  9997365476  40대  여  일반등급  대구광역시     중구         0         0   \n",
      "\n",
      "     수신_적립식예금  수신_펀드  수신_외화예금  대출금액  \n",
      "712         0      0        0     0  \n",
      "713         0      0        0     0  \n",
      "714         0      0        0     0  \n",
      "715         0      0        0     0  \n",
      "716         0      0        0     0  \n"
     ]
    }
   ],
   "source": [
    "customer_22_40=customer_generation(customer_22,\"40대\")"
   ]
  },
  {
   "cell_type": "code",
   "execution_count": 24,
   "id": "1b012d32-982d-4a7c-8987-084b2965d186",
   "metadata": {},
   "outputs": [
    {
     "data": {
      "text/plain": [
       "pandas.core.frame.DataFrame"
      ]
     },
     "execution_count": 24,
     "metadata": {},
     "output_type": "execute_result"
    }
   ],
   "source": [
    "type(customer_22_40)"
   ]
  },
  {
   "cell_type": "markdown",
   "id": "90646991-90d0-4530-9adc-796324f87864",
   "metadata": {},
   "source": [
    "## 고객연령대 나눈 후, ID 중복없이 추출함수"
   ]
  },
  {
   "cell_type": "code",
   "execution_count": 22,
   "id": "91b91379-86ca-4bfd-8e1a-a346a6d30629",
   "metadata": {},
   "outputs": [],
   "source": [
    "def customer_generation_id(df):\n",
    "    selected_df = df.loc[:, ['고객ID', '연령대']]\n",
    "    df_edit = pd.DataFrame(selected_df['고객ID'].unique(), columns=['고객ID'])\n",
    "    print(df_edit.head())\n",
    "    return df_edit"
   ]
  },
  {
   "cell_type": "code",
   "execution_count": 25,
   "id": "aee5168a-6999-49ee-87f0-bd5c046405d9",
   "metadata": {},
   "outputs": [
    {
     "name": "stdout",
     "output_type": "stream",
     "text": [
      "         고객ID\n",
      "0  9997377777\n",
      "1  9997372016\n",
      "2  9997367955\n",
      "3  9997366851\n",
      "4  9997365476\n"
     ]
    }
   ],
   "source": [
    "customer_22_40_id = customer_generation_id(customer_22_40)"
   ]
  },
  {
   "cell_type": "code",
   "execution_count": 26,
   "id": "f60994af-dc2c-4907-bddb-2a1e42fe1ae8",
   "metadata": {},
   "outputs": [
    {
     "data": {
      "text/plain": [
       "pandas.core.frame.DataFrame"
      ]
     },
     "execution_count": 26,
     "metadata": {},
     "output_type": "execute_result"
    }
   ],
   "source": [
    "type(customer_22_40_id)"
   ]
  },
  {
   "cell_type": "markdown",
   "id": "15a86b4c-c572-4ed9-b24e-46faf8f046cb",
   "metadata": {},
   "source": [
    "## 고객 연령대 나누고, 바로 id를 DataFrame으로 추출하는 함수\n",
    "- feature에 연령대 명을 정확히 입력하면, 해댱하는 id를 바로 추출할 수 있다"
   ]
  },
  {
   "cell_type": "code",
   "execution_count": 32,
   "id": "c6d9dcf4-6e1a-419b-9a68-3dc22737353f",
   "metadata": {},
   "outputs": [],
   "source": [
    "def customer_gen_id(df, feature=None): # feature에 뽑고 싶은 연령대를 입력한다. 예: \"60대이상\", \"40대\"\n",
    "    df_filtered = df[df['연령대'].isin([f'{feature}'])]\n",
    "    selected_df = df_filtered.loc[:, ['고객ID', '연령대']]\n",
    "    df_edit = pd.DataFrame(selected_df['고객ID'].unique(), columns=['고객ID'])\n",
    "    print(df_edit.head())\n",
    "    return df_edit"
   ]
  },
  {
   "cell_type": "code",
   "execution_count": 34,
   "id": "2e2d9f64-f131-4665-b242-8e7aee83a681",
   "metadata": {},
   "outputs": [
    {
     "name": "stdout",
     "output_type": "stream",
     "text": [
      "         고객ID\n",
      "0  9997377777\n",
      "1  9997372016\n",
      "2  9997367955\n",
      "3  9997366851\n",
      "4  9997365476\n"
     ]
    }
   ],
   "source": [
    "cu_22_40=customer_gen_id(customer_22, \"40대\")"
   ]
  },
  {
   "cell_type": "code",
   "execution_count": 35,
   "id": "2e389ce9-8bde-4ae9-b01a-d70cf7dd702b",
   "metadata": {},
   "outputs": [
    {
     "data": {
      "text/plain": [
       "pandas.core.frame.DataFrame"
      ]
     },
     "execution_count": 35,
     "metadata": {},
     "output_type": "execute_result"
    }
   ],
   "source": [
    "type(cu_22_40)"
   ]
  },
  {
   "cell_type": "markdown",
   "id": "05694bcf-b706-482f-983f-929bebc513cb",
   "metadata": {},
   "source": [
    "## 가맹업종명 재분류하는 함수"
   ]
  },
  {
   "cell_type": "code",
   "execution_count": 36,
   "id": "4304fc71-8e90-4b73-a669-cd388a56ce64",
   "metadata": {},
   "outputs": [],
   "source": [
    "@execution_time\n",
    "def rename_category(df):\n",
    "    mapping = {\n",
    "        '교육/학원': ['보습학원', '예·체능계학원', '외국어학원', '기타 교육기관', '기능학원', '학원', '학습지교육', '초중고교육기관'],\n",
    "        '미용': ['미용원', '피부미용실'],\n",
    "        '스포츠/레저': ['기타레져업소', '스포츠·레져용품', '스포츠의류', '스크린골프', '헬스클럽', '골프경기장', '종합레져타운', '골프용품 전문점', '골프연습장', '안마/스포츠마사지', '레져업소', '수 영 장'],\n",
    "        '여행/교통': ['기타숙박업', '철도', '특급호텔', '1급 호텔', '렌터카', '항공사', '콘도', '2급 호텔', '관광여행', '여객선', '고속버스', '택시'],\n",
    "        '외식': ['일반한식', '주점', '서양음식', '중국식', '일식·회집', '한정식', '칵테일바', '갈비전문점'],\n",
    "        '대형마트': ['슈퍼마켓', '농협하나로클럽', '농,축협직영매장', '대형할인점'],\n",
    "        '백화점': ['면 세 점', '자사카드발행백화점'],\n",
    "        '편의점': ['편 의 점'],\n",
    "        '음식료품': ['정육점', '스넥', '농·축·수산품', '농축수산가공품', '주류판매점', '홍삼제품', '인삼제품', '기타건강식품'],\n",
    "        '카페/베이커리': ['기타음료식품', '제과점'],\n",
    "        '의료/보험': ['약 국', '의 원', '한 의 원', '치과의원', '기타의료기관 및 기타의료기기', '한약방', '한방병원', '생명보험', '건강진단', '기타보험', '병 원(응급실운영)', '치과병원', '동물병원', '종합병원', '손해보험'],\n",
    "        '주유': ['SK주유소', '쌍용S-OIL', 'GS주유소', '주유소', 'SK가스충전소', '현대정유(오일뱅크)', 'GS가스충전소', '쌍용S-OIL가스충전소', '현대정유가스충전소', 'E1가스충전소', '전기차충전소'],\n",
    "        '문화생활': ['문화취미기타', '영화관', '티켓'],\n",
    "        '이동통신요금': ['이동통신요금'],\n",
    "        '반려동물': ['애완동물'],\n",
    "        '간편결제': ['인터넷P/G'],\n",
    "        '기타': ['전자상거래상품권전문판매', '캐주얼의류', 'CATV', '택시회사', '위성방송', '음반영상물', '제 화','주방용구', '연 쇄 점', '액세서리', '전문서적', '주차장', '민예·공예품', '건축용 요업제품', '단란주점', '옷감·직물', '자동차시트·타이어', '독서실', '농기계', '조명기구', '세차장', '사무서비스', '컴퓨터', '가 방', '보일러·펌프·샷시', '카페트,커튼,천막,지물', '자동차부품', '자동차정비', '기타유통업', '이륜차판매', '카인테리어', '화물운송', '내의판매', '목재·석재·철물', '기타 사무용품', '기타가구', '신 발', '비영리/비대상', '기타대인서비스', '기타전기제품', 'DP&E', '주방용식기', '가타자동차서비스', '기타농업관련', '구내매점(국가기관등)', '아동의류', '이용원', '조세서비스', '기념품점', '유흥주점', '통신기기', '화원', '화장품', '기타잡화', '유아원', 'LPG취급점', '페인트', '출판 및 인쇄물', '귀금속', '문구용품', '위탁급식업', '비료,사료,종자', '침구·수예점', '당구장', '가전제품', '인터넷Mall', '가정용품수리', '사무·통신기기수리', '안경', '세탁소', '사우나', '일반서적', '노 래 방', '기계공구',  '완구점', '기타의류', '미곡상', '기타용역서비스', '기타수리서비스', '기타건축자재', '일반가구', '사무용 OA기기', '인테리어전문', '가례서비스업', '시 계', '비영리/대상', '윤활유전문판매', '정수기', '공공요금대행서비스/소득공제비대상', '화방·표구점', '볼 링 장', '인터넷종합Mall', '기타 전문점', '통신판매업1', '종합용역', '전자상거래상품권', '보관및 창고업', '유류판매', '업종미등록', '통신서비스/소득공제비대상', '기타서적문구', '수족관', '공공요금대행서비스/소득공제대상', '상품권전문판매', '혼례서비스업', '냉열기기', '비씨카드 정산용(할인)', '일반(통신판매)', '기타4', '기타1', '부동산중개·임대', 'CATV홈쇼핑', '소프트웨어', '의료용품', '정장', '맞춤복점', '단체복', '상 품 권', 'PG상품권', '비씨카드 정산용가맹점',  '미용재료']\n",
    "    }\n",
    "    for category, values in mapping.items():\n",
    "        df['가맹점업종명'] = df['가맹점업종명'].replace(values, category)\n",
    "    print(df['가맹점업종명'].unique())\n",
    "    return df"
   ]
  },
  {
   "cell_type": "code",
   "execution_count": 37,
   "id": "02da86c8-04b7-43f3-8859-df1b0ebf71c2",
   "metadata": {},
   "outputs": [
    {
     "name": "stdout",
     "output_type": "stream",
     "text": [
      "['외식' '기타' '미용' '스포츠/레저' '의료/보험' '여행/교통' '카페/베이커리' '주유' '대형마트' '음식료품'\n",
      " '편의점' '교육/학원' '문화생활' '간편결제' '반려동물' '백화점' '이동통신요금']\n"
     ]
    }
   ],
   "source": [
    "import pandas as pd\n",
    "DATA_PATH = './dataset/CARD/'\n",
    "DATA_PATH_2 = './dataset/CUSTOMER/'\n",
    "#customer_21 = pd.read_csv(DATA_PATH_2 + 'customer_21.csv', encoding=\"euc-kr\")\n",
    "customer_22 = pd.read_csv(DATA_PATH_2 + 'customer_22.csv', encoding=\"euc-kr\")\n",
    "#customer_23 = pd.read_csv(DATA_PATH_2 + 'customer_23.csv', encoding=\"euc-kr\")\n",
    "card_22 = pd.read_csv(DATA_PATH + 'card_22.csv', encoding=\"euc-kr\")\n",
    "\n",
    "ca_22 = rename_category(card_22)"
   ]
  },
  {
   "cell_type": "markdown",
   "id": "d9d9137b-856a-4da4-9e9c-e4b30176ebe8",
   "metadata": {},
   "source": [
    "# 정제한 card, customer 합치는 함수"
   ]
  },
  {
   "cell_type": "code",
   "execution_count": 53,
   "id": "d4d2543b-25b3-4d33-91c8-8010f61f53d6",
   "metadata": {},
   "outputs": [],
   "source": [
    "def join(df1, df2, key, way): # merge할 두 데이터를 df1, df2에 쓴다. key에 join 할 컬럼 이름 쓴다. way에는 조인 방식 쓴다.\n",
    "    df_joined= pd.merge(df1, df2, on=f'{key}', how=f'{way}')\n",
    "    print(type(df_joined))\n",
    "    print(df_joined.head(3))\n",
    "    #card_customer_22_40_id.to_csv('cc_22_40.csv', index=False, encoding='utf-8-sig')\n",
    "    return df_joined"
   ]
  },
  {
   "cell_type": "code",
   "execution_count": 54,
   "id": "68969eca-0547-4c1a-88d1-638d26734580",
   "metadata": {},
   "outputs": [
    {
     "name": "stdout",
     "output_type": "stream",
     "text": [
      "<class 'pandas.core.frame.DataFrame'>\n",
      "     거래년월        고객ID 가맹점업종명 가맹점_광역시도 가맹점_시군구  승인건수   승인금액\n",
      "0  202212  5946674163     외식     경상북도     영천시  5번이하  80000\n",
      "1  202212  7605672934     외식     경상북도     영천시  5번이하  60000\n",
      "2  202212  7652171123     외식     경상북도     영천시  5번이하  50000\n"
     ]
    }
   ],
   "source": [
    "cc_22_40 = join(ca_22, cu_22_40, \"고객ID\", \"inner\")"
   ]
  },
  {
   "cell_type": "markdown",
   "id": "a52734d4-dca7-43ae-840e-3f1523711815",
   "metadata": {},
   "source": [
    "## 원하는 연령대, 컬럼들만 뽑아 dataframe으로 만드는 함수"
   ]
  },
  {
   "cell_type": "code",
   "execution_count": 55,
   "id": "d87a92b6-e01f-46fe-b3ed-6c0b15a73e2c",
   "metadata": {},
   "outputs": [],
   "source": [
    "def slicing(df,generation=None,feature=None): # feature에 뽑고 싶은 연령대를 입력한다. 예: \"60대이상\", \"40대\"\n",
    "    df_filtered = df[df['연령대'].isin([f'{generation}'])]\n",
    "    selected_df = df_filtered.loc[:, [f'[{feature}', '연령대']]\n",
    "    df_edit = pd.DataFrame(selected_df['고객ID'].unique(), columns=['고객ID'])\n",
    "    print(type(df_edit))\n",
    "    print(df_edit.head())\n",
    "    return df_edit"
   ]
  },
  {
   "cell_type": "code",
   "execution_count": null,
   "id": "fa288906-3e2c-452b-9626-ae918353d31f",
   "metadata": {},
   "outputs": [],
   "source": [
    "slicing(customer_22, \"40대\", \"고\")s"
   ]
  },
  {
   "cell_type": "code",
   "execution_count": null,
   "id": "f7e855d8-a0ce-4b7c-a826-10c76e3a52a2",
   "metadata": {},
   "outputs": [],
   "source": [
    "def slicing(df, generation=None, feature=None):  \n",
    "    # generation과 feature가 단일 값일 경우 리스트로 변환\n",
    "    if isinstance(generation, str):  \n",
    "        generation = [generation]\n",
    "    if isinstance(feature, str):  \n",
    "        feature = [feature]\n",
    "    \n",
    "    # generation 필터링 (여러 값을 받을 수 있도록 isin 사용)\n",
    "    df_filtered = df[df['연령대'].isin(generation)]\n",
    "    \n",
    "    # feature가 여러 개일 수 있으므로 isin을 사용하여 필터링\n",
    "    selected_df = df_filtered.loc[:, feature + ['연령대']]  # feature 리스트와 '연령대' 추가\n",
    "\n",
    "    # 고객ID의 고유값만 선택하여 DataFrame 생성\n",
    "    df_edit = pd.DataFrame(selected_df['고객ID'].unique(), columns=['고객ID'])\n",
    "    \n",
    "    print(type(df_edit))\n",
    "    print(df_edit.head())\n",
    "    return df_edit\n",
    "\n",
    "# 함수 호출 예제\n",
    "# generation과 feature에 여러 값을 리스트로 전달\n",
    "df_result = slicing(customer_22, generation=[\"40대\", \"50대\"], feature=[\"성별\", \"고객등급\"])\n",
    "print(df_result.head())\n"
   ]
  },
  {
   "cell_type": "code",
   "execution_count": null,
   "id": "2273caaa-4424-499e-af33-a673bfef1bf7",
   "metadata": {},
   "outputs": [],
   "source": []
  },
  {
   "cell_type": "code",
   "execution_count": null,
   "id": "f75d9ed5-0fd9-4cb3-ac2b-bcbd077d98a8",
   "metadata": {},
   "outputs": [],
   "source": []
  },
  {
   "cell_type": "code",
   "execution_count": null,
   "id": "dfb6b54c-3a7d-4c63-b4cf-708aedc29186",
   "metadata": {},
   "outputs": [],
   "source": []
  },
  {
   "cell_type": "code",
   "execution_count": null,
   "id": "a55a2585-1059-4b49-9ab3-301ad167172a",
   "metadata": {},
   "outputs": [],
   "source": []
  },
  {
   "cell_type": "code",
   "execution_count": null,
   "id": "ff3e6a46-be3c-4d12-ae0c-4c8eb6dc3a95",
   "metadata": {},
   "outputs": [],
   "source": []
  }
 ],
 "metadata": {
  "kernelspec": {
   "display_name": "Python 3 (ipykernel)",
   "language": "python",
   "name": "python3"
  },
  "language_info": {
   "codemirror_mode": {
    "name": "ipython",
    "version": 3
   },
   "file_extension": ".py",
   "mimetype": "text/x-python",
   "name": "python",
   "nbconvert_exporter": "python",
   "pygments_lexer": "ipython3",
   "version": "3.12.6"
  }
 },
 "nbformat": 4,
 "nbformat_minor": 5
}
