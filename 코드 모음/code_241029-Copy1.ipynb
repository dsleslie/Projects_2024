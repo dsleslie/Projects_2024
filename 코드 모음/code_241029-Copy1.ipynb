{
 "cells": [
  {
   "cell_type": "code",
   "execution_count": 3,
   "id": "b57d8055-135b-4f3d-934c-59b7d67c4720",
   "metadata": {},
   "outputs": [],
   "source": [
    "import pandas as pd\n",
    "from pandas import DataFrame\n",
    "import numpy as np\n",
    "import seaborn as sns\n",
    "import matplotlib.pyplot as plt\n",
    "import statsmodels.api as sm\n",
    "from sklearn.model_selection import train_test_split\n",
    "import warnings\n",
    "warnings.filterwarnings(\"ignore\")\n",
    "import random\n",
    "\n",
    "#from ggplot import *\n",
    "from scipy.stats import logistic\n",
    "from sklearn.metrics import roc_curve\n",
    "from sklearn.metrics import roc_auc_score\n",
    "from sklearn.linear_model import LogisticRegression\n",
    "from sklearn.metrics import confusion_matrix, mean_squared_error\n",
    "from sklearn.model_selection import train_test_split\n",
    "from sklearn import preprocessing\n",
    "from sklearn.neighbors import KNeighborsClassifier\n",
    "from sklearn.naive_bayes import *\n",
    "from sklearn.tree import DecisionTreeClassifier, DecisionTreeRegressor, export_graphviz\n",
    "#import graphviz\n",
    "from sklearn.ensemble import RandomForestRegressor, RandomForestClassifier\n",
    "from sklearn.svm import SVC, SVR\n",
    "\n",
    "# 한글 폰트 실행\n",
    "from matplotlib import rcParams\n",
    "from matplotlib import font_manager,rc\n",
    "rcParams['axes.unicode_minus']=False\n",
    "plt.rcParams['font.family']='Malgun Gothic'\n",
    "font_name=font_manager.FontProperties(fname='c:/Windows/Fonts/malgun.ttf').get_name()\n",
    "rc('font',family=font_name)\n"
   ]
  },
  {
   "cell_type": "code",
   "execution_count": 4,
   "id": "5b51d8c0-3d79-4d44-a496-d2cb9c886dfc",
   "metadata": {},
   "outputs": [],
   "source": [
    "DATA_PATH = './dataset/CARD/'\n",
    "DATA_PATH_2 = './dataset/CUSTOMER/'\n",
    "card_21 = pd.read_csv(DATA_PATH + 'card_21.csv', encoding=\"euc-kr\")\n",
    "#card_22 = pd.read_csv(DATA_PATH + 'card_22.csv', encoding=\"euc-kr\")\n",
    "#card_23 = pd.read_csv(DATA_PATH + 'card_23.csv', encoding=\"euc-kr\")\n",
    "customer_21 = pd.read_csv(DATA_PATH_2 + 'customer_21.csv', encoding=\"euc-kr\")\n",
    "#customer_22 = pd.read_csv(DATA_PATH_2 + 'customer_22.csv', encoding=\"euc-kr\")\n",
    "#customer_23 = pd.read_csv(DATA_PATH_2 + 'customer_23.csv', encoding=\"euc-kr\")"
   ]
  },
  {
   "cell_type": "code",
   "execution_count": 5,
   "id": "8dfe217b-1319-4672-8098-6e70de51d026",
   "metadata": {},
   "outputs": [
    {
     "data": {
      "text/html": [
       "<div>\n",
       "<style scoped>\n",
       "    .dataframe tbody tr th:only-of-type {\n",
       "        vertical-align: middle;\n",
       "    }\n",
       "\n",
       "    .dataframe tbody tr th {\n",
       "        vertical-align: top;\n",
       "    }\n",
       "\n",
       "    .dataframe thead th {\n",
       "        text-align: right;\n",
       "    }\n",
       "</style>\n",
       "<table border=\"1\" class=\"dataframe\">\n",
       "  <thead>\n",
       "    <tr style=\"text-align: right;\">\n",
       "      <th></th>\n",
       "      <th>거래년월</th>\n",
       "      <th>고객ID</th>\n",
       "      <th>가맹점업종명</th>\n",
       "      <th>가맹점_광역시도</th>\n",
       "      <th>가맹점_시군구</th>\n",
       "      <th>승인건수</th>\n",
       "      <th>승인금액</th>\n",
       "    </tr>\n",
       "  </thead>\n",
       "  <tbody>\n",
       "    <tr>\n",
       "      <th>0</th>\n",
       "      <td>202112</td>\n",
       "      <td>4080934272</td>\n",
       "      <td>일반한식</td>\n",
       "      <td>경상북도</td>\n",
       "      <td>경주시</td>\n",
       "      <td>5번이하</td>\n",
       "      <td>20000</td>\n",
       "    </tr>\n",
       "    <tr>\n",
       "      <th>1</th>\n",
       "      <td>202112</td>\n",
       "      <td>4116127380</td>\n",
       "      <td>일반한식</td>\n",
       "      <td>경상북도</td>\n",
       "      <td>경주시</td>\n",
       "      <td>5번이하</td>\n",
       "      <td>20000</td>\n",
       "    </tr>\n",
       "    <tr>\n",
       "      <th>2</th>\n",
       "      <td>202112</td>\n",
       "      <td>2914424833</td>\n",
       "      <td>일반한식</td>\n",
       "      <td>경상북도</td>\n",
       "      <td>경주시</td>\n",
       "      <td>5번이하</td>\n",
       "      <td>20000</td>\n",
       "    </tr>\n",
       "  </tbody>\n",
       "</table>\n",
       "</div>"
      ],
      "text/plain": [
       "     거래년월        고객ID 가맹점업종명 가맹점_광역시도 가맹점_시군구  승인건수   승인금액\n",
       "0  202112  4080934272   일반한식     경상북도     경주시  5번이하  20000\n",
       "1  202112  4116127380   일반한식     경상북도     경주시  5번이하  20000\n",
       "2  202112  2914424833   일반한식     경상북도     경주시  5번이하  20000"
      ]
     },
     "execution_count": 5,
     "metadata": {},
     "output_type": "execute_result"
    }
   ],
   "source": [
    "card_21.head(3)"
   ]
  },
  {
   "cell_type": "code",
   "execution_count": 6,
   "id": "cfda867c-a1c0-48a4-8ae4-f8cfa3e9fe45",
   "metadata": {},
   "outputs": [
    {
     "data": {
      "text/plain": [
       "가맹점업종명\n",
       "일반한식        8751749\n",
       "인터넷P/G      5622089\n",
       "슈퍼마켓        5174522\n",
       "편 의 점       5103418\n",
       "서양음식        4763634\n",
       "             ...   \n",
       "전자상거래상품권       1034\n",
       "상품권전문판매         369\n",
       "맞춤복점            347\n",
       "부동산중개·임대        344\n",
       "냉열기기            227\n",
       "Name: count, Length: 205, dtype: int64"
      ]
     },
     "execution_count": 6,
     "metadata": {},
     "output_type": "execute_result"
    }
   ],
   "source": [
    "card_21['가맹점업종명'].value_counts()"
   ]
  },
  {
   "cell_type": "code",
   "execution_count": 7,
   "id": "8ac43f8e-525c-42df-af60-358aa9ab6d38",
   "metadata": {},
   "outputs": [
    {
     "data": {
      "text/html": [
       "<div>\n",
       "<style scoped>\n",
       "    .dataframe tbody tr th:only-of-type {\n",
       "        vertical-align: middle;\n",
       "    }\n",
       "\n",
       "    .dataframe tbody tr th {\n",
       "        vertical-align: top;\n",
       "    }\n",
       "\n",
       "    .dataframe thead th {\n",
       "        text-align: right;\n",
       "    }\n",
       "</style>\n",
       "<table border=\"1\" class=\"dataframe\">\n",
       "  <thead>\n",
       "    <tr style=\"text-align: right;\">\n",
       "      <th></th>\n",
       "      <th>기준년월</th>\n",
       "      <th>고객ID</th>\n",
       "      <th>연령대</th>\n",
       "      <th>성별</th>\n",
       "      <th>고객등급</th>\n",
       "      <th>자택_시도</th>\n",
       "      <th>자택_시군구</th>\n",
       "      <th>수신_요구불예금</th>\n",
       "      <th>수신_거치식예금</th>\n",
       "      <th>수신_적립식예금</th>\n",
       "      <th>수신_펀드</th>\n",
       "      <th>수신_외화예금</th>\n",
       "      <th>대출금액</th>\n",
       "    </tr>\n",
       "  </thead>\n",
       "  <tbody>\n",
       "    <tr>\n",
       "      <th>0</th>\n",
       "      <td>202112</td>\n",
       "      <td>9999998161</td>\n",
       "      <td>60대이상</td>\n",
       "      <td>여</td>\n",
       "      <td>일반등급</td>\n",
       "      <td>대구광역시</td>\n",
       "      <td>달서구</td>\n",
       "      <td>1400000</td>\n",
       "      <td>0</td>\n",
       "      <td>0</td>\n",
       "      <td>0</td>\n",
       "      <td>0</td>\n",
       "      <td>0</td>\n",
       "    </tr>\n",
       "    <tr>\n",
       "      <th>1</th>\n",
       "      <td>202112</td>\n",
       "      <td>9999997589</td>\n",
       "      <td>60대이상</td>\n",
       "      <td>남</td>\n",
       "      <td>일반등급</td>\n",
       "      <td>경상북도</td>\n",
       "      <td>경주시</td>\n",
       "      <td>0</td>\n",
       "      <td>10000000</td>\n",
       "      <td>500000</td>\n",
       "      <td>0</td>\n",
       "      <td>0</td>\n",
       "      <td>0</td>\n",
       "    </tr>\n",
       "    <tr>\n",
       "      <th>2</th>\n",
       "      <td>202112</td>\n",
       "      <td>9999991579</td>\n",
       "      <td>60대이상</td>\n",
       "      <td>여</td>\n",
       "      <td>일반등급</td>\n",
       "      <td>경상북도</td>\n",
       "      <td>성주군</td>\n",
       "      <td>0</td>\n",
       "      <td>30000000</td>\n",
       "      <td>0</td>\n",
       "      <td>0</td>\n",
       "      <td>0</td>\n",
       "      <td>0</td>\n",
       "    </tr>\n",
       "  </tbody>\n",
       "</table>\n",
       "</div>"
      ],
      "text/plain": [
       "     기준년월        고객ID    연령대 성별  고객등급  자택_시도 자택_시군구  수신_요구불예금  수신_거치식예금  \\\n",
       "0  202112  9999998161  60대이상  여  일반등급  대구광역시    달서구   1400000         0   \n",
       "1  202112  9999997589  60대이상  남  일반등급   경상북도    경주시         0  10000000   \n",
       "2  202112  9999991579  60대이상  여  일반등급   경상북도    성주군         0  30000000   \n",
       "\n",
       "   수신_적립식예금  수신_펀드  수신_외화예금  대출금액  \n",
       "0         0      0        0     0  \n",
       "1    500000      0        0     0  \n",
       "2         0      0        0     0  "
      ]
     },
     "execution_count": 7,
     "metadata": {},
     "output_type": "execute_result"
    }
   ],
   "source": [
    "customer_21.head(3)"
   ]
  },
  {
   "cell_type": "code",
   "execution_count": 8,
   "id": "935dd86a-e6e8-4f16-abb5-be499281e531",
   "metadata": {},
   "outputs": [
    {
     "name": "stdout",
     "output_type": "stream",
     "text": [
      "<class 'pandas.core.frame.DataFrame'>\n",
      "RangeIndex: 20835992 entries, 0 to 20835991\n",
      "Data columns (total 13 columns):\n",
      " #   Column    Dtype \n",
      "---  ------    ----- \n",
      " 0   기준년월      int64 \n",
      " 1   고객ID      int64 \n",
      " 2   연령대       object\n",
      " 3   성별        object\n",
      " 4   고객등급      object\n",
      " 5   자택_시도     object\n",
      " 6   자택_시군구    object\n",
      " 7   수신_요구불예금  int64 \n",
      " 8   수신_거치식예금  int64 \n",
      " 9   수신_적립식예금  int64 \n",
      " 10  수신_펀드     int64 \n",
      " 11  수신_외화예금   int64 \n",
      " 12  대출금액      int64 \n",
      "dtypes: int64(8), object(5)\n",
      "memory usage: 2.0+ GB\n"
     ]
    }
   ],
   "source": [
    "customer_21.info()"
   ]
  },
  {
   "cell_type": "code",
   "execution_count": 9,
   "id": "59314958-78ec-49e2-9070-80fe1cd9aa22",
   "metadata": {},
   "outputs": [],
   "source": [
    "#card_customer_21= pd.merge(card_21, customer_21, on='고객ID', how='inner')\n",
    "#card_customer_21"
   ]
  },
  {
   "cell_type": "markdown",
   "id": "5d84e519-f8fa-47e7-a207-7c70d02e6489",
   "metadata": {},
   "source": [
    "for col in card_21.select_dtypes(include=['int64', 'float64']).columns:\n",
    "    if 'int' in str(card_21[col].dtype):\n",
    "        card_21[col] = card_21[col].astype('int32')\n",
    "    elif 'float' in str(card_21[col].dtype):\n",
    "        card_21[col] = card_21[col].astype('float32')\n",
    "\n",
    "for col in customer_21.select_dtypes(include=['int64', 'float64']).columns:\n",
    "    if 'int' in str(customer_21[col].dtype):\n",
    "        customer_21[col] = customer_21[col].astype('int32')\n",
    "    elif 'float' in str(customer_21[col].dtype):\n",
    "        customer_21[col] = customer_21[col].astype('float32')\n",
    "\n"
   ]
  },
  {
   "cell_type": "code",
   "execution_count": 10,
   "id": "448b3e48-b496-4347-9f7c-1c616c516c13",
   "metadata": {},
   "outputs": [
    {
     "name": "stdout",
     "output_type": "stream",
     "text": [
      "<class 'pandas.core.frame.DataFrame'>\n",
      "RangeIndex: 60672642 entries, 0 to 60672641\n",
      "Data columns (total 7 columns):\n",
      " #   Column    Dtype \n",
      "---  ------    ----- \n",
      " 0   거래년월      int64 \n",
      " 1   고객ID      int64 \n",
      " 2   가맹점업종명    object\n",
      " 3   가맹점_광역시도  object\n",
      " 4   가맹점_시군구   object\n",
      " 5   승인건수      object\n",
      " 6   승인금액      int64 \n",
      "dtypes: int64(3), object(4)\n",
      "memory usage: 3.2+ GB\n"
     ]
    }
   ],
   "source": [
    "card_21.info()"
   ]
  },
  {
   "cell_type": "code",
   "execution_count": 11,
   "id": "c91a15c5-4842-4952-8c46-058c2f61013c",
   "metadata": {},
   "outputs": [
    {
     "name": "stdout",
     "output_type": "stream",
     "text": [
      "<class 'pandas.core.frame.DataFrame'>\n",
      "RangeIndex: 20835992 entries, 0 to 20835991\n",
      "Data columns (total 13 columns):\n",
      " #   Column    Dtype \n",
      "---  ------    ----- \n",
      " 0   기준년월      int64 \n",
      " 1   고객ID      int64 \n",
      " 2   연령대       object\n",
      " 3   성별        object\n",
      " 4   고객등급      object\n",
      " 5   자택_시도     object\n",
      " 6   자택_시군구    object\n",
      " 7   수신_요구불예금  int64 \n",
      " 8   수신_거치식예금  int64 \n",
      " 9   수신_적립식예금  int64 \n",
      " 10  수신_펀드     int64 \n",
      " 11  수신_외화예금   int64 \n",
      " 12  대출금액      int64 \n",
      "dtypes: int64(8), object(5)\n",
      "memory usage: 2.0+ GB\n"
     ]
    }
   ],
   "source": [
    "customer_21.info()"
   ]
  },
  {
   "cell_type": "code",
   "execution_count": 12,
   "id": "7b6af1c8-db57-4754-875f-29f58b1e887b",
   "metadata": {},
   "outputs": [],
   "source": [
    "#card_customer_21= pd.merge(card_21, customer_21, on='고객ID', how='inner')\n",
    "#card_customer_21"
   ]
  },
  {
   "cell_type": "code",
   "execution_count": 13,
   "id": "516f5cbd-72d7-4bcb-8b81-f19d2e5f56cf",
   "metadata": {},
   "outputs": [],
   "source": [
    "card_test_21 = card_21.drop(columns=['가맹점_시군구', '거래년월', '가맹점_광역시도'])"
   ]
  },
  {
   "cell_type": "code",
   "execution_count": 14,
   "id": "3efa7f4f-9baf-47fd-a1d4-da67b1772036",
   "metadata": {},
   "outputs": [
    {
     "data": {
      "text/html": [
       "<div>\n",
       "<style scoped>\n",
       "    .dataframe tbody tr th:only-of-type {\n",
       "        vertical-align: middle;\n",
       "    }\n",
       "\n",
       "    .dataframe tbody tr th {\n",
       "        vertical-align: top;\n",
       "    }\n",
       "\n",
       "    .dataframe thead th {\n",
       "        text-align: right;\n",
       "    }\n",
       "</style>\n",
       "<table border=\"1\" class=\"dataframe\">\n",
       "  <thead>\n",
       "    <tr style=\"text-align: right;\">\n",
       "      <th></th>\n",
       "      <th>고객ID</th>\n",
       "      <th>가맹점업종명</th>\n",
       "      <th>승인건수</th>\n",
       "      <th>승인금액</th>\n",
       "    </tr>\n",
       "  </thead>\n",
       "  <tbody>\n",
       "    <tr>\n",
       "      <th>0</th>\n",
       "      <td>4080934272</td>\n",
       "      <td>일반한식</td>\n",
       "      <td>5번이하</td>\n",
       "      <td>20000</td>\n",
       "    </tr>\n",
       "    <tr>\n",
       "      <th>1</th>\n",
       "      <td>4116127380</td>\n",
       "      <td>일반한식</td>\n",
       "      <td>5번이하</td>\n",
       "      <td>20000</td>\n",
       "    </tr>\n",
       "    <tr>\n",
       "      <th>2</th>\n",
       "      <td>2914424833</td>\n",
       "      <td>일반한식</td>\n",
       "      <td>5번이하</td>\n",
       "      <td>20000</td>\n",
       "    </tr>\n",
       "    <tr>\n",
       "      <th>3</th>\n",
       "      <td>2950007638</td>\n",
       "      <td>일반한식</td>\n",
       "      <td>5번이하</td>\n",
       "      <td>60000</td>\n",
       "    </tr>\n",
       "    <tr>\n",
       "      <th>4</th>\n",
       "      <td>2931907302</td>\n",
       "      <td>일반한식</td>\n",
       "      <td>5번이하</td>\n",
       "      <td>10000</td>\n",
       "    </tr>\n",
       "    <tr>\n",
       "      <th>...</th>\n",
       "      <td>...</td>\n",
       "      <td>...</td>\n",
       "      <td>...</td>\n",
       "      <td>...</td>\n",
       "    </tr>\n",
       "    <tr>\n",
       "      <th>60672637</th>\n",
       "      <td>9436485459</td>\n",
       "      <td>일식·회집</td>\n",
       "      <td>5번이하</td>\n",
       "      <td>40000</td>\n",
       "    </tr>\n",
       "    <tr>\n",
       "      <th>60672638</th>\n",
       "      <td>4079854553</td>\n",
       "      <td>일식·회집</td>\n",
       "      <td>5번이하</td>\n",
       "      <td>90000</td>\n",
       "    </tr>\n",
       "    <tr>\n",
       "      <th>60672639</th>\n",
       "      <td>9986820487</td>\n",
       "      <td>일식·회집</td>\n",
       "      <td>5번이하</td>\n",
       "      <td>10000</td>\n",
       "    </tr>\n",
       "    <tr>\n",
       "      <th>60672640</th>\n",
       "      <td>8230823000</td>\n",
       "      <td>일식·회집</td>\n",
       "      <td>5번이하</td>\n",
       "      <td>20000</td>\n",
       "    </tr>\n",
       "    <tr>\n",
       "      <th>60672641</th>\n",
       "      <td>4615272306</td>\n",
       "      <td>일식·회집</td>\n",
       "      <td>5번이하</td>\n",
       "      <td>20000</td>\n",
       "    </tr>\n",
       "  </tbody>\n",
       "</table>\n",
       "<p>60672642 rows × 4 columns</p>\n",
       "</div>"
      ],
      "text/plain": [
       "                고객ID 가맹점업종명  승인건수   승인금액\n",
       "0         4080934272   일반한식  5번이하  20000\n",
       "1         4116127380   일반한식  5번이하  20000\n",
       "2         2914424833   일반한식  5번이하  20000\n",
       "3         2950007638   일반한식  5번이하  60000\n",
       "4         2931907302   일반한식  5번이하  10000\n",
       "...              ...    ...   ...    ...\n",
       "60672637  9436485459  일식·회집  5번이하  40000\n",
       "60672638  4079854553  일식·회집  5번이하  90000\n",
       "60672639  9986820487  일식·회집  5번이하  10000\n",
       "60672640  8230823000  일식·회집  5번이하  20000\n",
       "60672641  4615272306  일식·회집  5번이하  20000\n",
       "\n",
       "[60672642 rows x 4 columns]"
      ]
     },
     "execution_count": 14,
     "metadata": {},
     "output_type": "execute_result"
    }
   ],
   "source": [
    "card_test_21"
   ]
  },
  {
   "cell_type": "code",
   "execution_count": 15,
   "id": "e98f6713-f5f1-45e8-a9d1-67e1a38e29fa",
   "metadata": {},
   "outputs": [
    {
     "data": {
      "text/plain": [
       "고객ID        가맹점업종명   승인건수  승인금액 \n",
       "5760599316  일반한식     5번이하  10000    369\n",
       "6475277009  일반한식     5번이하  10000    358\n",
       "8795472160  일반한식     5번이하  10000    357\n",
       "6018828029  편 의 점    5번이하  10000    319\n",
       "6622499413  편 의 점    5번이하  10000    251\n",
       "                                   ... \n",
       "9999998161  슈퍼마켓     5번이하  30000      1\n",
       "            서양음식     5번이하  10000      1\n",
       "            농·축·수산품  5번이하  30000      1\n",
       "            내의판매     5번이하  50000      1\n",
       "            기타잡화     5번이하  10000      1\n",
       "Name: count, Length: 29584054, dtype: int64"
      ]
     },
     "execution_count": 15,
     "metadata": {},
     "output_type": "execute_result"
    }
   ],
   "source": [
    "card_test_21.value_counts()"
   ]
  },
  {
   "cell_type": "code",
   "execution_count": null,
   "id": "659b0d3c-a1d9-4e98-93f0-26caa04088e3",
   "metadata": {},
   "outputs": [],
   "source": [
    "#card_test_21.to_csv('card_test_21_processed.csv', index=False, encoding='euc-kr')"
   ]
  },
  {
   "cell_type": "code",
   "execution_count": null,
   "id": "66fd6fca-34cf-4dbf-b863-e29025a9bd7e",
   "metadata": {},
   "outputs": [],
   "source": [
    "#card_test_21.head(3)"
   ]
  },
  {
   "cell_type": "code",
   "execution_count": null,
   "id": "0b9db001-5ad2-4ce4-a91e-161341dd766f",
   "metadata": {},
   "outputs": [],
   "source": [
    "#card_test_21.value_counts()"
   ]
  },
  {
   "cell_type": "code",
   "execution_count": null,
   "id": "b848aa9c-0f59-4df5-b296-9efb93f4542a",
   "metadata": {},
   "outputs": [],
   "source": [
    "#card_test_21.head(3)"
   ]
  },
  {
   "cell_type": "code",
   "execution_count": 27,
   "id": "26887a5d-5455-466e-947d-a16d82fcf737",
   "metadata": {},
   "outputs": [
    {
     "data": {
      "text/html": [
       "<div>\n",
       "<style scoped>\n",
       "    .dataframe tbody tr th:only-of-type {\n",
       "        vertical-align: middle;\n",
       "    }\n",
       "\n",
       "    .dataframe tbody tr th {\n",
       "        vertical-align: top;\n",
       "    }\n",
       "\n",
       "    .dataframe thead th {\n",
       "        text-align: right;\n",
       "    }\n",
       "</style>\n",
       "<table border=\"1\" class=\"dataframe\">\n",
       "  <thead>\n",
       "    <tr style=\"text-align: right;\">\n",
       "      <th></th>\n",
       "      <th>기준년월</th>\n",
       "      <th>고객ID</th>\n",
       "      <th>연령대</th>\n",
       "      <th>성별</th>\n",
       "      <th>고객등급</th>\n",
       "      <th>자택_시도</th>\n",
       "      <th>자택_시군구</th>\n",
       "      <th>수신_요구불예금</th>\n",
       "      <th>수신_거치식예금</th>\n",
       "      <th>수신_적립식예금</th>\n",
       "      <th>수신_펀드</th>\n",
       "      <th>수신_외화예금</th>\n",
       "      <th>대출금액</th>\n",
       "    </tr>\n",
       "  </thead>\n",
       "  <tbody>\n",
       "    <tr>\n",
       "      <th>0</th>\n",
       "      <td>202112</td>\n",
       "      <td>9999998161</td>\n",
       "      <td>60대이상</td>\n",
       "      <td>여</td>\n",
       "      <td>일반등급</td>\n",
       "      <td>대구광역시</td>\n",
       "      <td>달서구</td>\n",
       "      <td>1400000</td>\n",
       "      <td>0</td>\n",
       "      <td>0</td>\n",
       "      <td>0</td>\n",
       "      <td>0</td>\n",
       "      <td>0</td>\n",
       "    </tr>\n",
       "    <tr>\n",
       "      <th>1</th>\n",
       "      <td>202112</td>\n",
       "      <td>9999997589</td>\n",
       "      <td>60대이상</td>\n",
       "      <td>남</td>\n",
       "      <td>일반등급</td>\n",
       "      <td>경상북도</td>\n",
       "      <td>경주시</td>\n",
       "      <td>0</td>\n",
       "      <td>10000000</td>\n",
       "      <td>500000</td>\n",
       "      <td>0</td>\n",
       "      <td>0</td>\n",
       "      <td>0</td>\n",
       "    </tr>\n",
       "    <tr>\n",
       "      <th>2</th>\n",
       "      <td>202112</td>\n",
       "      <td>9999991579</td>\n",
       "      <td>60대이상</td>\n",
       "      <td>여</td>\n",
       "      <td>일반등급</td>\n",
       "      <td>경상북도</td>\n",
       "      <td>성주군</td>\n",
       "      <td>0</td>\n",
       "      <td>30000000</td>\n",
       "      <td>0</td>\n",
       "      <td>0</td>\n",
       "      <td>0</td>\n",
       "      <td>0</td>\n",
       "    </tr>\n",
       "  </tbody>\n",
       "</table>\n",
       "</div>"
      ],
      "text/plain": [
       "     기준년월        고객ID    연령대 성별  고객등급  자택_시도 자택_시군구  수신_요구불예금  수신_거치식예금  \\\n",
       "0  202112  9999998161  60대이상  여  일반등급  대구광역시    달서구   1400000         0   \n",
       "1  202112  9999997589  60대이상  남  일반등급   경상북도    경주시         0  10000000   \n",
       "2  202112  9999991579  60대이상  여  일반등급   경상북도    성주군         0  30000000   \n",
       "\n",
       "   수신_적립식예금  수신_펀드  수신_외화예금  대출금액  \n",
       "0         0      0        0     0  \n",
       "1    500000      0        0     0  \n",
       "2         0      0        0     0  "
      ]
     },
     "execution_count": 27,
     "metadata": {},
     "output_type": "execute_result"
    }
   ],
   "source": [
    "customer_21.head(3)"
   ]
  },
  {
   "cell_type": "code",
   "execution_count": null,
   "id": "1c6d2e7c-1bdb-4ac0-a757-6ab0c21bf5a8",
   "metadata": {},
   "outputs": [],
   "source": [
    "sorted_card_test_21 = card_test_21.sort_values(by=['고객ID', '가맹점업종명'], ascending=[True, True])\n",
    "sorted_card_test_21.head(10)"
   ]
  },
  {
   "cell_type": "code",
   "execution_count": null,
   "id": "b813b8ad-38bc-4dc9-b18d-64c8c5e21ba2",
   "metadata": {},
   "outputs": [],
   "source": [
    "sorted_card_test_21.value_counts()"
   ]
  },
  {
   "cell_type": "code",
   "execution_count": null,
   "id": "e3e500d1-3899-4072-b901-7ab6d873ea75",
   "metadata": {},
   "outputs": [],
   "source": [
    "filtered_card_test_21 = sorted_card_test_21[sorted_card_test_21['승인건수'] == '5번이상']\n"
   ]
  },
  {
   "cell_type": "code",
   "execution_count": null,
   "id": "499742c6-9f00-43e2-8e51-c8fe860a5e50",
   "metadata": {},
   "outputs": [],
   "source": []
  },
  {
   "cell_type": "code",
   "execution_count": 28,
   "id": "43ea073d-5e35-4168-88ba-b008cea867b4",
   "metadata": {},
   "outputs": [
    {
     "data": {
      "text/html": [
       "<div>\n",
       "<style scoped>\n",
       "    .dataframe tbody tr th:only-of-type {\n",
       "        vertical-align: middle;\n",
       "    }\n",
       "\n",
       "    .dataframe tbody tr th {\n",
       "        vertical-align: top;\n",
       "    }\n",
       "\n",
       "    .dataframe thead th {\n",
       "        text-align: right;\n",
       "    }\n",
       "</style>\n",
       "<table border=\"1\" class=\"dataframe\">\n",
       "  <thead>\n",
       "    <tr style=\"text-align: right;\">\n",
       "      <th></th>\n",
       "      <th>기준년월</th>\n",
       "      <th>고객ID</th>\n",
       "      <th>연령대</th>\n",
       "      <th>성별</th>\n",
       "      <th>고객등급</th>\n",
       "      <th>자택_시도</th>\n",
       "      <th>자택_시군구</th>\n",
       "      <th>수신_요구불예금</th>\n",
       "      <th>수신_거치식예금</th>\n",
       "      <th>수신_적립식예금</th>\n",
       "      <th>수신_펀드</th>\n",
       "      <th>수신_외화예금</th>\n",
       "      <th>대출금액</th>\n",
       "    </tr>\n",
       "  </thead>\n",
       "  <tbody>\n",
       "    <tr>\n",
       "      <th>0</th>\n",
       "      <td>202112</td>\n",
       "      <td>9999998161</td>\n",
       "      <td>60대이상</td>\n",
       "      <td>여</td>\n",
       "      <td>일반등급</td>\n",
       "      <td>대구광역시</td>\n",
       "      <td>달서구</td>\n",
       "      <td>1400000</td>\n",
       "      <td>0</td>\n",
       "      <td>0</td>\n",
       "      <td>0</td>\n",
       "      <td>0</td>\n",
       "      <td>0</td>\n",
       "    </tr>\n",
       "    <tr>\n",
       "      <th>1</th>\n",
       "      <td>202112</td>\n",
       "      <td>9999997589</td>\n",
       "      <td>60대이상</td>\n",
       "      <td>남</td>\n",
       "      <td>일반등급</td>\n",
       "      <td>경상북도</td>\n",
       "      <td>경주시</td>\n",
       "      <td>0</td>\n",
       "      <td>10000000</td>\n",
       "      <td>500000</td>\n",
       "      <td>0</td>\n",
       "      <td>0</td>\n",
       "      <td>0</td>\n",
       "    </tr>\n",
       "    <tr>\n",
       "      <th>2</th>\n",
       "      <td>202112</td>\n",
       "      <td>9999991579</td>\n",
       "      <td>60대이상</td>\n",
       "      <td>여</td>\n",
       "      <td>일반등급</td>\n",
       "      <td>경상북도</td>\n",
       "      <td>성주군</td>\n",
       "      <td>0</td>\n",
       "      <td>30000000</td>\n",
       "      <td>0</td>\n",
       "      <td>0</td>\n",
       "      <td>0</td>\n",
       "      <td>0</td>\n",
       "    </tr>\n",
       "  </tbody>\n",
       "</table>\n",
       "</div>"
      ],
      "text/plain": [
       "     기준년월        고객ID    연령대 성별  고객등급  자택_시도 자택_시군구  수신_요구불예금  수신_거치식예금  \\\n",
       "0  202112  9999998161  60대이상  여  일반등급  대구광역시    달서구   1400000         0   \n",
       "1  202112  9999997589  60대이상  남  일반등급   경상북도    경주시         0  10000000   \n",
       "2  202112  9999991579  60대이상  여  일반등급   경상북도    성주군         0  30000000   \n",
       "\n",
       "   수신_적립식예금  수신_펀드  수신_외화예금  대출금액  \n",
       "0         0      0        0     0  \n",
       "1    500000      0        0     0  \n",
       "2         0      0        0     0  "
      ]
     },
     "execution_count": 28,
     "metadata": {},
     "output_type": "execute_result"
    }
   ],
   "source": [
    "customer_21.head(3)"
   ]
  },
  {
   "cell_type": "code",
   "execution_count": 29,
   "id": "75c497f5-db89-401d-9cd7-756e17a0f381",
   "metadata": {},
   "outputs": [
    {
     "data": {
      "text/html": [
       "<div>\n",
       "<style scoped>\n",
       "    .dataframe tbody tr th:only-of-type {\n",
       "        vertical-align: middle;\n",
       "    }\n",
       "\n",
       "    .dataframe tbody tr th {\n",
       "        vertical-align: top;\n",
       "    }\n",
       "\n",
       "    .dataframe thead th {\n",
       "        text-align: right;\n",
       "    }\n",
       "</style>\n",
       "<table border=\"1\" class=\"dataframe\">\n",
       "  <thead>\n",
       "    <tr style=\"text-align: right;\">\n",
       "      <th></th>\n",
       "      <th>고객ID</th>\n",
       "      <th>연령대</th>\n",
       "    </tr>\n",
       "  </thead>\n",
       "  <tbody>\n",
       "    <tr>\n",
       "      <th>0</th>\n",
       "      <td>9999998161</td>\n",
       "      <td>60대이상</td>\n",
       "    </tr>\n",
       "    <tr>\n",
       "      <th>1</th>\n",
       "      <td>9999997589</td>\n",
       "      <td>60대이상</td>\n",
       "    </tr>\n",
       "    <tr>\n",
       "      <th>2</th>\n",
       "      <td>9999991579</td>\n",
       "      <td>60대이상</td>\n",
       "    </tr>\n",
       "  </tbody>\n",
       "</table>\n",
       "</div>"
      ],
      "text/plain": [
       "         고객ID    연령대\n",
       "0  9999998161  60대이상\n",
       "1  9999997589  60대이상\n",
       "2  9999991579  60대이상"
      ]
     },
     "execution_count": 29,
     "metadata": {},
     "output_type": "execute_result"
    }
   ],
   "source": [
    "customer_test_21 = customer_21.drop(columns=['기준년월', '성별','고객등급', '자택_시도', '자택_시군구', '수신_요구불예금','수신_거치식예금','수신_적립식예금','수신_펀드', '수신_외화예금','대출금액'])\n",
    "customer_test_21.head(3)"
   ]
  },
  {
   "cell_type": "code",
   "execution_count": null,
   "id": "95acf98c-2cbe-446e-8e0a-150fa4d9af2f",
   "metadata": {},
   "outputs": [],
   "source": [
    "card_customer_21= pd.merge(customer_test_21, card_test_21, on='고객ID', how='inner')\n",
    "card_customer_21"
   ]
  },
  {
   "cell_type": "code",
   "execution_count": null,
   "id": "48d40552-3287-4f5a-add1-eedf3db4d238",
   "metadata": {},
   "outputs": [],
   "source": []
  },
  {
   "cell_type": "code",
   "execution_count": null,
   "id": "c2e8f994-1456-431e-bd9a-4aac9e2e8b77",
   "metadata": {},
   "outputs": [],
   "source": [
    "\n",
    "y=customer_21['default']\n",
    "X1=pd.get_dummies(data1['credit_history'],drop_first=True)\n",
    "X=pd.concat([X1,data1['age'],data1['amount']],axis='columns')\n",
    "\n",
    "tree1=DecisionTreeClassifier(max_depth=3,random_state=0)\n",
    "result1=tree1.fit(X,y)\n",
    "result1\n"
   ]
  },
  {
   "cell_type": "code",
   "execution_count": null,
   "id": "9793d3d0-a857-425d-8fce-6f0293817de7",
   "metadata": {},
   "outputs": [],
   "source": [
    "ㅊ"
   ]
  },
  {
   "cell_type": "code",
   "execution_count": null,
   "id": "c80e2595-1d84-4268-8de0-78ebf62f9908",
   "metadata": {},
   "outputs": [],
   "source": []
  }
 ],
 "metadata": {
  "kernelspec": {
   "display_name": "Python 3 (ipykernel)",
   "language": "python",
   "name": "python3"
  },
  "language_info": {
   "codemirror_mode": {
    "name": "ipython",
    "version": 3
   },
   "file_extension": ".py",
   "mimetype": "text/x-python",
   "name": "python",
   "nbconvert_exporter": "python",
   "pygments_lexer": "ipython3",
   "version": "3.12.6"
  }
 },
 "nbformat": 4,
 "nbformat_minor": 5
}
