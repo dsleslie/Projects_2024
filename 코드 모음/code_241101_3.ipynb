{
 "cells": [
  {
   "cell_type": "code",
   "execution_count": 2,
   "id": "265530c2-b4b2-4a21-895c-a40ecc125348",
   "metadata": {},
   "outputs": [],
   "source": [
    "import pandas as pd\n",
    "from pandas import DataFrame\n",
    "import numpy as np\n",
    "import seaborn as sns\n",
    "import matplotlib.pyplot as plt\n",
    "import statsmodels.api as sm\n",
    "#from sklearn.model_selection import train_test_split\n",
    "import warnings\n",
    "warnings.filterwarnings(\"ignore\")\n",
    "import random\n",
    "\n",
    "#from ggplot import *\n",
    "#from scipy.stats import logistic\n",
    "#from sklearn.metrics import roc_curve\n",
    "#from sklearn.metrics import roc_auc_score\n",
    "#from sklearn.linear_model import LogisticRegression\n",
    "#from sklearn.metrics import confusion_matrix, mean_squared_error\n",
    "#from sklearn.model_selection import train_test_split\n",
    "#from sklearn import preprocessing\n",
    "#from sklearn.neighbors import KNeighborsClassifier\n",
    "#from sklearn.naive_bayes import *\n",
    "#from sklearn.tree import DecisionTreeClassifier, DecisionTreeRegressor, export_graphviz\n",
    "#import graphviz\n",
    "#from sklearn.ensemble import RandomForestRegressor, RandomForestClassifier\n",
    "#from sklearn.svm import SVC, SVR\n",
    "\n",
    "# 한글 폰트 실행\n",
    "from matplotlib import rcParams\n",
    "from matplotlib import font_manager,rc\n",
    "rcParams['axes.unicode_minus']=False\n",
    "plt.rcParams['font.family']='NanumGothic'\n",
    "font_name=font_manager.FontProperties(fname='c:/Windows/Fonts/malgun.ttf').get_name()\n",
    "rc('font',family=font_name)\n"
   ]
  },
  {
   "cell_type": "code",
   "execution_count": 3,
   "id": "f96e784c-f804-4191-a5a9-7b400fb75611",
   "metadata": {},
   "outputs": [],
   "source": [
    "import time\n",
    "\n",
    "def execution_time(func):\n",
    "    def wrapper(*args, **kwargs):\n",
    "        start_time = time.time()\n",
    "        result = func(*args, **kwargs)\n",
    "        end_time = time.time()\n",
    "        elapsed_time = end_time - start_time\n",
    "        hours, rem = divmod(elapsed_time, 3600)\n",
    "        minutes, seconds = divmod(rem, 60)\n",
    "        print(f\"Execution time for {func.__name__}: {int(hours)}h {int(minutes)}m {seconds:.2f}s\")\n",
    "        return result\n",
    "    return wrapper\n",
    "\n",
    "\n",
    "@execution_time\n",
    "def clean_df(data):\n",
    "    data['고객ID'] = data['고객ID'].astype(str)\n",
    "    data = reduce_mem_usage(data)\n",
    "    print(data.info())\n",
    "    return data\n",
    "\n",
    "\n",
    "import pandas as pd \n",
    "import numpy as np\n",
    "\n",
    "def reduce_mem_usage(df, float16_as32=True):\n",
    "    # memory_usage()는 데이터프레임의 각 열의 메모리 사용량을 계산하고, sum은 그 값을 합산합니다. B -> KB -> MB로 변환합니다.\n",
    "    start_mem = df.memory_usage().sum() / 1024**2\n",
    "    print('데이터프레임의 초기 메모리 사용량은 {:.2f} MB입니다.'.format(start_mem))\n",
    "\n",
    "    for col in df.columns:  # 각 열의 이름을 반복합니다.\n",
    "        col_type = df[col].dtype  # 열의 데이터 타입을 가져옵니다.\n",
    "        if col_type != object and str(col_type) != 'category':  # 객체 타입이 아닌 수치형 변수만 처리합니다.\n",
    "            c_min, c_max = df[col].min(), df[col].max()  # 해당 열의 최소값과 최대값을 계산합니다.\n",
    "            if str(col_type)[:3] == 'int':  # 정수형 변수일 경우 (int8, int16, int32, int64 모두 포함)\n",
    "                # 이 열의 값 범위가 int8의 범위에 있을 경우 타입을 int8로 변환합니다. (-128부터 127까지)\n",
    "                if c_min > np.iinfo(np.int8).min and c_max < np.iinfo(np.int8).max:\n",
    "                    df[col] = df[col].astype(np.int8)\n",
    "                # 이 열의 값 범위가 int16의 범위에 있을 경우 타입을 int16으로 변환합니다. (-32,768부터 32,767까지)\n",
    "                elif c_min > np.iinfo(np.int16).min and c_max < np.iinfo(np.int16).max:\n",
    "                    df[col] = df[col].astype(np.int16)\n",
    "                # 이 열의 값 범위가 int32의 범위에 있을 경우 타입을 int32로 변환합니다. (-2,147,483,648부터 2,147,483,647까지)\n",
    "                elif c_min > np.iinfo(np.int32).min and c_max < np.iinfo(np.int32).max:\n",
    "                    df[col] = df[col].astype(np.int32)\n",
    "                # 이 열의 값 범위가 int64의 범위에 있을 경우 타입을 int64로 변환합니다. (-9,223,372,036,854,775,808부터 9,223,372,036,854,775,807까지)\n",
    "                elif c_min > np.iinfo(np.int64).min and c_max < np.iinfo(np.int64).max:\n",
    "                    df[col] = df[col].astype(np.int64)\n",
    "            else:  # 실수형일 경우\n",
    "                # 값이 float16의 범위에 있을 경우 타입을 변환합니다. 더 높은 정밀도가 필요하면 float32를 고려합니다.\n",
    "                if c_min > np.finfo(np.float16).min and c_max < np.finfo(np.float16).max:\n",
    "                    if float16_as32:  # 더 높은 정밀도가 필요하면 float32를 선택할 수 있습니다.\n",
    "                        df[col] = df[col].astype(np.float32)\n",
    "                    else:\n",
    "                        df[col] = df[col].astype(np.float16)\n",
    "                # 값이 float32의 범위에 있을 경우 타입을 float32로 변환합니다.\n",
    "                elif c_min > np.finfo(np.float32).min and c_max < np.finfo(np.float32).max:\n",
    "                    df[col] = df[col].astype(np.float32)\n",
    "                # 값이 float64의 범위에 있을 경우 타입을 float64로 변환합니다.\n",
    "                else:\n",
    "                    df[col] = df[col].astype(np.float64)\n",
    "    # 최종 메모리 사용량을 계산합니다.\n",
    "    end_mem = df.memory_usage().sum() / 1024**2\n",
    "    print('최적화 후 데이터프레임의 메모리 사용량은: {:.2f} MB입니다.'.format(end_mem))\n",
    "    # 초기 메모리 사용량과 비교하여 몇 퍼센트 감소했는지 계산합니다.\n",
    "    print('메모리 사용량이 {:.1f}% 감소했습니다.'.format(100 * (start_mem - end_mem) / start_mem))\n",
    "\n",
    "    return df"
   ]
  },
  {
   "cell_type": "code",
   "execution_count": 4,
   "id": "0e33a571-4592-4d20-a36f-3c00292c9e3b",
   "metadata": {},
   "outputs": [],
   "source": [
    "import pandas as pd\n",
    "DATA_PATH = './dataset/CARD/'\n",
    "DATA_PATH_2 = './dataset/CUSTOMER/'\n",
    "DATA_PATH_3 = './dataset/CC/'\n",
    "cc_22_40 = pd.read_csv(DATA_PATH_3 + 'cc_22_40.csv', encoding=\"utf-8-sig\")\n",
    "cc_22_50 = pd.read_csv(DATA_PATH_3 + 'cc_22_50.csv', encoding=\"utf-8-sig\")\n",
    "cc_22_60 = pd.read_csv(DATA_PATH_3 + 'cc_22_60.csv', encoding=\"utf-8-sig\")"
   ]
  },
  {
   "cell_type": "code",
   "execution_count": 5,
   "id": "8eb84a01-50b1-46e3-8fd9-d2c8ffb1b21b",
   "metadata": {},
   "outputs": [],
   "source": [
    "customer_22_40 = pd.read_csv(DATA_PATH_2 + 'customer_22_40.csv', encoding=\"utf-8-sig\")"
   ]
  },
  {
   "cell_type": "code",
   "execution_count": 6,
   "id": "902f28dc-3b3d-4fd3-be2a-b81541612086",
   "metadata": {},
   "outputs": [
    {
     "name": "stdout",
     "output_type": "stream",
     "text": [
      "<class 'pandas.core.frame.DataFrame'>\n",
      "RangeIndex: 14076734 entries, 0 to 14076733\n",
      "Data columns (total 7 columns):\n",
      " #   Column    Dtype \n",
      "---  ------    ----- \n",
      " 0   고객ID      int64 \n",
      " 1   거래년월      int64 \n",
      " 2   가맹점업종명    object\n",
      " 3   가맹점_광역시도  object\n",
      " 4   가맹점_시군구   object\n",
      " 5   승인건수      object\n",
      " 6   승인금액      int64 \n",
      "dtypes: int64(3), object(4)\n",
      "memory usage: 751.8+ MB\n"
     ]
    }
   ],
   "source": [
    "cc_22_40.info()"
   ]
  },
  {
   "cell_type": "code",
   "execution_count": 7,
   "id": "a4f69797-0255-466e-9f69-f8c02b3d75fe",
   "metadata": {},
   "outputs": [],
   "source": [
    "cc_22_40_raw = pd.read_csv(DATA_PATH_3 + 'cc_22_40(raw).csv', encoding=\"utf-8-sig\")\n",
    "cc_22_50_raw = pd.read_csv(DATA_PATH_3 + 'cc_22_50(raw).csv', encoding=\"utf-8-sig\")\n",
    "cc_22_60_raw = pd.read_csv(DATA_PATH_3 + 'cc_22_60(raw).csv', encoding=\"utf-8-sig\")"
   ]
  },
  {
   "cell_type": "code",
   "execution_count": 8,
   "id": "d8fa7805-e216-4d47-9e58-a0e438ac4265",
   "metadata": {},
   "outputs": [
    {
     "name": "stdout",
     "output_type": "stream",
     "text": [
      "<class 'pandas.core.frame.DataFrame'>\n",
      "RangeIndex: 14076734 entries, 0 to 14076733\n",
      "Data columns (total 7 columns):\n",
      " #   Column    Dtype \n",
      "---  ------    ----- \n",
      " 0   고객ID      int64 \n",
      " 1   거래년월      int64 \n",
      " 2   가맹점업종명    object\n",
      " 3   가맹점_광역시도  object\n",
      " 4   가맹점_시군구   object\n",
      " 5   승인건수      object\n",
      " 6   승인금액      int64 \n",
      "dtypes: int64(3), object(4)\n",
      "memory usage: 751.8+ MB\n"
     ]
    }
   ],
   "source": [
    "cc_22_40.info()"
   ]
  },
  {
   "cell_type": "code",
   "execution_count": 9,
   "id": "2af7981a-3557-4186-8df0-d496436a90e7",
   "metadata": {},
   "outputs": [
    {
     "name": "stdout",
     "output_type": "stream",
     "text": [
      "<class 'pandas.core.frame.DataFrame'>\n",
      "RangeIndex: 14076734 entries, 0 to 14076733\n",
      "Data columns (total 7 columns):\n",
      " #   Column    Dtype \n",
      "---  ------    ----- \n",
      " 0   고객ID      int64 \n",
      " 1   거래년월      int64 \n",
      " 2   가맹점업종명    object\n",
      " 3   가맹점_광역시도  object\n",
      " 4   가맹점_시군구   object\n",
      " 5   승인건수      object\n",
      " 6   승인금액      int64 \n",
      "dtypes: int64(3), object(4)\n",
      "memory usage: 751.8+ MB\n"
     ]
    }
   ],
   "source": [
    "cc_22_40_raw.info()"
   ]
  },
  {
   "cell_type": "code",
   "execution_count": 10,
   "id": "4b3c1094-79a3-4217-910f-4f6bc91f268d",
   "metadata": {},
   "outputs": [
    {
     "data": {
      "text/html": [
       "<div>\n",
       "<style scoped>\n",
       "    .dataframe tbody tr th:only-of-type {\n",
       "        vertical-align: middle;\n",
       "    }\n",
       "\n",
       "    .dataframe tbody tr th {\n",
       "        vertical-align: top;\n",
       "    }\n",
       "\n",
       "    .dataframe thead th {\n",
       "        text-align: right;\n",
       "    }\n",
       "</style>\n",
       "<table border=\"1\" class=\"dataframe\">\n",
       "  <thead>\n",
       "    <tr style=\"text-align: right;\">\n",
       "      <th></th>\n",
       "      <th>고객ID</th>\n",
       "      <th>거래년월</th>\n",
       "      <th>가맹점업종명</th>\n",
       "      <th>가맹점_광역시도</th>\n",
       "      <th>가맹점_시군구</th>\n",
       "      <th>승인건수</th>\n",
       "      <th>승인금액</th>\n",
       "    </tr>\n",
       "  </thead>\n",
       "  <tbody>\n",
       "    <tr>\n",
       "      <th>0</th>\n",
       "      <td>9997364303</td>\n",
       "      <td>202212</td>\n",
       "      <td>이동통신요금</td>\n",
       "      <td>서울특별시</td>\n",
       "      <td>중구</td>\n",
       "      <td>5번이하</td>\n",
       "      <td>70000</td>\n",
       "    </tr>\n",
       "    <tr>\n",
       "      <th>1</th>\n",
       "      <td>9997364303</td>\n",
       "      <td>202212</td>\n",
       "      <td>외식</td>\n",
       "      <td>경상북도</td>\n",
       "      <td>영천시</td>\n",
       "      <td>5번이하</td>\n",
       "      <td>120000</td>\n",
       "    </tr>\n",
       "    <tr>\n",
       "      <th>2</th>\n",
       "      <td>9997364303</td>\n",
       "      <td>202212</td>\n",
       "      <td>온라인쇼핑</td>\n",
       "      <td>경기도</td>\n",
       "      <td>성남시 분당구</td>\n",
       "      <td>5번이하</td>\n",
       "      <td>80000</td>\n",
       "    </tr>\n",
       "    <tr>\n",
       "      <th>3</th>\n",
       "      <td>9997364303</td>\n",
       "      <td>202212</td>\n",
       "      <td>의료/보험</td>\n",
       "      <td>경상북도</td>\n",
       "      <td>영천시</td>\n",
       "      <td>5번이하</td>\n",
       "      <td>10000</td>\n",
       "    </tr>\n",
       "    <tr>\n",
       "      <th>4</th>\n",
       "      <td>9997364303</td>\n",
       "      <td>202212</td>\n",
       "      <td>외식</td>\n",
       "      <td>경상북도</td>\n",
       "      <td>영천시</td>\n",
       "      <td>5번이하</td>\n",
       "      <td>30000</td>\n",
       "    </tr>\n",
       "  </tbody>\n",
       "</table>\n",
       "</div>"
      ],
      "text/plain": [
       "         고객ID    거래년월  가맹점업종명 가맹점_광역시도  가맹점_시군구  승인건수    승인금액\n",
       "0  9997364303  202212  이동통신요금    서울특별시       중구  5번이하   70000\n",
       "1  9997364303  202212      외식     경상북도      영천시  5번이하  120000\n",
       "2  9997364303  202212   온라인쇼핑      경기도  성남시 분당구  5번이하   80000\n",
       "3  9997364303  202212   의료/보험     경상북도      영천시  5번이하   10000\n",
       "4  9997364303  202212      외식     경상북도      영천시  5번이하   30000"
      ]
     },
     "execution_count": 10,
     "metadata": {},
     "output_type": "execute_result"
    }
   ],
   "source": [
    "cc_22_40.head()"
   ]
  },
  {
   "cell_type": "code",
   "execution_count": 11,
   "id": "7c75c392-c500-4738-9529-478347d54041",
   "metadata": {},
   "outputs": [
    {
     "data": {
      "text/html": [
       "<div>\n",
       "<style scoped>\n",
       "    .dataframe tbody tr th:only-of-type {\n",
       "        vertical-align: middle;\n",
       "    }\n",
       "\n",
       "    .dataframe tbody tr th {\n",
       "        vertical-align: top;\n",
       "    }\n",
       "\n",
       "    .dataframe thead th {\n",
       "        text-align: right;\n",
       "    }\n",
       "</style>\n",
       "<table border=\"1\" class=\"dataframe\">\n",
       "  <thead>\n",
       "    <tr style=\"text-align: right;\">\n",
       "      <th></th>\n",
       "      <th>고객ID</th>\n",
       "      <th>거래년월</th>\n",
       "      <th>가맹점업종명</th>\n",
       "      <th>가맹점_광역시도</th>\n",
       "      <th>가맹점_시군구</th>\n",
       "      <th>승인건수</th>\n",
       "      <th>승인금액</th>\n",
       "    </tr>\n",
       "  </thead>\n",
       "  <tbody>\n",
       "    <tr>\n",
       "      <th>0</th>\n",
       "      <td>9997364303</td>\n",
       "      <td>202212</td>\n",
       "      <td>이동통신요금</td>\n",
       "      <td>서울특별시</td>\n",
       "      <td>중구</td>\n",
       "      <td>5번이하</td>\n",
       "      <td>70000</td>\n",
       "    </tr>\n",
       "    <tr>\n",
       "      <th>1</th>\n",
       "      <td>9997364303</td>\n",
       "      <td>202212</td>\n",
       "      <td>일식·회집</td>\n",
       "      <td>경상북도</td>\n",
       "      <td>영천시</td>\n",
       "      <td>5번이하</td>\n",
       "      <td>120000</td>\n",
       "    </tr>\n",
       "    <tr>\n",
       "      <th>2</th>\n",
       "      <td>9997364303</td>\n",
       "      <td>202212</td>\n",
       "      <td>인터넷종합Mall</td>\n",
       "      <td>경기도</td>\n",
       "      <td>성남시 분당구</td>\n",
       "      <td>5번이하</td>\n",
       "      <td>80000</td>\n",
       "    </tr>\n",
       "    <tr>\n",
       "      <th>3</th>\n",
       "      <td>9997364303</td>\n",
       "      <td>202212</td>\n",
       "      <td>의 원</td>\n",
       "      <td>경상북도</td>\n",
       "      <td>영천시</td>\n",
       "      <td>5번이하</td>\n",
       "      <td>10000</td>\n",
       "    </tr>\n",
       "    <tr>\n",
       "      <th>4</th>\n",
       "      <td>9997364303</td>\n",
       "      <td>202212</td>\n",
       "      <td>일반한식</td>\n",
       "      <td>경상북도</td>\n",
       "      <td>영천시</td>\n",
       "      <td>5번이하</td>\n",
       "      <td>30000</td>\n",
       "    </tr>\n",
       "  </tbody>\n",
       "</table>\n",
       "</div>"
      ],
      "text/plain": [
       "         고객ID    거래년월     가맹점업종명 가맹점_광역시도  가맹점_시군구  승인건수    승인금액\n",
       "0  9997364303  202212     이동통신요금    서울특별시       중구  5번이하   70000\n",
       "1  9997364303  202212      일식·회집     경상북도      영천시  5번이하  120000\n",
       "2  9997364303  202212  인터넷종합Mall      경기도  성남시 분당구  5번이하   80000\n",
       "3  9997364303  202212        의 원     경상북도      영천시  5번이하   10000\n",
       "4  9997364303  202212       일반한식     경상북도      영천시  5번이하   30000"
      ]
     },
     "execution_count": 11,
     "metadata": {},
     "output_type": "execute_result"
    }
   ],
   "source": [
    "cc_22_40_raw.head()"
   ]
  },
  {
   "cell_type": "code",
   "execution_count": 14,
   "id": "99fad36a-abe8-446d-bb41-df48513a38dc",
   "metadata": {},
   "outputs": [
    {
     "data": {
      "text/plain": [
       "array(['이동통신요금', '일식·회집', '인터넷종합Mall', '의 원', '일반한식', '인터넷P/G', '문구용품',\n",
       "       '스넥', '조세서비스', '편 의 점', '서양음식', '대형할인점', '치과의원', '슈퍼마켓', '기타음료식품',\n",
       "       '자사카드발행백화점', '손해보험', '약 국', 'SK주유소', '스포츠의류', '농·축·수산품', '콘도',\n",
       "       '주유소', '화원', '연 쇄 점', '세탁소', '치과병원', '중국식', '농,축협직영매장', '일반서적',\n",
       "       '통신판매업1', '생명보험', '기타 전문점', 'GS주유소', '주점', '현대정유(오일뱅크)', '자동차정비',\n",
       "       '미용원', '스포츠·레져용품', 'SK가스충전소', '업종미등록', '택시', '기타잡화', '철도', '화장품',\n",
       "       '가전제품', '갈비전문점', '제과점', '기계공구', '이용원', '한 의 원', '상 품 권', '안경',\n",
       "       '주차장', '유흥주점', '골프경기장', 'E1가스충전소', '스크린골프', 'LPG취급점', '기타숙박업',\n",
       "       '정육점', '내의판매', '쌍용S-OIL', '당구장', '시 계', '출판 및 인쇄물', '미용재료', '정장',\n",
       "       '의료용품', '귀금속', '노 래 방', '애완동물', '영화관', 'CATV홈쇼핑', '동물병원', '가례서비스업',\n",
       "       '세차장', 'DP&E', '농협하나로클럽', '종합병원', '병 원(응급실운영)', '공공요금대행서비스/소득공제대상',\n",
       "       '기타레져업소', 'PG상품권', '골프연습장', '액세서리', '면 세 점', '기타 교육기관',\n",
       "       '현대정유가스충전소', '인터넷Mall', '유아원', '고속버스', '기타전기제품', '비영리/비대상',\n",
       "       '볼 링 장', '비씨카드 정산용(할인)', '예·체능계학원', '보습학원', '외국어학원', '골프용품 전문점',\n",
       "       '레져업소', '침구·수예점', '한방병원', '정수기', '사무서비스', '건축용 요업제품', '티켓',\n",
       "       '가정용품수리', '컴퓨터', '자동차시트·타이어', '조명기구', '주방용식기', '캐주얼의류', '화물운송',\n",
       "       '기타의료기관 및 기타의료기기', '일반가구', '신 발', '아동의류', '쌍용S-OIL가스충전소', '사우나',\n",
       "       '홍삼제품', '기념품점', '주류판매점', '헬스클럽', '칵테일바', '구내매점(국가기관등)', '단란주점',\n",
       "       '학습지교육', '기타 사무용품', '종합용역', '공공요금대행서비스/소득공제비대상', '자동차부품', '완구점',\n",
       "       '여객선', '문화취미기타', '일반(통신판매)', '기타용역서비스', '기타건축자재', '민예·공예품', '항공사',\n",
       "       '미곡상', '기타건강식품', '인테리어전문', '종합레져타운', '초중고교육기관', '학원', '수 영 장',\n",
       "       '목재·석재·철물', '피부미용실', '비영리/대상', '페인트', '특급호텔', '관광여행',\n",
       "       '비씨카드 정산용가맹점', '기능학원', '독서실', '기타4', '기타의류', 'GS가스충전소', '렌터카',\n",
       "       '전문서적', '위탁급식업', '기타유통업', '기타수리서비스', '2급 호텔', '1급 호텔', '주방용구',\n",
       "       '인삼제품', '보일러·펌프·샷시', '단체복', '통신서비스/소득공제비대상', '사무·통신기기수리', '건강진단',\n",
       "       'CATV', '기타가구', '기타대인서비스', '통신기기', '카페트,커튼,천막,지물', '기타1', '기타보험',\n",
       "       '가 방', '보관및 창고업', '비료,사료,종자', '수족관', '화방·표구점', '옷감·직물', '한정식',\n",
       "       '기타서적문구', '소프트웨어', '사무용 OA기기', '안마/스포츠마사지', '농축수산가공품', '가타자동차서비스',\n",
       "       '농기계', '유류판매', '카인테리어', '이륜차판매', '전자상거래상품권전문판매', '한약방', '부동산중개·임대',\n",
       "       '전기차충전소', '택시회사', '윤활유전문판매', '맞춤복점', '위성방송', '기타농업관련', '제 화',\n",
       "       '음반영상물'], dtype=object)"
      ]
     },
     "execution_count": 14,
     "metadata": {},
     "output_type": "execute_result"
    }
   ],
   "source": [
    "cc_22_40_raw['가맹점업종명'].unique()"
   ]
  },
  {
   "cell_type": "code",
   "execution_count": 15,
   "id": "e16c0331-1652-43ee-ade8-671ad93418a6",
   "metadata": {},
   "outputs": [
    {
     "data": {
      "text/plain": [
       "array(['이동통신요금', '외식', '온라인쇼핑', '의료/보험', '간편결제', '기타', '음식료품', '편의점',\n",
       "       '대형마트', '카페/베이커리', '백화점', '주유', '스포츠/레저', '여행/교통', '미용', '반려동물',\n",
       "       '문화생활', '홈쇼핑', '교육/학원'], dtype=object)"
      ]
     },
     "execution_count": 15,
     "metadata": {},
     "output_type": "execute_result"
    }
   ],
   "source": [
    "cc_22_40['가맹점업종명'].unique()"
   ]
  },
  {
   "cell_type": "code",
   "execution_count": 16,
   "id": "f5c5769f-7cab-42b6-be5b-f20c4c7fe834",
   "metadata": {},
   "outputs": [
    {
     "data": {
      "text/plain": [
       "array(['외식', '대형마트', '의료/보험', '편의점', '음식료품', '여행/교통', '간편결제', '온라인쇼핑',\n",
       "       '기타', '카페/베이커리', '주유', '스포츠/레저', '백화점', '미용', '문화생활', '홈쇼핑',\n",
       "       '이동통신요금', '교육/학원', '반려동물'], dtype=object)"
      ]
     },
     "execution_count": 16,
     "metadata": {},
     "output_type": "execute_result"
    }
   ],
   "source": [
    "cc_22_50['가맹점업종명'].unique()"
   ]
  },
  {
   "cell_type": "code",
   "execution_count": 17,
   "id": "a37cf07e-9105-4bb1-be9a-b061e46ef701",
   "metadata": {},
   "outputs": [
    {
     "data": {
      "text/plain": [
       "array(['여행/교통', '편의점', '대형마트', '카페/베이커리', '외식', '기타', '음식료품', '주유',\n",
       "       '의료/보험', '간편결제', '미용', '스포츠/레저', '반려동물', '백화점', '온라인쇼핑', '문화생활',\n",
       "       '홈쇼핑', '교육/학원', '이동통신요금'], dtype=object)"
      ]
     },
     "execution_count": 17,
     "metadata": {},
     "output_type": "execute_result"
    }
   ],
   "source": [
    "cc_22_60['가맹점업종명'].unique()"
   ]
  },
  {
   "cell_type": "code",
   "execution_count": 18,
   "id": "d1c70a65-0b2e-4c6d-baa9-a16762a049da",
   "metadata": {},
   "outputs": [
    {
     "data": {
      "text/plain": [
       "array(['이동통신요금', '일식·회집', '인터넷종합Mall', '의 원', '일반한식', '인터넷P/G', '문구용품',\n",
       "       '스넥', '조세서비스', '편 의 점', '서양음식', '대형할인점', '치과의원', '슈퍼마켓', '기타음료식품',\n",
       "       '자사카드발행백화점', '손해보험', '약 국', 'SK주유소', '스포츠의류', '농·축·수산품', '콘도',\n",
       "       '주유소', '화원', '연 쇄 점', '세탁소', '치과병원', '중국식', '농,축협직영매장', '일반서적',\n",
       "       '통신판매업1', '생명보험', '기타 전문점', 'GS주유소', '주점', '현대정유(오일뱅크)', '자동차정비',\n",
       "       '미용원', '스포츠·레져용품', 'SK가스충전소', '업종미등록', '택시', '기타잡화', '철도', '화장품',\n",
       "       '가전제품', '갈비전문점', '제과점', '기계공구', '이용원', '한 의 원', '상 품 권', '안경',\n",
       "       '주차장', '유흥주점', '골프경기장', 'E1가스충전소', '스크린골프', 'LPG취급점', '기타숙박업',\n",
       "       '정육점', '내의판매', '쌍용S-OIL', '당구장', '시 계', '출판 및 인쇄물', '미용재료', '정장',\n",
       "       '의료용품', '귀금속', '노 래 방', '애완동물', '영화관', 'CATV홈쇼핑', '동물병원', '가례서비스업',\n",
       "       '세차장', 'DP&E', '농협하나로클럽', '종합병원', '병 원(응급실운영)', '공공요금대행서비스/소득공제대상',\n",
       "       '기타레져업소', 'PG상품권', '골프연습장', '액세서리', '면 세 점', '기타 교육기관',\n",
       "       '현대정유가스충전소', '인터넷Mall', '유아원', '고속버스', '기타전기제품', '비영리/비대상',\n",
       "       '볼 링 장', '비씨카드 정산용(할인)', '예·체능계학원', '보습학원', '외국어학원', '골프용품 전문점',\n",
       "       '레져업소', '침구·수예점', '한방병원', '정수기', '사무서비스', '건축용 요업제품', '티켓',\n",
       "       '가정용품수리', '컴퓨터', '자동차시트·타이어', '조명기구', '주방용식기', '캐주얼의류', '화물운송',\n",
       "       '기타의료기관 및 기타의료기기', '일반가구', '신 발', '아동의류', '쌍용S-OIL가스충전소', '사우나',\n",
       "       '홍삼제품', '기념품점', '주류판매점', '헬스클럽', '칵테일바', '구내매점(국가기관등)', '단란주점',\n",
       "       '학습지교육', '기타 사무용품', '종합용역', '공공요금대행서비스/소득공제비대상', '자동차부품', '완구점',\n",
       "       '여객선', '문화취미기타', '일반(통신판매)', '기타용역서비스', '기타건축자재', '민예·공예품', '항공사',\n",
       "       '미곡상', '기타건강식품', '인테리어전문', '종합레져타운', '초중고교육기관', '학원', '수 영 장',\n",
       "       '목재·석재·철물', '피부미용실', '비영리/대상', '페인트', '특급호텔', '관광여행',\n",
       "       '비씨카드 정산용가맹점', '기능학원', '독서실', '기타4', '기타의류', 'GS가스충전소', '렌터카',\n",
       "       '전문서적', '위탁급식업', '기타유통업', '기타수리서비스', '2급 호텔', '1급 호텔', '주방용구',\n",
       "       '인삼제품', '보일러·펌프·샷시', '단체복', '통신서비스/소득공제비대상', '사무·통신기기수리', '건강진단',\n",
       "       'CATV', '기타가구', '기타대인서비스', '통신기기', '카페트,커튼,천막,지물', '기타1', '기타보험',\n",
       "       '가 방', '보관및 창고업', '비료,사료,종자', '수족관', '화방·표구점', '옷감·직물', '한정식',\n",
       "       '기타서적문구', '소프트웨어', '사무용 OA기기', '안마/스포츠마사지', '농축수산가공품', '가타자동차서비스',\n",
       "       '농기계', '유류판매', '카인테리어', '이륜차판매', '전자상거래상품권전문판매', '한약방', '부동산중개·임대',\n",
       "       '전기차충전소', '택시회사', '윤활유전문판매', '맞춤복점', '위성방송', '기타농업관련', '제 화',\n",
       "       '음반영상물'], dtype=object)"
      ]
     },
     "execution_count": 18,
     "metadata": {},
     "output_type": "execute_result"
    }
   ],
   "source": [
    "cc_22_40_raw['가맹점업종명'].unique()"
   ]
  },
  {
   "cell_type": "code",
   "execution_count": 19,
   "id": "9bf12869-a2d4-492d-86d6-97f8c2549568",
   "metadata": {},
   "outputs": [
    {
     "data": {
      "text/plain": [
       "array(['일반한식', '슈퍼마켓', '종합병원', '편 의 점', '중국식', '스넥', '약 국', '고속버스',\n",
       "       '인터넷P/G', '인터넷종합Mall', '안경', '택시', '제과점', '비영리/비대상', '농·축·수산품',\n",
       "       '기타잡화', '일식·회집', '서양음식', '대형할인점', '정육점', '현대정유(오일뱅크)', '골프경기장',\n",
       "       '스포츠·레져용품', '상 품 권', '골프용품 전문점', '화원', '농협하나로클럽', '기타숙박업', '시 계',\n",
       "       '주유소', '당구장', '쌍용S-OIL', '사우나', '유흥주점', '의 원', '내의판매', '자사카드발행백화점',\n",
       "       '주차장', '노 래 방', '주점', '미용원', '2급 호텔', '영화관', '자동차정비', 'GS주유소',\n",
       "       '기타음료식품', 'CATV홈쇼핑', '1급 호텔', '기타 전문점', '쌍용S-OIL가스충전소', '자동차부품',\n",
       "       '철도', '스포츠의류', '단란주점', '문구용품', '종합용역', '공공요금대행서비스/소득공제대상', '면 세 점',\n",
       "       '농,축협직영매장', '이동통신요금', '연 쇄 점', '레져업소', '인터넷Mall', 'SK주유소',\n",
       "       'E1가스충전소', '병 원(응급실운영)', '비영리/대상', '가정용품수리', '골프연습장',\n",
       "       '비씨카드 정산용가맹점', '기념품점', '항공사', '관광여행', '예·체능계학원', '업종미등록', '이용원',\n",
       "       '정장', '화장품', '가 방', '세탁소', '일반서적', '컴퓨터', '침구·수예점', '신 발', '사무서비스',\n",
       "       '기타레져업소', '가전제품', '기타보험', '공공요금대행서비스/소득공제비대상', '기타전기제품', '농축수산가공품',\n",
       "       '주방용식기', '조명기구', '민예·공예품', '한 의 원', '치과의원', '미용재료', '화물운송', '액세서리',\n",
       "       '손해보험', '자동차시트·타이어', '종합레져타운', '티켓', '기계공구', '애완동물', '학원', 'DP&E',\n",
       "       '동물병원', '비씨카드 정산용(할인)', '의료용품', '음반영상물', '기타의료기관 및 기타의료기기',\n",
       "       '목재·석재·철물', '기타건축자재', '주방용구', '비료,사료,종자', '보관및 창고업', '콘도', '완구점',\n",
       "       '페인트', '문화취미기타', '생명보험', '위탁급식업', '스크린골프', '렌터카', '수 영 장',\n",
       "       '통신판매업1', '특급호텔', '헬스클럽', '일반가구', '안마/스포츠마사지', '가타자동차서비스',\n",
       "       '화방·표구점', '기타용역서비스', '기타가구', '전기차충전소', '소프트웨어', '홍삼제품', '미곡상',\n",
       "       '피부미용실', '조세서비스', 'GS가스충전소', 'SK가스충전소', '아동의류', 'PG상품권', '기타 교육기관',\n",
       "       '한정식', 'LPG취급점', '기타의류', '여객선', '기타 사무용품', '수족관', '볼 링 장', '기타4',\n",
       "       '사무용 OA기기', '유류판매', '전문서적', '정수기', '칵테일바', '한방병원', '기타유통업', '보습학원',\n",
       "       '일반(통신판매)', '세차장', 'CATV', '귀금속', '옷감·직물', '구내매점(국가기관등)', '인삼제품',\n",
       "       '기타건강식품', '외국어학원', '기타수리서비스', '단체복', '현대정유가스충전소', '기타대인서비스',\n",
       "       '카페트,커튼,천막,지물', '카인테리어', '통신서비스/소득공제비대상', '인테리어전문', '한약방', '치과병원',\n",
       "       '기타농업관련', '농기계', '기타1', '유아원', '건강진단', '통신기기', '건축용 요업제품',\n",
       "       '부동산중개·임대', '캐주얼의류', '출판 및 인쇄물', '보일러·펌프·샷시', '초중고교육기관', '이륜차판매',\n",
       "       '전자상거래상품권전문판매', '독서실', '주류판매점', '기능학원', '가례서비스업', '갈비전문점', '제 화',\n",
       "       '사무·통신기기수리', '맞춤복점', '택시회사', '윤활유전문판매', '기타서적문구', '학습지교육', '위성방송'],\n",
       "      dtype=object)"
      ]
     },
     "execution_count": 19,
     "metadata": {},
     "output_type": "execute_result"
    }
   ],
   "source": [
    "cc_22_50_raw['가맹점업종명'].unique()"
   ]
  },
  {
   "cell_type": "code",
   "execution_count": 20,
   "id": "2a43d0c1-6058-42b5-80da-7e1490a0a560",
   "metadata": {},
   "outputs": [
    {
     "data": {
      "text/plain": [
       "array(['택시', '편 의 점', '슈퍼마켓', '기타음료식품', '서양음식', '고속버스',\n",
       "       '공공요금대행서비스/소득공제대상', '일반한식', '스넥', 'SK가스충전소', '농,축협직영매장', '철도',\n",
       "       '정육점', '약 국', '종합병원', '치과병원', '병 원(응급실운영)', '기타잡화', '대형할인점', '제과점',\n",
       "       '비영리/대상', '의 원', '인터넷P/G', '미용원', '비료,사료,종자', '화장품', '연 쇄 점', '정장',\n",
       "       '농·축·수산품', '의료용품', '건축용 요업제품', '주유소', '기타유통업', '스포츠·레져용품', '자동차정비',\n",
       "       '신 발', '목재·석재·철물', '안경', '조명기구', '애완동물', '구내매점(국가기관등)', '손해보험',\n",
       "       '조세서비스', '자사카드발행백화점', '인터넷종합Mall', '중국식', 'GS주유소', '기계공구', '업종미등록',\n",
       "       '기타건축자재', '인터넷Mall', '일반서적', 'SK주유소', '쌍용S-OIL', '주방용식기', '미곡상',\n",
       "       '가전제품', '가 방', '주점', '치과의원', '일식·회집', '기타전기제품', '카페트,커튼,천막,지물',\n",
       "       '가정용품수리', '화원', '카인테리어', '기타농업관련', '농기계', '사우나', '동물병원', '문구용품',\n",
       "       '피부미용실', '사무서비스', '주방용구', '공공요금대행서비스/소득공제비대상', '자동차부품', '세탁소',\n",
       "       '골프경기장', '골프연습장', '영화관', '면 세 점', '기타보험', '스포츠의류', '특급호텔',\n",
       "       '기타용역서비스', '기타레져업소', '기타건강식품', '침구·수예점', 'DP&E', '자동차시트·타이어',\n",
       "       '한 의 원', '화물운송', 'CATV홈쇼핑', '유흥주점', '농협하나로클럽', '기타의료기관 및 기타의료기기',\n",
       "       '민예·공예품', '기타 전문점', '기타숙박업', '주차장', '비영리/비대상', '골프용품 전문점',\n",
       "       '현대정유(오일뱅크)', '헬스클럽', '수 영 장', '쌍용S-OIL가스충전소', '통신판매업1', '티켓',\n",
       "       '내의판매', '옷감·직물', '일반가구', '생명보험', '세차장', '콘도', '농축수산가공품', '유류판매',\n",
       "       '학원', '여객선', '상 품 권', 'PG상품권', '기타4', '레져업소', '기타1', '이용원', '기타의류',\n",
       "       '인삼제품', '기념품점', '출판 및 인쇄물', '소프트웨어', '위탁급식업', '시 계', '통신기기',\n",
       "       '기타가구', '스크린골프', '기타대인서비스', '노 래 방', 'LPG취급점', '홍삼제품', '종합레져타운',\n",
       "       '이동통신요금', '미용재료', '완구점', '1급 호텔', '당구장', '항공사', '주류판매점', '2급 호텔',\n",
       "       '한방병원', '전기차충전소', '현대정유가스충전소', '종합용역', '비씨카드 정산용가맹점', '전문서적',\n",
       "       '인테리어전문', 'GS가스충전소', '액세서리', '단란주점', '아동의류', '건강진단', 'E1가스충전소',\n",
       "       '정수기', '페인트', '수족관', '가타자동차서비스', '보일러·펌프·샷시', '기타 교육기관', '윤활유전문판매',\n",
       "       '기타 사무용품', '안마/스포츠마사지', '귀금속', '관광여행', '화방·표구점', '문화취미기타', '보습학원',\n",
       "       '한약방', '통신서비스/소득공제비대상', '이륜차판매', '갈비전문점', '예·체능계학원', '캐주얼의류',\n",
       "       '가례서비스업', '볼 링 장', '기능학원', '기타수리서비스', '비씨카드 정산용(할인)', '일반(통신판매)',\n",
       "       '위성방송', '컴퓨터', '독서실', '학습지교육', '부동산중개·임대', '사무·통신기기수리', '보관및 창고업',\n",
       "       '택시회사', '제 화', '사무용 OA기기', '렌터카', '맞춤복점', '한정식', '칵테일바', 'CATV',\n",
       "       '단체복', '외국어학원', '음반영상물', '유아원', '초중고교육기관', '기타서적문구',\n",
       "       '전자상거래상품권전문판매'], dtype=object)"
      ]
     },
     "execution_count": 20,
     "metadata": {},
     "output_type": "execute_result"
    }
   ],
   "source": [
    "cc_22_60_raw['가맹점업종명'].unique()"
   ]
  },
  {
   "cell_type": "code",
   "execution_count": null,
   "id": "3ce1b0ec-3348-431f-bf3c-d273c3fdeff0",
   "metadata": {},
   "outputs": [],
   "source": []
  },
  {
   "cell_type": "code",
   "execution_count": null,
   "id": "df0e45e3-fed7-4945-97d6-cc962d4295a5",
   "metadata": {},
   "outputs": [],
   "source": []
  }
 ],
 "metadata": {
  "kernelspec": {
   "display_name": "Python 3 (ipykernel)",
   "language": "python",
   "name": "python3"
  },
  "language_info": {
   "codemirror_mode": {
    "name": "ipython",
    "version": 3
   },
   "file_extension": ".py",
   "mimetype": "text/x-python",
   "name": "python",
   "nbconvert_exporter": "python",
   "pygments_lexer": "ipython3",
   "version": "3.12.6"
  }
 },
 "nbformat": 4,
 "nbformat_minor": 5
}
