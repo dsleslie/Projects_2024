{
 "cells": [
  {
   "cell_type": "code",
   "execution_count": 1,
   "id": "7e3e1e3e-7c6f-4e06-ae48-8fa067c1d30d",
   "metadata": {},
   "outputs": [],
   "source": [
    "import pandas as pd\n",
    "from pandas import DataFrame\n",
    "import numpy as np\n",
    "import seaborn as sns\n",
    "import matplotlib.pyplot as plt\n",
    "import statsmodels.api as sm\n",
    "import warnings\n",
    "warnings.filterwarnings(\"ignore\")\n",
    "import random\n",
    "import pingouin as pg\n",
    "\n",
    "from sklearn.model_selection import train_test_split\n",
    "from matplotlib.ticker import FuncFormatter\n",
    "import scipy.stats as stats\n",
    "from statsmodels.formula.api import ols\n",
    "import statsmodels.api as sm\n",
    "\n",
    "\n",
    "# 한글 폰트 실행\n",
    "from matplotlib import rcParams\n",
    "from matplotlib import font_manager,rc\n",
    "rcParams['axes.unicode_minus']=False\n",
    "plt.rcParams['font.family']='NanumGothic'\n",
    "font_name=font_manager.FontProperties(fname='c:/Windows/Fonts/malgun.ttf').get_name()\n",
    "rc('font',family=font_name)\n"
   ]
  },
  {
   "cell_type": "code",
   "execution_count": 2,
   "id": "71e54333-bf28-4fd0-b8e5-7e3218c88c4f",
   "metadata": {},
   "outputs": [],
   "source": [
    "import pandas as pd\n",
    "DATA_PATH = './dataset/CARD/'\n",
    "DATA_PATH_2 = './dataset/CUSTOMER/'\n",
    "DATA_PATH_3 = './dataset/CC/'\n",
    "DATA_PATH_4 = './dataset/CC/이전'\n",
    "DATA_PATH_5 = './dataset/Tableau/'\n",
    "#cc_21_40_raw = pd.read_csv(DATA_PATH_3 + 'cc_21_40(raw).csv', encoding=\"utf-8-sig\")\n",
    "#cc_21_50_raw = pd.read_csv(DATA_PATH_3 + 'cc_21_50(raw).csv', encoding=\"utf-8-sig\")\n",
    "#cc_21_60_raw = pd.read_csv(DATA_PATH_3 + 'cc_21_60(raw).csv', encoding=\"utf-8-sig\")\n",
    "#cc_22_40_raw = pd.read_csv(DATA_PATH_3 + 'cc_22_40(raw).csv', encoding=\"utf-8-sig\")\n",
    "#cc_22_50_raw = pd.read_csv(DATA_PATH_3 + 'cc_22_50(raw).csv', encoding=\"utf-8-sig\")\n",
    "#cc_22_60_raw = pd.read_csv(DATA_PATH_3 + 'cc_22_60(raw).csv', encoding=\"utf-8-sig\")\n",
    "#cc_23_40_raw = pd.read_csv(DATA_PATH_3 + 'cc_23_40(raw).csv', encoding=\"utf-8-sig\")\n",
    "#cc_23_50_raw = pd.read_csv(DATA_PATH_3 + 'cc_23_50(raw).csv', encoding=\"utf-8-sig\")\n",
    "#cc_23_60_raw = pd.read_csv(DATA_PATH_3 + 'cc_23_60(raw).csv', encoding=\"utf-8-sig\")\n",
    "#cc_22_40 = pd.read_csv(DATA_PATH_3 + 'cc_22_40.csv', encoding=\"utf-8-sig\")\n",
    "#cc_22_50 = pd.read_csv(DATA_PATH_3 + 'cc_22_50.csv', encoding=\"utf-8-sig\")\n",
    "#cc_22_60 = pd.read_csv(DATA_PATH_3 + 'cc_22_60.csv', encoding=\"utf-8-sig\")\n",
    "\n",
    "#cc_21_40_n = pd.read_csv(DATA_PATH_3 + 'cc_21_40_n.csv', encoding=\"utf-8-sig\")\n",
    "#cc_21_50_n = pd.read_csv(DATA_PATH_3 + 'cc_21_50_n.csv', encoding=\"utf-8-sig\")\n",
    "#cc_21_60_n = pd.read_csv(DATA_PATH_3 + 'cc_21_60_n.csv', encoding=\"utf-8-sig\")\n",
    "\n",
    "# 이전\n",
    "#cc_22_40_n = pd.read_csv(DATA_PATH_4 + 'cc_22_40_n.csv', encoding=\"utf-8-sig\")\n",
    "#cc_22_50_n = pd.read_csv(DATA_PATH_4 + 'cc_22_50_n.csv', encoding=\"utf-8-sig\")\n",
    "#cc_22_60_n = pd.read_csv(DATA_PATH_4 + 'cc_22_60_n.csv', encoding=\"utf-8-sig\")\n",
    "\n",
    "#cc_22_n = pd.read_csv(DATA_PATH_4 + 'cc_22_n.csv', encoding=\"utf-8-sig\")\n",
    "\n",
    "\n",
    "#cc_22_40 = pd.read_csv(DATA_PATH_3 + 'cc_22_40.csv', encoding=\"utf-8-sig\")\n",
    "#cc_22_50 = pd.read_csv(DATA_PATH_3 + 'cc_22_50.csv', encoding=\"utf-8-sig\")\n",
    "#cc_22_60 = pd.read_csv(DATA_PATH_3 + 'cc_22_60.csv', encoding=\"utf-8-sig\")\n",
    "\n",
    "#cc_22_40_r = pd.read_csv(DATA_PATH_3 + 'cc_22_40_r.csv', encoding=\"utf-8-sig\")\n",
    "#cc_22_50_r = pd.read_csv(DATA_PATH_3 + 'cc_22_50_r.csv', encoding=\"utf-8-sig\")\n",
    "#cc_22_60_r = pd.read_csv(DATA_PATH_3 + 'cc_22_60_r.csv', encoding=\"utf-8-sig\")"
   ]
  },
  {
   "cell_type": "code",
   "execution_count": 3,
   "id": "ec97b1d7-5391-4a7d-8d91-8b4f017ee928",
   "metadata": {},
   "outputs": [],
   "source": [
    "cc_23_40_r = pd.read_csv(DATA_PATH_3 + 'cc_23_40_r.csv', encoding=\"utf-8-sig\")\n",
    "cc_23_50_r = pd.read_csv(DATA_PATH_3 + 'cc_23_50_r.csv', encoding=\"utf-8-sig\")\n",
    "cc_23_60_r = pd.read_csv(DATA_PATH_3 + 'cc_23_60_r.csv', encoding=\"utf-8-sig\")"
   ]
  },
  {
   "cell_type": "markdown",
   "id": "5d284b5b-4272-451c-b9d2-3e3f45ad1ae2",
   "metadata": {},
   "source": [
    "# 층화추출"
   ]
  },
  {
   "cell_type": "markdown",
   "id": "fc8c57d8-3d4d-4d9c-ac0d-05ea2de30b53",
   "metadata": {},
   "source": [
    "## 대분류"
   ]
  },
  {
   "cell_type": "code",
   "execution_count": 4,
   "id": "343a7312-c4d1-4304-b455-1a6048d1e710",
   "metadata": {},
   "outputs": [],
   "source": [
    "def strat(df, feature1, feature2, target):\n",
    "    df_groupby = df.groupby([feature1, feature2])[target].sum().reset_index()\n",
    "    df_drop = df_groupby.drop(columns=[feature1])\n",
    "    counts = df_drop[feature2].value_counts()\n",
    "    total_count = len(df_drop)\n",
    "    sample_sizes = (counts / total_count * 10000).astype(int)  # 예시로 10000개 추출 기준 설정 (원하는 표본 크기 조정 가능)\n",
    "    sample_df = df.groupby(feature2, group_keys=False).apply(\n",
    "    lambda x: x.sample(n=sample_sizes[x.name])\n",
    "    )\n",
    "    aver_sample = sample_df.groupby(feature2)[target].mean()\n",
    "    pd.options.display.float_format = '{:,.0f}'.format\n",
    "    print(f\"{feature2}별 연간 {target} 평균:\")\n",
    "    return aver_sample  # 반환값 추가"
   ]
  },
  {
   "cell_type": "code",
   "execution_count": 5,
   "id": "dcd4a4eb-4b1d-4443-8ed4-70f8451a2fc5",
   "metadata": {},
   "outputs": [
    {
     "ename": "SyntaxError",
     "evalue": "incomplete input (637975495.py, line 1)",
     "output_type": "error",
     "traceback": [
      "\u001b[1;36m  Cell \u001b[1;32mIn[5], line 1\u001b[1;36m\u001b[0m\n\u001b[1;33m    \"\"\"\u001b[0m\n\u001b[1;37m    ^\u001b[0m\n\u001b[1;31mSyntaxError\u001b[0m\u001b[1;31m:\u001b[0m incomplete input\n"
     ]
    }
   ],
   "source": [
    "   \"\"\"\n",
    "    특정 그룹별로 표본을 추출하고, 그룹별 타겟 변수의 평균을 계산하는 함수.\n",
    "\n",
    "    Parameters\n",
    "    ----------\n",
    "    df : pandas.DataFrame\n",
    "        분석에 사용할 데이터프레임.\n",
    "    feature1 : str\n",
    "        첫 번째 그룹화에 사용할 열 이름.\n",
    "    feature2 : str\n",
    "        두 번째 그룹화에 사용할 열 이름. 주로 최종 표본 추출의 기준 그룹.\n",
    "    target : str\n",
    "        타겟 변수 이름. 평균을 계산할 열.\n",
    "\n",
    "    Returns\n",
    "    -------\n",
    "    pandas.Series\n",
    "        그룹별(target) 평균값을 포함하는 시리즈.\n",
    "\n",
    "    Description\n",
    "    -----------\n",
    "    1. 데이터프레임을 `feature1`과 `feature2`로 그룹화하고, `target` 값의 합계를 계산합니다.\n",
    "    2. `feature1` 열을 삭제하여 `feature2` 기준의 데이터프레임을 생성합니다.\n",
    "    3. `feature2`별 값의 빈도를 계산하고, 전체 데이터 개수를 기준으로 표본 크기를 정합니다.\n",
    "        - 표본 크기는 `counts / total_count * 10000`을 통해 계산되며, 여기서 10000은 표본 추출 기준값입니다.\n",
    "        - 원하는 표본 크기에 따라 이 값을 조정할 수 있습니다.\n",
    "    4. 각 `feature2` 그룹에서 설정한 크기만큼 표본을 무작위로 추출합니다.\n",
    "    5. 추출된 표본으로부터 `feature2`별 타겟 변수(`target`)의 평균값을 계산합니다.\n",
    "    6. 결과는 `feature2`별 타겟 변수의 연간 평균값을 포함하는 시리즈로 반환됩니다.\n",
    "    \n",
    "    Notes\n",
    "    -----\n",
    "    - `pd.options.display.float_format`는 출력 값을 포맷팅하여 보기 좋게 만듭니다.\n",
    "    - `group_keys=False`를 사용하여 그룹화 결과에 불필요한 인덱스가 추가되지 않도록 합니다.\n",
    "    - 표본 크기는 `10000`으로 설정되어 있으나, 필요에 따라 조정 가능합니다.\n",
    "\n",
    "    Example\n",
    "    -------\n",
    "    >>> strat(df, '지역', '연령대', '소비금액')\n",
    "    연령대별 연간 소비금액 평균:\n",
    "    연령대\n",
    "    20대    1,234,567\n",
    "    30대    2,345,678\n",
    "    40대    1,876,543\n",
    "    Name: 소비금액, dtype: float64\n",
    "    ```"
   ]
  },
  {
   "cell_type": "markdown",
   "id": "02ca7184-89af-4db9-a64e-269c236c7885",
   "metadata": {},
   "source": [
    "## 가맹점업종명"
   ]
  },
  {
   "cell_type": "code",
   "execution_count": null,
   "id": "d687bbd3-6be9-4425-b9bf-63dd9e3bb1a4",
   "metadata": {},
   "outputs": [],
   "source": []
  },
  {
   "cell_type": "code",
   "execution_count": null,
   "id": "879292b8-afd3-4b3a-9971-5533516283e1",
   "metadata": {},
   "outputs": [],
   "source": []
  },
  {
   "cell_type": "code",
   "execution_count": null,
   "id": "e6b36cd6-8538-4030-9382-6b63f89c9ebd",
   "metadata": {},
   "outputs": [],
   "source": []
  }
 ],
 "metadata": {
  "kernelspec": {
   "display_name": "Python 3 (ipykernel)",
   "language": "python",
   "name": "python3"
  },
  "language_info": {
   "codemirror_mode": {
    "name": "ipython",
    "version": 3
   },
   "file_extension": ".py",
   "mimetype": "text/x-python",
   "name": "python",
   "nbconvert_exporter": "python",
   "pygments_lexer": "ipython3",
   "version": "3.12.6"
  }
 },
 "nbformat": 4,
 "nbformat_minor": 5
}
