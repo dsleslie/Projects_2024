{
 "cells": [
  {
   "cell_type": "markdown",
   "id": "4b3f78fa-6b4c-4476-988d-29e6f9114b1f",
   "metadata": {},
   "source": [
    "# 라이브러리 불러오기"
   ]
  },
  {
   "cell_type": "code",
   "execution_count": 1,
   "id": "eb5154a0-f3c6-4c50-a5bf-3e353c3af4b1",
   "metadata": {},
   "outputs": [],
   "source": [
    "import pandas as pd\n",
    "from pandas import DataFrame\n",
    "import numpy as np\n",
    "import seaborn as sns\n",
    "import matplotlib.pyplot as plt\n",
    "import statsmodels.api as sm\n",
    "#from sklearn.model_selection import train_test_split\n",
    "import warnings\n",
    "warnings.filterwarnings(\"ignore\")\n",
    "import random\n",
    "\n",
    "#from ggplot import *\n",
    "#from scipy.stats import logistic\n",
    "#from sklearn.metrics import roc_curve\n",
    "#from sklearn.metrics import roc_auc_score\n",
    "#from sklearn.linear_model import LogisticRegression\n",
    "#from sklearn.metrics import confusion_matrix, mean_squared_error\n",
    "#from sklearn.model_selection import train_test_split\n",
    "#from sklearn import preprocessing\n",
    "#from sklearn.neighbors import KNeighborsClassifier\n",
    "#from sklearn.naive_bayes import *\n",
    "#from sklearn.tree import DecisionTreeClassifier, DecisionTreeRegressor, export_graphviz\n",
    "#import graphviz\n",
    "#from sklearn.ensemble import RandomForestRegressor, RandomForestClassifier\n",
    "#from sklearn.svm import SVC, SVR\n",
    "\n",
    "# 한글 폰트 실행\n",
    "from matplotlib import rcParams\n",
    "from matplotlib import font_manager,rc\n",
    "rcParams['axes.unicode_minus']=False\n",
    "plt.rcParams['font.family']='Malgun Gothic'\n",
    "font_name=font_manager.FontProperties(fname='c:/Windows/Fonts/malgun.ttf').get_name()\n",
    "rc('font',family=font_name)\n"
   ]
  },
  {
   "cell_type": "markdown",
   "id": "db9c0a51-e80e-4a86-a039-8ebcc74f1c5e",
   "metadata": {},
   "source": [
    "# 분석에 도움주는 주요 기본 함수 정의\n",
    "## 메모리 줄여주는 함수 (일반)"
   ]
  },
  {
   "cell_type": "code",
   "execution_count": 2,
   "id": "0f54fa7e-06c4-402d-bb5f-cd0fd38c26c1",
   "metadata": {},
   "outputs": [],
   "source": [
    "import pandas as pd \n",
    "import numpy as np\n",
    "\n",
    "def reduce_mem_usage(df, float16_as32=True):\n",
    "    # memory_usage()는 데이터프레임의 각 열의 메모리 사용량을 계산하고, sum은 그 값을 합산합니다. B -> KB -> MB로 변환합니다.\n",
    "    start_mem = df.memory_usage().sum() / 1024**2\n",
    "    print('데이터프레임의 초기 메모리 사용량은 {:.2f} MB입니다.'.format(start_mem))\n",
    "\n",
    "    for col in df.columns:  # 각 열의 이름을 반복합니다.\n",
    "        col_type = df[col].dtype  # 열의 데이터 타입을 가져옵니다.\n",
    "        if col_type != object and str(col_type) != 'category':  # 객체 타입이 아닌 수치형 변수만 처리합니다.\n",
    "            c_min, c_max = df[col].min(), df[col].max()  # 해당 열의 최소값과 최대값을 계산합니다.\n",
    "            if str(col_type)[:3] == 'int':  # 정수형 변수일 경우 (int8, int16, int32, int64 모두 포함)\n",
    "                # 이 열의 값 범위가 int8의 범위에 있을 경우 타입을 int8로 변환합니다. (-128부터 127까지)\n",
    "                if c_min > np.iinfo(np.int8).min and c_max < np.iinfo(np.int8).max:\n",
    "                    df[col] = df[col].astype(np.int8)\n",
    "                # 이 열의 값 범위가 int16의 범위에 있을 경우 타입을 int16으로 변환합니다. (-32,768부터 32,767까지)\n",
    "                elif c_min > np.iinfo(np.int16).min and c_max < np.iinfo(np.int16).max:\n",
    "                    df[col] = df[col].astype(np.int16)\n",
    "                # 이 열의 값 범위가 int32의 범위에 있을 경우 타입을 int32로 변환합니다. (-2,147,483,648부터 2,147,483,647까지)\n",
    "                elif c_min > np.iinfo(np.int32).min and c_max < np.iinfo(np.int32).max:\n",
    "                    df[col] = df[col].astype(np.int32)\n",
    "                # 이 열의 값 범위가 int64의 범위에 있을 경우 타입을 int64로 변환합니다. (-9,223,372,036,854,775,808부터 9,223,372,036,854,775,807까지)\n",
    "                elif c_min > np.iinfo(np.int64).min and c_max < np.iinfo(np.int64).max:\n",
    "                    df[col] = df[col].astype(np.int64)\n",
    "            else:  # 실수형일 경우\n",
    "                # 값이 float16의 범위에 있을 경우 타입을 변환합니다. 더 높은 정밀도가 필요하면 float32를 고려합니다.\n",
    "                if c_min > np.finfo(np.float16).min and c_max < np.finfo(np.float16).max:\n",
    "                    if float16_as32:  # 더 높은 정밀도가 필요하면 float32를 선택할 수 있습니다.\n",
    "                        df[col] = df[col].astype(np.float32)\n",
    "                    else:\n",
    "                        df[col] = df[col].astype(np.float16)\n",
    "                # 값이 float32의 범위에 있을 경우 타입을 float32로 변환합니다.\n",
    "                elif c_min > np.finfo(np.float32).min and c_max < np.finfo(np.float32).max:\n",
    "                    df[col] = df[col].astype(np.float32)\n",
    "                # 값이 float64의 범위에 있을 경우 타입을 float64로 변환합니다.\n",
    "                else:\n",
    "                    df[col] = df[col].astype(np.float64)\n",
    "    # 최종 메모리 사용량을 계산합니다.\n",
    "    end_mem = df.memory_usage().sum() / 1024**2\n",
    "    print('최적화 후 데이터프레임의 메모리 사용량은: {:.2f} MB입니다.'.format(end_mem))\n",
    "    # 초기 메모리 사용량과 비교하여 몇 퍼센트 감소했는지 계산합니다.\n",
    "    print('메모리 사용량이 {:.1f}% 감소했습니다.'.format(100 * (start_mem - end_mem) / start_mem))\n",
    "\n",
    "    return df"
   ]
  },
  {
   "cell_type": "markdown",
   "id": "145406f9-b53c-4fcf-a797-c938e1461333",
   "metadata": {},
   "source": [
    "## 시간체크함수"
   ]
  },
  {
   "cell_type": "code",
   "execution_count": 3,
   "id": "569a8021-3229-4c5a-97f4-0eb741f85f8a",
   "metadata": {},
   "outputs": [],
   "source": [
    "import time\n",
    "\n",
    "def execution_time(func):\n",
    "    def wrapper(*args, **kwargs):\n",
    "        start_time = time.time()\n",
    "        result = func(*args, **kwargs)\n",
    "        end_time = time.time()\n",
    "        elapsed_time = end_time - start_time\n",
    "        hours, rem = divmod(elapsed_time, 3600)\n",
    "        minutes, seconds = divmod(rem, 60)\n",
    "        print(f\"Execution time for {func.__name__}: {int(hours)}h {int(minutes)}m {seconds:.2f}s\")\n",
    "        return result\n",
    "    return wrapper"
   ]
  },
  {
   "cell_type": "markdown",
   "id": "acc38267-df75-4f09-b563-4c529c708d62",
   "metadata": {},
   "source": [
    "## 데이터 타입 문자열로 바꿔주는 함수"
   ]
  },
  {
   "cell_type": "code",
   "execution_count": 4,
   "id": "b9d951df-374a-4eeb-9fba-2d57710e8382",
   "metadata": {},
   "outputs": [],
   "source": [
    "@execution_time\n",
    "def clean_df(data):\n",
    "    data['고객ID'] = data['고객ID'].astype(str)\n",
    "    data = reduce_mem_usage(data)\n",
    "    return data"
   ]
  },
  {
   "cell_type": "markdown",
   "id": "933cdc89-5217-4c1c-b93a-38168e3b10a6",
   "metadata": {},
   "source": [
    "# 데이터 불러오기"
   ]
  },
  {
   "cell_type": "code",
   "execution_count": 5,
   "id": "ab0eda17-cb28-4c29-9335-3215d253780e",
   "metadata": {},
   "outputs": [],
   "source": [
    "DATA_PATH = './dataset/CARD/'\n",
    "DATA_PATH_2 = './dataset/CUSTOMER/'\n",
    "#card_21 = pd.read_csv(DATA_PATH + 'card_21.csv', encoding=\"euc-kr\")\n",
    "card_22_usage = pd.read_csv(DATA_PATH + 'card_22_usage.csv', encoding=\"utf-8-sig\")\n",
    "#customer_22_40 = pd.read_csv(DATA_PATH_2 + 'customer_22_40.csv', encoding=\"utf-8-sig\")\n",
    "#customer_22_50 = pd.read_csv(DATA_PATH_2 + 'customer_22_50.csv', encoding=\"utf-8-sig\")\n",
    "customer_22_60 = pd.read_csv(DATA_PATH_2 + 'customer_22_60.csv', encoding=\"utf-8-sig\")"
   ]
  },
  {
   "cell_type": "markdown",
   "id": "407f2921-1749-41d3-9eca-0c2008ce15ef",
   "metadata": {},
   "source": [
    "# 데이터 가공"
   ]
  },
  {
   "cell_type": "markdown",
   "id": "95288348-7797-496e-aaf0-b11e97e82bd6",
   "metadata": {},
   "source": [
    "## card, customer merge (join)"
   ]
  },
  {
   "cell_type": "code",
   "execution_count": 6,
   "id": "ea512ba0-e9dd-401e-82cc-49eccba6d9e6",
   "metadata": {},
   "outputs": [],
   "source": [
    "#card_customer_22_50_id= pd.merge(customer_22_50, card_22_usage, on='고객ID', how='inner')\n",
    "#card_customer_22_50_id.head(3)"
   ]
  },
  {
   "cell_type": "code",
   "execution_count": 7,
   "id": "1ed78232-bb25-4659-aa2f-f85a3e1d1c8a",
   "metadata": {},
   "outputs": [],
   "source": [
    "#card_customer_22_50_id.to_csv('cc_22_50.csv', index=False, encoding='utf-8-sig')"
   ]
  },
  {
   "cell_type": "code",
   "execution_count": 8,
   "id": "245c2811-34da-448a-85cb-97a19486acbd",
   "metadata": {},
   "outputs": [
    {
     "data": {
      "text/html": [
       "<div>\n",
       "<style scoped>\n",
       "    .dataframe tbody tr th:only-of-type {\n",
       "        vertical-align: middle;\n",
       "    }\n",
       "\n",
       "    .dataframe tbody tr th {\n",
       "        vertical-align: top;\n",
       "    }\n",
       "\n",
       "    .dataframe thead th {\n",
       "        text-align: right;\n",
       "    }\n",
       "</style>\n",
       "<table border=\"1\" class=\"dataframe\">\n",
       "  <thead>\n",
       "    <tr style=\"text-align: right;\">\n",
       "      <th></th>\n",
       "      <th>고객ID</th>\n",
       "      <th>연령대</th>\n",
       "      <th>거래년월</th>\n",
       "      <th>가맹점업종명</th>\n",
       "      <th>가맹점_광역시도</th>\n",
       "      <th>가맹점_시군구</th>\n",
       "      <th>승인건수</th>\n",
       "      <th>승인금액</th>\n",
       "    </tr>\n",
       "  </thead>\n",
       "  <tbody>\n",
       "    <tr>\n",
       "      <th>0</th>\n",
       "      <td>9999998161</td>\n",
       "      <td>60대이상</td>\n",
       "      <td>202207</td>\n",
       "      <td>여행/교통</td>\n",
       "      <td>대구광역시</td>\n",
       "      <td>수성구</td>\n",
       "      <td>5번초과 10번이하</td>\n",
       "      <td>50000</td>\n",
       "    </tr>\n",
       "    <tr>\n",
       "      <th>1</th>\n",
       "      <td>9999998161</td>\n",
       "      <td>60대이상</td>\n",
       "      <td>202207</td>\n",
       "      <td>여행/교통</td>\n",
       "      <td>대구광역시</td>\n",
       "      <td>수성구</td>\n",
       "      <td>5번이하</td>\n",
       "      <td>20000</td>\n",
       "    </tr>\n",
       "    <tr>\n",
       "      <th>2</th>\n",
       "      <td>9999998161</td>\n",
       "      <td>60대이상</td>\n",
       "      <td>202206</td>\n",
       "      <td>여행/교통</td>\n",
       "      <td>대구광역시</td>\n",
       "      <td>수성구</td>\n",
       "      <td>5번초과 10번이하</td>\n",
       "      <td>50000</td>\n",
       "    </tr>\n",
       "  </tbody>\n",
       "</table>\n",
       "</div>"
      ],
      "text/plain": [
       "         고객ID    연령대    거래년월 가맹점업종명 가맹점_광역시도 가맹점_시군구        승인건수   승인금액\n",
       "0  9999998161  60대이상  202207  여행/교통    대구광역시     수성구  5번초과 10번이하  50000\n",
       "1  9999998161  60대이상  202207  여행/교통    대구광역시     수성구        5번이하  20000\n",
       "2  9999998161  60대이상  202206  여행/교통    대구광역시     수성구  5번초과 10번이하  50000"
      ]
     },
     "execution_count": 8,
     "metadata": {},
     "output_type": "execute_result"
    }
   ],
   "source": [
    "card_customer_22_60_id= pd.merge(customer_22_60, card_22_usage, on='고객ID', how='inner')\n",
    "card_customer_22_60_id.head(3)"
   ]
  },
  {
   "cell_type": "code",
   "execution_count": 9,
   "id": "ac2a10b2-2da9-4872-933a-85b88914bf13",
   "metadata": {},
   "outputs": [],
   "source": [
    "card_customer_22_60_id.to_csv('cc_22_60.csv', index=False, encoding='utf-8-sig')"
   ]
  },
  {
   "cell_type": "code",
   "execution_count": null,
   "id": "e351c529-aa2b-4995-81e6-d7330dcb7f43",
   "metadata": {},
   "outputs": [],
   "source": []
  },
  {
   "cell_type": "markdown",
   "id": "7107f9af-2765-4d95-be25-e91184625aa0",
   "metadata": {},
   "source": [
    "## 승인건수 정체 알아보기\n",
    "- 모르겠음"
   ]
  }
 ],
 "metadata": {
  "kernelspec": {
   "display_name": "Python 3 (ipykernel)",
   "language": "python",
   "name": "python3"
  },
  "language_info": {
   "codemirror_mode": {
    "name": "ipython",
    "version": 3
   },
   "file_extension": ".py",
   "mimetype": "text/x-python",
   "name": "python",
   "nbconvert_exporter": "python",
   "pygments_lexer": "ipython3",
   "version": "3.12.6"
  }
 },
 "nbformat": 4,
 "nbformat_minor": 5
}
