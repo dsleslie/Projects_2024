{
 "cells": [
  {
   "cell_type": "markdown",
   "id": "4b3f78fa-6b4c-4476-988d-29e6f9114b1f",
   "metadata": {},
   "source": [
    "# 라이브러리 불러오기"
   ]
  },
  {
   "cell_type": "code",
   "execution_count": 4,
   "id": "eb5154a0-f3c6-4c50-a5bf-3e353c3af4b1",
   "metadata": {},
   "outputs": [],
   "source": [
    "import pandas as pd\n",
    "from pandas import DataFrame\n",
    "import numpy as np\n",
    "import seaborn as sns\n",
    "import matplotlib.pyplot as plt\n",
    "import statsmodels.api as sm\n",
    "#from sklearn.model_selection import train_test_split\n",
    "import warnings\n",
    "warnings.filterwarnings(\"ignore\")\n",
    "import random\n",
    "\n",
    "#from ggplot import *\n",
    "#from scipy.stats import logistic\n",
    "#from sklearn.metrics import roc_curve\n",
    "#from sklearn.metrics import roc_auc_score\n",
    "#from sklearn.linear_model import LogisticRegression\n",
    "#from sklearn.metrics import confusion_matrix, mean_squared_error\n",
    "#from sklearn.model_selection import train_test_split\n",
    "#from sklearn import preprocessing\n",
    "#from sklearn.neighbors import KNeighborsClassifier\n",
    "#from sklearn.naive_bayes import *\n",
    "#from sklearn.tree import DecisionTreeClassifier, DecisionTreeRegressor, export_graphviz\n",
    "#import graphviz\n",
    "#from sklearn.ensemble import RandomForestRegressor, RandomForestClassifier\n",
    "#from sklearn.svm import SVC, SVR\n",
    "\n",
    "# 한글 폰트 실행\n",
    "from matplotlib import rcParams\n",
    "from matplotlib import font_manager,rc\n",
    "rcParams['axes.unicode_minus']=False\n",
    "plt.rcParams['font.family']='Malgun Gothic'\n",
    "font_name=font_manager.FontProperties(fname='c:/Windows/Fonts/malgun.ttf').get_name()\n",
    "rc('font',family=font_name)\n"
   ]
  },
  {
   "cell_type": "markdown",
   "id": "db9c0a51-e80e-4a86-a039-8ebcc74f1c5e",
   "metadata": {},
   "source": [
    "# 분석에 도움주는 주요 기본 함수 정의\n",
    "## 메모리 줄여주는 함수 (일반)"
   ]
  },
  {
   "cell_type": "code",
   "execution_count": 5,
   "id": "0f54fa7e-06c4-402d-bb5f-cd0fd38c26c1",
   "metadata": {},
   "outputs": [],
   "source": [
    "import pandas as pd \n",
    "import numpy as np\n",
    "\n",
    "def reduce_mem_usage(df, float16_as32=True):\n",
    "    # memory_usage()는 데이터프레임의 각 열의 메모리 사용량을 계산하고, sum은 그 값을 합산합니다. B -> KB -> MB로 변환합니다.\n",
    "    start_mem = df.memory_usage().sum() / 1024**2\n",
    "    print('데이터프레임의 초기 메모리 사용량은 {:.2f} MB입니다.'.format(start_mem))\n",
    "\n",
    "    for col in df.columns:  # 각 열의 이름을 반복합니다.\n",
    "        col_type = df[col].dtype  # 열의 데이터 타입을 가져옵니다.\n",
    "        if col_type != object and str(col_type) != 'category':  # 객체 타입이 아닌 수치형 변수만 처리합니다.\n",
    "            c_min, c_max = df[col].min(), df[col].max()  # 해당 열의 최소값과 최대값을 계산합니다.\n",
    "            if str(col_type)[:3] == 'int':  # 정수형 변수일 경우 (int8, int16, int32, int64 모두 포함)\n",
    "                # 이 열의 값 범위가 int8의 범위에 있을 경우 타입을 int8로 변환합니다. (-128부터 127까지)\n",
    "                if c_min > np.iinfo(np.int8).min and c_max < np.iinfo(np.int8).max:\n",
    "                    df[col] = df[col].astype(np.int8)\n",
    "                # 이 열의 값 범위가 int16의 범위에 있을 경우 타입을 int16으로 변환합니다. (-32,768부터 32,767까지)\n",
    "                elif c_min > np.iinfo(np.int16).min and c_max < np.iinfo(np.int16).max:\n",
    "                    df[col] = df[col].astype(np.int16)\n",
    "                # 이 열의 값 범위가 int32의 범위에 있을 경우 타입을 int32로 변환합니다. (-2,147,483,648부터 2,147,483,647까지)\n",
    "                elif c_min > np.iinfo(np.int32).min and c_max < np.iinfo(np.int32).max:\n",
    "                    df[col] = df[col].astype(np.int32)\n",
    "                # 이 열의 값 범위가 int64의 범위에 있을 경우 타입을 int64로 변환합니다. (-9,223,372,036,854,775,808부터 9,223,372,036,854,775,807까지)\n",
    "                elif c_min > np.iinfo(np.int64).min and c_max < np.iinfo(np.int64).max:\n",
    "                    df[col] = df[col].astype(np.int64)\n",
    "            else:  # 실수형일 경우\n",
    "                # 값이 float16의 범위에 있을 경우 타입을 변환합니다. 더 높은 정밀도가 필요하면 float32를 고려합니다.\n",
    "                if c_min > np.finfo(np.float16).min and c_max < np.finfo(np.float16).max:\n",
    "                    if float16_as32:  # 더 높은 정밀도가 필요하면 float32를 선택할 수 있습니다.\n",
    "                        df[col] = df[col].astype(np.float32)\n",
    "                    else:\n",
    "                        df[col] = df[col].astype(np.float16)\n",
    "                # 값이 float32의 범위에 있을 경우 타입을 float32로 변환합니다.\n",
    "                elif c_min > np.finfo(np.float32).min and c_max < np.finfo(np.float32).max:\n",
    "                    df[col] = df[col].astype(np.float32)\n",
    "                # 값이 float64의 범위에 있을 경우 타입을 float64로 변환합니다.\n",
    "                else:\n",
    "                    df[col] = df[col].astype(np.float64)\n",
    "    # 최종 메모리 사용량을 계산합니다.\n",
    "    end_mem = df.memory_usage().sum() / 1024**2\n",
    "    print('최적화 후 데이터프레임의 메모리 사용량은: {:.2f} MB입니다.'.format(end_mem))\n",
    "    # 초기 메모리 사용량과 비교하여 몇 퍼센트 감소했는지 계산합니다.\n",
    "    print('메모리 사용량이 {:.1f}% 감소했습니다.'.format(100 * (start_mem - end_mem) / start_mem))\n",
    "\n",
    "    return df"
   ]
  },
  {
   "cell_type": "markdown",
   "id": "145406f9-b53c-4fcf-a797-c938e1461333",
   "metadata": {},
   "source": [
    "## 시간체크함수"
   ]
  },
  {
   "cell_type": "code",
   "execution_count": 6,
   "id": "569a8021-3229-4c5a-97f4-0eb741f85f8a",
   "metadata": {},
   "outputs": [],
   "source": [
    "import time\n",
    "\n",
    "def execution_time(func):\n",
    "    def wrapper(*args, **kwargs):\n",
    "        start_time = time.time()\n",
    "        result = func(*args, **kwargs)\n",
    "        end_time = time.time()\n",
    "        elapsed_time = end_time - start_time\n",
    "        hours, rem = divmod(elapsed_time, 3600)\n",
    "        minutes, seconds = divmod(rem, 60)\n",
    "        print(f\"Execution time for {func.__name__}: {int(hours)}h {int(minutes)}m {seconds:.2f}s\")\n",
    "        return result\n",
    "    return wrapper"
   ]
  },
  {
   "cell_type": "markdown",
   "id": "acc38267-df75-4f09-b563-4c529c708d62",
   "metadata": {},
   "source": [
    "## 데이터 타입 문자열로 바꿔주는 함수"
   ]
  },
  {
   "cell_type": "code",
   "execution_count": 7,
   "id": "b9d951df-374a-4eeb-9fba-2d57710e8382",
   "metadata": {},
   "outputs": [],
   "source": [
    "@execution_time\n",
    "def clean_df(data):\n",
    "    data['고객ID'] = data['고객ID'].astype(str)\n",
    "    data = reduce_mem_usage(data)\n",
    "    return data"
   ]
  },
  {
   "cell_type": "markdown",
   "id": "933cdc89-5217-4c1c-b93a-38168e3b10a6",
   "metadata": {},
   "source": [
    "# 데이터 불러오기"
   ]
  },
  {
   "cell_type": "code",
   "execution_count": 1,
   "id": "ab0eda17-cb28-4c29-9335-3215d253780e",
   "metadata": {},
   "outputs": [
    {
     "ename": "NameError",
     "evalue": "name 'pd' is not defined",
     "output_type": "error",
     "traceback": [
      "\u001b[1;31m---------------------------------------------------------------------------\u001b[0m",
      "\u001b[1;31mNameError\u001b[0m                                 Traceback (most recent call last)",
      "Cell \u001b[1;32mIn[1], line 3\u001b[0m\n\u001b[0;32m      1\u001b[0m DATA_PATH \u001b[38;5;241m=\u001b[39m \u001b[38;5;124m'\u001b[39m\u001b[38;5;124m./dataset/CARD/\u001b[39m\u001b[38;5;124m'\u001b[39m\n\u001b[0;32m      2\u001b[0m DATA_PATH_2 \u001b[38;5;241m=\u001b[39m \u001b[38;5;124m'\u001b[39m\u001b[38;5;124m./dataset/CUSTOMER/\u001b[39m\u001b[38;5;124m'\u001b[39m\n\u001b[1;32m----> 3\u001b[0m card_21 \u001b[38;5;241m=\u001b[39m \u001b[43mpd\u001b[49m\u001b[38;5;241m.\u001b[39mread_csv(DATA_PATH \u001b[38;5;241m+\u001b[39m \u001b[38;5;124m'\u001b[39m\u001b[38;5;124mcard_21.csv\u001b[39m\u001b[38;5;124m'\u001b[39m, encoding\u001b[38;5;241m=\u001b[39m\u001b[38;5;124m\"\u001b[39m\u001b[38;5;124meuc-kr\u001b[39m\u001b[38;5;124m\"\u001b[39m)\n\u001b[0;32m      4\u001b[0m card_22 \u001b[38;5;241m=\u001b[39m pd\u001b[38;5;241m.\u001b[39mread_csv(DATA_PATH \u001b[38;5;241m+\u001b[39m \u001b[38;5;124m'\u001b[39m\u001b[38;5;124mcard_22.csv\u001b[39m\u001b[38;5;124m'\u001b[39m, encoding\u001b[38;5;241m=\u001b[39m\u001b[38;5;124m\"\u001b[39m\u001b[38;5;124meuc-kr\u001b[39m\u001b[38;5;124m\"\u001b[39m)\n\u001b[0;32m      5\u001b[0m card_23 \u001b[38;5;241m=\u001b[39m pd\u001b[38;5;241m.\u001b[39mread_csv(DATA_PATH \u001b[38;5;241m+\u001b[39m \u001b[38;5;124m'\u001b[39m\u001b[38;5;124mcard_23.csv\u001b[39m\u001b[38;5;124m'\u001b[39m, encoding\u001b[38;5;241m=\u001b[39m\u001b[38;5;124m\"\u001b[39m\u001b[38;5;124meuc-kr\u001b[39m\u001b[38;5;124m\"\u001b[39m)\n",
      "\u001b[1;31mNameError\u001b[0m: name 'pd' is not defined"
     ]
    }
   ],
   "source": [
    "DATA_PATH = './dataset/CARD/'\n",
    "DATA_PATH_2 = './dataset/CUSTOMER/'\n",
    "card_21 = pd.read_csv(DATA_PATH + 'card_21.csv', encoding=\"euc-kr\")\n",
    "card_22 = pd.read_csv(DATA_PATH + 'card_22.csv', encoding=\"euc-kr\")\n",
    "card_23 = pd.read_csv(DATA_PATH + 'card_23.csv', encoding=\"euc-kr\")\n",
    "customer_21 = pd.read_csv(DATA_PATH_2 + 'customer_21.csv', encoding=\"euc-kr\")\n",
    "customer_22 = pd.read_csv(DATA_PATH_2 + 'customer_22.csv', encoding=\"euc-kr\")\n",
    "customer_23 = pd.read_csv(DATA_PATH_2 + 'customer_23.csv', encoding=\"euc-kr\")"
   ]
  },
  {
   "cell_type": "code",
   "execution_count": 9,
   "id": "b2bf9588-f98f-4d2f-a485-bed42724c8fc",
   "metadata": {},
   "outputs": [
    {
     "name": "stdout",
     "output_type": "stream",
     "text": [
      "데이터프레임의 초기 메모리 사용량은 3240.27 MB입니다.\n",
      "최적화 후 데이터프레임의 메모리 사용량은: 2777.37 MB입니다.\n",
      "메모리 사용량이 14.3% 감소했습니다.\n",
      "Execution time for clean_df: 0h 0m 18.82s\n",
      "<class 'pandas.core.frame.DataFrame'>\n",
      "RangeIndex: 60672642 entries, 0 to 60672641\n",
      "Data columns (total 7 columns):\n",
      " #   Column    Dtype \n",
      "---  ------    ----- \n",
      " 0   거래년월      int32 \n",
      " 1   고객ID      object\n",
      " 2   가맹점업종명    object\n",
      " 3   가맹점_광역시도  object\n",
      " 4   가맹점_시군구   object\n",
      " 5   승인건수      object\n",
      " 6   승인금액      int32 \n",
      "dtypes: int32(2), object(5)\n",
      "memory usage: 2.7+ GB\n"
     ]
    }
   ],
   "source": [
    "card_21 = clean_df(card_21)\n",
    "card_21.info()"
   ]
  },
  {
   "cell_type": "code",
   "execution_count": 10,
   "id": "76d1d205-7482-4eb8-81e3-55bae7ff7c38",
   "metadata": {},
   "outputs": [
    {
     "name": "stdout",
     "output_type": "stream",
     "text": [
      "데이터프레임의 초기 메모리 사용량은 2066.56 MB입니다.\n",
      "최적화 후 데이터프레임의 메모리 사용량은: 1510.18 MB입니다.\n",
      "메모리 사용량이 26.9% 감소했습니다.\n",
      "Execution time for clean_df: 0h 0m 5.48s\n",
      "<class 'pandas.core.frame.DataFrame'>\n",
      "RangeIndex: 20835992 entries, 0 to 20835991\n",
      "Data columns (total 13 columns):\n",
      " #   Column    Dtype \n",
      "---  ------    ----- \n",
      " 0   기준년월      int32 \n",
      " 1   고객ID      object\n",
      " 2   연령대       object\n",
      " 3   성별        object\n",
      " 4   고객등급      object\n",
      " 5   자택_시도     object\n",
      " 6   자택_시군구    object\n",
      " 7   수신_요구불예금  int32 \n",
      " 8   수신_거치식예금  int32 \n",
      " 9   수신_적립식예금  int32 \n",
      " 10  수신_펀드     int32 \n",
      " 11  수신_외화예금   int32 \n",
      " 12  대출금액      int32 \n",
      "dtypes: int32(7), object(6)\n",
      "memory usage: 1.5+ GB\n"
     ]
    }
   ],
   "source": [
    "customer_21 = clean_df(customer_21)\n",
    "customer_21.info()"
   ]
  },
  {
   "cell_type": "markdown",
   "id": "407f2921-1749-41d3-9eca-0c2008ce15ef",
   "metadata": {},
   "source": [
    "# 데이터 가공"
   ]
  },
  {
   "cell_type": "code",
   "execution_count": null,
   "id": "5d545878-cb36-4a4d-96e8-6c88d1934561",
   "metadata": {},
   "outputs": [],
   "source": [
    "# 고객 데이터 - 60대 자르기\n",
    "customer_21_test2_60 = customer_21.loc[:, ['고객ID', '연령대']]\n",
    "customer_21_test2_60.head(3)\n",
    "customer_test_21_60 = customer_test_21[customer_test_21['연령대'].isin(['60대이상'])]"
   ]
  },
  {
   "cell_type": "markdown",
   "id": "7107f9af-2765-4d95-be25-e91184625aa0",
   "metadata": {},
   "source": [
    "# 승인건수 정체 알아보기"
   ]
  },
  {
   "cell_type": "code",
   "execution_count": null,
   "id": "b719fb9c-0dcc-4809-afba-c62355f13f8e",
   "metadata": {},
   "outputs": [],
   "source": [
    "temp_card_21_sort = temp_card_21.sort_values(by=['고객ID'], ascending=[True])\n",
    "temp_card_21_sort.head(10)"
   ]
  },
  {
   "cell_type": "markdown",
   "id": "1c953750-1795-4cb3-9a10-df869774b7cc",
   "metadata": {},
   "source": []
  },
  {
   "cell_type": "code",
   "execution_count": null,
   "id": "ec8f7171-9a73-456e-8e6b-4dc434e4ad4d",
   "metadata": {},
   "outputs": [],
   "source": []
  }
 ],
 "metadata": {
  "kernelspec": {
   "display_name": "Python 3 (ipykernel)",
   "language": "python",
   "name": "python3"
  },
  "language_info": {
   "codemirror_mode": {
    "name": "ipython",
    "version": 3
   },
   "file_extension": ".py",
   "mimetype": "text/x-python",
   "name": "python",
   "nbconvert_exporter": "python",
   "pygments_lexer": "ipython3",
   "version": "3.12.6"
  }
 },
 "nbformat": 4,
 "nbformat_minor": 5
}
