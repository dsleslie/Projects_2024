{
 "cells": [
  {
   "cell_type": "markdown",
   "id": "3853e037-5688-407c-83a0-eddd9a5c493b",
   "metadata": {},
   "source": [
    "# 필요 라이브러리"
   ]
  },
  {
   "cell_type": "code",
   "execution_count": 1,
   "id": "47cfafcb-3f5d-4350-b177-094e85636529",
   "metadata": {},
   "outputs": [],
   "source": [
    "import pandas as pd\n",
    "from pandas import DataFrame\n",
    "import numpy as np\n",
    "import seaborn as sns\n",
    "import matplotlib.pyplot as plt\n",
    "import statsmodels.api as sm\n",
    "#from sklearn.model_selection import train_test_split\n",
    "import warnings\n",
    "warnings.filterwarnings(\"ignore\")\n",
    "import random\n",
    "\n",
    "#from ggplot import *\n",
    "#from scipy.stats import logistic\n",
    "#from sklearn.metrics import roc_curve\n",
    "#from sklearn.metrics import roc_auc_score\n",
    "#from sklearn.linear_model import LogisticRegression\n",
    "#from sklearn.metrics import confusion_matrix, mean_squared_error\n",
    "#from sklearn.model_selection import train_test_split\n",
    "#from sklearn import preprocessing\n",
    "#from sklearn.neighbors import KNeighborsClassifier\n",
    "#from sklearn.naive_bayes import *\n",
    "#from sklearn.tree import DecisionTreeClassifier, DecisionTreeRegressor, export_graphviz\n",
    "#import graphviz\n",
    "#from sklearn.ensemble import RandomForestRegressor, RandomForestClassifier\n",
    "#from sklearn.svm import SVC, SVR\n",
    "\n",
    "# 한글 폰트 실행\n",
    "from matplotlib import rcParams\n",
    "from matplotlib import font_manager,rc\n",
    "rcParams['axes.unicode_minus']=False\n",
    "plt.rcParams['font.family']='NanumGothic'\n",
    "font_name=font_manager.FontProperties(fname='c:/Windows/Fonts/malgun.ttf').get_name()\n",
    "rc('font',family=font_name)\n"
   ]
  },
  {
   "cell_type": "markdown",
   "id": "f2e0c032-7473-43dc-975d-cf85ad007198",
   "metadata": {},
   "source": [
    "# 데이터 불러오기"
   ]
  },
  {
   "cell_type": "code",
   "execution_count": 2,
   "id": "ecc3bd0f-ad19-43b7-ae07-541221cf2f99",
   "metadata": {},
   "outputs": [],
   "source": [
    "import pandas as pd\n",
    "DATA_PATH = './dataset/CARD/'\n",
    "DATA_PATH_2 = './dataset/CUSTOMER/'\n",
    "DATA_PATH_3 = './dataset/CC/'\n",
    "cc_21_40_raw = pd.read_csv(DATA_PATH_3 + 'cc_21_40(raw).csv', encoding=\"utf-8-sig\")\n",
    "cc_21_50_raw = pd.read_csv(DATA_PATH_3 + 'cc_21_50(raw).csv', encoding=\"utf-8-sig\")\n",
    "cc_21_60_raw = pd.read_csv(DATA_PATH_3 + 'cc_21_60(raw).csv', encoding=\"utf-8-sig\")\n",
    "cc_22_40_raw = pd.read_csv(DATA_PATH_3 + 'cc_22_40(raw).csv', encoding=\"utf-8-sig\")\n",
    "cc_22_50_raw = pd.read_csv(DATA_PATH_3 + 'cc_22_50(raw).csv', encoding=\"utf-8-sig\")\n",
    "cc_22_60_raw = pd.read_csv(DATA_PATH_3 + 'cc_22_60(raw).csv', encoding=\"utf-8-sig\")\n",
    "cc_23_40_raw = pd.read_csv(DATA_PATH_3 + 'cc_23_40(raw).csv', encoding=\"utf-8-sig\")\n",
    "cc_23_50_raw = pd.read_csv(DATA_PATH_3 + 'cc_23_50(raw).csv', encoding=\"utf-8-sig\")\n",
    "cc_23_60_raw = pd.read_csv(DATA_PATH_3 + 'cc_23_60(raw).csv', encoding=\"utf-8-sig\")\n",
    "cc_22_40 = pd.read_csv(DATA_PATH_3 + 'cc_22_40.csv', encoding=\"utf-8-sig\")\n",
    "cc_22_50 = pd.read_csv(DATA_PATH_3 + 'cc_22_50.csv', encoding=\"utf-8-sig\")\n",
    "cc_22_60 = pd.read_csv(DATA_PATH_3 + 'cc_22_60.csv', encoding=\"utf-8-sig\")"
   ]
  },
  {
   "cell_type": "code",
   "execution_count": 13,
   "id": "50d66c5d-fc85-41e6-813b-eb0b036c5fdc",
   "metadata": {},
   "outputs": [],
   "source": [
    "cc_23_40 = pd.read_csv(DATA_PATH_3 + 'cc_23_40.csv', encoding=\"utf-8-sig\")\n",
    "cc_23_50 = pd.read_csv(DATA_PATH_3 + 'cc_23_50.csv', encoding=\"utf-8-sig\")\n",
    "cc_23_60 = pd.read_csv(DATA_PATH_3 + 'cc_23_60.csv', encoding=\"utf-8-sig\")"
   ]
  },
  {
   "cell_type": "code",
   "execution_count": 3,
   "id": "1b1f22bb-7b77-40ca-9755-fda6ef72ad18",
   "metadata": {},
   "outputs": [
    {
     "data": {
      "text/plain": [
       "array(['이동통신요금', '외식', '온라인쇼핑', '의료/보험', '간편결제', '기타', '음식료품', '편의점',\n",
       "       '대형마트', '카페/베이커리', '백화점', '주유', '스포츠/레저', '여행/교통', '미용', '반려동물',\n",
       "       '문화생활', '홈쇼핑', '교육/학원'], dtype=object)"
      ]
     },
     "execution_count": 3,
     "metadata": {},
     "output_type": "execute_result"
    }
   ],
   "source": [
    "cc_22_40['가맹점업종명'].unique()"
   ]
  },
  {
   "cell_type": "code",
   "execution_count": 8,
   "id": "ffbcbf18-6339-4385-9020-0e8ebc57d27b",
   "metadata": {},
   "outputs": [],
   "source": [
    "customer_22 = pd.read_csv(DATA_PATH_2 + 'customer_22.csv', encoding='euc-kr')"
   ]
  },
  {
   "cell_type": "code",
   "execution_count": 9,
   "id": "ade2c4aa-bc3d-4703-9b0a-929127d0a279",
   "metadata": {},
   "outputs": [],
   "source": [
    "card_22 = pd.read_csv(DATA_PATH + 'card_22.csv', encoding='utf-8-sig')"
   ]
  },
  {
   "cell_type": "markdown",
   "id": "005b3571-7047-4b69-8ac2-fe0132d16758",
   "metadata": {},
   "source": [
    "# 사용자 정의함수"
   ]
  },
  {
   "cell_type": "markdown",
   "id": "96a4f5b9-ed8d-486c-b4af-d16f60f81e65",
   "metadata": {},
   "source": [
    "## 시간체크함수"
   ]
  },
  {
   "cell_type": "code",
   "execution_count": 10,
   "id": "375f5956-711f-49a6-ae0d-879dad2d9ccb",
   "metadata": {},
   "outputs": [],
   "source": [
    "import time\n",
    "\n",
    "def execution_time(func):\n",
    "    \"\"\"\n",
    "    함수의 실행 시간을 측정하여, 시:분:초 형식으로 출력하는 데코레이터 함수입니다.\n",
    "\n",
    "    Parameters:\n",
    "    func (function): 실행 시간을 측정할 함수.\n",
    "\n",
    "    Returns:\n",
    "    function: 실행 시간을 측정하고 출력한 후, 원래 함수의 결과를 반환하는 래퍼 함수.\n",
    "\n",
    "    Example:\n",
    "    >>> @execution_time\n",
    "    >>> def example_function():\n",
    "    >>>     time.sleep(2)\n",
    "\n",
    "    >>> example_function()\n",
    "    Execution time for example_function: 0h 0m 2.00s\n",
    "    \"\"\"\n",
    "    def wrapper(*args, **kwargs):\n",
    "        start_time = time.time()\n",
    "        result = func(*args, **kwargs)\n",
    "        end_time = time.time()\n",
    "        elapsed_time = end_time - start_time\n",
    "        hours, rem = divmod(elapsed_time, 3600)\n",
    "        minutes, seconds = divmod(rem, 60)\n",
    "        print(f\"Execution time for {func.__name__}: {int(hours)}h {int(minutes)}m {seconds:.2f}s\")\n",
    "        return result\n",
    "    return wrapper\n"
   ]
  },
  {
   "cell_type": "markdown",
   "id": "e703e971-84c6-44a6-88b8-78d00662a396",
   "metadata": {},
   "source": [
    "## 용량 줄이는 함수"
   ]
  },
  {
   "cell_type": "markdown",
   "id": "4365ea75-fbcb-44ca-b2f0-6e3ab58ed14c",
   "metadata": {},
   "source": [
    "### int64 -> int32 , float64 -> float32"
   ]
  },
  {
   "cell_type": "code",
   "execution_count": 11,
   "id": "673e0a55-17e9-452b-a854-72aa92c88ab6",
   "metadata": {},
   "outputs": [],
   "source": [
    "import pandas as pd \n",
    "import numpy as np\n",
    "\n",
    "def reduce_mem_usage(df, float16_as32=True):\n",
    "    \"\"\"\n",
    "    데이터프레임의 메모리 사용량을 줄이기 위해 열의 데이터 타입을 최적화하는 함수입니다.\n",
    "    \n",
    "    수치형 열에 대해서만 메모리 최적화를 수행하며, 정수형은 int8, int16, int32, int64 등의 가장 작은 가능한 타입으로,\n",
    "    실수형은 float16, float32, float64로 변환합니다. 기본적으로 float16 대신 float32를 사용할 수 있습니다.\n",
    "\n",
    "    Parameters:\n",
    "    df (pd.DataFrame): 메모리 최적화를 적용할 데이터프레임.\n",
    "    float16_as32 (bool, optional): True일 경우, float16 대신 float32를 사용하여 정밀도를 보장합니다.\n",
    "                                   기본값은 True입니다.\n",
    "\n",
    "    Returns:\n",
    "    pd.DataFrame: 메모리 최적화가 적용된 데이터프레임.\n",
    "\n",
    "    Example:\n",
    "    >>> df = pd.DataFrame({'col1': range(100), 'col2': np.random.rand(100)})\n",
    "    >>> df_optimized = reduce_mem_usage(df)\n",
    "\n",
    "    출력 예:\n",
    "    데이터프레임의 초기 메모리 사용량은 0.01 MB입니다.\n",
    "    최적화 후 데이터프레임의 메모리 사용량은: 0.00 MB입니다.\n",
    "    메모리 사용량이 90.0% 감소했습니다.\n",
    "    \"\"\"\n",
    "    start_mem = df.memory_usage().sum() / 1024**2\n",
    "    print('데이터프레임의 초기 메모리 사용량은 {:.2f} MB입니다.'.format(start_mem))\n",
    "\n",
    "    for col in df.columns:  # 각 열의 이름을 반복합니다.\n",
    "        col_type = df[col].dtype  # 열의 데이터 타입을 가져옵니다.\n",
    "        if col_type != object and str(col_type) != 'category':  # 객체 타입이 아닌 수치형 변수만 처리합니다.\n",
    "            c_min, c_max = df[col].min(), df[col].max()  # 해당 열의 최소값과 최대값을 계산합니다.\n",
    "            if str(col_type)[:3] == 'int':  # 정수형 변수일 경우 (int8, int16, int32, int64 모두 포함)\n",
    "                if c_min > np.iinfo(np.int8).min and c_max < np.iinfo(np.int8).max:\n",
    "                    df[col] = df[col].astype(np.int8)\n",
    "                elif c_min > np.iinfo(np.int16).min and c_max < np.iinfo(np.int16).max:\n",
    "                    df[col] = df[col].astype(np.int16)\n",
    "                elif c_min > np.iinfo(np.int32).min and c_max < np.iinfo(np.int32).max:\n",
    "                    df[col] = df[col].astype(np.int32)\n",
    "                elif c_min > np.iinfo(np.int64).min and c_max < np.iinfo(np.int64).max:\n",
    "                    df[col] = df[col].astype(np.int64)\n",
    "            else:  # 실수형일 경우\n",
    "                if c_min > np.finfo(np.float16).min and c_max < np.finfo(np.float16).max:\n",
    "                    if float16_as32:  # 더 높은 정밀도가 필요하면 float32를 선택할 수 있습니다.\n",
    "                        df[col] = df[col].astype(np.float32)\n",
    "                    else:\n",
    "                        df[col] = df[col].astype(np.float16)\n",
    "                elif c_min > np.finfo(np.float32).min and c_max < np.finfo(np.float32).max:\n",
    "                    df[col] = df[col].astype(np.float32)\n",
    "                else:\n",
    "                    df[col] = df[col].astype(np.float64)\n",
    "    end_mem = df.memory_usage().sum() / 1024**2\n",
    "    print('최적화 후 데이터프레임의 메모리 사용량은: {:.2f} MB입니다.'.format(end_mem))\n",
    "    print('메모리 사용량이 {:.1f}% 감소했습니다.'.format(100 * (start_mem - end_mem) / start_mem))\n",
    "\n",
    "    return df\n"
   ]
  },
  {
   "cell_type": "markdown",
   "id": "752c5204-e84b-4c5b-8ee1-415def134d22",
   "metadata": {},
   "source": [
    "### 문자열(str, object), int32, float32로 바꾸는 함수"
   ]
  },
  {
   "cell_type": "code",
   "execution_count": 12,
   "id": "693ae2d9-49e7-4cb0-9d0d-717b3591f0ff",
   "metadata": {},
   "outputs": [],
   "source": [
    "@execution_time\n",
    "def clean_df(data):\n",
    "    \"\"\"\n",
    "    데이터 전처리를 수행하고, 메모리 사용량을 줄이기 위한 최적화를 수행하는 함수입니다.\n",
    "\n",
    "    이 함수는 '고객ID' 열을 문자열 형식으로 변환하고, `reduce_mem_usage` 함수를 호출하여\n",
    "    데이터프레임의 메모리 사용량을 최적화합니다. 또한, 최적화된 데이터프레임의 정보를 출력합니다.\n",
    "\n",
    "    Parameters:\n",
    "    data (pd.DataFrame): 전처리와 메모리 최적화를 적용할 데이터프레임.\n",
    "\n",
    "    Returns:\n",
    "    pd.DataFrame: 전처리 및 메모리 최적화가 완료된 데이터프레임.\n",
    "\n",
    "    Decorators:\n",
    "    @execution_time: 함수의 실행 시간을 측정하고 출력하는 데코레이터.\n",
    "\n",
    "    Example:\n",
    "    >>> df = pd.DataFrame({'고객ID': [12345, 67890], 'value': [100, 200]})\n",
    "    >>> cleaned_df = clean_df(df)\n",
    "\n",
    "    출력 예:\n",
    "    Execution time for clean_df: 0h 0m 0.12s\n",
    "    데이터프레임의 초기 메모리 사용량은 0.01 MB입니다.\n",
    "    최적화 후 데이터프레임의 메모리 사용량은: 0.00 MB입니다.\n",
    "    메모리 사용량이 50.0% 감소했습니다.\n",
    "    <class 'pandas.core.frame.DataFrame'>\n",
    "    RangeIndex: 2 entries, 0 to 1\n",
    "    Data columns (total 2 columns):\n",
    "     #   Column  Non-Null Count  Dtype\n",
    "    ---  ------  --------------  -----\n",
    "     0   고객ID   2 non-null      object\n",
    "     1   value   2 non-null      int8\n",
    "    dtypes: int8(1), object(1)\n",
    "    memory usage: 80.0+ bytes\n",
    "    \"\"\"\n",
    "    data['고객ID'] = data['고객ID'].astype(str)\n",
    "    data = reduce_mem_usage(data)\n",
    "    print(data.info())\n",
    "    return data\n"
   ]
  },
  {
   "cell_type": "code",
   "execution_count": 13,
   "id": "f04424e7-a6ba-4eb2-9309-7115ed7baa3b",
   "metadata": {},
   "outputs": [
    {
     "name": "stdout",
     "output_type": "stream",
     "text": [
      "데이터프레임의 초기 메모리 사용량은 2140.22 MB입니다.\n",
      "최적화 후 데이터프레임의 메모리 사용량은: 1564.01 MB입니다.\n",
      "메모리 사용량이 26.9% 감소했습니다.\n",
      "<class 'pandas.core.frame.DataFrame'>\n",
      "RangeIndex: 21578686 entries, 0 to 21578685\n",
      "Data columns (total 13 columns):\n",
      " #   Column    Dtype \n",
      "---  ------    ----- \n",
      " 0   기준년월      int32 \n",
      " 1   고객ID      object\n",
      " 2   연령대       object\n",
      " 3   성별        object\n",
      " 4   고객등급      object\n",
      " 5   자택_시도     object\n",
      " 6   자택_시군구    object\n",
      " 7   수신_요구불예금  int32 \n",
      " 8   수신_거치식예금  int32 \n",
      " 9   수신_적립식예금  int32 \n",
      " 10  수신_펀드     int32 \n",
      " 11  수신_외화예금   int32 \n",
      " 12  대출금액      int32 \n",
      "dtypes: int32(7), object(6)\n",
      "memory usage: 1.5+ GB\n",
      "None\n",
      "Execution time for clean_df: 0h 0m 6.50s\n"
     ]
    }
   ],
   "source": [
    "# 사용 예시\n",
    "test1 = clean_df(customer_22)"
   ]
  },
  {
   "cell_type": "code",
   "execution_count": 14,
   "id": "17ca1f21-eaf0-4709-9087-ef37c18c9913",
   "metadata": {},
   "outputs": [
    {
     "name": "stdout",
     "output_type": "stream",
     "text": [
      "데이터프레임의 초기 메모리 사용량은 1564.01 MB입니다.\n",
      "최적화 후 데이터프레임의 메모리 사용량은: 1564.01 MB입니다.\n",
      "메모리 사용량이 0.0% 감소했습니다.\n"
     ]
    }
   ],
   "source": [
    "# 사용 예시\n",
    "test2 = reduce_mem_usage(customer_22)"
   ]
  },
  {
   "cell_type": "code",
   "execution_count": 15,
   "id": "a6931368-d94c-41f4-aea6-920cbfa6b441",
   "metadata": {},
   "outputs": [
    {
     "name": "stdout",
     "output_type": "stream",
     "text": [
      "<class 'pandas.core.frame.DataFrame'>\n",
      "RangeIndex: 21578686 entries, 0 to 21578685\n",
      "Data columns (total 13 columns):\n",
      " #   Column    Dtype \n",
      "---  ------    ----- \n",
      " 0   기준년월      int32 \n",
      " 1   고객ID      object\n",
      " 2   연령대       object\n",
      " 3   성별        object\n",
      " 4   고객등급      object\n",
      " 5   자택_시도     object\n",
      " 6   자택_시군구    object\n",
      " 7   수신_요구불예금  int32 \n",
      " 8   수신_거치식예금  int32 \n",
      " 9   수신_적립식예금  int32 \n",
      " 10  수신_펀드     int32 \n",
      " 11  수신_외화예금   int32 \n",
      " 12  대출금액      int32 \n",
      "dtypes: int32(7), object(6)\n",
      "memory usage: 1.5+ GB\n"
     ]
    }
   ],
   "source": [
    "customer_22.info()"
   ]
  },
  {
   "cell_type": "markdown",
   "id": "2edd5604-390e-4f32-997d-240ce8e858fc",
   "metadata": {},
   "source": [
    "## 1차 프로젝트 사용 함수"
   ]
  },
  {
   "cell_type": "markdown",
   "id": "1977f550-8efe-43b1-b3bd-8a845f8e4012",
   "metadata": {},
   "source": [
    "### 고객연령대별 추출"
   ]
  },
  {
   "cell_type": "code",
   "execution_count": 16,
   "id": "e2b56fd9-320f-4f91-ba44-ebfac0e90243",
   "metadata": {},
   "outputs": [],
   "source": [
    "def customer_generation(df, feature):\n",
    "    \"\"\"\n",
    "    특정 연령대의 데이터를 추출하여 반환하는 함수입니다.\n",
    "\n",
    "    이 함수는 데이터프레임에서 입력된 특정 연령대에 해당하는 행만을 필터링하여 \n",
    "    새로운 데이터프레임으로 반환합니다.\n",
    "\n",
    "    Parameters:\n",
    "    df (pd.DataFrame): 연령대가 포함된 원본 데이터프레임.\n",
    "    feature (str): 추출하고자 하는 연령대를 나타내는 문자열. 예: \"40대\", \"50대\" 등.\n",
    "\n",
    "    Returns:\n",
    "    pd.DataFrame: 입력된 연령대만 포함된 필터링된 데이터프레임.\n",
    "\n",
    "    Example:\n",
    "    >>> data = pd.DataFrame({\n",
    "    ...     '고객ID': [1, 2, 3],\n",
    "    ...     '연령대': ['40대', '50대', '40대'],\n",
    "    ...     '소비금액': [10000, 20000, 15000]\n",
    "    ... })\n",
    "    >>> customer_generation(data, '40대')\n",
    "    40대만 추출한 데이터프레임입니다.\n",
    "       고객ID  연령대     소비금액\n",
    "    0      1  40대  10000\n",
    "    2      3  40대  15000\n",
    "    \"\"\"\n",
    "    df = df[df['연령대'].isin([f'{feature}'])]\n",
    "    print(f'{feature}만 추출한 데이터프레임입니다.')\n",
    "    print(df.head())\n",
    "    return df\n"
   ]
  },
  {
   "cell_type": "code",
   "execution_count": 17,
   "id": "ef7d78d9-acec-4507-a0b4-7b449b55d3b3",
   "metadata": {},
   "outputs": [
    {
     "name": "stdout",
     "output_type": "stream",
     "text": [
      "40대만 추출한 데이터프레임입니다.\n",
      "       기준년월        고객ID  연령대 성별  고객등급  자택_시도 자택_시군구  수신_요구불예금  수신_거치식예금  \\\n",
      "712  202212  9997377777  40대  남  일반등급  서울특별시    강북구         0         0   \n",
      "713  202212  9997372016  40대  남  일반등급  대구광역시     동구   7600000         0   \n",
      "714  202212  9997367955  40대  여  일반등급   경상북도    영주시    200000         0   \n",
      "715  202212  9997366851  40대  여  일반등급  대구광역시    수성구    300000         0   \n",
      "716  202212  9997365476  40대  여  일반등급  대구광역시     중구         0         0   \n",
      "\n",
      "     수신_적립식예금  수신_펀드  수신_외화예금  대출금액  \n",
      "712         0      0        0     0  \n",
      "713         0      0        0     0  \n",
      "714         0      0        0     0  \n",
      "715         0      0        0     0  \n",
      "716         0      0        0     0  \n"
     ]
    }
   ],
   "source": [
    "# 사용 예시\n",
    "test3 = customer_generation(customer_22, \"40대\")"
   ]
  },
  {
   "cell_type": "markdown",
   "id": "344bd0a1-e348-4a28-8543-99bfb1112691",
   "metadata": {},
   "source": [
    "### 고객연령대 나눈 데이터프레임에서, ID 중복없이 추출"
   ]
  },
  {
   "cell_type": "code",
   "execution_count": 18,
   "id": "10d64019-72c1-43bd-9146-4f27bce2c41f",
   "metadata": {},
   "outputs": [],
   "source": [
    "def customer_generation_id(df):\n",
    "    \"\"\"\n",
    "    고객 ID의 중복을 제거하여 고유한 고객 ID 리스트를 생성하고 반환하는 함수입니다.\n",
    "\n",
    "    이 함수는 입력된 데이터프레임에서 '고객ID'와 '연령대' 열만 선택하여,\n",
    "    '고객ID'의 고유한 값들로 구성된 새로운 데이터프레임을 반환합니다. \n",
    "    반환된 데이터프레임은 중복되지 않은 고객 ID만을 포함합니다.\n",
    "\n",
    "    Parameters:\n",
    "    df (pd.DataFrame): '고객ID'와 '연령대' 열을 포함한 원본 데이터프레임.\n",
    "\n",
    "    Returns:\n",
    "    pd.DataFrame: 고유한 고객 ID를 포함한 데이터프레임.\n",
    "\n",
    "    Example:\n",
    "    >>> data = pd.DataFrame({\n",
    "    ...     '고객ID': [1, 2, 1, 3],\n",
    "    ...     '연령대': ['40대', '50대', '40대', '60대']\n",
    "    ... })\n",
    "    >>> customer_generation_id(data)\n",
    "       고객ID\n",
    "    0     1\n",
    "    1     2\n",
    "    2     3\n",
    "    \"\"\"\n",
    "    selected_df = df.loc[:, ['고객ID', '연령대']]\n",
    "    df_edit = pd.DataFrame(selected_df['고객ID'].unique(), columns=['고객ID'])\n",
    "    print(df_edit.head())\n",
    "    return df_edit\n"
   ]
  },
  {
   "cell_type": "code",
   "execution_count": 19,
   "id": "e1ba3070-32c8-48a4-9db8-9eba553c3fe3",
   "metadata": {},
   "outputs": [
    {
     "name": "stdout",
     "output_type": "stream",
     "text": [
      "         고객ID\n",
      "0  9997377777\n",
      "1  9997372016\n",
      "2  9997367955\n",
      "3  9997366851\n",
      "4  9997365476\n"
     ]
    }
   ],
   "source": [
    "# 사용 예시 \n",
    "test4 = customer_generation_id(test3)"
   ]
  },
  {
   "cell_type": "markdown",
   "id": "04e67ac8-f80d-4ddd-be56-609c9d155183",
   "metadata": {},
   "source": [
    "### 고객 연령대 나누고, 바로 id를 DataFrame으로 추출\n",
    "- feature에 연령대 명을 정확히 입력하면, 해댱하는 id를 바로 추출할 수 있다\n",
    "- 입력안하면 전체 연령대의 고객 ID만 추출한다."
   ]
  },
  {
   "cell_type": "code",
   "execution_count": 20,
   "id": "ef06ce7b-c403-42cb-b3e4-00f02c00ae5c",
   "metadata": {},
   "outputs": [],
   "source": [
    "def customer_gen_id(df, feature=None, show_age=False):\n",
    "    \"\"\"\n",
    "    특정 연령대의 고유한 고객 ID를 추출하는 함수입니다.\n",
    "    \n",
    "    이 함수는 입력된 데이터프레임에서 특정 연령대(`feature`)에 해당하는 고객들을 필터링하여,\n",
    "    중복되지 않은 고객 ID를 반환합니다. `show_age` 매개변수를 통해 고객 ID만 반환할지,\n",
    "    또는 고객 ID와 연령대를 함께 반환할지를 선택할 수 있습니다.\n",
    "\n",
    "    Parameters:\n",
    "    df (pd.DataFrame): '고객ID'와 '연령대' 열을 포함한 원본 데이터프레임.\n",
    "    feature (str, optional): 필터링하고자 하는 연령대 (예: \"40대\", \"50대\").\n",
    "                            None일 경우 모든 연령대가 선택됩니다.\n",
    "    show_age (bool, optional): True일 경우 고객 ID와 연령대를 포함하여 반환하며,\n",
    "                               False일 경우 고객 ID만 반환합니다. 기본값은 False입니다.\n",
    "\n",
    "    Returns:\n",
    "    pd.DataFrame: 고유한 고객 ID를 포함한 데이터프레임. `show_age`가 True일 경우,\n",
    "                 고객 ID와 연령대를 포함합니다.\n",
    "\n",
    "    Example:\n",
    "    >>> data = pd.DataFrame({\n",
    "    ...     '고객ID': [1, 2, 1, 3, 2],\n",
    "    ...     '연령대': ['40대', '50대', '40대', '60대', '50대']\n",
    "    ... })\n",
    "    >>> customer_gen_id(data, feature=\"50대\", show_age=True)\n",
    "       고객ID  연령대\n",
    "    0     2  50대\n",
    "    >>> customer_gen_id(data, feature=\"40대\", show_age=False)\n",
    "       고객ID\n",
    "    0     1\n",
    "    \"\"\"\n",
    "    df_filtered = df[df['연령대'].isin([f'{feature}'])]\n",
    "    selected_df = df_filtered.loc[:, ['고객ID', '연령대']]\n",
    "    \n",
    "    if show_age:  # show_age가 True일 때 고객ID와 연령대 포함\n",
    "        df_edit = selected_df.drop_duplicates(subset=['고객ID', '연령대'])\n",
    "    else:  # show_age가 False일 때 고객ID만 포함\n",
    "        df_edit = pd.DataFrame(selected_df['고객ID'].unique(), columns=['고객ID'])\n",
    "    \n",
    "    print(df_edit.head())\n",
    "    return df_edit\n"
   ]
  },
  {
   "cell_type": "code",
   "execution_count": 21,
   "id": "e767d0bd-c485-44b9-8e47-eb25dea27815",
   "metadata": {},
   "outputs": [
    {
     "name": "stdout",
     "output_type": "stream",
     "text": [
      "         고객ID\n",
      "0  9997377777\n",
      "1  9997372016\n",
      "2  9997367955\n",
      "3  9997366851\n",
      "4  9997365476\n"
     ]
    }
   ],
   "source": [
    "test5_1 = customer_gen_id(customer_22, \"40대\", show_age=False)"
   ]
  },
  {
   "cell_type": "code",
   "execution_count": 22,
   "id": "35f2f79c-e8e0-442c-92a4-c71b53c1e82a",
   "metadata": {},
   "outputs": [
    {
     "name": "stdout",
     "output_type": "stream",
     "text": [
      "           고객ID  연령대\n",
      "712  9997377777  40대\n",
      "713  9997372016  40대\n",
      "714  9997367955  40대\n",
      "715  9997366851  40대\n",
      "716  9997365476  40대\n"
     ]
    }
   ],
   "source": [
    "test5_2 = customer_gen_id(customer_22, \"40대\", show_age=True)"
   ]
  },
  {
   "cell_type": "markdown",
   "id": "7c9e0b37-2eb6-4e84-9239-047be3a92010",
   "metadata": {},
   "source": [
    "### 가맹업종명 재분류"
   ]
  },
  {
   "cell_type": "code",
   "execution_count": 23,
   "id": "b5849359-21ef-44b6-b847-fd0a3893d66c",
   "metadata": {},
   "outputs": [],
   "source": [
    "def rename_category_store(df):\n",
    "    \"\"\"\n",
    "    가맹점 업종명을 지정된 카테고리로 재분류하는 함수입니다.\n",
    "\n",
    "    이 함수는 입력된 데이터프레임의 '가맹점업종명' 열에 대해 특정 값들을 지정된 카테고리 이름으로\n",
    "    대체하여 재분류합니다. 이를 통해 다양한 업종명이 지정된 범주의 카테고리로 통합됩니다.\n",
    "\n",
    "    Parameters:\n",
    "    df (pd.DataFrame): '가맹점업종명' 열을 포함한 데이터프레임.\n",
    "\n",
    "    Returns:\n",
    "    pd.DataFrame: '가맹점업종명' 열이 재분류된 데이터프레임.\n",
    "\n",
    "    Example:\n",
    "    >>> data = pd.DataFrame({\n",
    "    ...     '가맹점업종명': ['보습학원', '피부미용실', '골프경기장', '주점', '약 국'],\n",
    "    ...     '승인금액': [10000, 20000, 30000, 40000, 50000]\n",
    "    ... })\n",
    "    >>> rename_category_store(data)\n",
    "    가맹점업종명 열을 다음과 같은 카테고리로 재분류합니다: ['교육/학원', '미용', '스포츠/레저', '외식', '의료/보험']\n",
    "    \n",
    "    \"\"\"\n",
    "    mapping = {\n",
    "        '교육/학원': ['보습학원', '예·체능계학원', '외국어학원', '기타 교육기관', '기능학원', '학원', '학습지교육', '초중고교육기관'],\n",
    "        '미용': ['미용원', '피부미용실'],\n",
    "        '스포츠/레저': ['기타레져업소', '스포츠·레져용품', '스포츠의류', '스크린골프', '헬스클럽', '골프경기장', '종합레져타운', '골프용품 전문점', '골프연습장', '안마/스포츠마사지', '레져업소', '수 영 장'],\n",
    "        '여행/교통': ['기타숙박업', '철도', '특급호텔', '1급 호텔', '렌터카', '항공사', '콘도', '2급 호텔', '관광여행', '여객선', '고속버스', '택시'],\n",
    "        '외식': ['일반한식', '주점', '서양음식', '중국식', '일식·회집', '한정식', '칵테일바', '갈비전문점'],\n",
    "        '대형마트': ['슈퍼마켓', '농협하나로클럽', '농,축협직영매장', '대형할인점'],\n",
    "        '백화점': ['면 세 점', '자사카드발행백화점'],\n",
    "        '편의점': ['편 의 점'],\n",
    "        '음식료품': ['정육점', '스넥', '농·축·수산품', '농축수산가공품', '주류판매점', '홍삼제품', '인삼제품', '기타건강식품'],\n",
    "        '카페/베이커리': ['기타음료식품', '제과점'],\n",
    "        '의료/보험': ['약 국', '의 원', '한 의 원', '치과의원', '기타의료기관 및 기타의료기기', '한약방', '한방병원', '생명보험', '건강진단', '기타보험', '병 원(응급실운영)', '치과병원', '동물병원', '종합병원', '손해보험'],\n",
    "        '주유': ['SK주유소', '쌍용S-OIL', 'GS주유소', '주유소', 'SK가스충전소', '현대정유(오일뱅크)', 'GS가스충전소', '쌍용S-OIL가스충전소', '현대정유가스충전소', 'E1가스충전소', '전기차충전소'],\n",
    "        '문화생활': ['문화취미기타', '영화관', '티켓'],\n",
    "        '이동통신요금': ['이동통신요금'],\n",
    "        '반려동물': ['애완동물'],\n",
    "        '간편결제': ['인터넷P/G'],\n",
    "        '기타': ['전자상거래상품권전문판매', '캐주얼의류', 'CATV', '택시회사', '위성방송', '음반영상물', '제 화','주방용구', '연 쇄 점', '액세서리', '전문서적', '주차장', '민예·공예품', '건축용 요업제품', '단란주점', '옷감·직물', '자동차시트·타이어', '독서실', '농기계', '조명기구', '세차장', '사무서비스', '컴퓨터', '가 방', '보일러·펌프·샷시', '카페트,커튼,천막,지물', '자동차부품', '자동차정비', '기타유통업', '이륜차판매', '카인테리어', '화물운송', '내의판매', '목재·석재·철물', '기타 사무용품', '기타가구', '신 발', '비영리/비대상', '기타대인서비스', '기타전기제품', 'DP&E', '주방용식기', '가타자동차서비스', '기타농업관련', '구내매점(국가기관등)', '아동의류', '이용원', '조세서비스', '기념품점', '유흥주점', '통신기기', '화원', '화장품', '기타잡화', '유아원', 'LPG취급점', '페인트', '출판 및 인쇄물', '귀금속', '문구용품', '위탁급식업', '비료,사료,종자', '침구·수예점', '당구장', '가전제품', '인터넷Mall', '가정용품수리', '사무·통신기기수리', '안경', '세탁소', '사우나', '일반서적', '노 래 방', '기계공구',  '완구점', '기타의류', '미곡상', '기타용역서비스', '기타수리서비스', '기타건축자재', '일반가구', '사무용 OA기기', '인테리어전문', '가례서비스업', '시 계', '비영리/대상', '윤활유전문판매', '정수기', '공공요금대행서비스/소득공제비대상', '화방·표구점', '볼 링 장', '인터넷종합Mall', '기타 전문점', '통신판매업1', '종합용역', '전자상거래상품권', '보관및 창고업', '유류판매', '업종미등록', '통신서비스/소득공제비대상', '기타서적문구', '수족관', '공공요금대행서비스/소득공제대상', '상품권전문판매', '혼례서비스업', '냉열기기', '비씨카드 정산용(할인)', '일반(통신판매)', '기타4', '기타1', '부동산중개·임대', 'CATV홈쇼핑', '소프트웨어', '의료용품', '정장', '맞춤복점', '단체복', '상 품 권', 'PG상품권', '비씨카드 정산용가맹점',  '미용재료']\n",
    "    }\n",
    "    for category, values in mapping.items():\n",
    "        df['가맹점업종명'] = df['가맹점업종명'].replace(values, category)\n",
    "    print(df['가맹점업종명'].unique())\n",
    "    return df\n"
   ]
  },
  {
   "cell_type": "code",
   "execution_count": 11,
   "id": "8742bdcb-c1c0-4577-b16e-fb277d78c776",
   "metadata": {},
   "outputs": [],
   "source": [
    "def rename_category_store_5(df):\n",
    "    \"\"\"\n",
    "    가맹점 업종명을 미리 정의된 카테고리로 분류하여 새로운 '분류' 컬럼에 추가하는 함수입니다.\n",
    "\n",
    "    이 함수는 입력된 데이터프레임의 '가맹점업종명' 열의 값들을 사전 정의된 카테고리로 매핑하여,\n",
    "    각 가맹점이 해당하는 카테고리 정보를 새로운 '분류' 컬럼에 추가합니다. 이를 통해 다양한 업종을\n",
    "    지정된 범주의 카테고리로 분류하여 분석할 수 있습니다.\n",
    "\n",
    "    Parameters:\n",
    "    df (pd.DataFrame): '가맹점업종명' 열을 포함한 데이터프레임.\n",
    "\n",
    "    Returns:\n",
    "    pd.DataFrame: '분류' 열이 추가된 데이터프레임.\n",
    "\n",
    "    Example:\n",
    "    >>> data = pd.DataFrame({\n",
    "    ...     '가맹점업종명': ['백화점', '피부미용실', '골프경기장', '주점', '약국'],\n",
    "    ...     '승인금액': [10000, 20000, 30000, 40000, 50000]\n",
    "    ... })\n",
    "    >>> rename_category_store_5(data)\n",
    "    가맹점업종명 열을 다음과 같은 카테고리로 재분류합니다: ['쇼핑', '기타', '여가', '기타', '식음료']\n",
    "    \n",
    "    Categories:\n",
    "      - 생활비: ['이동통신요금', '의료/보험', '교육/학원', '반려동물', '주유', '미용']\n",
    "      - 식음료: ['외식', '카페/베이커리', '음식료품']\n",
    "      - 쇼핑: ['백화점', '홈쇼핑', '온라인쇼핑', '간편결제', '편의점', '대형마트']\n",
    "      - 여가: ['스포츠/레저', '여행/교통', '문화생활']\n",
    "      - 기타: ['기타']\n",
    "    \n",
    "    \"\"\"\n",
    "    \n",
    "    mapping = {\n",
    "       '생활비' : ['이동통신요금', '의료/보험' , '교육/학원', '반려동물', '주유', '미용'],\n",
    "        '식음료' : ['외식', '카페/베이커리', '음식료품'],\n",
    "        '쇼핑' : ['백화점', '홈쇼핑', '온라인쇼핑', '간편결제', '편의점', '대형마트'],\n",
    "        '여가' : ['스포츠/레저', '여행/교통', '문화생활'],\n",
    "        '기타' : ['기타']\n",
    "    }\n",
    " \n",
    "    df['분류'] = df['가맹점업종명']\n",
    "    for category, values in mapping.items():\n",
    "        df.loc[df['가맹점업종명'].isin(values), '분류'] = category\n",
    "\n",
    "    print(df['분류'].unique())\n",
    "    return df\n"
   ]
  },
  {
   "cell_type": "code",
   "execution_count": 5,
   "id": "c0f3fcb9-aac3-43c0-8550-eb5092db66ab",
   "metadata": {},
   "outputs": [
    {
     "data": {
      "text/html": [
       "<div>\n",
       "<style scoped>\n",
       "    .dataframe tbody tr th:only-of-type {\n",
       "        vertical-align: middle;\n",
       "    }\n",
       "\n",
       "    .dataframe tbody tr th {\n",
       "        vertical-align: top;\n",
       "    }\n",
       "\n",
       "    .dataframe thead th {\n",
       "        text-align: right;\n",
       "    }\n",
       "</style>\n",
       "<table border=\"1\" class=\"dataframe\">\n",
       "  <thead>\n",
       "    <tr style=\"text-align: right;\">\n",
       "      <th></th>\n",
       "      <th>고객ID</th>\n",
       "      <th>거래년월</th>\n",
       "      <th>가맹점업종명</th>\n",
       "      <th>가맹점_광역시도</th>\n",
       "      <th>가맹점_시군구</th>\n",
       "      <th>승인건수</th>\n",
       "      <th>승인금액</th>\n",
       "    </tr>\n",
       "  </thead>\n",
       "  <tbody>\n",
       "    <tr>\n",
       "      <th>0</th>\n",
       "      <td>9997364303</td>\n",
       "      <td>202212</td>\n",
       "      <td>이동통신요금</td>\n",
       "      <td>서울특별시</td>\n",
       "      <td>중구</td>\n",
       "      <td>5번이하</td>\n",
       "      <td>70000</td>\n",
       "    </tr>\n",
       "    <tr>\n",
       "      <th>1</th>\n",
       "      <td>9997364303</td>\n",
       "      <td>202212</td>\n",
       "      <td>외식</td>\n",
       "      <td>경상북도</td>\n",
       "      <td>영천시</td>\n",
       "      <td>5번이하</td>\n",
       "      <td>120000</td>\n",
       "    </tr>\n",
       "    <tr>\n",
       "      <th>2</th>\n",
       "      <td>9997364303</td>\n",
       "      <td>202212</td>\n",
       "      <td>온라인쇼핑</td>\n",
       "      <td>경기도</td>\n",
       "      <td>성남시 분당구</td>\n",
       "      <td>5번이하</td>\n",
       "      <td>80000</td>\n",
       "    </tr>\n",
       "    <tr>\n",
       "      <th>3</th>\n",
       "      <td>9997364303</td>\n",
       "      <td>202212</td>\n",
       "      <td>의료/보험</td>\n",
       "      <td>경상북도</td>\n",
       "      <td>영천시</td>\n",
       "      <td>5번이하</td>\n",
       "      <td>10000</td>\n",
       "    </tr>\n",
       "    <tr>\n",
       "      <th>4</th>\n",
       "      <td>9997364303</td>\n",
       "      <td>202212</td>\n",
       "      <td>외식</td>\n",
       "      <td>경상북도</td>\n",
       "      <td>영천시</td>\n",
       "      <td>5번이하</td>\n",
       "      <td>30000</td>\n",
       "    </tr>\n",
       "  </tbody>\n",
       "</table>\n",
       "</div>"
      ],
      "text/plain": [
       "         고객ID    거래년월  가맹점업종명 가맹점_광역시도  가맹점_시군구  승인건수    승인금액\n",
       "0  9997364303  202212  이동통신요금    서울특별시       중구  5번이하   70000\n",
       "1  9997364303  202212      외식     경상북도      영천시  5번이하  120000\n",
       "2  9997364303  202212   온라인쇼핑      경기도  성남시 분당구  5번이하   80000\n",
       "3  9997364303  202212   의료/보험     경상북도      영천시  5번이하   10000\n",
       "4  9997364303  202212      외식     경상북도      영천시  5번이하   30000"
      ]
     },
     "execution_count": 5,
     "metadata": {},
     "output_type": "execute_result"
    }
   ],
   "source": [
    "cc_22_40.head()"
   ]
  },
  {
   "cell_type": "code",
   "execution_count": 9,
   "id": "bea32a46-4169-4676-8065-761f504cfb14",
   "metadata": {},
   "outputs": [
    {
     "name": "stdout",
     "output_type": "stream",
     "text": [
      "['생활비' '식음료' '쇼핑' '기타' '여가']\n"
     ]
    }
   ],
   "source": [
    "cc_22_40_n = rename_category_store_5(cc_22_40)"
   ]
  },
  {
   "cell_type": "code",
   "execution_count": 10,
   "id": "daa2c5c7-9cd0-4fb4-99ce-d7b289a91a27",
   "metadata": {},
   "outputs": [
    {
     "data": {
      "text/html": [
       "<div>\n",
       "<style scoped>\n",
       "    .dataframe tbody tr th:only-of-type {\n",
       "        vertical-align: middle;\n",
       "    }\n",
       "\n",
       "    .dataframe tbody tr th {\n",
       "        vertical-align: top;\n",
       "    }\n",
       "\n",
       "    .dataframe thead th {\n",
       "        text-align: right;\n",
       "    }\n",
       "</style>\n",
       "<table border=\"1\" class=\"dataframe\">\n",
       "  <thead>\n",
       "    <tr style=\"text-align: right;\">\n",
       "      <th></th>\n",
       "      <th>고객ID</th>\n",
       "      <th>거래년월</th>\n",
       "      <th>가맹점업종명</th>\n",
       "      <th>가맹점_광역시도</th>\n",
       "      <th>가맹점_시군구</th>\n",
       "      <th>승인건수</th>\n",
       "      <th>승인금액</th>\n",
       "      <th>분류</th>\n",
       "    </tr>\n",
       "  </thead>\n",
       "  <tbody>\n",
       "    <tr>\n",
       "      <th>0</th>\n",
       "      <td>9997364303</td>\n",
       "      <td>202212</td>\n",
       "      <td>이동통신요금</td>\n",
       "      <td>서울특별시</td>\n",
       "      <td>중구</td>\n",
       "      <td>5번이하</td>\n",
       "      <td>70000</td>\n",
       "      <td>생활비</td>\n",
       "    </tr>\n",
       "    <tr>\n",
       "      <th>1</th>\n",
       "      <td>9997364303</td>\n",
       "      <td>202212</td>\n",
       "      <td>외식</td>\n",
       "      <td>경상북도</td>\n",
       "      <td>영천시</td>\n",
       "      <td>5번이하</td>\n",
       "      <td>120000</td>\n",
       "      <td>식음료</td>\n",
       "    </tr>\n",
       "    <tr>\n",
       "      <th>2</th>\n",
       "      <td>9997364303</td>\n",
       "      <td>202212</td>\n",
       "      <td>온라인쇼핑</td>\n",
       "      <td>경기도</td>\n",
       "      <td>성남시 분당구</td>\n",
       "      <td>5번이하</td>\n",
       "      <td>80000</td>\n",
       "      <td>쇼핑</td>\n",
       "    </tr>\n",
       "    <tr>\n",
       "      <th>3</th>\n",
       "      <td>9997364303</td>\n",
       "      <td>202212</td>\n",
       "      <td>의료/보험</td>\n",
       "      <td>경상북도</td>\n",
       "      <td>영천시</td>\n",
       "      <td>5번이하</td>\n",
       "      <td>10000</td>\n",
       "      <td>생활비</td>\n",
       "    </tr>\n",
       "    <tr>\n",
       "      <th>4</th>\n",
       "      <td>9997364303</td>\n",
       "      <td>202212</td>\n",
       "      <td>외식</td>\n",
       "      <td>경상북도</td>\n",
       "      <td>영천시</td>\n",
       "      <td>5번이하</td>\n",
       "      <td>30000</td>\n",
       "      <td>식음료</td>\n",
       "    </tr>\n",
       "  </tbody>\n",
       "</table>\n",
       "</div>"
      ],
      "text/plain": [
       "         고객ID    거래년월  가맹점업종명 가맹점_광역시도  가맹점_시군구  승인건수    승인금액   분류\n",
       "0  9997364303  202212  이동통신요금    서울특별시       중구  5번이하   70000  생활비\n",
       "1  9997364303  202212      외식     경상북도      영천시  5번이하  120000  식음료\n",
       "2  9997364303  202212   온라인쇼핑      경기도  성남시 분당구  5번이하   80000   쇼핑\n",
       "3  9997364303  202212   의료/보험     경상북도      영천시  5번이하   10000  생활비\n",
       "4  9997364303  202212      외식     경상북도      영천시  5번이하   30000  식음료"
      ]
     },
     "execution_count": 10,
     "metadata": {},
     "output_type": "execute_result"
    }
   ],
   "source": [
    "cc_22_40_n.head()"
   ]
  },
  {
   "cell_type": "code",
   "execution_count": 14,
   "id": "27b784a4-7107-4248-bbe9-838d0420902c",
   "metadata": {},
   "outputs": [
    {
     "data": {
      "text/html": [
       "<div>\n",
       "<style scoped>\n",
       "    .dataframe tbody tr th:only-of-type {\n",
       "        vertical-align: middle;\n",
       "    }\n",
       "\n",
       "    .dataframe tbody tr th {\n",
       "        vertical-align: top;\n",
       "    }\n",
       "\n",
       "    .dataframe thead th {\n",
       "        text-align: right;\n",
       "    }\n",
       "</style>\n",
       "<table border=\"1\" class=\"dataframe\">\n",
       "  <thead>\n",
       "    <tr style=\"text-align: right;\">\n",
       "      <th></th>\n",
       "      <th>고객ID</th>\n",
       "      <th>거래년월</th>\n",
       "      <th>가맹점업종명</th>\n",
       "      <th>가맹점_광역시도</th>\n",
       "      <th>가맹점_시군구</th>\n",
       "      <th>승인건수</th>\n",
       "      <th>승인금액</th>\n",
       "    </tr>\n",
       "  </thead>\n",
       "  <tbody>\n",
       "    <tr>\n",
       "      <th>0</th>\n",
       "      <td>9997288918</td>\n",
       "      <td>202312</td>\n",
       "      <td>기타</td>\n",
       "      <td>서울특별시</td>\n",
       "      <td>중구</td>\n",
       "      <td>5번이하</td>\n",
       "      <td>10000</td>\n",
       "    </tr>\n",
       "    <tr>\n",
       "      <th>1</th>\n",
       "      <td>9997288918</td>\n",
       "      <td>202312</td>\n",
       "      <td>대형마트</td>\n",
       "      <td>경상북도</td>\n",
       "      <td>경산시</td>\n",
       "      <td>5번이하</td>\n",
       "      <td>30000</td>\n",
       "    </tr>\n",
       "    <tr>\n",
       "      <th>2</th>\n",
       "      <td>9997288918</td>\n",
       "      <td>202312</td>\n",
       "      <td>음식료품</td>\n",
       "      <td>경상남도</td>\n",
       "      <td>김해시</td>\n",
       "      <td>5번이하</td>\n",
       "      <td>30000</td>\n",
       "    </tr>\n",
       "    <tr>\n",
       "      <th>3</th>\n",
       "      <td>9997288918</td>\n",
       "      <td>202312</td>\n",
       "      <td>편의점</td>\n",
       "      <td>경상북도</td>\n",
       "      <td>김천시</td>\n",
       "      <td>5번이하</td>\n",
       "      <td>30000</td>\n",
       "    </tr>\n",
       "    <tr>\n",
       "      <th>4</th>\n",
       "      <td>9997288918</td>\n",
       "      <td>202312</td>\n",
       "      <td>외식</td>\n",
       "      <td>경상북도</td>\n",
       "      <td>김천시</td>\n",
       "      <td>5번이하</td>\n",
       "      <td>20000</td>\n",
       "    </tr>\n",
       "  </tbody>\n",
       "</table>\n",
       "</div>"
      ],
      "text/plain": [
       "         고객ID    거래년월 가맹점업종명 가맹점_광역시도 가맹점_시군구  승인건수   승인금액\n",
       "0  9997288918  202312     기타    서울특별시      중구  5번이하  10000\n",
       "1  9997288918  202312   대형마트     경상북도     경산시  5번이하  30000\n",
       "2  9997288918  202312   음식료품     경상남도     김해시  5번이하  30000\n",
       "3  9997288918  202312    편의점     경상북도     김천시  5번이하  30000\n",
       "4  9997288918  202312     외식     경상북도     김천시  5번이하  20000"
      ]
     },
     "execution_count": 14,
     "metadata": {},
     "output_type": "execute_result"
    }
   ],
   "source": [
    "cc_23_40.head()"
   ]
  },
  {
   "cell_type": "code",
   "execution_count": 15,
   "id": "ac069091-39d3-4628-a47f-16a7d1124738",
   "metadata": {},
   "outputs": [
    {
     "name": "stdout",
     "output_type": "stream",
     "text": [
      "['기타' '쇼핑' '식음료' '생활비' '여가']\n",
      "['기타' '쇼핑' '식음료' '생활비' '여가']\n",
      "['기타' '쇼핑' '식음료' '생활비' '여가']\n"
     ]
    }
   ],
   "source": [
    "cc_23_40_n = rename_category_store_5(cc_23_40)\n",
    "cc_23_50_n = rename_category_store_5(cc_23_40)\n",
    "cc_23_60_n = rename_category_store_5(cc_23_40)"
   ]
  },
  {
   "cell_type": "code",
   "execution_count": 16,
   "id": "901a1bec-451e-4a16-bcc5-355cb0858099",
   "metadata": {},
   "outputs": [],
   "source": [
    "cc_23_40_n.to_csv('cc_23_40_n.csv', index=False, encoding='utf-8-sig')\n",
    "cc_23_50_n.to_csv('cc_23_50_n.csv', index=False, encoding='utf-8-sig')\n",
    "cc_23_60_n.to_csv('cc_23_60_n.csv', index=False, encoding='utf-8-sig')"
   ]
  },
  {
   "cell_type": "code",
   "execution_count": 24,
   "id": "df21329b-9569-4308-b53c-fb01758d36ec",
   "metadata": {},
   "outputs": [
    {
     "name": "stdout",
     "output_type": "stream",
     "text": [
      "['외식' '기타' '미용' '스포츠/레저' '의료/보험' '여행/교통' '카페/베이커리' '주유' '대형마트' '음식료품'\n",
      " '편의점' '교육/학원' '문화생활' '간편결제' '반려동물' '백화점' '이동통신요금']\n"
     ]
    }
   ],
   "source": [
    "# 사용 예시\n",
    "test6 = rename_category_store(card_22)"
   ]
  },
  {
   "cell_type": "markdown",
   "id": "7d0e0cac-54b0-47a0-bb6b-8787d83ea3bd",
   "metadata": {},
   "source": [
    "### 지역 재분류"
   ]
  },
  {
   "cell_type": "code",
   "execution_count": 25,
   "id": "80a2df13-e27b-4327-b777-08ac631177f1",
   "metadata": {},
   "outputs": [],
   "source": [
    "def rename_category_region(df):\n",
    "    \"\"\"\n",
    "    가맹점 위치의 광역시도를 지정된 지역권으로 재분류하는 함수입니다.\n",
    "\n",
    "    이 함수는 데이터프레임의 '가맹점_광역시도' 열에 대해 지역별 분류를 수행하여,\n",
    "    수도권, 영남권, 충청권, 호남권, 강원·제주권으로 대체합니다.\n",
    "\n",
    "    Parameters:\n",
    "    df (pd.DataFrame): '가맹점_광역시도' 열을 포함한 데이터프레임.\n",
    "\n",
    "    Returns:\n",
    "    pd.DataFrame: '가맹점_광역시도' 열이 지역권으로 재분류된 데이터프레임.\n",
    "\n",
    "    Example:\n",
    "    >>> data = pd.DataFrame({\n",
    "    ...     '가맹점_광역시도': ['서울특별시', '부산광역시', '제주특별자치도', '경기도', '대전광역시'],\n",
    "    ...     '승인금액': [10000, 20000, 15000, 5000, 3000]\n",
    "    ... })\n",
    "    >>> rename_category_region(data)\n",
    "    '가맹점_광역시도' 열을 다음과 같이 재분류합니다: 수도권, 영남권, 강원·제주권, 충청권 등.\n",
    "    \"\"\"\n",
    "    region_groups = {\n",
    "        '서울특별시': '수도권', '경기도': '수도권', '인천광역시': '수도권',\n",
    "        '부산광역시': '영남권', '울산광역시': '영남권', '경상남도': '영남권',\n",
    "        '충청북도': '충청권', '충청남도': '충청권', '대전광역시': '충청권', '세종특별자치시': '충청권',\n",
    "        '전북특별자치도': '호남권', '전라남도': '호남권', '광주광역시': '호남권',\n",
    "        '강원특별자치도': '강원·제주권', '제주특별자치도': '강원·제주권'\n",
    "    }\n",
    "\n",
    "    df['가맹점_광역시도'] = df['가맹점_광역시도'].replace(region_groups)\n",
    "    df['가맹점_광역시도'].value_counts()\n",
    "    return df\n"
   ]
  },
  {
   "cell_type": "code",
   "execution_count": 26,
   "id": "e28dd99f-e441-47f1-a7b9-793ac67c9636",
   "metadata": {},
   "outputs": [],
   "source": [
    "# 사용 예시\n",
    "test7 = rename_category_region(test6)"
   ]
  },
  {
   "cell_type": "markdown",
   "id": "be6b94b0-4177-44e6-a651-64d9bb188763",
   "metadata": {},
   "source": [
    "### join (merge)"
   ]
  },
  {
   "cell_type": "code",
   "execution_count": 27,
   "id": "c2b681f7-bd73-482f-ae05-6f71c020e265",
   "metadata": {},
   "outputs": [],
   "source": [
    "def join(df1, df2, key, way):\n",
    "    \"\"\"\n",
    "    두 데이터프레임을 지정된 키와 조인 방식에 따라 병합하는 함수입니다.\n",
    "\n",
    "    이 함수는 `pd.merge`를 사용하여 두 데이터프레임을 특정 열(`key`)을 기준으로 \n",
    "    주어진 조인 방식(`way`)에 따라 병합합니다. 병합 결과는 데이터프레임 형식으로 반환됩니다.\n",
    "\n",
    "    Parameters:\n",
    "    df1 (pd.DataFrame): 첫 번째 데이터프레임.\n",
    "    df2 (pd.DataFrame): 두 번째 데이터프레임.\n",
    "    key (str): 조인할 때 사용할 공통 열의 이름.\n",
    "    way (str): 조인 방식 (예: 'inner', 'left', 'right', 'outer').\n",
    "\n",
    "    Returns:\n",
    "    pd.DataFrame: 지정된 키와 방식으로 병합된 데이터프레임.\n",
    "\n",
    "    Example:\n",
    "    >>> df1 = pd.DataFrame({'ID': [1, 2, 3], 'Value1': ['A', 'B', 'C']})\n",
    "    >>> df2 = pd.DataFrame({'ID': [2, 3, 4], 'Value2': ['X', 'Y', 'Z']})\n",
    "    >>> join(df1, df2, key='ID', way='inner')\n",
    "    <class 'pandas.core.frame.DataFrame'>\n",
    "       ID Value1 Value2\n",
    "    0   2      B      X\n",
    "    1   3      C      Y\n",
    "    \"\"\"\n",
    "    df_joined = pd.merge(df1, df2, on=f'{key}', how=f'{way}')\n",
    "    print(type(df_joined))\n",
    "    print(df_joined.head(3))\n",
    "    return df_joined\n"
   ]
  },
  {
   "cell_type": "code",
   "execution_count": 28,
   "id": "d629afae-58fb-4a2c-992b-b18bc46e0592",
   "metadata": {},
   "outputs": [
    {
     "name": "stdout",
     "output_type": "stream",
     "text": [
      "<class 'pandas.core.frame.DataFrame'>\n",
      "RangeIndex: 62945850 entries, 0 to 62945849\n",
      "Data columns (total 7 columns):\n",
      " #   Column    Dtype \n",
      "---  ------    ----- \n",
      " 0   거래년월      int64 \n",
      " 1   고객ID      int64 \n",
      " 2   가맹점업종명    object\n",
      " 3   가맹점_광역시도  object\n",
      " 4   가맹점_시군구   object\n",
      " 5   승인건수      object\n",
      " 6   승인금액      int64 \n",
      "dtypes: int64(3), object(4)\n",
      "memory usage: 3.3+ GB\n"
     ]
    }
   ],
   "source": [
    "test6.info()"
   ]
  },
  {
   "cell_type": "code",
   "execution_count": 29,
   "id": "e63e3562-14bd-4d90-a208-89b55fdf0611",
   "metadata": {},
   "outputs": [
    {
     "ename": "NameError",
     "evalue": "name 'test5' is not defined",
     "output_type": "error",
     "traceback": [
      "\u001b[1;31m---------------------------------------------------------------------------\u001b[0m",
      "\u001b[1;31mNameError\u001b[0m                                 Traceback (most recent call last)",
      "Cell \u001b[1;32mIn[29], line 1\u001b[0m\n\u001b[1;32m----> 1\u001b[0m \u001b[43mtest5\u001b[49m\u001b[38;5;241m.\u001b[39minfo()\n",
      "\u001b[1;31mNameError\u001b[0m: name 'test5' is not defined"
     ]
    }
   ],
   "source": [
    "test5.info()"
   ]
  },
  {
   "cell_type": "code",
   "execution_count": null,
   "id": "95012a7e-94d0-4950-b6f6-b8e01c37ac80",
   "metadata": {},
   "outputs": [],
   "source": [
    "test6 = clean_df(test6)\n",
    "test6.info()"
   ]
  },
  {
   "cell_type": "code",
   "execution_count": null,
   "id": "3a3667d3-dbb4-4c30-8a42-b797043bde60",
   "metadata": {},
   "outputs": [],
   "source": [
    "test8 = join(test6, test5, \"고객ID\", \"inner\")"
   ]
  },
  {
   "cell_type": "markdown",
   "id": "a7ebaa5d-f44d-4ea9-9d5f-39848e8cb00e",
   "metadata": {},
   "source": [
    "### 연령대와 다른 원하는 컬럼들만 뽑아 dataframe으로 만드는 함수"
   ]
  },
  {
   "cell_type": "code",
   "execution_count": null,
   "id": "30cbc9db-21c0-47a7-8372-1bcbee659752",
   "metadata": {},
   "outputs": [],
   "source": [
    "#def slicing(df,generation=None,feature=None): # feature에 뽑고 싶은 연령대를 입력한다. 예: \"60대이상\", \"40대\"\n",
    "#    df_filtered = df[df['연령대'].isin([f'{generation}'])]\n",
    "#    selected_df = df_filtered.loc[:, [f'[{feature}', '연령대']]\n",
    "#    df_edit = pd.DataFrame(selected_df['고객ID'].unique(), columns=['고객ID'])\n",
    "#    print(type(df_edit))\n",
    "#    print(df_edit.head())\n",
    "#    return df_edit"
   ]
  },
  {
   "cell_type": "code",
   "execution_count": null,
   "id": "994261c0-4b97-4fda-bab9-cc1c040aaaf6",
   "metadata": {},
   "outputs": [],
   "source": [
    "def slicing(df, generation=None, feature=None):  \n",
    "    \"\"\"\n",
    "    특정 연령대와 선택한 컬럼들로 필터링된 데이터프레임을 반환하는 함수입니다.\n",
    "\n",
    "    이 함수는 지정된 연령대(`generation`)와 특정 컬럼들(`feature`)을 기반으로 데이터프레임을 필터링합니다. \n",
    "    `generation`과 `feature`가 단일 값일 경우, 리스트로 변환하여 다중 값으로 처리할 수 있습니다.\n",
    "\n",
    "    Parameters:\n",
    "    df (pd.DataFrame): 필터링할 데이터프레임.\n",
    "    generation (str or list of str, optional): 필터링할 연령대(예: \"40대\"). 하나 이상의 연령대를 리스트로 전달할 수 있습니다.\n",
    "    feature (str or list of str, optional): 필터링할 컬럼명(예: '고객ID'). 하나 이상의 컬럼명을 리스트로 전달할 수 있습니다.\n",
    "\n",
    "    Returns:\n",
    "    pd.DataFrame: 지정된 연령대와 선택한 컬럼들만 포함하는 필터링된 데이터프레임.\n",
    "\n",
    "    Example:\n",
    "    >>> data = pd.DataFrame({\n",
    "    ...     '고객ID': [1, 2, 3, 4],\n",
    "    ...     '연령대': ['40대', '50대', '40대', '60대'],\n",
    "    ...     '지출액': [10000, 20000, 15000, 5000]\n",
    "    ... })\n",
    "    >>> slicing(data, generation=\"40대\", feature=\"고객ID\")\n",
    "    <class 'pandas.core.frame.DataFrame'>\n",
    "       고객ID   연령대\n",
    "    0      1  40대\n",
    "    2      3  40대\n",
    "    \"\"\"\n",
    "    # generation과 feature가 단일 값일 경우 리스트로 변환\n",
    "    if isinstance(generation, str):  \n",
    "        generation = [generation]\n",
    "    if isinstance(feature, str):  \n",
    "        feature = [feature]\n",
    "        \n",
    "    df_filtered = df[df['연령대'].isin(generation)]\n",
    "    sliced_df = df_filtered.loc[:, feature + ['연령대']]  # feature 리스트와 '연령대' 추가\n",
    "\n",
    "    print(type(sliced_df))\n",
    "    print(sliced_df.head())\n",
    "    return sliced_df\n"
   ]
  },
  {
   "cell_type": "code",
   "execution_count": 30,
   "id": "e8af68e4-d25f-48cb-8906-c75e9d6d9f6b",
   "metadata": {},
   "outputs": [
    {
     "data": {
      "text/html": [
       "<div>\n",
       "<style scoped>\n",
       "    .dataframe tbody tr th:only-of-type {\n",
       "        vertical-align: middle;\n",
       "    }\n",
       "\n",
       "    .dataframe tbody tr th {\n",
       "        vertical-align: top;\n",
       "    }\n",
       "\n",
       "    .dataframe thead th {\n",
       "        text-align: right;\n",
       "    }\n",
       "</style>\n",
       "<table border=\"1\" class=\"dataframe\">\n",
       "  <thead>\n",
       "    <tr style=\"text-align: right;\">\n",
       "      <th></th>\n",
       "      <th>고객ID</th>\n",
       "      <th>거래년월</th>\n",
       "      <th>가맹점업종명</th>\n",
       "      <th>가맹점_광역시도</th>\n",
       "      <th>가맹점_시군구</th>\n",
       "      <th>승인건수</th>\n",
       "      <th>승인금액</th>\n",
       "    </tr>\n",
       "  </thead>\n",
       "  <tbody>\n",
       "    <tr>\n",
       "      <th>0</th>\n",
       "      <td>9997364303</td>\n",
       "      <td>202212</td>\n",
       "      <td>이동통신요금</td>\n",
       "      <td>서울특별시</td>\n",
       "      <td>중구</td>\n",
       "      <td>5번이하</td>\n",
       "      <td>70000</td>\n",
       "    </tr>\n",
       "    <tr>\n",
       "      <th>1</th>\n",
       "      <td>9997364303</td>\n",
       "      <td>202212</td>\n",
       "      <td>외식</td>\n",
       "      <td>경상북도</td>\n",
       "      <td>영천시</td>\n",
       "      <td>5번이하</td>\n",
       "      <td>120000</td>\n",
       "    </tr>\n",
       "    <tr>\n",
       "      <th>2</th>\n",
       "      <td>9997364303</td>\n",
       "      <td>202212</td>\n",
       "      <td>온라인쇼핑</td>\n",
       "      <td>경기도</td>\n",
       "      <td>성남시 분당구</td>\n",
       "      <td>5번이하</td>\n",
       "      <td>80000</td>\n",
       "    </tr>\n",
       "    <tr>\n",
       "      <th>3</th>\n",
       "      <td>9997364303</td>\n",
       "      <td>202212</td>\n",
       "      <td>의료/보험</td>\n",
       "      <td>경상북도</td>\n",
       "      <td>영천시</td>\n",
       "      <td>5번이하</td>\n",
       "      <td>10000</td>\n",
       "    </tr>\n",
       "    <tr>\n",
       "      <th>4</th>\n",
       "      <td>9997364303</td>\n",
       "      <td>202212</td>\n",
       "      <td>외식</td>\n",
       "      <td>경상북도</td>\n",
       "      <td>영천시</td>\n",
       "      <td>5번이하</td>\n",
       "      <td>30000</td>\n",
       "    </tr>\n",
       "  </tbody>\n",
       "</table>\n",
       "</div>"
      ],
      "text/plain": [
       "         고객ID    거래년월  가맹점업종명 가맹점_광역시도  가맹점_시군구  승인건수    승인금액\n",
       "0  9997364303  202212  이동통신요금    서울특별시       중구  5번이하   70000\n",
       "1  9997364303  202212      외식     경상북도      영천시  5번이하  120000\n",
       "2  9997364303  202212   온라인쇼핑      경기도  성남시 분당구  5번이하   80000\n",
       "3  9997364303  202212   의료/보험     경상북도      영천시  5번이하   10000\n",
       "4  9997364303  202212      외식     경상북도      영천시  5번이하   30000"
      ]
     },
     "execution_count": 30,
     "metadata": {},
     "output_type": "execute_result"
    }
   ],
   "source": [
    "cc_22_40.head()"
   ]
  },
  {
   "cell_type": "code",
   "execution_count": null,
   "id": "e575c546-c9f1-4f1e-9c31-b6db969f64cb",
   "metadata": {},
   "outputs": [],
   "source": []
  },
  {
   "cell_type": "code",
   "execution_count": null,
   "id": "4931c7f4-8f29-48b4-9817-ff77219c57c1",
   "metadata": {},
   "outputs": [],
   "source": [
    "test9 = slicing(customer_22, generation=[\"40대\", \"50대\"], feature=[\"고객ID\",\"성별\", \"고객등급\"])"
   ]
  },
  {
   "cell_type": "markdown",
   "id": "97356633-9e92-41a6-9ece-30d92ec9c8d9",
   "metadata": {},
   "source": [
    "### 세대 - 가맹업종별 승인금액 bar plot"
   ]
  },
  {
   "cell_type": "code",
   "execution_count": null,
   "id": "550ee13a-aca3-4932-9d9f-3f440b8a0782",
   "metadata": {},
   "outputs": [],
   "source": [
    "def amount_generation(df, year, generation=None, top=None, bottom=None, columns=None):\n",
    "    \"\"\"\n",
    "    연도와 세대별로 업종별 승인금액 합계를 시각화하는 함수입니다.\n",
    "\n",
    "    이 함수는 데이터프레임에서 업종별 승인금액 합계를 계산하여 바 차트로 시각화합니다. \n",
    "    특정 상위 또는 하위 업종을 선택하거나, 특정 업종 목록에 따라 필터링할 수 있습니다.\n",
    "\n",
    "    Parameters:\n",
    "    df (pd.DataFrame): '가맹점업종명'과 '승인금액' 열이 포함된 데이터프레임.\n",
    "    year (int): 시각화할 연도.\n",
    "    generation (str, optional): 특정 세대를 나타내는 문자열로, 제목에 포함됩니다. 기본값은 None입니다.\n",
    "    top (int, optional): 승인금액 합계 상위 몇 개의 업종을 표시할지 결정합니다. 기본값은 None입니다.\n",
    "    bottom (int, optional): 승인금액 합계 하위 몇 개의 업종을 표시할지 결정합니다. `top`과 함께 사용할 수 없습니다. 기본값은 None입니다.\n",
    "    columns (list of str, optional): 필터링할 업종명 리스트. 이 값이 주어지면 해당 업종들만 시각화에 포함됩니다. 기본값은 None입니다.\n",
    "\n",
    "    Returns:\n",
    "    None: 함수는 차트를 출력하며, 데이터프레임을 반환하지 않습니다.\n",
    "\n",
    "    Example:\n",
    "    >>> data = pd.DataFrame({\n",
    "    ...     '가맹점업종명': ['업종1', '업종2', '업종3', '업종4', '업종5'],\n",
    "    ...     '승인금액': [100000000, 200000000, 150000000, 50000000, 30000000]\n",
    "    ... })\n",
    "    >>> amount_generation(data, year=2023, generation=\"40대\", top=3)\n",
    "    \n",
    "    출력:\n",
    "    - 2023년도 40대 업종별 승인금액 합계에 대한 바 차트가 출력됩니다.\n",
    "    \"\"\"\n",
    "    fig, ax = plt.subplots(figsize=(10, 6))\n",
    "    total_amounts = df.groupby('가맹점업종명')['승인금액'].sum().reset_index()\n",
    "    total_amounts_sort = total_amounts.sort_values(by='승인금액', ascending=False)\n",
    "    if top is not None:\n",
    "        total_amounts_sort = total_amounts_sort.head(top)\n",
    "    elif bottom is not None:\n",
    "        total_amounts_sort = total_amounts_sort.tail(bottom)\n",
    "    if columns is not None:\n",
    "        total_amounts_sort = total_amounts_sort[total_amounts_sort['가맹점업종명'].isin(columns)]\n",
    "    ax = sns.barplot(x='가맹점업종명', y='승인금액', data=total_amounts_sort, palette=\"viridis\")\n",
    "    ax.set_title(f\"{year}년도 {generation} 업종별 승인금액 합계\")\n",
    "    ax.set_xlabel(\"업종\")\n",
    "    ax.set_ylabel(\"승인금액 합계\")\n",
    "    ax.set_xticklabels(ax.get_xticklabels(), rotation=45)\n",
    "    for p in ax.patches:\n",
    "        ax.text(\n",
    "            p.get_x() + p.get_width() / 2,  # x 위치 (막대 중앙)\n",
    "            p.get_height() + 0.5,           # y 위치 (막대 위)\n",
    "            f'{p.get_height() / 1e7:.2f}억',  # 억 단위로 변환 후 소수점 2자리까지 표시\n",
    "            ha='center',                    # 텍스트 가운데 정렬\n",
    "            fontsize=8\n",
    "        )\n",
    "    ax.text(1, 1.02, \"(단위: 억 원)\", ha='right', va='center', transform=ax.transAxes, fontsize=10, color=\"black\")\n",
    "plt.show()"
   ]
  },
  {
   "cell_type": "code",
   "execution_count": 34,
   "id": "4f52f5c3-f5df-4458-864d-359e2496ad79",
   "metadata": {},
   "outputs": [
    {
     "data": {
      "text/html": [
       "<div>\n",
       "<style scoped>\n",
       "    .dataframe tbody tr th:only-of-type {\n",
       "        vertical-align: middle;\n",
       "    }\n",
       "\n",
       "    .dataframe tbody tr th {\n",
       "        vertical-align: top;\n",
       "    }\n",
       "\n",
       "    .dataframe thead th {\n",
       "        text-align: right;\n",
       "    }\n",
       "</style>\n",
       "<table border=\"1\" class=\"dataframe\">\n",
       "  <thead>\n",
       "    <tr style=\"text-align: right;\">\n",
       "      <th></th>\n",
       "      <th>고객ID</th>\n",
       "      <th>거래년월</th>\n",
       "      <th>가맹점업종명</th>\n",
       "      <th>가맹점_광역시도</th>\n",
       "      <th>가맹점_시군구</th>\n",
       "      <th>승인건수</th>\n",
       "      <th>승인금액</th>\n",
       "    </tr>\n",
       "  </thead>\n",
       "  <tbody>\n",
       "    <tr>\n",
       "      <th>0</th>\n",
       "      <td>9997364303</td>\n",
       "      <td>202212</td>\n",
       "      <td>이동통신요금</td>\n",
       "      <td>서울특별시</td>\n",
       "      <td>중구</td>\n",
       "      <td>5번이하</td>\n",
       "      <td>70000</td>\n",
       "    </tr>\n",
       "    <tr>\n",
       "      <th>1</th>\n",
       "      <td>9997364303</td>\n",
       "      <td>202212</td>\n",
       "      <td>외식</td>\n",
       "      <td>경상북도</td>\n",
       "      <td>영천시</td>\n",
       "      <td>5번이하</td>\n",
       "      <td>120000</td>\n",
       "    </tr>\n",
       "    <tr>\n",
       "      <th>2</th>\n",
       "      <td>9997364303</td>\n",
       "      <td>202212</td>\n",
       "      <td>온라인쇼핑</td>\n",
       "      <td>경기도</td>\n",
       "      <td>성남시 분당구</td>\n",
       "      <td>5번이하</td>\n",
       "      <td>80000</td>\n",
       "    </tr>\n",
       "    <tr>\n",
       "      <th>3</th>\n",
       "      <td>9997364303</td>\n",
       "      <td>202212</td>\n",
       "      <td>의료/보험</td>\n",
       "      <td>경상북도</td>\n",
       "      <td>영천시</td>\n",
       "      <td>5번이하</td>\n",
       "      <td>10000</td>\n",
       "    </tr>\n",
       "    <tr>\n",
       "      <th>4</th>\n",
       "      <td>9997364303</td>\n",
       "      <td>202212</td>\n",
       "      <td>외식</td>\n",
       "      <td>경상북도</td>\n",
       "      <td>영천시</td>\n",
       "      <td>5번이하</td>\n",
       "      <td>30000</td>\n",
       "    </tr>\n",
       "  </tbody>\n",
       "</table>\n",
       "</div>"
      ],
      "text/plain": [
       "         고객ID    거래년월  가맹점업종명 가맹점_광역시도  가맹점_시군구  승인건수    승인금액\n",
       "0  9997364303  202212  이동통신요금    서울특별시       중구  5번이하   70000\n",
       "1  9997364303  202212      외식     경상북도      영천시  5번이하  120000\n",
       "2  9997364303  202212   온라인쇼핑      경기도  성남시 분당구  5번이하   80000\n",
       "3  9997364303  202212   의료/보험     경상북도      영천시  5번이하   10000\n",
       "4  9997364303  202212      외식     경상북도      영천시  5번이하   30000"
      ]
     },
     "execution_count": 34,
     "metadata": {},
     "output_type": "execute_result"
    }
   ],
   "source": [
    "cc_22_40.head()"
   ]
  },
  {
   "cell_type": "code",
   "execution_count": 35,
   "id": "8a0b884b-58ae-4498-a4e6-5ad8f5e76747",
   "metadata": {},
   "outputs": [
    {
     "data": {
      "image/png": "[encoded data removed]",
      "text/plain": [
       "<Figure size 1000x600 with 1 Axes>"
      ]
     },
     "metadata": {},
     "output_type": "display_data"
    }
   ],
   "source": [
    "test10 = amount_generation(cc_22_40, \"2022\", \"40대\")"
   ]
  },
  {
   "cell_type": "code",
   "execution_count": 36,
   "id": "ba8eb014-4e8f-4182-8e80-6565b546b617",
   "metadata": {},
   "outputs": [
    {
     "data": {
      "image/png": "[encoded data removed]",
      "text/plain": [
       "<Figure size 1000x600 with 1 Axes>"
      ]
     },
     "metadata": {},
     "output_type": "display_data"
    }
   ],
   "source": [
    "test11 = amount_generation(cc_22_50, \"2022\", \"50대\")"
   ]
  },
  {
   "cell_type": "code",
   "execution_count": 39,
   "id": "04bfa0a9-4795-4ff2-ae96-f392dd223e51",
   "metadata": {},
   "outputs": [
    {
     "data": {
      "image/png": "[encoded data removed]",
      "text/plain": [
       "<Figure size 1000x600 with 1 Axes>"
      ]
     },
     "metadata": {},
     "output_type": "display_data"
    }
   ],
   "source": [
    "test11_1 = amount_generation(cc_22_40, \"2022\", \"40대\", bottom=15)"
   ]
  },
  {
   "cell_type": "code",
   "execution_count": null,
   "id": "1558acb6-e2f2-4821-af34-b744825e3cfe",
   "metadata": {},
   "outputs": [],
   "source": [
    "test12 = amount_generation(cc_22_50, \"2022\", \"50대\")"
   ]
  },
  {
   "cell_type": "code",
   "execution_count": null,
   "id": "50cce04c-ee09-4c74-b227-1b01c885101d",
   "metadata": {},
   "outputs": [],
   "source": [
    "test13 = amount_generation(cc_22_60, \"2022\", \"60대이상\")"
   ]
  },
  {
   "cell_type": "code",
   "execution_count": null,
   "id": "6411a369-32ef-4d4d-879f-0b7565b7fa97",
   "metadata": {},
   "outputs": [],
   "source": [
    "test14 = amount_generation(cc_22_40_raw, \"2022\", \"60대이상\", 10)"
   ]
  },
  {
   "cell_type": "code",
   "execution_count": null,
   "id": "146a2fe8-7d1c-491d-9e9d-39267c2f55f6",
   "metadata": {},
   "outputs": [],
   "source": [
    "test14_1 = amount_generation(cc_22_60_raw, \"2022\", \"60대이상\", columns=['항공사', '면 세 점'])"
   ]
  },
  {
   "cell_type": "code",
   "execution_count": null,
   "id": "cb1e9916-c4cb-4832-a3b5-dde3d62ce943",
   "metadata": {},
   "outputs": [],
   "source": [
    "test14_2 = amount_generation(cc_22_60_raw, \"2022\", \"60대이상\", bottom=10)"
   ]
  },
  {
   "cell_type": "markdown",
   "id": "75c8fef9-7bd3-4c80-8d03-dd9f12f38171",
   "metadata": {},
   "source": [
    "### count barplot"
   ]
  },
  {
   "cell_type": "code",
   "execution_count": null,
   "id": "bd710c3c-bf37-4a1c-8af4-d53df020d233",
   "metadata": {},
   "outputs": [],
   "source": [
    "def barplot_counts(df, feature, year, generation):\n",
    "    \"\"\"\n",
    "    지정된 컬럼의 카드 거래량을 시각화하는 함수입니다.\n",
    "\n",
    "    이 함수는 데이터프레임에서 지정된 `feature` 컬럼의 값들을 세어 카드 거래량을 계산하고, \n",
    "    이를 백만 건 단위로 변환하여 막대 그래프로 시각화합니다.\n",
    "\n",
    "    Parameters:\n",
    "    df (pd.DataFrame): 시각화할 데이터프레임.\n",
    "    feature (str): 거래량을 계산할 컬럼명.\n",
    "    year (int): 시각화할 연도.\n",
    "    generation (str): 특정 세대명으로, 그래프 제목에 표시됩니다.\n",
    "\n",
    "    Returns:\n",
    "    None: 함수는 차트를 출력하며, 데이터프레임을 반환하지 않습니다.\n",
    "\n",
    "    Example:\n",
    "    >>> data = pd.DataFrame({\n",
    "    ...     '업종명': ['외식', '외식', '미용', '주유', '외식'],\n",
    "    ... })\n",
    "    >>> barplot_counts(data, feature='업종명', year=2023, generation=\"40대\")\n",
    "\n",
    "    출력:\n",
    "    - 2023년도 40대 업종별 카드 거래량에 대한 바 차트가 백만 건 단위로 표시됩니다.\n",
    "    \"\"\"\n",
    "    fig, ax = plt.subplots(figsize=(10, 6))\n",
    "    card_counts = df[feature].value_counts()\n",
    "    ax = sns.barplot(x=card_counts.index, y=card_counts.values / 1e6, palette=\"viridis\")\n",
    "    ax.set_title(f\"{year}년도 {generation} 카드거래량\")\n",
    "    ax.set_xlabel(f\"{feature}\")\n",
    "    ax.set_ylabel(\"거래량 (백만건)\")\n",
    "    ax.set_xticklabels(ax.get_xticklabels(), rotation=45)\n",
    "    ax.text(1, 1.02, \"(단위: 백만건)\", ha='right', va='center', transform=plt.gca().transAxes, fontsize=10, color=\"black\")\n",
    "    \n",
    "    for p in ax.patches:\n",
    "        ax.text(\n",
    "            p.get_x() + p.get_width() / 2,    # x 위치 (막대 중앙)\n",
    "            p.get_height() + 0.1,             # y 위치를 더 높게 조정 (막대 위 약간 위로)\n",
    "            f'{p.get_height():.2f}백만건',    # 백만 단위로 변환된 값 표시\n",
    "            ha='center',                      # 텍스트 가로 정렬 (중앙 정렬)\n",
    "            fontsize=8                       # 폰트 크기를 10으로 조정\n",
    "        )\n",
    "\n",
    "    ax.get_yaxis().get_major_formatter().set_scientific(False)\n",
    "    plt.show()\n"
   ]
  },
  {
   "cell_type": "code",
   "execution_count": null,
   "id": "b1e76bb5-7526-4e75-b1ac-880407ac8b87",
   "metadata": {},
   "outputs": [],
   "source": [
    "test15 = barplot_counts(cc_22_40, \"가맹점업종명\" ,\"2022\", \"40대\")"
   ]
  },
  {
   "cell_type": "markdown",
   "id": "b5730356-e287-410a-9ead-efab60ff968b",
   "metadata": {},
   "source": [
    "### 합계 barplot"
   ]
  },
  {
   "cell_type": "code",
   "execution_count": null,
   "id": "28ad4449-7138-467c-a609-f456f42878a2",
   "metadata": {},
   "outputs": [],
   "source": [
    "def barplot_sum(df, feature1, feature2, year, generation):\n",
    "    \"\"\"\n",
    "    지정된 컬럼을 기준으로 다른 컬럼의 합계를 시각화하는 함수입니다.\n",
    "\n",
    "    이 함수는 데이터프레임에서 `feature1` 컬럼을 기준으로 `feature2` 컬럼의 합계를 계산하고,\n",
    "    이를 조 단위로 변환하여 막대 그래프로 시각화합니다.\n",
    "\n",
    "    Parameters:\n",
    "    df (pd.DataFrame): 시각화할 데이터프레임.\n",
    "    feature1 (str): 그룹화할 컬럼명 (예: 업종명).\n",
    "    feature2 (str): 합계를 계산할 컬럼명 (예: 승인금액).\n",
    "    year (int): 시각화할 연도.\n",
    "    generation (str): 특정 세대명으로, 그래프 제목에 표시됩니다.\n",
    "\n",
    "    Returns:\n",
    "    None: 함수는 차트를 출력하며, 데이터프레임을 반환하지 않습니다.\n",
    "\n",
    "    Example:\n",
    "    >>> data = pd.DataFrame({\n",
    "    ...     '업종명': ['외식', '외식', '미용', '주유', '외식'],\n",
    "    ...     '승인금액': [1000000000000, 2000000000000, 1500000000000, 500000000000, 300000000000]\n",
    "    ... })\n",
    "    >>> barplot_sum(data, feature1='업종명', feature2='승인금액', year=2023, generation=\"40대\")\n",
    "\n",
    "    출력:\n",
    "    - 2023년도 40대 업종별 승인금액 합계에 대한 바 차트가 조 단위로 표시됩니다.\n",
    "    \"\"\"\n",
    "    fig, ax = plt.subplots(figsize=(10, 6))\n",
    "    total_amounts = df.groupby([feature1])[feature2].sum().reset_index()\n",
    "    total_amounts_sort = total_amounts.sort_values(by=feature2, ascending=False)\n",
    "    ax = sns.barplot(x=f'{feature1}', y=f'{feature2}', data=total_amounts_sort, palette=\"viridis\")\n",
    "    ax.set_title(f\"{year}년도 {generation} {feature1}별 {feature2} 합계\")\n",
    "    ax.set_xlabel(f\"{feature1}\")\n",
    "    ax.set_ylabel(f\"{feature2} 합계\")\n",
    "    ax.set_xticklabels(ax.get_xticklabels(), rotation=45)\n",
    "    for p in ax.patches:\n",
    "        ax.text(\n",
    "            p.get_x() + p.get_width() / 2,  # x 위치 (막대 중앙)\n",
    "            p.get_height() + 0.5,           # y 위치 (막대 위)\n",
    "            f'{p.get_height() / 1e12:.2f}조',  # 조 단위로 변환 후 소수점 2자리까지 표시\n",
    "            ha='center',                    # 텍스트 가운데 정렬\n",
    "            fontsize=8\n",
    "        )\n",
    "    ax.text(1, 1.02, \"(단위: 조 원)\", ha='right', va='center', transform=ax.transAxes, fontsize=10, color=\"black\")\n",
    "    ax.get_yaxis().get_major_formatter().set_scientific(False)\n",
    "plt.show()\n"
   ]
  },
  {
   "cell_type": "code",
   "execution_count": null,
   "id": "79f31ff0-11d8-439c-9c33-8d902fcc1d05",
   "metadata": {},
   "outputs": [],
   "source": [
    "test16 = barplot_sum(cc_22_40, \"가맹점업종명\",\"승인금액\" ,\"2022\", \"40대\")"
   ]
  },
  {
   "cell_type": "markdown",
   "id": "ae213487-6886-43f2-8622-ead426cfa771",
   "metadata": {},
   "source": [
    "### 평균 승인 금액표 함수"
   ]
  },
  {
   "cell_type": "code",
   "execution_count": 1,
   "id": "e5eeb45c-57bc-48b8-9136-5781a317ae75",
   "metadata": {},
   "outputs": [],
   "source": [
    "def table_avg(df, feature1, feature2):\n",
    "    \"\"\"\n",
    "    특정 컬럼을 기준으로 다른 컬럼의 총합과 평균을 계산하는 함수입니다.\n",
    "\n",
    "    이 함수는 데이터프레임에서 `feature1` 컬럼을 기준으로 `feature2` 컬럼의 합계를 구하고, \n",
    "    해당 기준의 거래 건수를 기반으로 평균 승인금액을 계산하여 반환합니다.\n",
    "\n",
    "    Parameters:\n",
    "    df (pd.DataFrame): 집계를 수행할 데이터프레임.\n",
    "    feature1 (str): 그룹화할 컬럼명 (예: 업종명).\n",
    "    feature2 (str): 합계 및 평균을 계산할 대상 컬럼명 (예: 승인금액).\n",
    "\n",
    "    Returns:\n",
    "    pd.DataFrame: 그룹화된 `feature1` 컬럼별로 `feature2` 합계, 거래량(카드거래량), 평균 승인금액이 포함된 데이터프레임.\n",
    "\n",
    "    Example:\n",
    "    >>> data = pd.DataFrame({\n",
    "    ...     '업종명': ['외식', '외식', '미용', '주유', '외식'],\n",
    "    ...     '승인금액': [100000, 200000, 150000, 50000, 30000]\n",
    "    ... })\n",
    "    >>> table_avg(data, feature1='업종명', feature2='승인금액')\n",
    "       업종명      승인금액  카드거래량   평균 승인금액\n",
    "    0   외식  330000.0   3.0  110000\n",
    "    \"\"\"\n",
    "    amounts = df.groupby([feature1])[feature2].sum().reset_index()\n",
    "    counts = df[feature1].value_counts()\n",
    "    amounts['카드거래량'] = amounts[feature1].map(counts).astype(float)  # 숫자형으로 변환\n",
    "    amounts['평균 승인금액'] = amounts[feature2] / amounts['카드거래량']  # 평균 승인금액 계산\n",
    "    return"
   ]
  },
  {
   "cell_type": "code",
   "execution_count": null,
   "id": "dde23d41-a4e9-48d8-99da-be993a684da6",
   "metadata": {},
   "outputs": [],
   "source": [
    "test17 = table_avg(cc_22_40, \"가맹점업종명\",\"승인금액\" )\n",
    "test17"
   ]
  },
  {
   "cell_type": "markdown",
   "id": "7023e1bd-48d1-4723-a872-18478de3a2cc",
   "metadata": {},
   "source": [
    "### 평균 승인금액 그래프 함수"
   ]
  },
  {
   "cell_type": "code",
   "execution_count": null,
   "id": "6016c1a1-ae24-455a-b85b-f95d42587b42",
   "metadata": {},
   "outputs": [],
   "source": [
    "def barplot_avg(df, feature1, feature2, year, generation):\n",
    "    \"\"\"\n",
    "    특정 컬럼을 기준으로 다른 컬럼의 평균값을 시각화하는 함수입니다.\n",
    "\n",
    "    이 함수는 데이터프레임에서 `feature1` 컬럼을 기준으로 `feature2` 컬럼의 평균 승인금액을 계산하고, \n",
    "    이를 막대 그래프로 시각화합니다. 평균 승인금액은 만 단위로 표시됩니다.\n",
    "\n",
    "    Parameters:\n",
    "    df (pd.DataFrame): 시각화할 데이터프레임.\n",
    "    feature1 (str): 그룹화할 컬럼명 (예: 업종명).\n",
    "    feature2 (str): 평균을 계산할 대상 컬럼명 (예: 승인금액).\n",
    "    year (int): 시각화할 연도.\n",
    "    generation (str): 특정 세대명으로, 그래프 제목에 표시됩니다.\n",
    "\n",
    "    Returns:\n",
    "    None: 함수는 차트를 출력하며, 데이터프레임을 반환하지 않습니다.\n",
    "\n",
    "    Example:\n",
    "    >>> data = pd.DataFrame({\n",
    "    ...     '업종명': ['외식', '외식', '미용', '주유', '외식'],\n",
    "    ...     '승인금액': [100000, 200000, 150000, 50000, 30000]\n",
    "    ... })\n",
    "    >>> barplot_avg(data, feature1='업종명', feature2='승인금액', year=2023, generation=\"40대\")\n",
    "\n",
    "    출력:\n",
    "    - 2023년도 40대 업종별 평균 승인금액에 대한 바 차트가 만 단위로 표시됩니다.\n",
    "    \"\"\"\n",
    "    amounts = df.groupby([feature1])[feature2].sum().reset_index()\n",
    "    counts = df[feature1].value_counts()\n",
    "    amounts['카드거래량'] = amounts[feature1].map(counts).astype(float)  # 숫자형으로 변환\n",
    "    amounts['평균 승인금액'] = amounts[feature2] / amounts['카드거래량']  # 평균 승인금액 계산\n",
    "    amounts_sort = amounts.sort_values(by='평균 승인금액', ascending=False)\n",
    "    amounts_sort['평균 승인금액_만단위'] = amounts_sort['평균 승인금액']\n",
    "\n",
    "    fig, ax = plt.subplots(figsize=(10, 6))\n",
    "    ax = sns.barplot(x=f'{feature1}', y='평균 승인금액', data=amounts_sort, palette=\"viridis\")\n",
    "    ax.set_title(f\"{year}년도 {generation} {feature1}별 평균{feature2}\")\n",
    "    ax.set_xlabel(f\"{feature1}\")\n",
    "    ax.set_ylabel(\"평균 승인금액 (단위: 만 원)\")\n",
    "    ax.set_xticklabels(ax.get_xticklabels(), rotation=45)\n",
    "    ticks = ax.get_yticks()  # 현재 Y축 눈금 가져오기\n",
    "    ax.set_yticklabels([int(tick / 10000) for tick in ticks])  # 만 단위로 변환하여 설정\n",
    "    \n",
    "    for p in ax.patches:\n",
    "        ax.text(\n",
    "            p.get_x() + p.get_width() / 2,  # x 위치 (막대 중앙)\n",
    "            p.get_height() + 0.5,           # y 위치 (막대 위)\n",
    "            f'{p.get_height() / 10000:.2f}만원',  # 만 단위로 표시\n",
    "                ha='center',                    # 텍스트 가운데 정렬\n",
    "                fontsize=6\n",
    "            )\n",
    "    \n",
    "        ax.text(1, 1.02, \"(단위: 만 원)\", ha='right', va='center', transform=ax.transAxes, fontsize=10, color=\"black\")\n",
    "        \n",
    "        plt.show()"
   ]
  },
  {
   "cell_type": "code",
   "execution_count": null,
   "id": "9db69769-80b6-4c50-8714-2817ec5c3a56",
   "metadata": {},
   "outputs": [],
   "source": [
    "test18 = barplot_avg(cc_22_40, \"가맹점업종명\",\"승인금액\",\"2022\", \"40대\" )\n",
    "test18"
   ]
  },
  {
   "cell_type": "code",
   "execution_count": null,
   "id": "b907d2d7-4008-4afd-87e9-6551c9c7db07",
   "metadata": {},
   "outputs": [],
   "source": []
  },
  {
   "cell_type": "code",
   "execution_count": null,
   "id": "e6addf27-a0ff-4c11-86d0-c4ef77ff1c91",
   "metadata": {},
   "outputs": [],
   "source": []
  },
  {
   "cell_type": "code",
   "execution_count": null,
   "id": "80541bb9-e1c5-4111-a0ed-cee43e9c5394",
   "metadata": {},
   "outputs": [],
   "source": []
  },
  {
   "cell_type": "code",
   "execution_count": null,
   "id": "ad75621e-fd7d-4ffd-90e4-0d28b6883bde",
   "metadata": {},
   "outputs": [],
   "source": []
  },
  {
   "cell_type": "code",
   "execution_count": null,
   "id": "6186ddb1-05ca-46ff-ba4e-588cae85ff23",
   "metadata": {},
   "outputs": [],
   "source": []
  },
  {
   "cell_type": "code",
   "execution_count": null,
   "id": "cb79e607-d7de-4542-89ba-5e51972a610f",
   "metadata": {},
   "outputs": [],
   "source": []
  },
  {
   "cell_type": "code",
   "execution_count": null,
   "id": "74c0ab23-47e9-4190-acc4-c6f98dcce69a",
   "metadata": {},
   "outputs": [],
   "source": []
  },
  {
   "cell_type": "code",
   "execution_count": null,
   "id": "35fc42fa-8c9a-42ff-b76f-709de766cb90",
   "metadata": {},
   "outputs": [],
   "source": []
  }
 ],
 "metadata": {
  "kernelspec": {
   "display_name": "Python 3 (ipykernel)",
   "language": "python",
   "name": "python3"
  },
  "language_info": {
   "codemirror_mode": {
    "name": "ipython",
    "version": 3
   },
   "file_extension": ".py",
   "mimetype": "text/x-python",
   "name": "python",
   "nbconvert_exporter": "python",
   "pygments_lexer": "ipython3",
   "version": "3.12.6"
  }
 },
 "nbformat": 4,
 "nbformat_minor": 5
}
