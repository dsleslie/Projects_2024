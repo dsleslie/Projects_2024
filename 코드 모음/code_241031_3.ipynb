{
 "cells": [
  {
   "cell_type": "markdown",
   "id": "4b3f78fa-6b4c-4476-988d-29e6f9114b1f",
   "metadata": {},
   "source": [
    "# 라이브러리 불러오기"
   ]
  },
  {
   "cell_type": "code",
   "execution_count": 1,
   "id": "eb5154a0-f3c6-4c50-a5bf-3e353c3af4b1",
   "metadata": {},
   "outputs": [],
   "source": [
    "import pandas as pd\n",
    "from pandas import DataFrame\n",
    "import numpy as np\n",
    "import seaborn as sns\n",
    "import matplotlib.pyplot as plt\n",
    "import statsmodels.api as sm\n",
    "#from sklearn.model_selection import train_test_split\n",
    "import warnings\n",
    "warnings.filterwarnings(\"ignore\")\n",
    "import random\n",
    "\n",
    "#from ggplot import *\n",
    "#from scipy.stats import logistic\n",
    "#from sklearn.metrics import roc_curve\n",
    "#from sklearn.metrics import roc_auc_score\n",
    "#from sklearn.linear_model import LogisticRegression\n",
    "#from sklearn.metrics import confusion_matrix, mean_squared_error\n",
    "#from sklearn.model_selection import train_test_split\n",
    "#from sklearn import preprocessing\n",
    "#from sklearn.neighbors import KNeighborsClassifier\n",
    "#from sklearn.naive_bayes import *\n",
    "#from sklearn.tree import DecisionTreeClassifier, DecisionTreeRegressor, export_graphviz\n",
    "#import graphviz\n",
    "#from sklearn.ensemble import RandomForestRegressor, RandomForestClassifier\n",
    "#from sklearn.svm import SVC, SVR\n",
    "\n",
    "# 한글 폰트 실행\n",
    "from matplotlib import rcParams\n",
    "from matplotlib import font_manager,rc\n",
    "rcParams['axes.unicode_minus']=False\n",
    "plt.rcParams['font.family']='Malgun Gothic'\n",
    "font_name=font_manager.FontProperties(fname='c:/Windows/Fonts/malgun.ttf').get_name()\n",
    "rc('font',family=font_name)\n"
   ]
  },
  {
   "cell_type": "markdown",
   "id": "db9c0a51-e80e-4a86-a039-8ebcc74f1c5e",
   "metadata": {},
   "source": [
    "# 분석에 도움주는 주요 기본 함수 정의\n",
    "## 메모리 줄여주는 함수 (일반)"
   ]
  },
  {
   "cell_type": "code",
   "execution_count": 2,
   "id": "0f54fa7e-06c4-402d-bb5f-cd0fd38c26c1",
   "metadata": {},
   "outputs": [],
   "source": [
    "import pandas as pd \n",
    "import numpy as np\n",
    "\n",
    "def reduce_mem_usage(df, float16_as32=True):\n",
    "    # memory_usage()는 데이터프레임의 각 열의 메모리 사용량을 계산하고, sum은 그 값을 합산합니다. B -> KB -> MB로 변환합니다.\n",
    "    start_mem = df.memory_usage().sum() / 1024**2\n",
    "    print('데이터프레임의 초기 메모리 사용량은 {:.2f} MB입니다.'.format(start_mem))\n",
    "\n",
    "    for col in df.columns:  # 각 열의 이름을 반복합니다.\n",
    "        col_type = df[col].dtype  # 열의 데이터 타입을 가져옵니다.\n",
    "        if col_type != object and str(col_type) != 'category':  # 객체 타입이 아닌 수치형 변수만 처리합니다.\n",
    "            c_min, c_max = df[col].min(), df[col].max()  # 해당 열의 최소값과 최대값을 계산합니다.\n",
    "            if str(col_type)[:3] == 'int':  # 정수형 변수일 경우 (int8, int16, int32, int64 모두 포함)\n",
    "                # 이 열의 값 범위가 int8의 범위에 있을 경우 타입을 int8로 변환합니다. (-128부터 127까지)\n",
    "                if c_min > np.iinfo(np.int8).min and c_max < np.iinfo(np.int8).max:\n",
    "                    df[col] = df[col].astype(np.int8)\n",
    "                # 이 열의 값 범위가 int16의 범위에 있을 경우 타입을 int16으로 변환합니다. (-32,768부터 32,767까지)\n",
    "                elif c_min > np.iinfo(np.int16).min and c_max < np.iinfo(np.int16).max:\n",
    "                    df[col] = df[col].astype(np.int16)\n",
    "                # 이 열의 값 범위가 int32의 범위에 있을 경우 타입을 int32로 변환합니다. (-2,147,483,648부터 2,147,483,647까지)\n",
    "                elif c_min > np.iinfo(np.int32).min and c_max < np.iinfo(np.int32).max:\n",
    "                    df[col] = df[col].astype(np.int32)\n",
    "                # 이 열의 값 범위가 int64의 범위에 있을 경우 타입을 int64로 변환합니다. (-9,223,372,036,854,775,808부터 9,223,372,036,854,775,807까지)\n",
    "                elif c_min > np.iinfo(np.int64).min and c_max < np.iinfo(np.int64).max:\n",
    "                    df[col] = df[col].astype(np.int64)\n",
    "            else:  # 실수형일 경우\n",
    "                # 값이 float16의 범위에 있을 경우 타입을 변환합니다. 더 높은 정밀도가 필요하면 float32를 고려합니다.\n",
    "                if c_min > np.finfo(np.float16).min and c_max < np.finfo(np.float16).max:\n",
    "                    if float16_as32:  # 더 높은 정밀도가 필요하면 float32를 선택할 수 있습니다.\n",
    "                        df[col] = df[col].astype(np.float32)\n",
    "                    else:\n",
    "                        df[col] = df[col].astype(np.float16)\n",
    "                # 값이 float32의 범위에 있을 경우 타입을 float32로 변환합니다.\n",
    "                elif c_min > np.finfo(np.float32).min and c_max < np.finfo(np.float32).max:\n",
    "                    df[col] = df[col].astype(np.float32)\n",
    "                # 값이 float64의 범위에 있을 경우 타입을 float64로 변환합니다.\n",
    "                else:\n",
    "                    df[col] = df[col].astype(np.float64)\n",
    "    # 최종 메모리 사용량을 계산합니다.\n",
    "    end_mem = df.memory_usage().sum() / 1024**2\n",
    "    print('최적화 후 데이터프레임의 메모리 사용량은: {:.2f} MB입니다.'.format(end_mem))\n",
    "    # 초기 메모리 사용량과 비교하여 몇 퍼센트 감소했는지 계산합니다.\n",
    "    print('메모리 사용량이 {:.1f}% 감소했습니다.'.format(100 * (start_mem - end_mem) / start_mem))\n",
    "\n",
    "    return df"
   ]
  },
  {
   "cell_type": "markdown",
   "id": "145406f9-b53c-4fcf-a797-c938e1461333",
   "metadata": {},
   "source": [
    "## 시간체크함수"
   ]
  },
  {
   "cell_type": "code",
   "execution_count": 3,
   "id": "569a8021-3229-4c5a-97f4-0eb741f85f8a",
   "metadata": {},
   "outputs": [],
   "source": [
    "import time\n",
    "\n",
    "def execution_time(func):\n",
    "    def wrapper(*args, **kwargs):\n",
    "        start_time = time.time()\n",
    "        result = func(*args, **kwargs)\n",
    "        end_time = time.time()\n",
    "        elapsed_time = end_time - start_time\n",
    "        hours, rem = divmod(elapsed_time, 3600)\n",
    "        minutes, seconds = divmod(rem, 60)\n",
    "        print(f\"Execution time for {func.__name__}: {int(hours)}h {int(minutes)}m {seconds:.2f}s\")\n",
    "        return result\n",
    "    return wrapper"
   ]
  },
  {
   "cell_type": "markdown",
   "id": "acc38267-df75-4f09-b563-4c529c708d62",
   "metadata": {},
   "source": [
    "## 데이터 타입 문자열로 바꿔주는 함수"
   ]
  },
  {
   "cell_type": "code",
   "execution_count": 4,
   "id": "b9d951df-374a-4eeb-9fba-2d57710e8382",
   "metadata": {},
   "outputs": [],
   "source": [
    "@execution_time\n",
    "def clean_df(data):\n",
    "    data['고객ID'] = data['고객ID'].astype(str)\n",
    "    data = reduce_mem_usage(data)\n",
    "    return data"
   ]
  },
  {
   "cell_type": "markdown",
   "id": "933cdc89-5217-4c1c-b93a-38168e3b10a6",
   "metadata": {},
   "source": [
    "# 데이터 불러오기"
   ]
  },
  {
   "cell_type": "code",
   "execution_count": 5,
   "id": "ab0eda17-cb28-4c29-9335-3215d253780e",
   "metadata": {},
   "outputs": [],
   "source": [
    "DATA_PATH = './dataset/CARD/'\n",
    "DATA_PATH_2 = './dataset/CUSTOMER/'\n",
    "#card_21 = pd.read_csv(DATA_PATH + 'card_21.csv', encoding=\"euc-kr\")\n",
    "card_22_usage = pd.read_csv(DATA_PATH + 'card_22.csv', encoding=\"euc-kr\")\n",
    "#card_23 = pd.read_csv(DATA_PATH + 'card_23.csv', encoding=\"euc-kr\")\n",
    "#customer_21 = pd.read_csv(DATA_PATH_2 + 'customer_21.csv', encoding=\"euc-kr\")\n",
    "customer_22 = pd.read_csv(DATA_PATH_2 + 'customer_22.csv', encoding=\"euc-kr\")\n",
    "#customer_23 = pd.read_csv(DATA_PATH_2 + 'customer_23.csv', encoding=\"euc-kr\")"
   ]
  },
  {
   "cell_type": "code",
   "execution_count": null,
   "id": "0f046a42-c44e-475f-bac0-60ccd2718b7a",
   "metadata": {},
   "outputs": [],
   "source": []
  },
  {
   "cell_type": "markdown",
   "id": "407f2921-1749-41d3-9eca-0c2008ce15ef",
   "metadata": {},
   "source": [
    "# 데이터 가공"
   ]
  },
  {
   "cell_type": "markdown",
   "id": "492fdf9b-c82d-4973-8734-b28c90175a4d",
   "metadata": {},
   "source": [
    "# 22년도 카드 데이터 고객 id 데이터타입 변경"
   ]
  },
  {
   "cell_type": "code",
   "execution_count": 6,
   "id": "b2bf9588-f98f-4d2f-a485-bed42724c8fc",
   "metadata": {},
   "outputs": [
    {
     "name": "stdout",
     "output_type": "stream",
     "text": [
      "데이터프레임의 초기 메모리 사용량은 3361.67 MB입니다.\n",
      "최적화 후 데이터프레임의 메모리 사용량은: 2881.43 MB입니다.\n",
      "메모리 사용량이 14.3% 감소했습니다.\n",
      "Execution time for clean_df: 0h 0m 14.84s\n",
      "<class 'pandas.core.frame.DataFrame'>\n",
      "RangeIndex: 62945850 entries, 0 to 62945849\n",
      "Data columns (total 7 columns):\n",
      " #   Column    Dtype \n",
      "---  ------    ----- \n",
      " 0   거래년월      int32 \n",
      " 1   고객ID      object\n",
      " 2   가맹점업종명    object\n",
      " 3   가맹점_광역시도  object\n",
      " 4   가맹점_시군구   object\n",
      " 5   승인건수      object\n",
      " 6   승인금액      int32 \n",
      "dtypes: int32(2), object(5)\n",
      "memory usage: 2.8+ GB\n"
     ]
    }
   ],
   "source": [
    "card_22 = clean_df(card_22)\n",
    "card_22.info()"
   ]
  },
  {
   "cell_type": "code",
   "execution_count": 7,
   "id": "76d1d205-7482-4eb8-81e3-55bae7ff7c38",
   "metadata": {},
   "outputs": [
    {
     "name": "stdout",
     "output_type": "stream",
     "text": [
      "데이터프레임의 초기 메모리 사용량은 2140.22 MB입니다.\n",
      "최적화 후 데이터프레임의 메모리 사용량은: 1564.01 MB입니다.\n",
      "메모리 사용량이 26.9% 감소했습니다.\n",
      "Execution time for clean_df: 0h 0m 5.53s\n",
      "<class 'pandas.core.frame.DataFrame'>\n",
      "RangeIndex: 21578686 entries, 0 to 21578685\n",
      "Data columns (total 13 columns):\n",
      " #   Column    Dtype \n",
      "---  ------    ----- \n",
      " 0   기준년월      int32 \n",
      " 1   고객ID      object\n",
      " 2   연령대       object\n",
      " 3   성별        object\n",
      " 4   고객등급      object\n",
      " 5   자택_시도     object\n",
      " 6   자택_시군구    object\n",
      " 7   수신_요구불예금  int32 \n",
      " 8   수신_거치식예금  int32 \n",
      " 9   수신_적립식예금  int32 \n",
      " 10  수신_펀드     int32 \n",
      " 11  수신_외화예금   int32 \n",
      " 12  대출금액      int32 \n",
      "dtypes: int32(7), object(6)\n",
      "memory usage: 1.5+ GB\n"
     ]
    }
   ],
   "source": [
    "customer_22 = clean_df(customer_22)\n",
    "customer_22.info()"
   ]
  },
  {
   "cell_type": "markdown",
   "id": "306eac72-8c1a-442c-81b2-8a951f3f9089",
   "metadata": {},
   "source": [
    "## 지역 재분류"
   ]
  },
  {
   "cell_type": "code",
   "execution_count": 8,
   "id": "63c03e46-6bb2-42ba-bb80-42169ed3a173",
   "metadata": {},
   "outputs": [
    {
     "data": {
      "text/plain": [
       "가맹점_광역시도\n",
       "대구광역시     35353358\n",
       "수도권       13083923\n",
       "경상북도      11029160\n",
       "영남권        1754131\n",
       "충청권         845250\n",
       "강원·제주권      602292\n",
       "호남권         277736\n",
       "Name: count, dtype: int64"
      ]
     },
     "execution_count": 8,
     "metadata": {},
     "output_type": "execute_result"
    }
   ],
   "source": [
    "# 지역별 그룹을 지정\n",
    "region_groups = {\n",
    "    '서울특별시': '수도권', '경기도': '수도권', '인천광역시': '수도권',\n",
    "    '부산광역시': '영남권', '울산광역시': '영남권', '경상남도': '영남권',\n",
    "    '충청북도': '충청권', '충청남도': '충청권', '대전광역시': '충청권', '세종특별자치시': '충청권',\n",
    "    '전북특별자치도': '호남권', '전라남도': '호남권', '광주광역시': '호남권',\n",
    "    '강원특별자치도': '강원·제주권', '제주특별자치도': '강원·제주권'\n",
    "}\n",
    "# '가맹점_광역시도' 열 값을 위의 그룹 기준으로 변환\n",
    "card_22['가맹점_광역시도'] = card_22['가맹점_광역시도'].replace(region_groups)\n",
    "# 원본 데이터 변경할 거면 card_2021['가맹점_광역시도'].replace(region_groups, inplace=True)\n",
    "card_22['가맹점_광역시도'].value_counts()"
   ]
  },
  {
   "cell_type": "code",
   "execution_count": 9,
   "id": "46f0c0e6-31e4-47b9-95de-1c4dad8f9e00",
   "metadata": {},
   "outputs": [
    {
     "data": {
      "text/html": [
       "<div>\n",
       "<style scoped>\n",
       "    .dataframe tbody tr th:only-of-type {\n",
       "        vertical-align: middle;\n",
       "    }\n",
       "\n",
       "    .dataframe tbody tr th {\n",
       "        vertical-align: top;\n",
       "    }\n",
       "\n",
       "    .dataframe thead th {\n",
       "        text-align: right;\n",
       "    }\n",
       "</style>\n",
       "<table border=\"1\" class=\"dataframe\">\n",
       "  <thead>\n",
       "    <tr style=\"text-align: right;\">\n",
       "      <th></th>\n",
       "      <th>거래년월</th>\n",
       "      <th>고객ID</th>\n",
       "      <th>가맹점업종명</th>\n",
       "      <th>가맹점_광역시도</th>\n",
       "      <th>가맹점_시군구</th>\n",
       "      <th>승인건수</th>\n",
       "      <th>승인금액</th>\n",
       "    </tr>\n",
       "  </thead>\n",
       "  <tbody>\n",
       "    <tr>\n",
       "      <th>0</th>\n",
       "      <td>202212</td>\n",
       "      <td>3083154411</td>\n",
       "      <td>일반한식</td>\n",
       "      <td>경상북도</td>\n",
       "      <td>경주시</td>\n",
       "      <td>5번이하</td>\n",
       "      <td>20000</td>\n",
       "    </tr>\n",
       "    <tr>\n",
       "      <th>1</th>\n",
       "      <td>202212</td>\n",
       "      <td>3557972915</td>\n",
       "      <td>일반한식</td>\n",
       "      <td>경상북도</td>\n",
       "      <td>경주시</td>\n",
       "      <td>5번이하</td>\n",
       "      <td>20000</td>\n",
       "    </tr>\n",
       "    <tr>\n",
       "      <th>2</th>\n",
       "      <td>202212</td>\n",
       "      <td>3605837880</td>\n",
       "      <td>일반한식</td>\n",
       "      <td>경상북도</td>\n",
       "      <td>경주시</td>\n",
       "      <td>5번이하</td>\n",
       "      <td>80000</td>\n",
       "    </tr>\n",
       "  </tbody>\n",
       "</table>\n",
       "</div>"
      ],
      "text/plain": [
       "     거래년월        고객ID 가맹점업종명 가맹점_광역시도 가맹점_시군구  승인건수   승인금액\n",
       "0  202212  3083154411   일반한식     경상북도     경주시  5번이하  20000\n",
       "1  202212  3557972915   일반한식     경상북도     경주시  5번이하  20000\n",
       "2  202212  3605837880   일반한식     경상북도     경주시  5번이하  80000"
      ]
     },
     "execution_count": 9,
     "metadata": {},
     "output_type": "execute_result"
    }
   ],
   "source": [
    "card_22.head(3)"
   ]
  },
  {
   "cell_type": "markdown",
   "id": "2875c54e-79ba-41e8-9d20-df421914aea2",
   "metadata": {},
   "source": [
    "## 카드 데이터 가맹업종명 재분류"
   ]
  },
  {
   "cell_type": "code",
   "execution_count": 13,
   "id": "f95274d8-5764-4c23-8a1b-93be4f922978",
   "metadata": {},
   "outputs": [
    {
     "name": "stdout",
     "output_type": "stream",
     "text": [
      "['외식' '기타' '미용' '스포츠/레저' '의료/보험' '여행/교통' '카페/베이커리' '주유' '대형마트' '음식료품'\n",
      " '편의점' '교육/학원' '문화생활' '간편결제' '반려동물' '백화점' '이동통신요금']\n"
     ]
    }
   ],
   "source": [
    "# 각 분류명에 해당하는 데이터값을 리스트로 정의\n",
    "mapping = {\n",
    "    '교육/학원': ['보습학원', '예·체능계학원', '외국어학원', '기타 교육기관', '기능학원', '학원', '학습지교육', '초중고교육기관'],\n",
    "    '미용': ['미용원', '피부미용실'],\n",
    "    '스포츠/레저': ['기타레져업소', '스포츠·레져용품', '스포츠의류', '스크린골프', '헬스클럽', '골프경기장', '종합레져타운', '골프용품 전문점', '골프연습장', '안마/스포츠마사지', '레져업소', '수 영 장'],\n",
    "    '여행/교통': ['기타숙박업', '철도', '특급호텔', '1급 호텔', '렌터카', '항공사', '콘도', '2급 호텔', '관광여행', '여객선', '고속버스', '택시'],\n",
    "    '외식': ['일반한식', '주점', '서양음식', '중국식', '일식·회집', '한정식', '칵테일바', '갈비전문점'],\n",
    "    '대형마트': ['슈퍼마켓', '농협하나로클럽', '농,축협직영매장', '대형할인점'],\n",
    "    '백화점': ['면 세 점', '자사카드발행백화점'],\n",
    "    '편의점': ['편 의 점'],\n",
    "    '음식료품': ['정육점', '스넥', '농·축·수산품', '농축수산가공품', '주류판매점', '홍삼제품', '인삼제품', '기타건강식품'],\n",
    "    '카페/베이커리': ['기타음료식품', '제과점'],\n",
    "    '의료/보험': ['약 국', '의 원', '한 의 원', '치과의원', '기타의료기관 및 기타의료기기', '한약방', '한방병원', '생명보험', '건강진단', '기타보험', '병 원(응급실운영)', '치과병원', '동물병원', '종합병원', '손해보험'],\n",
    "    '주유': ['SK주유소', '쌍용S-OIL', 'GS주유소', '주유소', 'SK가스충전소', '현대정유(오일뱅크)', 'GS가스충전소', '쌍용S-OIL가스충전소', '현대정유가스충전소', 'E1가스충전소', '전기차충전소'],\n",
    "    '문화생활': ['문화취미기타', '영화관', '티켓'],\n",
    "    '이동통신요금': ['이동통신요금'],\n",
    "    '반려동물': ['애완동물'],\n",
    "    '간편결제': ['인터넷P/G'],\n",
    "    '기타': ['전자상거래상품권전문판매', '캐주얼의류', 'CATV', '택시회사', '위성방송', '음반영상물', '제 화','주방용구', '연 쇄 점', '액세서리', '전문서적', '주차장', '민예·공예품', '건축용 요업제품', '단란주점', '옷감·직물', '자동차시트·타이어', '독서실', '농기계', '조명기구', '세차장', '사무서비스', '컴퓨터', '가 방', '보일러·펌프·샷시', '카페트,커튼,천막,지물', '자동차부품', '자동차정비', '기타유통업', '이륜차판매', '카인테리어', '화물운송', '내의판매', '목재·석재·철물', '기타 사무용품', '기타가구', '신 발', '비영리/비대상', '기타대인서비스', '기타전기제품', 'DP&E', '주방용식기', '가타자동차서비스', '기타농업관련', '구내매점(국가기관등)', '아동의류', '이용원', '조세서비스', '기념품점', '유흥주점', '통신기기', '화원', '화장품', '기타잡화', '유아원', 'LPG취급점', '페인트', '출판 및 인쇄물', '귀금속', '문구용품', '위탁급식업', '비료,사료,종자', '침구·수예점', '당구장', '가전제품', '인터넷Mall', '가정용품수리', '사무·통신기기수리', '안경', '세탁소', '사우나', '일반서적', '노 래 방', '기계공구',  '완구점', '기타의류', '미곡상', '기타용역서비스', '기타수리서비스', '기타건축자재', '일반가구', '사무용 OA기기', '인테리어전문', '가례서비스업', '시 계', '비영리/대상', '윤활유전문판매', '정수기', '공공요금대행서비스/소득공제비대상', '화방·표구점', '볼 링 장', '인터넷종합Mall', '기타 전문점', '통신판매업1', '종합용역', '전자상거래상품권', '보관및 창고업', '유류판매', '업종미등록', '통신서비스/소득공제비대상', '기타서적문구', '수족관', '공공요금대행서비스/소득공제대상', '상품권전문판매', '혼례서비스업', '냉열기기', '비씨카드 정산용(할인)', '일반(통신판매)', '기타4', '기타1', '부동산중개·임대', 'CATV홈쇼핑', '소프트웨어', '의료용품', '정장', '맞춤복점', '단체복', '상 품 권', 'PG상품권', '비씨카드 정산용가맹점',  '미용재료']\n",
    "}\n",
    "# 각 분류에 대해 매핑 (inplace 없이 할당 방식으로 변경)\n",
    "for category, values in mapping.items():\n",
    "    card_22['가맹점업종명'] = card_22['가맹점업종명'].replace(values, category)\n",
    "# 결과 확인\n",
    "print(card_22['가맹점업종명'].unique())"
   ]
  },
  {
   "cell_type": "code",
   "execution_count": 14,
   "id": "864aead5-65e1-4019-979e-d5a59e5eb879",
   "metadata": {},
   "outputs": [
    {
     "data": {
      "text/html": [
       "<div>\n",
       "<style scoped>\n",
       "    .dataframe tbody tr th:only-of-type {\n",
       "        vertical-align: middle;\n",
       "    }\n",
       "\n",
       "    .dataframe tbody tr th {\n",
       "        vertical-align: top;\n",
       "    }\n",
       "\n",
       "    .dataframe thead th {\n",
       "        text-align: right;\n",
       "    }\n",
       "</style>\n",
       "<table border=\"1\" class=\"dataframe\">\n",
       "  <thead>\n",
       "    <tr style=\"text-align: right;\">\n",
       "      <th></th>\n",
       "      <th>거래년월</th>\n",
       "      <th>고객ID</th>\n",
       "      <th>가맹점업종명</th>\n",
       "      <th>가맹점_광역시도</th>\n",
       "      <th>가맹점_시군구</th>\n",
       "      <th>승인건수</th>\n",
       "      <th>승인금액</th>\n",
       "    </tr>\n",
       "  </thead>\n",
       "  <tbody>\n",
       "    <tr>\n",
       "      <th>0</th>\n",
       "      <td>202212</td>\n",
       "      <td>3083154411</td>\n",
       "      <td>외식</td>\n",
       "      <td>경상북도</td>\n",
       "      <td>경주시</td>\n",
       "      <td>5번이하</td>\n",
       "      <td>20000</td>\n",
       "    </tr>\n",
       "    <tr>\n",
       "      <th>1</th>\n",
       "      <td>202212</td>\n",
       "      <td>3557972915</td>\n",
       "      <td>외식</td>\n",
       "      <td>경상북도</td>\n",
       "      <td>경주시</td>\n",
       "      <td>5번이하</td>\n",
       "      <td>20000</td>\n",
       "    </tr>\n",
       "    <tr>\n",
       "      <th>2</th>\n",
       "      <td>202212</td>\n",
       "      <td>3605837880</td>\n",
       "      <td>외식</td>\n",
       "      <td>경상북도</td>\n",
       "      <td>경주시</td>\n",
       "      <td>5번이하</td>\n",
       "      <td>80000</td>\n",
       "    </tr>\n",
       "    <tr>\n",
       "      <th>3</th>\n",
       "      <td>202212</td>\n",
       "      <td>3673581980</td>\n",
       "      <td>외식</td>\n",
       "      <td>경상북도</td>\n",
       "      <td>경주시</td>\n",
       "      <td>5번이하</td>\n",
       "      <td>20000</td>\n",
       "    </tr>\n",
       "    <tr>\n",
       "      <th>4</th>\n",
       "      <td>202212</td>\n",
       "      <td>3913986482</td>\n",
       "      <td>외식</td>\n",
       "      <td>경상북도</td>\n",
       "      <td>경주시</td>\n",
       "      <td>5번이하</td>\n",
       "      <td>40000</td>\n",
       "    </tr>\n",
       "    <tr>\n",
       "      <th>5</th>\n",
       "      <td>202212</td>\n",
       "      <td>9476232849</td>\n",
       "      <td>기타</td>\n",
       "      <td>경상북도</td>\n",
       "      <td>영천시</td>\n",
       "      <td>5번이하</td>\n",
       "      <td>40000</td>\n",
       "    </tr>\n",
       "    <tr>\n",
       "      <th>6</th>\n",
       "      <td>202212</td>\n",
       "      <td>9468456810</td>\n",
       "      <td>외식</td>\n",
       "      <td>경상북도</td>\n",
       "      <td>영천시</td>\n",
       "      <td>5번이하</td>\n",
       "      <td>10000</td>\n",
       "    </tr>\n",
       "    <tr>\n",
       "      <th>7</th>\n",
       "      <td>202212</td>\n",
       "      <td>9731736685</td>\n",
       "      <td>외식</td>\n",
       "      <td>경상북도</td>\n",
       "      <td>영천시</td>\n",
       "      <td>5번이하</td>\n",
       "      <td>40000</td>\n",
       "    </tr>\n",
       "    <tr>\n",
       "      <th>8</th>\n",
       "      <td>202212</td>\n",
       "      <td>8360876341</td>\n",
       "      <td>외식</td>\n",
       "      <td>경상북도</td>\n",
       "      <td>영천시</td>\n",
       "      <td>5번이하</td>\n",
       "      <td>50000</td>\n",
       "    </tr>\n",
       "    <tr>\n",
       "      <th>9</th>\n",
       "      <td>202212</td>\n",
       "      <td>5128581778</td>\n",
       "      <td>외식</td>\n",
       "      <td>경상북도</td>\n",
       "      <td>영천시</td>\n",
       "      <td>5번이하</td>\n",
       "      <td>90000</td>\n",
       "    </tr>\n",
       "  </tbody>\n",
       "</table>\n",
       "</div>"
      ],
      "text/plain": [
       "     거래년월        고객ID 가맹점업종명 가맹점_광역시도 가맹점_시군구  승인건수   승인금액\n",
       "0  202212  3083154411     외식     경상북도     경주시  5번이하  20000\n",
       "1  202212  3557972915     외식     경상북도     경주시  5번이하  20000\n",
       "2  202212  3605837880     외식     경상북도     경주시  5번이하  80000\n",
       "3  202212  3673581980     외식     경상북도     경주시  5번이하  20000\n",
       "4  202212  3913986482     외식     경상북도     경주시  5번이하  40000\n",
       "5  202212  9476232849     기타     경상북도     영천시  5번이하  40000\n",
       "6  202212  9468456810     외식     경상북도     영천시  5번이하  10000\n",
       "7  202212  9731736685     외식     경상북도     영천시  5번이하  40000\n",
       "8  202212  8360876341     외식     경상북도     영천시  5번이하  50000\n",
       "9  202212  5128581778     외식     경상북도     영천시  5번이하  90000"
      ]
     },
     "execution_count": 14,
     "metadata": {},
     "output_type": "execute_result"
    }
   ],
   "source": [
    "card_22.head(10)"
   ]
  },
  {
   "cell_type": "markdown",
   "id": "7ec20772-4c93-425f-9532-720ab0592b06",
   "metadata": {},
   "source": [
    "## 카드 내보내기"
   ]
  },
  {
   "cell_type": "code",
   "execution_count": 15,
   "id": "bf2e9a2b-f222-467b-a220-807ecba92f02",
   "metadata": {},
   "outputs": [],
   "source": [
    "card_22.to_csv('card_22_usage.csv', index=False, encoding='utf-8-sig')"
   ]
  },
  {
   "cell_type": "markdown",
   "id": "1c953750-1795-4cb3-9a10-df869774b7cc",
   "metadata": {},
   "source": [
    "## 잔액 0인거 자르기"
   ]
  },
  {
   "cell_type": "code",
   "execution_count": null,
   "id": "c9842ad4-b5e7-4618-9525-d0bf9862a1f4",
   "metadata": {},
   "outputs": [],
   "source": [
    "customer_21.head(3)"
   ]
  },
  {
   "cell_type": "markdown",
   "id": "0e2c3f4c-9e16-44bc-ab78-fdd20bc5f369",
   "metadata": {},
   "source": [
    "## 연령대 자르기"
   ]
  },
  {
   "cell_type": "code",
   "execution_count": 8,
   "id": "5d545878-cb36-4a4d-96e8-6c88d1934561",
   "metadata": {},
   "outputs": [
    {
     "data": {
      "text/html": [
       "<div>\n",
       "<style scoped>\n",
       "    .dataframe tbody tr th:only-of-type {\n",
       "        vertical-align: middle;\n",
       "    }\n",
       "\n",
       "    .dataframe tbody tr th {\n",
       "        vertical-align: top;\n",
       "    }\n",
       "\n",
       "    .dataframe thead th {\n",
       "        text-align: right;\n",
       "    }\n",
       "</style>\n",
       "<table border=\"1\" class=\"dataframe\">\n",
       "  <thead>\n",
       "    <tr style=\"text-align: right;\">\n",
       "      <th></th>\n",
       "      <th>고객ID</th>\n",
       "      <th>연령대</th>\n",
       "    </tr>\n",
       "  </thead>\n",
       "  <tbody>\n",
       "    <tr>\n",
       "      <th>0</th>\n",
       "      <td>9999998161</td>\n",
       "      <td>60대이상</td>\n",
       "    </tr>\n",
       "    <tr>\n",
       "      <th>1</th>\n",
       "      <td>9999997589</td>\n",
       "      <td>60대이상</td>\n",
       "    </tr>\n",
       "    <tr>\n",
       "      <th>2</th>\n",
       "      <td>9999991579</td>\n",
       "      <td>60대이상</td>\n",
       "    </tr>\n",
       "  </tbody>\n",
       "</table>\n",
       "</div>"
      ],
      "text/plain": [
       "         고객ID    연령대\n",
       "0  9999998161  60대이상\n",
       "1  9999997589  60대이상\n",
       "2  9999991579  60대이상"
      ]
     },
     "execution_count": 8,
     "metadata": {},
     "output_type": "execute_result"
    }
   ],
   "source": [
    "# 고객 데이터 - 60대 자르기\n",
    "customer_22_id = customer_22.loc[:, ['고객ID', '연령대']]\n",
    "customer_22_id.head(3)"
   ]
  },
  {
   "cell_type": "code",
   "execution_count": 10,
   "id": "9560164b-c1d8-413a-984b-9ff803f1b109",
   "metadata": {},
   "outputs": [
    {
     "data": {
      "text/html": [
       "<div>\n",
       "<style scoped>\n",
       "    .dataframe tbody tr th:only-of-type {\n",
       "        vertical-align: middle;\n",
       "    }\n",
       "\n",
       "    .dataframe tbody tr th {\n",
       "        vertical-align: top;\n",
       "    }\n",
       "\n",
       "    .dataframe thead th {\n",
       "        text-align: right;\n",
       "    }\n",
       "</style>\n",
       "<table border=\"1\" class=\"dataframe\">\n",
       "  <thead>\n",
       "    <tr style=\"text-align: right;\">\n",
       "      <th></th>\n",
       "      <th>고객ID</th>\n",
       "      <th>연령대</th>\n",
       "    </tr>\n",
       "  </thead>\n",
       "  <tbody>\n",
       "    <tr>\n",
       "      <th>0</th>\n",
       "      <td>9999998161</td>\n",
       "      <td>60대이상</td>\n",
       "    </tr>\n",
       "    <tr>\n",
       "      <th>1</th>\n",
       "      <td>9999997589</td>\n",
       "      <td>60대이상</td>\n",
       "    </tr>\n",
       "    <tr>\n",
       "      <th>2</th>\n",
       "      <td>9999991579</td>\n",
       "      <td>60대이상</td>\n",
       "    </tr>\n",
       "    <tr>\n",
       "      <th>3</th>\n",
       "      <td>9999989448</td>\n",
       "      <td>60대이상</td>\n",
       "    </tr>\n",
       "    <tr>\n",
       "      <th>4</th>\n",
       "      <td>9999988325</td>\n",
       "      <td>60대이상</td>\n",
       "    </tr>\n",
       "  </tbody>\n",
       "</table>\n",
       "</div>"
      ],
      "text/plain": [
       "         고객ID    연령대\n",
       "0  9999998161  60대이상\n",
       "1  9999997589  60대이상\n",
       "2  9999991579  60대이상\n",
       "3  9999989448  60대이상\n",
       "4  9999988325  60대이상"
      ]
     },
     "execution_count": 10,
     "metadata": {},
     "output_type": "execute_result"
    }
   ],
   "source": [
    "customer_22_60 = customer_22_id[customer_22_id['연령대'].isin(['60대이상'])]\n",
    "customer_22_50 = customer_22_id[customer_22_id['연령대'].isin(['50대'])]\n",
    "customer_22_40 = customer_22_id[customer_22_id['연령대'].isin(['40대'])]\n",
    "customer_22_60.head()"
   ]
  },
  {
   "cell_type": "code",
   "execution_count": 11,
   "id": "9bc8c264-a62c-4a7c-9669-42ca72352afc",
   "metadata": {},
   "outputs": [
    {
     "data": {
      "text/html": [
       "<div>\n",
       "<style scoped>\n",
       "    .dataframe tbody tr th:only-of-type {\n",
       "        vertical-align: middle;\n",
       "    }\n",
       "\n",
       "    .dataframe tbody tr th {\n",
       "        vertical-align: top;\n",
       "    }\n",
       "\n",
       "    .dataframe thead th {\n",
       "        text-align: right;\n",
       "    }\n",
       "</style>\n",
       "<table border=\"1\" class=\"dataframe\">\n",
       "  <thead>\n",
       "    <tr style=\"text-align: right;\">\n",
       "      <th></th>\n",
       "      <th>고객ID</th>\n",
       "      <th>연령대</th>\n",
       "    </tr>\n",
       "  </thead>\n",
       "  <tbody>\n",
       "    <tr>\n",
       "      <th>414</th>\n",
       "      <td>9998496340</td>\n",
       "      <td>50대</td>\n",
       "    </tr>\n",
       "    <tr>\n",
       "      <th>415</th>\n",
       "      <td>9998491706</td>\n",
       "      <td>50대</td>\n",
       "    </tr>\n",
       "    <tr>\n",
       "      <th>416</th>\n",
       "      <td>9998488435</td>\n",
       "      <td>50대</td>\n",
       "    </tr>\n",
       "    <tr>\n",
       "      <th>417</th>\n",
       "      <td>9998479714</td>\n",
       "      <td>50대</td>\n",
       "    </tr>\n",
       "    <tr>\n",
       "      <th>418</th>\n",
       "      <td>9998477640</td>\n",
       "      <td>50대</td>\n",
       "    </tr>\n",
       "  </tbody>\n",
       "</table>\n",
       "</div>"
      ],
      "text/plain": [
       "           고객ID  연령대\n",
       "414  9998496340  50대\n",
       "415  9998491706  50대\n",
       "416  9998488435  50대\n",
       "417  9998479714  50대\n",
       "418  9998477640  50대"
      ]
     },
     "execution_count": 11,
     "metadata": {},
     "output_type": "execute_result"
    }
   ],
   "source": [
    "customer_22_50.head()"
   ]
  },
  {
   "cell_type": "code",
   "execution_count": 12,
   "id": "5d50b85e-4efe-4a9b-bc17-3609ba5a0c0d",
   "metadata": {},
   "outputs": [
    {
     "data": {
      "text/html": [
       "<div>\n",
       "<style scoped>\n",
       "    .dataframe tbody tr th:only-of-type {\n",
       "        vertical-align: middle;\n",
       "    }\n",
       "\n",
       "    .dataframe tbody tr th {\n",
       "        vertical-align: top;\n",
       "    }\n",
       "\n",
       "    .dataframe thead th {\n",
       "        text-align: right;\n",
       "    }\n",
       "</style>\n",
       "<table border=\"1\" class=\"dataframe\">\n",
       "  <thead>\n",
       "    <tr style=\"text-align: right;\">\n",
       "      <th></th>\n",
       "      <th>고객ID</th>\n",
       "      <th>연령대</th>\n",
       "    </tr>\n",
       "  </thead>\n",
       "  <tbody>\n",
       "    <tr>\n",
       "      <th>712</th>\n",
       "      <td>9997377777</td>\n",
       "      <td>40대</td>\n",
       "    </tr>\n",
       "    <tr>\n",
       "      <th>713</th>\n",
       "      <td>9997372016</td>\n",
       "      <td>40대</td>\n",
       "    </tr>\n",
       "    <tr>\n",
       "      <th>714</th>\n",
       "      <td>9997367955</td>\n",
       "      <td>40대</td>\n",
       "    </tr>\n",
       "    <tr>\n",
       "      <th>715</th>\n",
       "      <td>9997366851</td>\n",
       "      <td>40대</td>\n",
       "    </tr>\n",
       "    <tr>\n",
       "      <th>716</th>\n",
       "      <td>9997365476</td>\n",
       "      <td>40대</td>\n",
       "    </tr>\n",
       "  </tbody>\n",
       "</table>\n",
       "</div>"
      ],
      "text/plain": [
       "           고객ID  연령대\n",
       "712  9997377777  40대\n",
       "713  9997372016  40대\n",
       "714  9997367955  40대\n",
       "715  9997366851  40대\n",
       "716  9997365476  40대"
      ]
     },
     "execution_count": 12,
     "metadata": {},
     "output_type": "execute_result"
    }
   ],
   "source": [
    "customer_22_40.head()"
   ]
  },
  {
   "cell_type": "code",
   "execution_count": 13,
   "id": "cf14ad30-3fb6-4d0c-a5e0-4ec259ced78f",
   "metadata": {},
   "outputs": [],
   "source": [
    "customer_22_40.to_csv('customer_22_40.csv', index=False, encoding='utf-8-sig')"
   ]
  },
  {
   "cell_type": "code",
   "execution_count": 14,
   "id": "5cfa6670-7a53-4613-90da-464dcea0c05a",
   "metadata": {},
   "outputs": [],
   "source": [
    "customer_22_50.to_csv('customer_22_50.csv', index=False, encoding='utf-8-sig')"
   ]
  },
  {
   "cell_type": "code",
   "execution_count": 15,
   "id": "d71075f9-a66d-4ea0-ab4b-8ab6bd7fbed5",
   "metadata": {},
   "outputs": [],
   "source": [
    "customer_22_60.to_csv('customer_22_60.csv', index=False, encoding='utf-8-sig')"
   ]
  },
  {
   "cell_type": "markdown",
   "id": "95288348-7797-496e-aaf0-b11e97e82bd6",
   "metadata": {},
   "source": [
    "## card, customer merge (join)"
   ]
  },
  {
   "cell_type": "markdown",
   "id": "1f11bbfe-9f51-4693-9b11-e4969c47f206",
   "metadata": {},
   "source": [
    "### 내보낸거 불러오기"
   ]
  },
  {
   "cell_type": "code",
   "execution_count": 5,
   "id": "33bd09e4-63ee-48da-b0ef-7ba670a22c77",
   "metadata": {},
   "outputs": [],
   "source": [
    "DATA_PATH = './dataset/CARD/'\n",
    "DATA_PATH_2 = './dataset/CUSTOMER/'\n",
    "#card_21 = pd.read_csv(DATA_PATH + 'card_21.csv', encoding=\"euc-kr\")\n",
    "card_22_usage = pd.read_csv(DATA_PATH + 'card_22.csv', encoding=\"euc-kr\")\n",
    "customer_22_40 = pd.read_csv(DATA_PATH_2 + 'customer_22_40.csv', encoding=\"utf-8-sig\")\n",
    "customer_22_50 = pd.read_csv(DATA_PATH_2 + 'customer_22_50.csv', encoding=\"utf-8-sig\")\n",
    "customer_22_60 = pd.read_csv(DATA_PATH_2 + 'customer_22_60.csv', encoding=\"utf-8-sig\")\n",
    "#customer_22_40 = pd.read_csv(DATA_PATH_2 + 'customer_22_40', encoding=\"utf-8-sig\")\n",
    "#customer_22_50 = pd.read_csv(DATA_PATH_2 + 'customer_22_50', encoding=\"utf-8-sig\")\n",
    "#customer_22_60 = pd.read_csv(DATA_PATH_2 + 'customer_22_60', encoding=\"utf-8-sig\")\n",
    "#card_22_usage = pd.read_csv(DATA_PATH + 'card_22.csv', encoding=\"euc-kr\")"
   ]
  },
  {
   "cell_type": "code",
   "execution_count": 7,
   "id": "1b87aafa-707e-46aa-8b9f-e236506f5a64",
   "metadata": {},
   "outputs": [
    {
     "data": {
      "text/html": [
       "<div>\n",
       "<style scoped>\n",
       "    .dataframe tbody tr th:only-of-type {\n",
       "        vertical-align: middle;\n",
       "    }\n",
       "\n",
       "    .dataframe tbody tr th {\n",
       "        vertical-align: top;\n",
       "    }\n",
       "\n",
       "    .dataframe thead th {\n",
       "        text-align: right;\n",
       "    }\n",
       "</style>\n",
       "<table border=\"1\" class=\"dataframe\">\n",
       "  <thead>\n",
       "    <tr style=\"text-align: right;\">\n",
       "      <th></th>\n",
       "      <th>고객ID</th>\n",
       "      <th>연령대</th>\n",
       "    </tr>\n",
       "  </thead>\n",
       "  <tbody>\n",
       "    <tr>\n",
       "      <th>0</th>\n",
       "      <td>9997377777</td>\n",
       "      <td>40대</td>\n",
       "    </tr>\n",
       "    <tr>\n",
       "      <th>1</th>\n",
       "      <td>9997372016</td>\n",
       "      <td>40대</td>\n",
       "    </tr>\n",
       "    <tr>\n",
       "      <th>2</th>\n",
       "      <td>9997367955</td>\n",
       "      <td>40대</td>\n",
       "    </tr>\n",
       "    <tr>\n",
       "      <th>3</th>\n",
       "      <td>9997366851</td>\n",
       "      <td>40대</td>\n",
       "    </tr>\n",
       "    <tr>\n",
       "      <th>4</th>\n",
       "      <td>9997365476</td>\n",
       "      <td>40대</td>\n",
       "    </tr>\n",
       "    <tr>\n",
       "      <th>5</th>\n",
       "      <td>9997364303</td>\n",
       "      <td>40대</td>\n",
       "    </tr>\n",
       "  </tbody>\n",
       "</table>\n",
       "</div>"
      ],
      "text/plain": [
       "         고객ID  연령대\n",
       "0  9997377777  40대\n",
       "1  9997372016  40대\n",
       "2  9997367955  40대\n",
       "3  9997366851  40대\n",
       "4  9997365476  40대\n",
       "5  9997364303  40대"
      ]
     },
     "execution_count": 7,
     "metadata": {},
     "output_type": "execute_result"
    }
   ],
   "source": [
    "customer_22_40.head(6)"
   ]
  },
  {
   "cell_type": "code",
   "execution_count": 8,
   "id": "cf8de565-c656-49a8-8b65-09c2e46f63f4",
   "metadata": {},
   "outputs": [
    {
     "data": {
      "text/plain": [
       "array(['일반한식', '자동차정비', '미용원', '기타레져업소', '기념품점', '약 국', '기타숙박업', '기타음료식품',\n",
       "       '주점', 'SK주유소', '중국식', '슈퍼마켓', '정육점', '스넥', '농·축·수산품', '서양음식',\n",
       "       '한 의 원', '스포츠·레져용품', '쌍용S-OIL', '안경', '제과점', '화원', '기타잡화', '유아원',\n",
       "       '편 의 점', 'LPG취급점', '철도', '피부미용실', '페인트', '기계공구', '세탁소', '정장',\n",
       "       '의 원', '내의판매', '기능학원', '농협하나로클럽', '농,축협직영매장', '귀금속', '문구용품', '사우나',\n",
       "       '보습학원', '티켓', '기타건축자재', '일식·회집', 'SK가스충전소', '침구·수예점', '골프경기장',\n",
       "       '자동차부품', 'GS주유소', '구내매점(국가기관등)', '렌터카', '화장품', '인터넷Mall', '완구점',\n",
       "       '유흥주점', '치과의원', '스포츠의류', '현대정유(오일뱅크)', '주유소', '노 래 방', '스크린골프',\n",
       "       '인터넷P/G', '자동차시트·타이어', '대형할인점', '조명기구', '가정용품수리', '기타의류', '미곡상',\n",
       "       '병 원(응급실운영)', '항공사', '기타용역서비스', '가전제품', '문화취미기타', '당구장', '애완동물',\n",
       "       '기타수리서비스', '주방용구', '연 쇄 점', '액세서리', '전문서적', '한약방', '기타가구', '특급호텔',\n",
       "       '1급 호텔', '예·체능계학원', '건축용 요업제품', '단란주점', '옷감·직물', '자사카드발행백화점',\n",
       "       '아동의류', '인삼제품', '목재·석재·철물', '안마/스포츠마사지', '일반가구', '의료용품', '동물병원',\n",
       "       '농기계', '주차장', '볼 링 장', '세차장', '사무서비스', '일반서적', '컴퓨터', '가 방',\n",
       "       'PG상품권', '갈비전문점', '비영리/비대상', '헬스클럽', '기타 교육기관', '치과병원',\n",
       "       '카페트,커튼,천막,지물', '기타유통업', '면 세 점', '위탁급식업', '카인테리어', '종합병원',\n",
       "       '2급 호텔', '통신기기', '비료,사료,종자', '홍삼제품', '신 발', '기타 사무용품', '보일러·펌프·샷시',\n",
       "       '기타건강식품', '미용재료', '종합용역', '골프연습장', '손해보험', '소프트웨어', '골프용품 전문점',\n",
       "       '기타전기제품', '화물운송', 'DP&E', '부동산중개·임대', '주방용식기', '기타대인서비스',\n",
       "       '가타자동차서비스', '비씨카드 정산용가맹점', '기타 전문점', '민예·공예품', '이용원', '상 품 권',\n",
       "       '조세서비스', '현대정유가스충전소', '시 계', '사무용 OA기기', 'GS가스충전소', '가례서비스업',\n",
       "       '외국어학원', '윤활유전문판매', '이륜차판매', '정수기', '보관및 창고업', '화방·표구점', '독서실',\n",
       "       '종합레져타운', '공공요금대행서비스/소득공제비대상', '관광여행', '인터넷종합Mall', '비씨카드 정산용(할인)',\n",
       "       '기타농업관련', '기타의료기관 및 기타의료기기', '출판 및 인쇄물', '콘도', '인테리어전문', '통신판매업1',\n",
       "       '학습지교육', '전기차충전소', '유류판매', '한방병원', '건강진단', '이동통신요금', '영화관',\n",
       "       '쌍용S-OIL가스충전소', '수족관', '여객선', 'E1가스충전소', '비영리/대상', '택시', '농축수산가공품',\n",
       "       '칵테일바', '사무·통신기기수리', '주류판매점', '수 영 장', '생명보험', '레져업소', '업종미등록',\n",
       "       '전자상거래상품권전문판매', 'CATV홈쇼핑', '기타보험', '초중고교육기관', '통신서비스/소득공제비대상',\n",
       "       '고속버스', '캐주얼의류', '기타4', '학원', '기타1', 'CATV', '택시회사',\n",
       "       '공공요금대행서비스/소득공제대상', '일반(통신판매)', '위성방송', '맞춤복점', '한정식', '음반영상물',\n",
       "       '제 화', '단체복', '기타서적문구'], dtype=object)"
      ]
     },
     "execution_count": 8,
     "metadata": {},
     "output_type": "execute_result"
    }
   ],
   "source": [
    "card_22_usage['가맹점업종명'].unique()"
   ]
  },
  {
   "cell_type": "code",
   "execution_count": 9,
   "id": "dbcb553c-2734-4558-8cf5-b7965b3f5017",
   "metadata": {},
   "outputs": [
    {
     "data": {
      "text/html": [
       "<div>\n",
       "<style scoped>\n",
       "    .dataframe tbody tr th:only-of-type {\n",
       "        vertical-align: middle;\n",
       "    }\n",
       "\n",
       "    .dataframe tbody tr th {\n",
       "        vertical-align: top;\n",
       "    }\n",
       "\n",
       "    .dataframe thead th {\n",
       "        text-align: right;\n",
       "    }\n",
       "</style>\n",
       "<table border=\"1\" class=\"dataframe\">\n",
       "  <thead>\n",
       "    <tr style=\"text-align: right;\">\n",
       "      <th></th>\n",
       "      <th>거래년월</th>\n",
       "      <th>고객ID</th>\n",
       "      <th>가맹점업종명</th>\n",
       "      <th>가맹점_광역시도</th>\n",
       "      <th>가맹점_시군구</th>\n",
       "      <th>승인건수</th>\n",
       "      <th>승인금액</th>\n",
       "    </tr>\n",
       "  </thead>\n",
       "  <tbody>\n",
       "    <tr>\n",
       "      <th>0</th>\n",
       "      <td>202212</td>\n",
       "      <td>3083154411</td>\n",
       "      <td>일반한식</td>\n",
       "      <td>경상북도</td>\n",
       "      <td>경주시</td>\n",
       "      <td>5번이하</td>\n",
       "      <td>20000</td>\n",
       "    </tr>\n",
       "    <tr>\n",
       "      <th>1</th>\n",
       "      <td>202212</td>\n",
       "      <td>3557972915</td>\n",
       "      <td>일반한식</td>\n",
       "      <td>경상북도</td>\n",
       "      <td>경주시</td>\n",
       "      <td>5번이하</td>\n",
       "      <td>20000</td>\n",
       "    </tr>\n",
       "    <tr>\n",
       "      <th>2</th>\n",
       "      <td>202212</td>\n",
       "      <td>3605837880</td>\n",
       "      <td>일반한식</td>\n",
       "      <td>경상북도</td>\n",
       "      <td>경주시</td>\n",
       "      <td>5번이하</td>\n",
       "      <td>80000</td>\n",
       "    </tr>\n",
       "    <tr>\n",
       "      <th>3</th>\n",
       "      <td>202212</td>\n",
       "      <td>3673581980</td>\n",
       "      <td>일반한식</td>\n",
       "      <td>경상북도</td>\n",
       "      <td>경주시</td>\n",
       "      <td>5번이하</td>\n",
       "      <td>20000</td>\n",
       "    </tr>\n",
       "    <tr>\n",
       "      <th>4</th>\n",
       "      <td>202212</td>\n",
       "      <td>3913986482</td>\n",
       "      <td>일반한식</td>\n",
       "      <td>경상북도</td>\n",
       "      <td>경주시</td>\n",
       "      <td>5번이하</td>\n",
       "      <td>40000</td>\n",
       "    </tr>\n",
       "  </tbody>\n",
       "</table>\n",
       "</div>"
      ],
      "text/plain": [
       "     거래년월        고객ID 가맹점업종명 가맹점_광역시도 가맹점_시군구  승인건수   승인금액\n",
       "0  202212  3083154411   일반한식     경상북도     경주시  5번이하  20000\n",
       "1  202212  3557972915   일반한식     경상북도     경주시  5번이하  20000\n",
       "2  202212  3605837880   일반한식     경상북도     경주시  5번이하  80000\n",
       "3  202212  3673581980   일반한식     경상북도     경주시  5번이하  20000\n",
       "4  202212  3913986482   일반한식     경상북도     경주시  5번이하  40000"
      ]
     },
     "execution_count": 9,
     "metadata": {},
     "output_type": "execute_result"
    }
   ],
   "source": [
    "card_22_usage.head()"
   ]
  },
  {
   "cell_type": "code",
   "execution_count": null,
   "id": "86080c56-521f-4a41-b9f2-07a596f85110",
   "metadata": {},
   "outputs": [],
   "source": []
  },
  {
   "cell_type": "code",
   "execution_count": 6,
   "id": "a6029107-379d-430f-824b-08de9937f58c",
   "metadata": {},
   "outputs": [
    {
     "data": {
      "text/html": [
       "<div>\n",
       "<style scoped>\n",
       "    .dataframe tbody tr th:only-of-type {\n",
       "        vertical-align: middle;\n",
       "    }\n",
       "\n",
       "    .dataframe tbody tr th {\n",
       "        vertical-align: top;\n",
       "    }\n",
       "\n",
       "    .dataframe thead th {\n",
       "        text-align: right;\n",
       "    }\n",
       "</style>\n",
       "<table border=\"1\" class=\"dataframe\">\n",
       "  <thead>\n",
       "    <tr style=\"text-align: right;\">\n",
       "      <th></th>\n",
       "      <th>고객ID</th>\n",
       "      <th>연령대</th>\n",
       "      <th>거래년월</th>\n",
       "      <th>가맹점업종명</th>\n",
       "      <th>가맹점_광역시도</th>\n",
       "      <th>가맹점_시군구</th>\n",
       "      <th>승인건수</th>\n",
       "      <th>승인금액</th>\n",
       "    </tr>\n",
       "  </thead>\n",
       "  <tbody>\n",
       "    <tr>\n",
       "      <th>0</th>\n",
       "      <td>9997364303</td>\n",
       "      <td>40대</td>\n",
       "      <td>202212</td>\n",
       "      <td>이동통신요금</td>\n",
       "      <td>서울특별시</td>\n",
       "      <td>중구</td>\n",
       "      <td>5번이하</td>\n",
       "      <td>70000</td>\n",
       "    </tr>\n",
       "    <tr>\n",
       "      <th>1</th>\n",
       "      <td>9997364303</td>\n",
       "      <td>40대</td>\n",
       "      <td>202212</td>\n",
       "      <td>일식·회집</td>\n",
       "      <td>경상북도</td>\n",
       "      <td>영천시</td>\n",
       "      <td>5번이하</td>\n",
       "      <td>120000</td>\n",
       "    </tr>\n",
       "    <tr>\n",
       "      <th>2</th>\n",
       "      <td>9997364303</td>\n",
       "      <td>40대</td>\n",
       "      <td>202212</td>\n",
       "      <td>인터넷종합Mall</td>\n",
       "      <td>경기도</td>\n",
       "      <td>성남시 분당구</td>\n",
       "      <td>5번이하</td>\n",
       "      <td>80000</td>\n",
       "    </tr>\n",
       "  </tbody>\n",
       "</table>\n",
       "</div>"
      ],
      "text/plain": [
       "         고객ID  연령대    거래년월     가맹점업종명 가맹점_광역시도  가맹점_시군구  승인건수    승인금액\n",
       "0  9997364303  40대  202212     이동통신요금    서울특별시       중구  5번이하   70000\n",
       "1  9997364303  40대  202212      일식·회집     경상북도      영천시  5번이하  120000\n",
       "2  9997364303  40대  202212  인터넷종합Mall      경기도  성남시 분당구  5번이하   80000"
      ]
     },
     "execution_count": 6,
     "metadata": {},
     "output_type": "execute_result"
    }
   ],
   "source": [
    "card_customer_22_40_id= pd.merge(customer_22_40, card_22_usage, on='고객ID', how='inner')\n",
    "card_customer_22_40_id.head(3)"
   ]
  },
  {
   "cell_type": "code",
   "execution_count": null,
   "id": "c91689e2-d119-4896-984a-9d325693baac",
   "metadata": {},
   "outputs": [],
   "source": [
    "card_customer_22_40_id.to_csv('cc_22_40.csv', index=False, encoding='utf-8-sig')"
   ]
  },
  {
   "cell_type": "code",
   "execution_count": 9,
   "id": "716f4b2b-c1d5-4c7b-97a4-50832722b14d",
   "metadata": {},
   "outputs": [
    {
     "ename": "MemoryError",
     "evalue": "Unable to allocate 2.61 GiB for an array with shape (2, 175358665) and data type int64",
     "output_type": "error",
     "traceback": [
      "\u001b[1;31m---------------------------------------------------------------------------\u001b[0m",
      "\u001b[1;31mMemoryError\u001b[0m                               Traceback (most recent call last)",
      "Cell \u001b[1;32mIn[9], line 1\u001b[0m\n\u001b[1;32m----> 1\u001b[0m card_customer_22_50_id\u001b[38;5;241m=\u001b[39m \u001b[43mpd\u001b[49m\u001b[38;5;241;43m.\u001b[39;49m\u001b[43mmerge\u001b[49m\u001b[43m(\u001b[49m\u001b[43mcustomer_22_50\u001b[49m\u001b[43m,\u001b[49m\u001b[43m \u001b[49m\u001b[43mcard_22_usage\u001b[49m\u001b[43m,\u001b[49m\u001b[43m \u001b[49m\u001b[43mon\u001b[49m\u001b[38;5;241;43m=\u001b[39;49m\u001b[38;5;124;43m'\u001b[39;49m\u001b[38;5;124;43m고객ID\u001b[39;49m\u001b[38;5;124;43m'\u001b[39;49m\u001b[43m,\u001b[49m\u001b[43m \u001b[49m\u001b[43mhow\u001b[49m\u001b[38;5;241;43m=\u001b[39;49m\u001b[38;5;124;43m'\u001b[39;49m\u001b[38;5;124;43minner\u001b[39;49m\u001b[38;5;124;43m'\u001b[39;49m\u001b[43m)\u001b[49m\n\u001b[0;32m      2\u001b[0m card_customer_22_50_id\u001b[38;5;241m.\u001b[39mhead(\u001b[38;5;241m30\u001b[39m)\n",
      "File \u001b[1;32mC:\\Archiving\\venv\\Lib\\site-packages\\pandas\\core\\reshape\\merge.py:184\u001b[0m, in \u001b[0;36mmerge\u001b[1;34m(left, right, how, on, left_on, right_on, left_index, right_index, sort, suffixes, copy, indicator, validate)\u001b[0m\n\u001b[0;32m    169\u001b[0m \u001b[38;5;28;01melse\u001b[39;00m:\n\u001b[0;32m    170\u001b[0m     op \u001b[38;5;241m=\u001b[39m _MergeOperation(\n\u001b[0;32m    171\u001b[0m         left_df,\n\u001b[0;32m    172\u001b[0m         right_df,\n\u001b[1;32m   (...)\u001b[0m\n\u001b[0;32m    182\u001b[0m         validate\u001b[38;5;241m=\u001b[39mvalidate,\n\u001b[0;32m    183\u001b[0m     )\n\u001b[1;32m--> 184\u001b[0m     \u001b[38;5;28;01mreturn\u001b[39;00m \u001b[43mop\u001b[49m\u001b[38;5;241;43m.\u001b[39;49m\u001b[43mget_result\u001b[49m\u001b[43m(\u001b[49m\u001b[43mcopy\u001b[49m\u001b[38;5;241;43m=\u001b[39;49m\u001b[43mcopy\u001b[49m\u001b[43m)\u001b[49m\n",
      "File \u001b[1;32mC:\\Archiving\\venv\\Lib\\site-packages\\pandas\\core\\reshape\\merge.py:888\u001b[0m, in \u001b[0;36m_MergeOperation.get_result\u001b[1;34m(self, copy)\u001b[0m\n\u001b[0;32m    884\u001b[0m     \u001b[38;5;28mself\u001b[39m\u001b[38;5;241m.\u001b[39mleft, \u001b[38;5;28mself\u001b[39m\u001b[38;5;241m.\u001b[39mright \u001b[38;5;241m=\u001b[39m \u001b[38;5;28mself\u001b[39m\u001b[38;5;241m.\u001b[39m_indicator_pre_merge(\u001b[38;5;28mself\u001b[39m\u001b[38;5;241m.\u001b[39mleft, \u001b[38;5;28mself\u001b[39m\u001b[38;5;241m.\u001b[39mright)\n\u001b[0;32m    886\u001b[0m join_index, left_indexer, right_indexer \u001b[38;5;241m=\u001b[39m \u001b[38;5;28mself\u001b[39m\u001b[38;5;241m.\u001b[39m_get_join_info()\n\u001b[1;32m--> 888\u001b[0m result \u001b[38;5;241m=\u001b[39m \u001b[38;5;28;43mself\u001b[39;49m\u001b[38;5;241;43m.\u001b[39;49m\u001b[43m_reindex_and_concat\u001b[49m\u001b[43m(\u001b[49m\n\u001b[0;32m    889\u001b[0m \u001b[43m    \u001b[49m\u001b[43mjoin_index\u001b[49m\u001b[43m,\u001b[49m\u001b[43m \u001b[49m\u001b[43mleft_indexer\u001b[49m\u001b[43m,\u001b[49m\u001b[43m \u001b[49m\u001b[43mright_indexer\u001b[49m\u001b[43m,\u001b[49m\u001b[43m \u001b[49m\u001b[43mcopy\u001b[49m\u001b[38;5;241;43m=\u001b[39;49m\u001b[43mcopy\u001b[49m\n\u001b[0;32m    890\u001b[0m \u001b[43m\u001b[49m\u001b[43m)\u001b[49m\n\u001b[0;32m    891\u001b[0m result \u001b[38;5;241m=\u001b[39m result\u001b[38;5;241m.\u001b[39m__finalize__(\u001b[38;5;28mself\u001b[39m, method\u001b[38;5;241m=\u001b[39m\u001b[38;5;28mself\u001b[39m\u001b[38;5;241m.\u001b[39m_merge_type)\n\u001b[0;32m    893\u001b[0m \u001b[38;5;28;01mif\u001b[39;00m \u001b[38;5;28mself\u001b[39m\u001b[38;5;241m.\u001b[39mindicator:\n",
      "File \u001b[1;32mC:\\Archiving\\venv\\Lib\\site-packages\\pandas\\core\\reshape\\merge.py:879\u001b[0m, in \u001b[0;36m_MergeOperation._reindex_and_concat\u001b[1;34m(self, join_index, left_indexer, right_indexer, copy)\u001b[0m\n\u001b[0;32m    877\u001b[0m left\u001b[38;5;241m.\u001b[39mcolumns \u001b[38;5;241m=\u001b[39m llabels\n\u001b[0;32m    878\u001b[0m right\u001b[38;5;241m.\u001b[39mcolumns \u001b[38;5;241m=\u001b[39m rlabels\n\u001b[1;32m--> 879\u001b[0m result \u001b[38;5;241m=\u001b[39m \u001b[43mconcat\u001b[49m\u001b[43m(\u001b[49m\u001b[43m[\u001b[49m\u001b[43mleft\u001b[49m\u001b[43m,\u001b[49m\u001b[43m \u001b[49m\u001b[43mright\u001b[49m\u001b[43m]\u001b[49m\u001b[43m,\u001b[49m\u001b[43m \u001b[49m\u001b[43maxis\u001b[49m\u001b[38;5;241;43m=\u001b[39;49m\u001b[38;5;241;43m1\u001b[39;49m\u001b[43m,\u001b[49m\u001b[43m \u001b[49m\u001b[43mcopy\u001b[49m\u001b[38;5;241;43m=\u001b[39;49m\u001b[43mcopy\u001b[49m\u001b[43m)\u001b[49m\n\u001b[0;32m    880\u001b[0m \u001b[38;5;28;01mreturn\u001b[39;00m result\n",
      "File \u001b[1;32mC:\\Archiving\\venv\\Lib\\site-packages\\pandas\\core\\reshape\\concat.py:395\u001b[0m, in \u001b[0;36mconcat\u001b[1;34m(objs, axis, join, ignore_index, keys, levels, names, verify_integrity, sort, copy)\u001b[0m\n\u001b[0;32m    380\u001b[0m     copy \u001b[38;5;241m=\u001b[39m \u001b[38;5;28;01mFalse\u001b[39;00m\n\u001b[0;32m    382\u001b[0m op \u001b[38;5;241m=\u001b[39m _Concatenator(\n\u001b[0;32m    383\u001b[0m     objs,\n\u001b[0;32m    384\u001b[0m     axis\u001b[38;5;241m=\u001b[39maxis,\n\u001b[1;32m   (...)\u001b[0m\n\u001b[0;32m    392\u001b[0m     sort\u001b[38;5;241m=\u001b[39msort,\n\u001b[0;32m    393\u001b[0m )\n\u001b[1;32m--> 395\u001b[0m \u001b[38;5;28;01mreturn\u001b[39;00m \u001b[43mop\u001b[49m\u001b[38;5;241;43m.\u001b[39;49m\u001b[43mget_result\u001b[49m\u001b[43m(\u001b[49m\u001b[43m)\u001b[49m\n",
      "File \u001b[1;32mC:\\Archiving\\venv\\Lib\\site-packages\\pandas\\core\\reshape\\concat.py:684\u001b[0m, in \u001b[0;36m_Concatenator.get_result\u001b[1;34m(self)\u001b[0m\n\u001b[0;32m    680\u001b[0m             indexers[ax] \u001b[38;5;241m=\u001b[39m obj_labels\u001b[38;5;241m.\u001b[39mget_indexer(new_labels)\n\u001b[0;32m    682\u001b[0m     mgrs_indexers\u001b[38;5;241m.\u001b[39mappend((obj\u001b[38;5;241m.\u001b[39m_mgr, indexers))\n\u001b[1;32m--> 684\u001b[0m new_data \u001b[38;5;241m=\u001b[39m \u001b[43mconcatenate_managers\u001b[49m\u001b[43m(\u001b[49m\n\u001b[0;32m    685\u001b[0m \u001b[43m    \u001b[49m\u001b[43mmgrs_indexers\u001b[49m\u001b[43m,\u001b[49m\u001b[43m \u001b[49m\u001b[38;5;28;43mself\u001b[39;49m\u001b[38;5;241;43m.\u001b[39;49m\u001b[43mnew_axes\u001b[49m\u001b[43m,\u001b[49m\u001b[43m \u001b[49m\u001b[43mconcat_axis\u001b[49m\u001b[38;5;241;43m=\u001b[39;49m\u001b[38;5;28;43mself\u001b[39;49m\u001b[38;5;241;43m.\u001b[39;49m\u001b[43mbm_axis\u001b[49m\u001b[43m,\u001b[49m\u001b[43m \u001b[49m\u001b[43mcopy\u001b[49m\u001b[38;5;241;43m=\u001b[39;49m\u001b[38;5;28;43mself\u001b[39;49m\u001b[38;5;241;43m.\u001b[39;49m\u001b[43mcopy\u001b[49m\n\u001b[0;32m    686\u001b[0m \u001b[43m\u001b[49m\u001b[43m)\u001b[49m\n\u001b[0;32m    687\u001b[0m \u001b[38;5;28;01mif\u001b[39;00m \u001b[38;5;129;01mnot\u001b[39;00m \u001b[38;5;28mself\u001b[39m\u001b[38;5;241m.\u001b[39mcopy \u001b[38;5;129;01mand\u001b[39;00m \u001b[38;5;129;01mnot\u001b[39;00m using_copy_on_write():\n\u001b[0;32m    688\u001b[0m     new_data\u001b[38;5;241m.\u001b[39m_consolidate_inplace()\n",
      "File \u001b[1;32mC:\\Archiving\\venv\\Lib\\site-packages\\pandas\\core\\internals\\concat.py:131\u001b[0m, in \u001b[0;36mconcatenate_managers\u001b[1;34m(mgrs_indexers, axes, concat_axis, copy)\u001b[0m\n\u001b[0;32m    124\u001b[0m \u001b[38;5;66;03m# Assertions disabled for performance\u001b[39;00m\n\u001b[0;32m    125\u001b[0m \u001b[38;5;66;03m# for tup in mgrs_indexers:\u001b[39;00m\n\u001b[0;32m    126\u001b[0m \u001b[38;5;66;03m#    # caller is responsible for ensuring this\u001b[39;00m\n\u001b[0;32m    127\u001b[0m \u001b[38;5;66;03m#    indexers = tup[1]\u001b[39;00m\n\u001b[0;32m    128\u001b[0m \u001b[38;5;66;03m#    assert concat_axis not in indexers\u001b[39;00m\n\u001b[0;32m    130\u001b[0m \u001b[38;5;28;01mif\u001b[39;00m concat_axis \u001b[38;5;241m==\u001b[39m \u001b[38;5;241m0\u001b[39m:\n\u001b[1;32m--> 131\u001b[0m     mgrs \u001b[38;5;241m=\u001b[39m \u001b[43m_maybe_reindex_columns_na_proxy\u001b[49m\u001b[43m(\u001b[49m\u001b[43maxes\u001b[49m\u001b[43m,\u001b[49m\u001b[43m \u001b[49m\u001b[43mmgrs_indexers\u001b[49m\u001b[43m,\u001b[49m\u001b[43m \u001b[49m\u001b[43mneeds_copy\u001b[49m\u001b[43m)\u001b[49m\n\u001b[0;32m    132\u001b[0m     \u001b[38;5;28;01mreturn\u001b[39;00m mgrs[\u001b[38;5;241m0\u001b[39m]\u001b[38;5;241m.\u001b[39mconcat_horizontal(mgrs, axes)\n\u001b[0;32m    134\u001b[0m \u001b[38;5;28;01mif\u001b[39;00m \u001b[38;5;28mlen\u001b[39m(mgrs_indexers) \u001b[38;5;241m>\u001b[39m \u001b[38;5;241m0\u001b[39m \u001b[38;5;129;01mand\u001b[39;00m mgrs_indexers[\u001b[38;5;241m0\u001b[39m][\u001b[38;5;241m0\u001b[39m]\u001b[38;5;241m.\u001b[39mnblocks \u001b[38;5;241m>\u001b[39m \u001b[38;5;241m0\u001b[39m:\n",
      "File \u001b[1;32mC:\\Archiving\\venv\\Lib\\site-packages\\pandas\\core\\internals\\concat.py:230\u001b[0m, in \u001b[0;36m_maybe_reindex_columns_na_proxy\u001b[1;34m(axes, mgrs_indexers, needs_copy)\u001b[0m\n\u001b[0;32m    220\u001b[0m         mgr \u001b[38;5;241m=\u001b[39m mgr\u001b[38;5;241m.\u001b[39mreindex_indexer(\n\u001b[0;32m    221\u001b[0m             axes[i],\n\u001b[0;32m    222\u001b[0m             indexers[i],\n\u001b[1;32m   (...)\u001b[0m\n\u001b[0;32m    227\u001b[0m             use_na_proxy\u001b[38;5;241m=\u001b[39m\u001b[38;5;28;01mTrue\u001b[39;00m,  \u001b[38;5;66;03m# only relevant for i==0\u001b[39;00m\n\u001b[0;32m    228\u001b[0m         )\n\u001b[0;32m    229\u001b[0m     \u001b[38;5;28;01mif\u001b[39;00m needs_copy \u001b[38;5;129;01mand\u001b[39;00m \u001b[38;5;129;01mnot\u001b[39;00m indexers:\n\u001b[1;32m--> 230\u001b[0m         mgr \u001b[38;5;241m=\u001b[39m \u001b[43mmgr\u001b[49m\u001b[38;5;241;43m.\u001b[39;49m\u001b[43mcopy\u001b[49m\u001b[43m(\u001b[49m\u001b[43m)\u001b[49m\n\u001b[0;32m    232\u001b[0m     new_mgrs\u001b[38;5;241m.\u001b[39mappend(mgr)\n\u001b[0;32m    233\u001b[0m \u001b[38;5;28;01mreturn\u001b[39;00m new_mgrs\n",
      "File \u001b[1;32mC:\\Archiving\\venv\\Lib\\site-packages\\pandas\\core\\internals\\managers.py:593\u001b[0m, in \u001b[0;36mBaseBlockManager.copy\u001b[1;34m(self, deep)\u001b[0m\n\u001b[0;32m    590\u001b[0m     \u001b[38;5;28;01melse\u001b[39;00m:\n\u001b[0;32m    591\u001b[0m         new_axes \u001b[38;5;241m=\u001b[39m \u001b[38;5;28mlist\u001b[39m(\u001b[38;5;28mself\u001b[39m\u001b[38;5;241m.\u001b[39maxes)\n\u001b[1;32m--> 593\u001b[0m res \u001b[38;5;241m=\u001b[39m \u001b[38;5;28;43mself\u001b[39;49m\u001b[38;5;241;43m.\u001b[39;49m\u001b[43mapply\u001b[49m\u001b[43m(\u001b[49m\u001b[38;5;124;43m\"\u001b[39;49m\u001b[38;5;124;43mcopy\u001b[39;49m\u001b[38;5;124;43m\"\u001b[39;49m\u001b[43m,\u001b[49m\u001b[43m \u001b[49m\u001b[43mdeep\u001b[49m\u001b[38;5;241;43m=\u001b[39;49m\u001b[43mdeep\u001b[49m\u001b[43m)\u001b[49m\n\u001b[0;32m    594\u001b[0m res\u001b[38;5;241m.\u001b[39maxes \u001b[38;5;241m=\u001b[39m new_axes\n\u001b[0;32m    596\u001b[0m \u001b[38;5;28;01mif\u001b[39;00m \u001b[38;5;28mself\u001b[39m\u001b[38;5;241m.\u001b[39mndim \u001b[38;5;241m>\u001b[39m \u001b[38;5;241m1\u001b[39m:\n\u001b[0;32m    597\u001b[0m     \u001b[38;5;66;03m# Avoid needing to re-compute these\u001b[39;00m\n",
      "File \u001b[1;32mC:\\Archiving\\venv\\Lib\\site-packages\\pandas\\core\\internals\\managers.py:363\u001b[0m, in \u001b[0;36mBaseBlockManager.apply\u001b[1;34m(self, f, align_keys, **kwargs)\u001b[0m\n\u001b[0;32m    361\u001b[0m         applied \u001b[38;5;241m=\u001b[39m b\u001b[38;5;241m.\u001b[39mapply(f, \u001b[38;5;241m*\u001b[39m\u001b[38;5;241m*\u001b[39mkwargs)\n\u001b[0;32m    362\u001b[0m     \u001b[38;5;28;01melse\u001b[39;00m:\n\u001b[1;32m--> 363\u001b[0m         applied \u001b[38;5;241m=\u001b[39m \u001b[38;5;28;43mgetattr\u001b[39;49m\u001b[43m(\u001b[49m\u001b[43mb\u001b[49m\u001b[43m,\u001b[49m\u001b[43m \u001b[49m\u001b[43mf\u001b[49m\u001b[43m)\u001b[49m\u001b[43m(\u001b[49m\u001b[38;5;241;43m*\u001b[39;49m\u001b[38;5;241;43m*\u001b[39;49m\u001b[43mkwargs\u001b[49m\u001b[43m)\u001b[49m\n\u001b[0;32m    364\u001b[0m     result_blocks \u001b[38;5;241m=\u001b[39m extend_blocks(applied, result_blocks)\n\u001b[0;32m    366\u001b[0m out \u001b[38;5;241m=\u001b[39m \u001b[38;5;28mtype\u001b[39m(\u001b[38;5;28mself\u001b[39m)\u001b[38;5;241m.\u001b[39mfrom_blocks(result_blocks, \u001b[38;5;28mself\u001b[39m\u001b[38;5;241m.\u001b[39maxes)\n",
      "File \u001b[1;32mC:\\Archiving\\venv\\Lib\\site-packages\\pandas\\core\\internals\\blocks.py:796\u001b[0m, in \u001b[0;36mBlock.copy\u001b[1;34m(self, deep)\u001b[0m\n\u001b[0;32m    794\u001b[0m refs: BlockValuesRefs \u001b[38;5;241m|\u001b[39m \u001b[38;5;28;01mNone\u001b[39;00m\n\u001b[0;32m    795\u001b[0m \u001b[38;5;28;01mif\u001b[39;00m deep:\n\u001b[1;32m--> 796\u001b[0m     values \u001b[38;5;241m=\u001b[39m \u001b[43mvalues\u001b[49m\u001b[38;5;241;43m.\u001b[39;49m\u001b[43mcopy\u001b[49m\u001b[43m(\u001b[49m\u001b[43m)\u001b[49m\n\u001b[0;32m    797\u001b[0m     refs \u001b[38;5;241m=\u001b[39m \u001b[38;5;28;01mNone\u001b[39;00m\n\u001b[0;32m    798\u001b[0m \u001b[38;5;28;01melse\u001b[39;00m:\n",
      "\u001b[1;31mMemoryError\u001b[0m: Unable to allocate 2.61 GiB for an array with shape (2, 175358665) and data type int64"
     ]
    }
   ],
   "source": [
    "card_customer_22_50_id= pd.merge(customer_22_50, card_22_usage, on='고객ID', how='inner')\n",
    "card_customer_22_50_id.head(30)"
   ]
  },
  {
   "cell_type": "code",
   "execution_count": null,
   "id": "ea512ba0-e9dd-401e-82cc-49eccba6d9e6",
   "metadata": {},
   "outputs": [],
   "source": []
  },
  {
   "cell_type": "code",
   "execution_count": null,
   "id": "1ed78232-bb25-4659-aa2f-f85a3e1d1c8a",
   "metadata": {},
   "outputs": [],
   "source": [
    "\n",
    "\n",
    "\n",
    "\n"
   ]
  },
  {
   "cell_type": "markdown",
   "id": "7107f9af-2765-4d95-be25-e91184625aa0",
   "metadata": {},
   "source": [
    "## 승인건수 정체 알아보기\n",
    "- 모르겠음"
   ]
  },
  {
   "cell_type": "code",
   "execution_count": null,
   "id": "b719fb9c-0dcc-4809-afba-c62355f13f8e",
   "metadata": {},
   "outputs": [],
   "source": [
    "temp_card_21_sort = temp_card_21.sort_values(by=['고객ID'], ascending=[True])\n",
    "temp_card_21_sort.head(10)"
   ]
  }
 ],
 "metadata": {
  "kernelspec": {
   "display_name": "Python 3 (ipykernel)",
   "language": "python",
   "name": "python3"
  },
  "language_info": {
   "codemirror_mode": {
    "name": "ipython",
    "version": 3
   },
   "file_extension": ".py",
   "mimetype": "text/x-python",
   "name": "python",
   "nbconvert_exporter": "python",
   "pygments_lexer": "ipython3",
   "version": "3.12.6"
  }
 },
 "nbformat": 4,
 "nbformat_minor": 5
}
