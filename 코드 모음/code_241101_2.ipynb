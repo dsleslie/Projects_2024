{
 "cells": [
  {
   "cell_type": "code",
   "execution_count": 1,
   "id": "889dd82b-a3a6-4edb-aad9-19e422274d9c",
   "metadata": {},
   "outputs": [],
   "source": [
    "import pandas as pd\n",
    "from pandas import DataFrame\n",
    "import numpy as np\n",
    "import seaborn as sns\n",
    "import matplotlib.pyplot as plt\n",
    "import statsmodels.api as sm\n",
    "#from sklearn.model_selection import train_test_split\n",
    "import warnings\n",
    "warnings.filterwarnings(\"ignore\")\n",
    "import random\n",
    "\n",
    "#from ggplot import *\n",
    "#from scipy.stats import logistic\n",
    "#from sklearn.metrics import roc_curve\n",
    "#from sklearn.metrics import roc_auc_score\n",
    "#from sklearn.linear_model import LogisticRegression\n",
    "#from sklearn.metrics import confusion_matrix, mean_squared_error\n",
    "#from sklearn.model_selection import train_test_split\n",
    "#from sklearn import preprocessing\n",
    "#from sklearn.neighbors import KNeighborsClassifier\n",
    "#from sklearn.naive_bayes import *\n",
    "#from sklearn.tree import DecisionTreeClassifier, DecisionTreeRegressor, export_graphviz\n",
    "#import graphviz\n",
    "#from sklearn.ensemble import RandomForestRegressor, RandomForestClassifier\n",
    "#from sklearn.svm import SVC, SVR\n",
    "\n",
    "# 한글 폰트 실행\n",
    "from matplotlib import rcParams\n",
    "from matplotlib import font_manager,rc\n",
    "rcParams['axes.unicode_minus']=False\n",
    "plt.rcParams['font.family']='NanumGothic'\n",
    "font_name=font_manager.FontProperties(fname='c:/Windows/Fonts/malgun.ttf').get_name()\n",
    "rc('font',family=font_name)\n"
   ]
  },
  {
   "cell_type": "code",
   "execution_count": 7,
   "id": "b4e928b2-f168-4004-963c-67636b52aeca",
   "metadata": {},
   "outputs": [],
   "source": [
    "import time\n",
    "\n",
    "def execution_time(func):\n",
    "    def wrapper(*args, **kwargs):\n",
    "        start_time = time.time()\n",
    "        result = func(*args, **kwargs)\n",
    "        end_time = time.time()\n",
    "        elapsed_time = end_time - start_time\n",
    "        hours, rem = divmod(elapsed_time, 3600)\n",
    "        minutes, seconds = divmod(rem, 60)\n",
    "        print(f\"Execution time for {func.__name__}: {int(hours)}h {int(minutes)}m {seconds:.2f}s\")\n",
    "        return result\n",
    "    return wrapper\n",
    "\n",
    "\n",
    "@execution_time\n",
    "def clean_df(data):\n",
    "    data['고객ID'] = data['고객ID'].astype(str)\n",
    "    data = reduce_mem_usage(data)\n",
    "    print(data.info())\n",
    "    return data\n",
    "\n",
    "\n",
    "import pandas as pd \n",
    "import numpy as np\n",
    "\n",
    "def reduce_mem_usage(df, float16_as32=True):\n",
    "    # memory_usage()는 데이터프레임의 각 열의 메모리 사용량을 계산하고, sum은 그 값을 합산합니다. B -> KB -> MB로 변환합니다.\n",
    "    start_mem = df.memory_usage().sum() / 1024**2\n",
    "    print('데이터프레임의 초기 메모리 사용량은 {:.2f} MB입니다.'.format(start_mem))\n",
    "\n",
    "    for col in df.columns:  # 각 열의 이름을 반복합니다.\n",
    "        col_type = df[col].dtype  # 열의 데이터 타입을 가져옵니다.\n",
    "        if col_type != object and str(col_type) != 'category':  # 객체 타입이 아닌 수치형 변수만 처리합니다.\n",
    "            c_min, c_max = df[col].min(), df[col].max()  # 해당 열의 최소값과 최대값을 계산합니다.\n",
    "            if str(col_type)[:3] == 'int':  # 정수형 변수일 경우 (int8, int16, int32, int64 모두 포함)\n",
    "                # 이 열의 값 범위가 int8의 범위에 있을 경우 타입을 int8로 변환합니다. (-128부터 127까지)\n",
    "                if c_min > np.iinfo(np.int8).min and c_max < np.iinfo(np.int8).max:\n",
    "                    df[col] = df[col].astype(np.int8)\n",
    "                # 이 열의 값 범위가 int16의 범위에 있을 경우 타입을 int16으로 변환합니다. (-32,768부터 32,767까지)\n",
    "                elif c_min > np.iinfo(np.int16).min and c_max < np.iinfo(np.int16).max:\n",
    "                    df[col] = df[col].astype(np.int16)\n",
    "                # 이 열의 값 범위가 int32의 범위에 있을 경우 타입을 int32로 변환합니다. (-2,147,483,648부터 2,147,483,647까지)\n",
    "                elif c_min > np.iinfo(np.int32).min and c_max < np.iinfo(np.int32).max:\n",
    "                    df[col] = df[col].astype(np.int32)\n",
    "                # 이 열의 값 범위가 int64의 범위에 있을 경우 타입을 int64로 변환합니다. (-9,223,372,036,854,775,808부터 9,223,372,036,854,775,807까지)\n",
    "                elif c_min > np.iinfo(np.int64).min and c_max < np.iinfo(np.int64).max:\n",
    "                    df[col] = df[col].astype(np.int64)\n",
    "            else:  # 실수형일 경우\n",
    "                # 값이 float16의 범위에 있을 경우 타입을 변환합니다. 더 높은 정밀도가 필요하면 float32를 고려합니다.\n",
    "                if c_min > np.finfo(np.float16).min and c_max < np.finfo(np.float16).max:\n",
    "                    if float16_as32:  # 더 높은 정밀도가 필요하면 float32를 선택할 수 있습니다.\n",
    "                        df[col] = df[col].astype(np.float32)\n",
    "                    else:\n",
    "                        df[col] = df[col].astype(np.float16)\n",
    "                # 값이 float32의 범위에 있을 경우 타입을 float32로 변환합니다.\n",
    "                elif c_min > np.finfo(np.float32).min and c_max < np.finfo(np.float32).max:\n",
    "                    df[col] = df[col].astype(np.float32)\n",
    "                # 값이 float64의 범위에 있을 경우 타입을 float64로 변환합니다.\n",
    "                else:\n",
    "                    df[col] = df[col].astype(np.float64)\n",
    "    # 최종 메모리 사용량을 계산합니다.\n",
    "    end_mem = df.memory_usage().sum() / 1024**2\n",
    "    print('최적화 후 데이터프레임의 메모리 사용량은: {:.2f} MB입니다.'.format(end_mem))\n",
    "    # 초기 메모리 사용량과 비교하여 몇 퍼센트 감소했는지 계산합니다.\n",
    "    print('메모리 사용량이 {:.1f}% 감소했습니다.'.format(100 * (start_mem - end_mem) / start_mem))\n",
    "\n",
    "    return df"
   ]
  },
  {
   "cell_type": "code",
   "execution_count": 4,
   "id": "6be40187-78ca-48cb-be29-93b0656b987a",
   "metadata": {},
   "outputs": [],
   "source": [
    "import pandas as pd\n",
    "DATA_PATH = './dataset/CARD/'\n",
    "DATA_PATH_2 = './dataset/CUSTOMER/'\n",
    "DATA_PATH_3 = './dataset/CC/'\n",
    "cc_22_40 = pd.read_csv(DATA_PATH_3 + 'cc_22_40.csv', encoding=\"utf-8-sig\")\n",
    "cc_22_50 = pd.read_csv(DATA_PATH_3 + 'cc_22_50.csv', encoding=\"utf-8-sig\")\n",
    "cc_22_60 = pd.read_csv(DATA_PATH_3 + 'cc_22_60.csv', encoding=\"utf-8-sig\")"
   ]
  },
  {
   "cell_type": "code",
   "execution_count": 5,
   "id": "d70982a3-6e9a-4487-a3a0-696da04884c7",
   "metadata": {},
   "outputs": [
    {
     "name": "stdout",
     "output_type": "stream",
     "text": [
      "<class 'pandas.core.frame.DataFrame'>\n",
      "RangeIndex: 14076734 entries, 0 to 14076733\n",
      "Data columns (total 7 columns):\n",
      " #   Column    Dtype \n",
      "---  ------    ----- \n",
      " 0   고객ID      int64 \n",
      " 1   거래년월      int64 \n",
      " 2   가맹점업종명    object\n",
      " 3   가맹점_광역시도  object\n",
      " 4   가맹점_시군구   object\n",
      " 5   승인건수      object\n",
      " 6   승인금액      int64 \n",
      "dtypes: int64(3), object(4)\n",
      "memory usage: 751.8+ MB\n"
     ]
    }
   ],
   "source": [
    "cc_22_40.info()"
   ]
  },
  {
   "cell_type": "code",
   "execution_count": 6,
   "id": "55bbc216-bdde-497e-a343-125a11754a14",
   "metadata": {},
   "outputs": [
    {
     "data": {
      "text/html": [
       "<div>\n",
       "<style scoped>\n",
       "    .dataframe tbody tr th:only-of-type {\n",
       "        vertical-align: middle;\n",
       "    }\n",
       "\n",
       "    .dataframe tbody tr th {\n",
       "        vertical-align: top;\n",
       "    }\n",
       "\n",
       "    .dataframe thead th {\n",
       "        text-align: right;\n",
       "    }\n",
       "</style>\n",
       "<table border=\"1\" class=\"dataframe\">\n",
       "  <thead>\n",
       "    <tr style=\"text-align: right;\">\n",
       "      <th></th>\n",
       "      <th>고객ID</th>\n",
       "      <th>거래년월</th>\n",
       "      <th>가맹점업종명</th>\n",
       "      <th>가맹점_광역시도</th>\n",
       "      <th>가맹점_시군구</th>\n",
       "      <th>승인건수</th>\n",
       "      <th>승인금액</th>\n",
       "    </tr>\n",
       "  </thead>\n",
       "  <tbody>\n",
       "    <tr>\n",
       "      <th>0</th>\n",
       "      <td>9997364303</td>\n",
       "      <td>202212</td>\n",
       "      <td>이동통신요금</td>\n",
       "      <td>서울특별시</td>\n",
       "      <td>중구</td>\n",
       "      <td>5번이하</td>\n",
       "      <td>70000</td>\n",
       "    </tr>\n",
       "    <tr>\n",
       "      <th>1</th>\n",
       "      <td>9997364303</td>\n",
       "      <td>202212</td>\n",
       "      <td>외식</td>\n",
       "      <td>경상북도</td>\n",
       "      <td>영천시</td>\n",
       "      <td>5번이하</td>\n",
       "      <td>120000</td>\n",
       "    </tr>\n",
       "    <tr>\n",
       "      <th>2</th>\n",
       "      <td>9997364303</td>\n",
       "      <td>202212</td>\n",
       "      <td>온라인쇼핑</td>\n",
       "      <td>경기도</td>\n",
       "      <td>성남시 분당구</td>\n",
       "      <td>5번이하</td>\n",
       "      <td>80000</td>\n",
       "    </tr>\n",
       "    <tr>\n",
       "      <th>3</th>\n",
       "      <td>9997364303</td>\n",
       "      <td>202212</td>\n",
       "      <td>의료/보험</td>\n",
       "      <td>경상북도</td>\n",
       "      <td>영천시</td>\n",
       "      <td>5번이하</td>\n",
       "      <td>10000</td>\n",
       "    </tr>\n",
       "    <tr>\n",
       "      <th>4</th>\n",
       "      <td>9997364303</td>\n",
       "      <td>202212</td>\n",
       "      <td>외식</td>\n",
       "      <td>경상북도</td>\n",
       "      <td>영천시</td>\n",
       "      <td>5번이하</td>\n",
       "      <td>30000</td>\n",
       "    </tr>\n",
       "  </tbody>\n",
       "</table>\n",
       "</div>"
      ],
      "text/plain": [
       "         고객ID    거래년월  가맹점업종명 가맹점_광역시도  가맹점_시군구  승인건수    승인금액\n",
       "0  9997364303  202212  이동통신요금    서울특별시       중구  5번이하   70000\n",
       "1  9997364303  202212      외식     경상북도      영천시  5번이하  120000\n",
       "2  9997364303  202212   온라인쇼핑      경기도  성남시 분당구  5번이하   80000\n",
       "3  9997364303  202212   의료/보험     경상북도      영천시  5번이하   10000\n",
       "4  9997364303  202212      외식     경상북도      영천시  5번이하   30000"
      ]
     },
     "execution_count": 6,
     "metadata": {},
     "output_type": "execute_result"
    }
   ],
   "source": [
    "cc_22_40.head()"
   ]
  },
  {
   "cell_type": "code",
   "execution_count": 8,
   "id": "1a677690-6096-4814-b8e9-ca5e019719ee",
   "metadata": {},
   "outputs": [
    {
     "name": "stdout",
     "output_type": "stream",
     "text": [
      "데이터프레임의 초기 메모리 사용량은 751.78 MB입니다.\n",
      "최적화 후 데이터프레임의 메모리 사용량은: 644.38 MB입니다.\n",
      "메모리 사용량이 14.3% 감소했습니다.\n",
      "<class 'pandas.core.frame.DataFrame'>\n",
      "RangeIndex: 14076734 entries, 0 to 14076733\n",
      "Data columns (total 7 columns):\n",
      " #   Column    Dtype \n",
      "---  ------    ----- \n",
      " 0   고객ID      object\n",
      " 1   거래년월      int32 \n",
      " 2   가맹점업종명    object\n",
      " 3   가맹점_광역시도  object\n",
      " 4   가맹점_시군구   object\n",
      " 5   승인건수      object\n",
      " 6   승인금액      int32 \n",
      "dtypes: int32(2), object(5)\n",
      "memory usage: 644.4+ MB\n",
      "None\n",
      "Execution time for clean_df: 0h 0m 4.59s\n"
     ]
    }
   ],
   "source": [
    "cc_22_40=clean_df(cc_22_40)"
   ]
  },
  {
   "cell_type": "code",
   "execution_count": 11,
   "id": "48cfc9a9-f5b9-4fea-a082-352961e7ecc5",
   "metadata": {},
   "outputs": [
    {
     "name": "stdout",
     "output_type": "stream",
     "text": [
      "데이터프레임의 초기 메모리 사용량은 644.38 MB입니다.\n",
      "최적화 후 데이터프레임의 메모리 사용량은: 644.38 MB입니다.\n",
      "메모리 사용량이 0.0% 감소했습니다.\n"
     ]
    }
   ],
   "source": [
    "cc_22_40_new = reduce_mem_usage(cc_22_40)"
   ]
  },
  {
   "cell_type": "code",
   "execution_count": 12,
   "id": "f81a8f8d-0c81-4ea5-8334-50e7d73b97b2",
   "metadata": {},
   "outputs": [
    {
     "name": "stdout",
     "output_type": "stream",
     "text": [
      "<class 'pandas.core.frame.DataFrame'>\n",
      "RangeIndex: 14076734 entries, 0 to 14076733\n",
      "Data columns (total 7 columns):\n",
      " #   Column    Dtype \n",
      "---  ------    ----- \n",
      " 0   고객ID      object\n",
      " 1   거래년월      int32 \n",
      " 2   가맹점업종명    object\n",
      " 3   가맹점_광역시도  object\n",
      " 4   가맹점_시군구   object\n",
      " 5   승인건수      object\n",
      " 6   승인금액      int32 \n",
      "dtypes: int32(2), object(5)\n",
      "memory usage: 644.4+ MB\n"
     ]
    }
   ],
   "source": [
    "cc_22_40_new.info()"
   ]
  },
  {
   "cell_type": "code",
   "execution_count": 14,
   "id": "4562511e-30f3-4f10-b907-311aaa87a1c7",
   "metadata": {},
   "outputs": [
    {
     "name": "stdout",
     "output_type": "stream",
     "text": [
      "데이터프레임의 초기 메모리 사용량은 745.38 MB입니다.\n",
      "최적화 후 데이터프레임의 메모리 사용량은: 745.38 MB입니다.\n",
      "메모리 사용량이 0.0% 감소했습니다.\n",
      "<class 'pandas.core.frame.DataFrame'>\n",
      "RangeIndex: 16283134 entries, 0 to 16283133\n",
      "Data columns (total 7 columns):\n",
      " #   Column    Dtype \n",
      "---  ------    ----- \n",
      " 0   고객ID      object\n",
      " 1   거래년월      int32 \n",
      " 2   가맹점업종명    object\n",
      " 3   가맹점_광역시도  object\n",
      " 4   가맹점_시군구   object\n",
      " 5   승인건수      object\n",
      " 6   승인금액      int32 \n",
      "dtypes: int32(2), object(5)\n",
      "memory usage: 745.4+ MB\n",
      "None\n",
      "Execution time for clean_df: 0h 0m 1.03s\n",
      "데이터프레임의 초기 메모리 사용량은 745.38 MB입니다.\n",
      "최적화 후 데이터프레임의 메모리 사용량은: 745.38 MB입니다.\n",
      "메모리 사용량이 0.0% 감소했습니다.\n",
      "<class 'pandas.core.frame.DataFrame'>\n",
      "RangeIndex: 16283134 entries, 0 to 16283133\n",
      "Data columns (total 7 columns):\n",
      " #   Column    Dtype \n",
      "---  ------    ----- \n",
      " 0   고객ID      object\n",
      " 1   거래년월      int32 \n",
      " 2   가맹점업종명    object\n",
      " 3   가맹점_광역시도  object\n",
      " 4   가맹점_시군구   object\n",
      " 5   승인건수      object\n",
      " 6   승인금액      int32 \n",
      "dtypes: int32(2), object(5)\n",
      "memory usage: 745.4+ MB\n"
     ]
    }
   ],
   "source": [
    "cc_22_50=clean_df(cc_22_50)\n",
    "cc_22_50_new = reduce_mem_usage(cc_22_50)\n",
    "cc_22_50_new.info()"
   ]
  },
  {
   "cell_type": "code",
   "execution_count": 15,
   "id": "4e54c7c6-5b31-4c38-b7d8-f41d412a0154",
   "metadata": {},
   "outputs": [
    {
     "name": "stdout",
     "output_type": "stream",
     "text": [
      "데이터프레임의 초기 메모리 사용량은 644.61 MB입니다.\n",
      "최적화 후 데이터프레임의 메모리 사용량은: 552.52 MB입니다.\n",
      "메모리 사용량이 14.3% 감소했습니다.\n",
      "<class 'pandas.core.frame.DataFrame'>\n",
      "RangeIndex: 12069980 entries, 0 to 12069979\n",
      "Data columns (total 7 columns):\n",
      " #   Column    Dtype \n",
      "---  ------    ----- \n",
      " 0   고객ID      object\n",
      " 1   거래년월      int32 \n",
      " 2   가맹점업종명    object\n",
      " 3   가맹점_광역시도  object\n",
      " 4   가맹점_시군구   object\n",
      " 5   승인건수      object\n",
      " 6   승인금액      int32 \n",
      "dtypes: int32(2), object(5)\n",
      "memory usage: 552.5+ MB\n",
      "None\n",
      "Execution time for clean_df: 0h 0m 3.86s\n",
      "데이터프레임의 초기 메모리 사용량은 552.52 MB입니다.\n",
      "최적화 후 데이터프레임의 메모리 사용량은: 552.52 MB입니다.\n",
      "메모리 사용량이 0.0% 감소했습니다.\n",
      "<class 'pandas.core.frame.DataFrame'>\n",
      "RangeIndex: 12069980 entries, 0 to 12069979\n",
      "Data columns (total 7 columns):\n",
      " #   Column    Dtype \n",
      "---  ------    ----- \n",
      " 0   고객ID      object\n",
      " 1   거래년월      int32 \n",
      " 2   가맹점업종명    object\n",
      " 3   가맹점_광역시도  object\n",
      " 4   가맹점_시군구   object\n",
      " 5   승인건수      object\n",
      " 6   승인금액      int32 \n",
      "dtypes: int32(2), object(5)\n",
      "memory usage: 552.5+ MB\n"
     ]
    }
   ],
   "source": [
    "cc_22_60=clean_df(cc_22_60)\n",
    "cc_22_60_new = reduce_mem_usage(cc_22_60)\n",
    "cc_22_60_new.info()"
   ]
  },
  {
   "cell_type": "code",
   "execution_count": 16,
   "id": "a1932684-fb3a-4be9-9af3-d3bf450df10c",
   "metadata": {},
   "outputs": [],
   "source": [
    "cc_22_40_new.to_csv('cc_20_40.csv', index=False, encoding='utf-8-sig')\n",
    "cc_22_50_new.to_csv('cc_20_50.csv', index=False, encoding='utf-8-sig')\n",
    "cc_22_60_new.to_csv('cc_20_60.csv', index=False, encoding='utf-8-sig')"
   ]
  },
  {
   "cell_type": "code",
   "execution_count": null,
   "id": "7dd236fd-67e1-4e15-adce-efc1b6ecd8d1",
   "metadata": {},
   "outputs": [],
   "source": []
  },
  {
   "cell_type": "code",
   "execution_count": null,
   "id": "4edf488b-17ba-45f3-b014-261b357435e1",
   "metadata": {},
   "outputs": [],
   "source": []
  },
  {
   "cell_type": "code",
   "execution_count": null,
   "id": "b75b2d64-b529-46bf-bc28-c5a7bb6ab79c",
   "metadata": {},
   "outputs": [],
   "source": []
  }
 ],
 "metadata": {
  "kernelspec": {
   "display_name": "Python 3 (ipykernel)",
   "language": "python",
   "name": "python3"
  },
  "language_info": {
   "codemirror_mode": {
    "name": "ipython",
    "version": 3
   },
   "file_extension": ".py",
   "mimetype": "text/x-python",
   "name": "python",
   "nbconvert_exporter": "python",
   "pygments_lexer": "ipython3",
   "version": "3.12.6"
  }
 },
 "nbformat": 4,
 "nbformat_minor": 5
}
